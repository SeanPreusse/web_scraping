{
 "cells": [
  {
   "cell_type": "markdown",
   "metadata": {},
   "source": [
    "Web scraping indeed website for data science jobs based on Greg Reda's [excellent tutorial](http://www.gregreda.com/2013/03/03/web-scraping-101-with-python/) and Jesse Steinweg's [excellent analysis](https://jessesw.com/Data-Science-Skills/) and finally, Sung Pil Moon's [awesome analysis](http://blog.nycdatascience.com/students-work/project-3-web-scraping-company-data-from-indeed-com-and-dice-com/)"
   ]
  },
  {
   "cell_type": "markdown",
   "metadata": {},
   "source": [
    "## 1) Admin and Setup"
   ]
  },
  {
   "cell_type": "markdown",
   "metadata": {},
   "source": [
    "I've already created a virtual environment in conda by downloading bs4. Please feel free to use my environment.yaml to create a similar virtual env. I'll update it as I go."
   ]
  },
  {
   "cell_type": "code",
   "execution_count": 1,
   "metadata": {
    "collapsed": false
   },
   "outputs": [],
   "source": [
    "from bs4 import BeautifulSoup\n",
    "from urllib2 import urlopen\n",
    "import pandas as pd\n",
    "import re\n",
    "import numpy as np\n",
    "from time import sleep\n",
    "%matplotlib inline\n",
    "import pylab as plt\n",
    "import os"
   ]
  },
  {
   "cell_type": "markdown",
   "metadata": {},
   "source": [
    "## 2) What do I want to achieve"
   ]
  },
  {
   "cell_type": "markdown",
   "metadata": {},
   "source": [
    "http://au.indeed.com/jobs?as_and=&as_phr=&as_any=%22customer+analytics%22+%22data+analysis%22&as_not=&as_ttl=&as_cmp=&jt=all&st=&salary=&radius=50&l=&fromage=any&limit=10&sort=&psf=advsrch\n",
    "\n",
    "OR\n",
    "\n",
    "http://au.indeed.com/jobs?as_and=&as_phr=&as_any=%22customer+analytics%22+%22data+analysis%22&as_not=&as_ttl=&as_cmp=&jt=all&st=&salary=&radius=0&l=Sydney+NSW&fromage=last&limit=10&sort=&psf=advsrch\n",
    "\n",
    "in a nice tabular format for data exploration"
   ]
  },
  {
   "cell_type": "markdown",
   "metadata": {},
   "source": [
    "## 3) Create a function for data collection"
   ]
  },
  {
   "cell_type": "code",
   "execution_count": 2,
   "metadata": {
    "collapsed": false
   },
   "outputs": [],
   "source": [
    "def get_data_job_board(job_query1,job_query2,job_query3):\n",
    "    #STEP1\n",
    "    # create query string in the required format\n",
    "    # 1) within search string, spaces are replaced by '+' in html\n",
    "    # 2) each search query is preceded and succeeded by a \"%22\"\n",
    "    # 3) string the elements of the list into one string separated by a \"+\"\n",
    "    job_query_string = []\n",
    "    job_query_string.append(\"%22\" + job_query1.replace(\" \",\"+\") + \"%22\")\n",
    "    job_query_string.append(\"%22\" + job_query2.replace(\" \",\"+\") + \"%22\")\n",
    "    job_query_string.append(\"%22\" + job_query3.replace(\" \",\"+\") + \"%22\")\n",
    "    job_query_string = \"+\".join(job_query_string)\n",
    "    \n",
    "    stepname = 'one'\n",
    "    \n",
    "    #STEP2\n",
    "    # start of the url - this will not change because I'm including search query to search\n",
    "    # anywhere in the job ad. Not just the job title.\n",
    "    base_url = 'http://au.indeed.com/jobs?as_and=&as_phr=&as_any='\n",
    "    \n",
    "    stepname = 'two'\n",
    "    \n",
    "    #STEP3\n",
    "    #company name, salary, location and fromage are not being worked on currently\n",
    "    #pagenum is null for the first time the query is generated\n",
    "    company_name_string=''\n",
    "    salary_string=''\n",
    "    location_string=''\n",
    "    fromage_string='any'\n",
    "    \n",
    "    stepname = 'three'\n",
    "    \n",
    "    #STEP4\n",
    "    #create query to read the page for the first time\n",
    "    initial_query = [base_url,job_query_string,'&as_not=&as_ttl=&as_cmp=',company_name_string,\n",
    "                '&jt=all&st=&salary=',salary_string,'&radius=50&l=',location_string,\n",
    "                '&fromage=',fromage_string,'&limit=10&sort=&']\n",
    "    initial_query = \"\".join(initial_query)\n",
    "    \n",
    "    stepname = 'four'\n",
    "    \n",
    "    #open website and read it\n",
    "    try:\n",
    "        html = urlopen(initial_query).read()  \n",
    "        soup = BeautifulSoup(html, \"lxml\")\n",
    "        \n",
    "        stepname = 'five'\n",
    "    \n",
    "        #find how many times to loop through to get each job\n",
    "        number_of_jobs_page_area = soup.find(id=\"searchCount\").string.encode('utf-8')\n",
    "        number_of_jobs = re.findall('\\d+', number_of_jobs_page_area.replace(',',''))\n",
    "        total_number_of_jobs = int(number_of_jobs[2])\n",
    "        number_of_pages_to_scroll = np.ceil(total_number_of_jobs/10)\n",
    "        \n",
    "        print total_number_of_jobs,' jobs found for search terms:',job_query1.upper(), \\\n",
    "                                                    ',',job_query2.upper(),',',job_query3.upper()\n",
    "        \n",
    "        if total_number_of_jobs > 1000: #realised that job board has limitation to show only 1000 records\n",
    "            print 'Limiting Search to first 1000 records...'\n",
    "        \n",
    "        stepname = 'six'\n",
    "            \n",
    "        #initialise variables for storing page variables\n",
    "        jobtitle = []\n",
    "        companyname = []\n",
    "        location = []\n",
    "        advertised_number_of_days_ago = []\n",
    "        company_rating = []\n",
    "        company_rating_counts = []\n",
    "        salary = []\n",
    "        summary = []\n",
    "        joblink = []\n",
    "        previous_job_number_start = '' # this will be used to determine when to break loop \n",
    "                                       # (indeed repeats job postings)       \n",
    "        \n",
    "        #loop through\n",
    "        for counter in xrange(0,100):\n",
    "         \n",
    "            stepname = 'seven'\n",
    "            \n",
    "            #create query to read the page\n",
    "            sleep(1)   #giving it a one second buffer because we don't want to overload server\n",
    "            page_query = [base_url,job_query_string,'&as_not=&as_ttl=&as_cmp=',company_name_string,\n",
    "                   '&jt=all&st=&salary=',salary_string,'&radius=50&l=',location_string,\n",
    "                   '&fromage=',fromage_string,'&limit=10&sort=&start=',str(counter * 10)]\n",
    "            page_query = \"\".join(page_query)\n",
    "            \n",
    "            stepname = 'eight'\n",
    "            \n",
    "            #read page contents\n",
    "            html = urlopen(page_query).read()  \n",
    "            soup = BeautifulSoup(html, \"lxml\")\n",
    "            \n",
    "            #print page numbers for each page fetch\n",
    "            current_page_number_of_jobs_page_area = soup.find(id=\"searchCount\").string.encode('utf-8')\n",
    "            current_page_number_of_jobs = re.findall('\\d+', current_page_number_of_jobs_page_area.replace(',',''))\n",
    "            \n",
    "            #this test is to not repeat job fetches. indeed removes the last couple of hundred job postings\n",
    "            #because they are similar to what has been previously displayed. We remove it from our fetch too\n",
    "            if int(current_page_number_of_jobs[0]) == previous_job_number_start:\n",
    "                break\n",
    "            previous_job_number_start = int(current_page_number_of_jobs[0])\n",
    "            \n",
    "            print 'Fetching details for jobs', int(current_page_number_of_jobs[0]), \\\n",
    "            'to',int(current_page_number_of_jobs[1])\n",
    "            \n",
    "            #extract page body / details into a BS4 element result set called targetElements\n",
    "            targetElements = soup.findAll('div', attrs = {'class' : ' row result'})\n",
    "            targetElements.extend(soup.findAll('div', attrs = {'class' : 'lastRow row result'}))\n",
    "            \n",
    "            #start storing into variable lists\n",
    "            for elem in targetElements:\n",
    "                \n",
    "                #job title\n",
    "                jobtitle.append(elem.find('a', attrs = {'class':'turnstileLink'}).attrs['title'])              \n",
    "                \n",
    "                #company name\n",
    "                if elem.find('span', attrs = {'itemprop':'name'}) is None:\n",
    "                    companyname.append(None)\n",
    "                else:\n",
    "                    companyname.append(elem.find('span', attrs = {'itemprop':'name'})\n",
    "                                     .getText().strip().encode('utf-8'))  \n",
    "                \n",
    "                #location\n",
    "                location.append(elem.find('span', attrs = {'itemprop':'addressLocality'})\n",
    "                                .getText().strip().encode('utf-8'))\n",
    "                \n",
    "                #summary\n",
    "                summary.append(elem.find('span', attrs = {'class':'summary'})\n",
    "                               .getText().strip().encode('utf-8'))\n",
    "                \n",
    "                #company rating\n",
    "                if elem.find('span', attrs = [{'class':'ratingNumber'}]) is None:\n",
    "                    company_rating.append(None)\n",
    "                else:\n",
    "                    company_rating.append(elem.find('span', attrs = {'class':'ratingNumber'})\n",
    "                                     .getText().strip().encode('utf-8'))\n",
    "                \n",
    "                #company rating counts\n",
    "                if elem.find('span', attrs = {'class':'slNoUnderline'}) is None:\n",
    "                    company_rating_counts.append(None)\n",
    "                else:\n",
    "                    company_rating_counts.append(elem.find('span', attrs = {'class':'slNoUnderline'})\n",
    "                                     .getText().strip().encode('utf-8'))\n",
    "                \n",
    "                #advertised number of days ago\n",
    "                if elem.find('span', attrs = {'class':'date'}) is None:\n",
    "                    advertised_number_of_days_ago.append(None)\n",
    "                else:\n",
    "                    advertised_number_of_days_ago.append(elem.find('span', attrs = {'class':'date'})\n",
    "                                     .getText().strip().encode('utf-8'))\n",
    "                    \n",
    "                #salary\n",
    "                if elem.find('nobr') is None:\n",
    "                    salary.append(None)\n",
    "                else:\n",
    "                    salary.append(elem.find('nobr').getText().strip().encode('utf-8'))\n",
    "                \n",
    "                #job link\n",
    "                home_url = 'http://www.indeed.com'\n",
    "                joblink.append(\"%s%s\" % (home_url,elem.find('a').get('href')))\n",
    "                \n",
    "        #after all pages are extracted, store them into a dataframe\n",
    "        df_columns=['query_date','jobtitle','companyname','location',\n",
    "                 'advertised_number_of_days_ago','company_rating',\n",
    "                 'company_rating_counts','salary','summary',\n",
    "                 'joblink','job_query_string']\n",
    "\n",
    "        df_joblist = pd.DataFrame({'query_date':pd.to_datetime('today'),\n",
    "                                'jobtitle':jobtitle,\n",
    "                                'companyname':companyname,\n",
    "                                'location':location,\n",
    "                                'advertised_number_of_days_ago':advertised_number_of_days_ago,\n",
    "                                'company_rating':company_rating,\n",
    "                                'company_rating_counts':company_rating_counts,\n",
    "                                'salary':salary,\n",
    "                                'summary':summary,\n",
    "                                'joblink':joblink,\n",
    "                                'job_query_string':job_query_string},\n",
    "                                 columns = df_columns)\n",
    "            \n",
    "        return df_joblist    \n",
    "\n",
    "    except:\n",
    "        print 'something went wrong...'\n",
    "        return"
   ]
  },
  {
   "cell_type": "code",
   "execution_count": 3,
   "metadata": {
    "collapsed": false
   },
   "outputs": [
    {
     "name": "stdout",
     "output_type": "stream",
     "text": [
      "927  jobs found for search terms: CUSTOMER ANALYTICS , DATA SCIENTIST , DATA ANALYSIS\n",
      "Fetching details for jobs 1 to 10\n",
      "Fetching details for jobs 11 to 20\n",
      "Fetching details for jobs 21 to 30\n",
      "Fetching details for jobs 31 to 40\n",
      "Fetching details for jobs 41 to 50\n",
      "Fetching details for jobs 51 to 60\n",
      "Fetching details for jobs 61 to 70\n",
      "Fetching details for jobs 71 to 80\n",
      "Fetching details for jobs 81 to 90\n",
      "Fetching details for jobs 91 to 100\n",
      "Fetching details for jobs 101 to 110\n",
      "Fetching details for jobs 111 to 120\n",
      "Fetching details for jobs 121 to 130\n",
      "Fetching details for jobs 131 to 140\n",
      "Fetching details for jobs 141 to 150\n",
      "Fetching details for jobs 151 to 160\n",
      "Fetching details for jobs 161 to 170\n",
      "Fetching details for jobs 171 to 180\n",
      "Fetching details for jobs 181 to 190\n",
      "Fetching details for jobs 191 to 200\n",
      "Fetching details for jobs 201 to 210\n",
      "Fetching details for jobs 211 to 220\n",
      "Fetching details for jobs 221 to 230\n",
      "Fetching details for jobs 231 to 240\n",
      "Fetching details for jobs 241 to 250\n",
      "Fetching details for jobs 251 to 260\n",
      "Fetching details for jobs 261 to 270\n",
      "Fetching details for jobs 271 to 280\n",
      "Fetching details for jobs 281 to 290\n",
      "Fetching details for jobs 291 to 300\n",
      "Fetching details for jobs 301 to 310\n",
      "Fetching details for jobs 311 to 320\n",
      "Fetching details for jobs 321 to 330\n",
      "Fetching details for jobs 331 to 340\n",
      "Fetching details for jobs 341 to 350\n",
      "Fetching details for jobs 351 to 360\n",
      "Fetching details for jobs 361 to 370\n",
      "Fetching details for jobs 371 to 380\n",
      "Fetching details for jobs 381 to 390\n",
      "Fetching details for jobs 391 to 400\n",
      "Fetching details for jobs 401 to 410\n",
      "Fetching details for jobs 411 to 420\n",
      "Fetching details for jobs 421 to 430\n",
      "Fetching details for jobs 431 to 440\n",
      "Fetching details for jobs 441 to 450\n",
      "Fetching details for jobs 451 to 460\n",
      "Fetching details for jobs 461 to 470\n",
      "Fetching details for jobs 471 to 480\n",
      "Fetching details for jobs 481 to 490\n",
      "Fetching details for jobs 491 to 500\n",
      "Fetching details for jobs 501 to 510\n",
      "Fetching details for jobs 511 to 520\n",
      "Fetching details for jobs 521 to 530\n",
      "Fetching details for jobs 531 to 540\n",
      "Fetching details for jobs 541 to 550\n",
      "Fetching details for jobs 551 to 560\n",
      "Fetching details for jobs 561 to 570\n",
      "Fetching details for jobs 571 to 580\n",
      "Fetching details for jobs 581 to 590\n",
      "Fetching details for jobs 591 to 600\n",
      "Fetching details for jobs 601 to 610\n",
      "Fetching details for jobs 611 to 620\n",
      "Fetching details for jobs 621 to 630\n",
      "Fetching details for jobs 631 to 640\n",
      "Fetching details for jobs 641 to 650\n",
      "Fetching details for jobs 651 to 660\n",
      "Fetching details for jobs 661 to 670\n",
      "Fetching details for jobs 671 to 680\n",
      "Fetching details for jobs 681 to 690\n",
      "Fetching details for jobs 691 to 700\n",
      "Fetching details for jobs 701 to 710\n",
      "Fetching details for jobs 711 to 720\n",
      "Fetching details for jobs 721 to 730\n",
      "Fetching details for jobs 731 to 740\n",
      "Fetching details for jobs 741 to 750\n",
      "Fetching details for jobs 751 to 760\n",
      "Fetching details for jobs 761 to 770\n",
      "Fetching details for jobs 771 to 780\n",
      "Fetching details for jobs 781 to 790\n",
      "Fetching details for jobs 791 to 800\n",
      "Fetching details for jobs 801 to 810\n",
      "Fetching details for jobs 811 to 811\n"
     ]
    }
   ],
   "source": [
    "#df_joblist = get_data_job_board('data scientist','customer analytics','data analysis')\n",
    "df_joblist = get_data_job_board('customer analytics','data scientist','data analysis')"
   ]
  },
  {
   "cell_type": "markdown",
   "metadata": {},
   "source": [
    "## Check job dataset"
   ]
  },
  {
   "cell_type": "code",
   "execution_count": 4,
   "metadata": {
    "collapsed": false
   },
   "outputs": [
    {
     "data": {
      "text/plain": [
       "811"
      ]
     },
     "execution_count": 4,
     "metadata": {},
     "output_type": "execute_result"
    }
   ],
   "source": [
    "len(df_joblist)"
   ]
  },
  {
   "cell_type": "code",
   "execution_count": 5,
   "metadata": {
    "collapsed": false
   },
   "outputs": [
    {
     "data": {
      "text/html": [
       "<div>\n",
       "<table border=\"1\" class=\"dataframe\">\n",
       "  <thead>\n",
       "    <tr style=\"text-align: right;\">\n",
       "      <th></th>\n",
       "      <th>query_date</th>\n",
       "      <th>jobtitle</th>\n",
       "      <th>companyname</th>\n",
       "      <th>location</th>\n",
       "      <th>advertised_number_of_days_ago</th>\n",
       "      <th>company_rating</th>\n",
       "      <th>company_rating_counts</th>\n",
       "      <th>salary</th>\n",
       "      <th>summary</th>\n",
       "      <th>joblink</th>\n",
       "      <th>job_query_string</th>\n",
       "    </tr>\n",
       "  </thead>\n",
       "  <tbody>\n",
       "    <tr>\n",
       "      <th>0</th>\n",
       "      <td>2016-06-20</td>\n",
       "      <td>Business Intelligence</td>\n",
       "      <td>Telstra Super Pty Ltd</td>\n",
       "      <td>Australia</td>\n",
       "      <td>5 days ago</td>\n",
       "      <td>None</td>\n",
       "      <td>None</td>\n",
       "      <td>None</td>\n",
       "      <td>Delivering enterprise information management, ...</td>\n",
       "      <td>http://www.indeed.com/rc/clk?jk=ae3702bc44032e...</td>\n",
       "      <td>%22customer+analytics%22+%22data+scientist%22+...</td>\n",
       "    </tr>\n",
       "    <tr>\n",
       "      <th>1</th>\n",
       "      <td>2016-06-20</td>\n",
       "      <td>Business Intelligence Analyst</td>\n",
       "      <td>Macquarie Group Limited</td>\n",
       "      <td>Sydney NSW</td>\n",
       "      <td>19 days ago</td>\n",
       "      <td>None</td>\n",
       "      <td>17 reviews</td>\n",
       "      <td>None</td>\n",
       "      <td>Data visualisation and analysis of large data ...</td>\n",
       "      <td>http://www.indeed.com/rc/clk?jk=d0b72c272713c8...</td>\n",
       "      <td>%22customer+analytics%22+%22data+scientist%22+...</td>\n",
       "    </tr>\n",
       "    <tr>\n",
       "      <th>2</th>\n",
       "      <td>2016-06-20</td>\n",
       "      <td>Business Intelligence Analyst</td>\n",
       "      <td>Trimble Navigation Limited</td>\n",
       "      <td>Remote</td>\n",
       "      <td>30+ days ago</td>\n",
       "      <td>None</td>\n",
       "      <td>45 reviews</td>\n",
       "      <td>None</td>\n",
       "      <td>Data models and data Architecture. Understandi...</td>\n",
       "      <td>http://www.indeed.com/rc/clk?jk=beea171fc08afa...</td>\n",
       "      <td>%22customer+analytics%22+%22data+scientist%22+...</td>\n",
       "    </tr>\n",
       "  </tbody>\n",
       "</table>\n",
       "</div>"
      ],
      "text/plain": [
       "  query_date                       jobtitle                 companyname  \\\n",
       "0 2016-06-20          Business Intelligence       Telstra Super Pty Ltd   \n",
       "1 2016-06-20  Business Intelligence Analyst     Macquarie Group Limited   \n",
       "2 2016-06-20  Business Intelligence Analyst  Trimble Navigation Limited   \n",
       "\n",
       "     location advertised_number_of_days_ago company_rating  \\\n",
       "0   Australia                    5 days ago           None   \n",
       "1  Sydney NSW                   19 days ago           None   \n",
       "2      Remote                  30+ days ago           None   \n",
       "\n",
       "  company_rating_counts salary  \\\n",
       "0                  None   None   \n",
       "1            17 reviews   None   \n",
       "2            45 reviews   None   \n",
       "\n",
       "                                             summary  \\\n",
       "0  Delivering enterprise information management, ...   \n",
       "1  Data visualisation and analysis of large data ...   \n",
       "2  Data models and data Architecture. Understandi...   \n",
       "\n",
       "                                             joblink  \\\n",
       "0  http://www.indeed.com/rc/clk?jk=ae3702bc44032e...   \n",
       "1  http://www.indeed.com/rc/clk?jk=d0b72c272713c8...   \n",
       "2  http://www.indeed.com/rc/clk?jk=beea171fc08afa...   \n",
       "\n",
       "                                    job_query_string  \n",
       "0  %22customer+analytics%22+%22data+scientist%22+...  \n",
       "1  %22customer+analytics%22+%22data+scientist%22+...  \n",
       "2  %22customer+analytics%22+%22data+scientist%22+...  "
      ]
     },
     "execution_count": 5,
     "metadata": {},
     "output_type": "execute_result"
    }
   ],
   "source": [
    "df_joblist.head(3)"
   ]
  },
  {
   "cell_type": "markdown",
   "metadata": {},
   "source": [
    "## 4) Little bit of data wrangling"
   ]
  },
  {
   "cell_type": "markdown",
   "metadata": {},
   "source": [
    "#### Create derived field for advertised_date"
   ]
  },
  {
   "cell_type": "code",
   "execution_count": 6,
   "metadata": {
    "collapsed": false
   },
   "outputs": [
    {
     "data": {
      "text/plain": [
       "array(['1 day ago', '1 hour ago', '10 days ago', '10 hours ago',\n",
       "       '11 days ago', '11 hours ago', '12 days ago', '13 days ago',\n",
       "       '14 days ago', '15 days ago', '16 days ago', '17 days ago',\n",
       "       '18 days ago', '18 hours ago', '19 days ago', '2 days ago',\n",
       "       '2 hours ago', '20 days ago', '21 days ago', '22 days ago',\n",
       "       '23 days ago', '23 hours ago', '24 days ago', '25 days ago',\n",
       "       '26 days ago', '27 days ago', '27 minutes ago', '28 days ago',\n",
       "       '29 days ago', '3 days ago', '3 hours ago', '30 days ago',\n",
       "       '30+ days ago', '31 minutes ago', '4 days ago', '5 days ago',\n",
       "       '6 days ago', '6 hours ago', '7 days ago', '7 hours ago',\n",
       "       '8 days ago', '9 days ago', '9 hours ago'], dtype=object)"
      ]
     },
     "execution_count": 6,
     "metadata": {},
     "output_type": "execute_result"
    }
   ],
   "source": [
    "df_joblist.advertised_number_of_days_ago.sort_values().unique()"
   ]
  },
  {
   "cell_type": "code",
   "execution_count": 8,
   "metadata": {
    "collapsed": false
   },
   "outputs": [
    {
     "data": {
      "text/plain": [
       "<matplotlib.axes._subplots.AxesSubplot at 0x10a7fdf50>"
      ]
     },
     "execution_count": 8,
     "metadata": {},
     "output_type": "execute_result"
    },
    {
     "data": {
      "image/png": "[encoded data removed]",
      "text/plain": [
       "<matplotlib.figure.Figure at 0x10b1f19d0>"
      ]
     },
     "metadata": {},
     "output_type": "display_data"
    }
   ],
   "source": [
    "plt.rc('figure', figsize=(10, 5))\n",
    "df_joblist.advertised_number_of_days_ago.value_counts(normalize=True).plot(kind='bar',\n",
    "                                  title=\"Advertised num of days ago\",\n",
    "                                  color='orange',\n",
    "                                  align='center')"
   ]
  },
  {
   "cell_type": "code",
   "execution_count": 10,
   "metadata": {
    "collapsed": true
   },
   "outputs": [],
   "source": [
    "def compute_advertised_date(row):\n",
    "    #extract number and identifier (days or hours)\n",
    "    \n",
    "    advertised_number = int(re.findall('\\d+', row['advertised_number_of_days_ago'])[0])\n",
    "    \n",
    "    if re.findall('hour', row['advertised_number_of_days_ago']):\n",
    "        return row['query_date']\n",
    "    elif re.findall('day', row['advertised_number_of_days_ago']) and advertised_number == 30:\n",
    "        return row['query_date'] - pd.Timedelta(days=30) #jobs advertised 30+ days ago also defaulted to 30 days.\n",
    "    elif re.findall('day', row['advertised_number_of_days_ago']) and advertised_number != 30:            \n",
    "        return row['query_date'] - pd.Timedelta(days=advertised_number)\n",
    "    else:\n",
    "        return None"
   ]
  },
  {
   "cell_type": "code",
   "execution_count": 11,
   "metadata": {
    "collapsed": false
   },
   "outputs": [],
   "source": [
    "# apply to the dataframe\n",
    "df_joblist['advertised_date'] = df_joblist.apply (lambda row: compute_advertised_date(row),axis=1)"
   ]
  },
  {
   "cell_type": "markdown",
   "metadata": {},
   "source": [
    "#### Reading from the pre-existing csv file"
   ]
  },
  {
   "cell_type": "code",
   "execution_count": 34,
   "metadata": {
    "collapsed": false
   },
   "outputs": [
    {
     "data": {
      "text/html": [
       "<div>\n",
       "<table border=\"1\" class=\"dataframe\">\n",
       "  <thead>\n",
       "    <tr style=\"text-align: right;\">\n",
       "      <th></th>\n",
       "      <th>query_date</th>\n",
       "      <th>jobtitle</th>\n",
       "      <th>companyname</th>\n",
       "      <th>location</th>\n",
       "      <th>advertised_number_of_days_ago</th>\n",
       "      <th>company_rating</th>\n",
       "      <th>company_rating_counts</th>\n",
       "      <th>salary</th>\n",
       "      <th>summary</th>\n",
       "      <th>joblink</th>\n",
       "      <th>job_query_string</th>\n",
       "      <th>advertised_date</th>\n",
       "    </tr>\n",
       "  </thead>\n",
       "  <tbody>\n",
       "    <tr>\n",
       "      <th>0</th>\n",
       "      <td>2016-06-20</td>\n",
       "      <td>Business Intelligence</td>\n",
       "      <td>Telstra Super Pty Ltd</td>\n",
       "      <td>Australia</td>\n",
       "      <td>5 days ago</td>\n",
       "      <td>NaN</td>\n",
       "      <td>NaN</td>\n",
       "      <td>NaN</td>\n",
       "      <td>Delivering enterprise information management, ...</td>\n",
       "      <td>http://www.indeed.com/rc/clk?jk=ae3702bc44032e...</td>\n",
       "      <td>%22customer+analytics%22+%22data+scientist%22+...</td>\n",
       "      <td>2016-06-15</td>\n",
       "    </tr>\n",
       "    <tr>\n",
       "      <th>1</th>\n",
       "      <td>2016-06-20</td>\n",
       "      <td>Business Intelligence Analyst</td>\n",
       "      <td>Macquarie Group Limited</td>\n",
       "      <td>Sydney NSW</td>\n",
       "      <td>19 days ago</td>\n",
       "      <td>NaN</td>\n",
       "      <td>17 reviews</td>\n",
       "      <td>NaN</td>\n",
       "      <td>Data visualisation and analysis of large data ...</td>\n",
       "      <td>http://www.indeed.com/rc/clk?jk=d0b72c272713c8...</td>\n",
       "      <td>%22customer+analytics%22+%22data+scientist%22+...</td>\n",
       "      <td>2016-06-01</td>\n",
       "    </tr>\n",
       "  </tbody>\n",
       "</table>\n",
       "</div>"
      ],
      "text/plain": [
       "   query_date                       jobtitle              companyname  \\\n",
       "0  2016-06-20          Business Intelligence    Telstra Super Pty Ltd   \n",
       "1  2016-06-20  Business Intelligence Analyst  Macquarie Group Limited   \n",
       "\n",
       "     location advertised_number_of_days_ago  company_rating  \\\n",
       "0   Australia                    5 days ago             NaN   \n",
       "1  Sydney NSW                   19 days ago             NaN   \n",
       "\n",
       "  company_rating_counts salary  \\\n",
       "0                   NaN    NaN   \n",
       "1            17 reviews    NaN   \n",
       "\n",
       "                                             summary  \\\n",
       "0  Delivering enterprise information management, ...   \n",
       "1  Data visualisation and analysis of large data ...   \n",
       "\n",
       "                                             joblink  \\\n",
       "0  http://www.indeed.com/rc/clk?jk=ae3702bc44032e...   \n",
       "1  http://www.indeed.com/rc/clk?jk=d0b72c272713c8...   \n",
       "\n",
       "                                    job_query_string advertised_date  \n",
       "0  %22customer+analytics%22+%22data+scientist%22+...      2016-06-15  \n",
       "1  %22customer+analytics%22+%22data+scientist%22+...      2016-06-01  "
      ]
     },
     "execution_count": 34,
     "metadata": {},
     "output_type": "execute_result"
    }
   ],
   "source": [
    "indeed_job_board_listing = pd.read_csv('indeed_job_board_listing.csv', encoding='utf-8')\n",
    "indeed_job_board_listing.head(2)"
   ]
  },
  {
   "cell_type": "code",
   "execution_count": 24,
   "metadata": {
    "collapsed": false
   },
   "outputs": [
    {
     "data": {
      "text/plain": [
       "811"
      ]
     },
     "execution_count": 24,
     "metadata": {},
     "output_type": "execute_result"
    }
   ],
   "source": [
    "len(indeed_job_board_listing)"
   ]
  },
  {
   "cell_type": "markdown",
   "metadata": {},
   "source": [
    "#### Write to CSV file"
   ]
  },
  {
   "cell_type": "code",
   "execution_count": 28,
   "metadata": {
    "collapsed": false
   },
   "outputs": [],
   "source": [
    "#append df_joblist to existing job board listing dataframe\n",
    "indeed_job_board_listing = indeed_job_board_listing.append(df_joblist)"
   ]
  },
  {
   "cell_type": "code",
   "execution_count": 29,
   "metadata": {
    "collapsed": false
   },
   "outputs": [
    {
     "data": {
      "text/plain": [
       "1622"
      ]
     },
     "execution_count": 29,
     "metadata": {},
     "output_type": "execute_result"
    }
   ],
   "source": [
    "len(indeed_job_board_listing)"
   ]
  },
  {
   "cell_type": "code",
   "execution_count": 30,
   "metadata": {
    "collapsed": false
   },
   "outputs": [
    {
     "name": "stdout",
     "output_type": "stream",
     "text": [
      "1622\n"
     ]
    },
    {
     "name": "stderr",
     "output_type": "stream",
     "text": [
      "/Users/Vivek/anaconda/envs/web_scraping/lib/python2.7/site-packages/pandas/core/algorithms.py:185: UnicodeWarning: Unicode equal comparison failed to convert both arguments to Unicode - interpreting them as being unequal\n",
      "  labels = table.get_labels(vals, uniques, 0, na_sentinel, True)\n"
     ]
    }
   ],
   "source": [
    "indeed_job_board_listing_deduped = indeed_job_board_listing.duplicated(keep = 'first')\n",
    "print len(indeed_job_board_listing_deduped)"
   ]
  },
  {
   "cell_type": "code",
   "execution_count": 22,
   "metadata": {
    "collapsed": false
   },
   "outputs": [],
   "source": [
    "#writing to a tab delimited csv\n",
    "df_joblist.to_csv('indeed_job_board_listing.csv', index = False, encoding='utf-8')"
   ]
  },
  {
   "cell_type": "markdown",
   "metadata": {},
   "source": [
    "For some reason, the unicode issue is causing the new df_joblist to look different from the read csv file. So my plan is to append the df_joblist data into csv without header..\n",
    "\n",
    "Then the plan is to read the whole file as a whole, and finally weed out the duplicates and re-write the whole file into csv afresh. i know it's roundabout, but can't think of any other way at the moment."
   ]
  },
  {
   "cell_type": "code",
   "execution_count": null,
   "metadata": {
    "collapsed": true
   },
   "outputs": [],
   "source": [
    "# if file does not exist write header \n",
    "if not os.path.isfile('indeed_job_board_listing.csv'):\n",
    "   df_joblist.to_csv('indeed_job_board_listing.csv',index = False, encoding='utf-8')\n",
    "else: # else it exists so append without writing the header\n",
    "    df_joblist.to_csv('indeed_job_board_listing.csv',mode = 'a',header=False, index = False, encoding='utf-8')"
   ]
  }
 ],
 "metadata": {
  "kernelspec": {
   "display_name": "Python2.7_web_scraping",
   "language": "python",
   "name": "web_scraping"
  },
  "language_info": {
   "codemirror_mode": {
    "name": "ipython",
    "version": 2
   },
   "file_extension": ".py",
   "mimetype": "text/x-python",
   "name": "python",
   "nbconvert_exporter": "python",
   "pygments_lexer": "ipython2",
   "version": "2.7.11"
  }
 },
 "nbformat": 4,
 "nbformat_minor": 0
}
