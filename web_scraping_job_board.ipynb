{
 "cells": [
  {
   "cell_type": "markdown",
   "metadata": {},
   "source": [
    "Web scraping indeed website for data science jobs based on Greg Reda's [excellent tutorial](http://www.gregreda.com/2013/03/03/web-scraping-101-with-python/) and Jesse Steinweg's [excellent analysis](https://jessesw.com/Data-Science-Skills/) and finally, Sung Pil Moon's [awesome analysis](http://blog.nycdatascience.com/students-work/project-3-web-scraping-company-data-from-indeed-com-and-dice-com/)"
   ]
  },
  {
   "cell_type": "markdown",
   "metadata": {},
   "source": [
    "## 1) Admin and Setup"
   ]
  },
  {
   "cell_type": "markdown",
   "metadata": {},
   "source": [
    "I've already created a virtual environment in conda by downloading bs4. Please feel free to use my environment.yaml to create a similar virtual env. I'll update it as I go."
   ]
  },
  {
   "cell_type": "code",
   "execution_count": 50,
   "metadata": {
    "collapsed": false
   },
   "outputs": [],
   "source": [
    "from bs4 import BeautifulSoup\n",
    "from urllib2 import urlopen\n",
    "import pandas as pd\n",
    "import re\n",
    "import numpy as np\n",
    "from time import sleep\n",
    "%matplotlib inline\n",
    "import pylab as plt"
   ]
  },
  {
   "cell_type": "markdown",
   "metadata": {},
   "source": [
    "## 2) What do I want to achieve"
   ]
  },
  {
   "cell_type": "markdown",
   "metadata": {},
   "source": [
    "http://au.indeed.com/jobs?as_and=&as_phr=&as_any=%22customer+analytics%22+%22data+analysis%22&as_not=&as_ttl=&as_cmp=&jt=all&st=&salary=&radius=50&l=&fromage=any&limit=10&sort=&psf=advsrch\n",
    "\n",
    "OR\n",
    "\n",
    "http://au.indeed.com/jobs?as_and=&as_phr=&as_any=%22customer+analytics%22+%22data+analysis%22&as_not=&as_ttl=&as_cmp=&jt=all&st=&salary=&radius=0&l=Sydney+NSW&fromage=last&limit=10&sort=&psf=advsrch\n",
    "\n",
    "in a nice tabular format for data exploration"
   ]
  },
  {
   "cell_type": "markdown",
   "metadata": {},
   "source": [
    "## 3) String together webpage url based on different parameters"
   ]
  },
  {
   "cell_type": "markdown",
   "metadata": {},
   "source": [
    "Create logic for converting different search parameters such as search query, city, salary etc. as separate lists and then stringing them together into one final query"
   ]
  },
  {
   "cell_type": "markdown",
   "metadata": {},
   "source": [
    "final_query = base_url + job_query_string + company_name + salary + location + fromage"
   ]
  },
  {
   "cell_type": "markdown",
   "metadata": {},
   "source": [
    "#### Base URL"
   ]
  },
  {
   "cell_type": "code",
   "execution_count": 2,
   "metadata": {
    "collapsed": false
   },
   "outputs": [],
   "source": [
    "# start of the url - this will not change because I'm including search query to search\n",
    "# anywhere in the job ad. Not just the job title.\n",
    "base_url = 'http://au.indeed.com/jobs?as_and=&as_phr=&as_any='"
   ]
  },
  {
   "cell_type": "markdown",
   "metadata": {},
   "source": [
    "#### Job query string inputs as parameters are stored in job_query1, 2 and 3. Restrict to only 3 parameters. "
   ]
  },
  {
   "cell_type": "markdown",
   "metadata": {},
   "source": [
    "Step1 - collect 3 search queries<br/>\n",
    "When you refactor this, make sure this is converted into parameters"
   ]
  },
  {
   "cell_type": "code",
   "execution_count": 3,
   "metadata": {
    "collapsed": true
   },
   "outputs": [],
   "source": [
    "#job_query1 = 'data scientist'\n",
    "#job_query2 = 'customer analytics'\n",
    "#job_query3 = 'data analysis'\n",
    "job_query1 = 'test analyst'\n",
    "job_query2 = 'automation'\n",
    "job_query3 = 'business analyst'"
   ]
  },
  {
   "cell_type": "markdown",
   "metadata": {},
   "source": [
    "Step2 - create query string in the required format"
   ]
  },
  {
   "cell_type": "code",
   "execution_count": 4,
   "metadata": {
    "collapsed": false
   },
   "outputs": [
    {
     "data": {
      "text/plain": [
       "'%22test+analyst%22+%22automation%22+%22business+analyst%22'"
      ]
     },
     "execution_count": 4,
     "metadata": {},
     "output_type": "execute_result"
    }
   ],
   "source": [
    "# 1) within search string, spaces are replaced by '+' in html\n",
    "# 2) each search query is preceded and succeeded by a \"%22\"\n",
    "# 3) string the elements of the list into one string separated by a \"+\"\n",
    "job_query_string = []\n",
    "job_query_string.append(\"%22\" + job_query1.replace(\" \",\"+\") + \"%22\")\n",
    "job_query_string.append(\"%22\" + job_query2.replace(\" \",\"+\") + \"%22\")\n",
    "job_query_string.append(\"%22\" + job_query3.replace(\" \",\"+\") + \"%22\")\n",
    "job_query_string = \"+\".join(job_query_string)\n",
    "job_query_string"
   ]
  },
  {
   "cell_type": "markdown",
   "metadata": {},
   "source": [
    "#### Company name, salary, location, fromage - not working on these right now"
   ]
  },
  {
   "cell_type": "code",
   "execution_count": 5,
   "metadata": {
    "collapsed": false
   },
   "outputs": [],
   "source": [
    "company_name=''\n",
    "salary=''\n",
    "location=''\n",
    "fromage='any'"
   ]
  },
  {
   "cell_type": "markdown",
   "metadata": {},
   "source": [
    "#### Create final query"
   ]
  },
  {
   "cell_type": "code",
   "execution_count": 6,
   "metadata": {
    "collapsed": false
   },
   "outputs": [
    {
     "data": {
      "text/plain": [
       "'http://au.indeed.com/jobs?as_and=&as_phr=&as_any=%22test+analyst%22+%22automation%22+%22business+analyst%22&as_not=&as_ttl=&as_cmp=&jt=all&st=&salary=&radius=50&l=&fromage=any&limit=10&sort=&psf=advsrch'"
      ]
     },
     "execution_count": 6,
     "metadata": {},
     "output_type": "execute_result"
    }
   ],
   "source": [
    "final_query = [base_url,job_query_string,'&as_not=&as_ttl=&as_cmp=',company_name,\n",
    "               '&jt=all&st=&salary=',salary,'&radius=50&l=',location,\n",
    "               '&fromage=',fromage,'&limit=10&sort=&psf=advsrch']\n",
    "final_query = \"\".join(final_query)\n",
    "final_query"
   ]
  },
  {
   "cell_type": "markdown",
   "metadata": {},
   "source": [
    "## 4) Open website and read it"
   ]
  },
  {
   "cell_type": "markdown",
   "metadata": {},
   "source": [
    "Step1: Open the first page <br/>\n",
    "Step2: Get the html of the first page"
   ]
  },
  {
   "cell_type": "code",
   "execution_count": 7,
   "metadata": {
    "collapsed": false
   },
   "outputs": [],
   "source": [
    "html = urlopen(final_query).read()  \n",
    "soup = BeautifulSoup(html, \"lxml\")"
   ]
  },
  {
   "cell_type": "markdown",
   "metadata": {},
   "source": [
    "Step3: find out how many jobs returned from the search query"
   ]
  },
  {
   "cell_type": "code",
   "execution_count": 8,
   "metadata": {
    "collapsed": false
   },
   "outputs": [
    {
     "data": {
      "text/plain": [
       "'Jobs 1 to 10 of 2929'"
      ]
     },
     "execution_count": 8,
     "metadata": {},
     "output_type": "execute_result"
    }
   ],
   "source": [
    "number_of_jobs_page_area = soup.find(id=\"searchCount\").string.encode('utf-8')\n",
    "number_of_jobs_page_area.replace(',','')"
   ]
  },
  {
   "cell_type": "code",
   "execution_count": 9,
   "metadata": {
    "collapsed": false
   },
   "outputs": [
    {
     "data": {
      "text/plain": [
       "['1', '10', '2929']"
      ]
     },
     "execution_count": 9,
     "metadata": {},
     "output_type": "execute_result"
    }
   ],
   "source": [
    "number_of_jobs = re.findall('\\d+', number_of_jobs_page_area.replace(',',''))\n",
    "number_of_jobs"
   ]
  },
  {
   "cell_type": "code",
   "execution_count": 10,
   "metadata": {
    "collapsed": false
   },
   "outputs": [
    {
     "data": {
      "text/plain": [
       "2929"
      ]
     },
     "execution_count": 10,
     "metadata": {},
     "output_type": "execute_result"
    }
   ],
   "source": [
    "total_number_of_jobs = int(number_of_jobs[2])\n",
    "total_number_of_jobs"
   ]
  },
  {
   "cell_type": "markdown",
   "metadata": {},
   "source": [
    "Step4: calculate how many pages to scroll"
   ]
  },
  {
   "cell_type": "code",
   "execution_count": 11,
   "metadata": {
    "collapsed": false
   },
   "outputs": [
    {
     "data": {
      "text/plain": [
       "293.0"
      ]
     },
     "execution_count": 11,
     "metadata": {},
     "output_type": "execute_result"
    }
   ],
   "source": [
    "#round up the # of records divided by 10 as the number of pages in order to ensure coverage. \n",
    "number_of_pages_to_scroll = np.ceil(total_number_of_jobs/10.0)\n",
    "number_of_pages_to_scroll"
   ]
  },
  {
   "cell_type": "markdown",
   "metadata": {},
   "source": [
    "## 5) Load all the deets into separate lists"
   ]
  },
  {
   "cell_type": "code",
   "execution_count": 12,
   "metadata": {
    "collapsed": false
   },
   "outputs": [],
   "source": [
    "# get all the deets of each row. One row pertains to one job\n",
    "# incidentally, i noticed that the class \"row result\" was only picking 9 results in the first page.\n",
    "# this was because the last row was populated in another class 'lastRow row result'\n",
    "\n",
    "targetElements = soup.findAll('div', attrs = {'class' : ' row result'})\n",
    "targetElements.extend(soup.findAll('div', attrs = {'class' : 'lastRow row result'}))"
   ]
  },
  {
   "cell_type": "code",
   "execution_count": 13,
   "metadata": {
    "collapsed": false
   },
   "outputs": [
    {
     "data": {
      "text/plain": [
       "bs4.element.ResultSet"
      ]
     },
     "execution_count": 13,
     "metadata": {},
     "output_type": "execute_result"
    }
   ],
   "source": [
    "type(targetElements)"
   ]
  },
  {
   "cell_type": "code",
   "execution_count": 14,
   "metadata": {
    "collapsed": false,
    "scrolled": false
   },
   "outputs": [
    {
     "name": "stdout",
     "output_type": "stream",
     "text": [
      "\n",
      "\n",
      "*****************************************************\n",
      "\n",
      "\n",
      "\n",
      "\n",
      "*****************************************************\n",
      "\n",
      "\n",
      "\n",
      "\n",
      "*****************************************************\n",
      "\n",
      "\n",
      "\n",
      "\n",
      "*****************************************************\n",
      "\n",
      "\n",
      "\n",
      "\n",
      "*****************************************************\n",
      "\n",
      "\n",
      "\n",
      "\n",
      "*****************************************************\n",
      "\n",
      "\n",
      "\n",
      "\n",
      "*****************************************************\n",
      "\n",
      "\n",
      "\n",
      "\n",
      "*****************************************************\n",
      "\n",
      "\n",
      "\n",
      "\n",
      "*****************************************************\n",
      "\n",
      "\n",
      "\n",
      "\n",
      "*****************************************************\n",
      "\n",
      "\n"
     ]
    }
   ],
   "source": [
    "for elem in targetElements:\n",
    "    #print elem # commenting out this line so as to remove metadata from the notebook\n",
    "    print \"\\n\"\n",
    "    print \"*****************************************************\"\n",
    "    print \"\\n\""
   ]
  },
  {
   "cell_type": "markdown",
   "metadata": {},
   "source": [
    "#### Job Title"
   ]
  },
  {
   "cell_type": "code",
   "execution_count": 15,
   "metadata": {
    "collapsed": false
   },
   "outputs": [
    {
     "data": {
      "text/plain": [
       "[u'Business Analyst/Project Co-ordinator \\u2013 My Learning Space (Prospect)',\n",
       " 'Project Business Analyst',\n",
       " 'Business Analyst - My Roster Project',\n",
       " 'Technical Business Analyst (Project Manager)',\n",
       " 'Project Business Analyst (12 month contract)',\n",
       " 'Project Business Analyst',\n",
       " 'Business Analyst Training + Live Project +100 % Job Assistance',\n",
       " u'Test Analyst \\u2013 Performance Testing (Cards & Payments)',\n",
       " 'Business Analyst',\n",
       " 'Business Analyst']"
      ]
     },
     "execution_count": 15,
     "metadata": {},
     "output_type": "execute_result"
    }
   ],
   "source": [
    "jobtitle = []\n",
    "for elem in targetElements:\n",
    "    #print elem.find('a', attrs = {'class':'turnstileLink'}).attrs['title']\n",
    "    jobtitle.append(elem.find('a', attrs = {'class':'turnstileLink'}).attrs['title'])\n",
    "\n",
    "jobtitle"
   ]
  },
  {
   "cell_type": "markdown",
   "metadata": {
    "collapsed": true
   },
   "source": [
    "#### Company Name"
   ]
  },
  {
   "cell_type": "code",
   "execution_count": 16,
   "metadata": {
    "collapsed": false
   },
   "outputs": [
    {
     "data": {
      "text/plain": [
       "['Boral Industries',\n",
       " 'ANZ Banking Group',\n",
       " 'Epworth Healthcare',\n",
       " 'Cashrewards',\n",
       " 'Metcash',\n",
       " 'BankVic',\n",
       " 'Ichip Solutions',\n",
       " 'Fortune Select',\n",
       " 'Telstra',\n",
       " 'CSIRO']"
      ]
     },
     "execution_count": 16,
     "metadata": {},
     "output_type": "execute_result"
    }
   ],
   "source": [
    "companyname = []\n",
    "for elem in targetElements:\n",
    "    if elem.find('span', attrs = {'itemprop':'name'}) is None:\n",
    "        companyname.append(None)\n",
    "    else:\n",
    "        companyname.append(elem.find('span', attrs = {'itemprop':'name'})\n",
    "                                     .getText().strip().encode('utf-8'))    \n",
    "companyname"
   ]
  },
  {
   "cell_type": "markdown",
   "metadata": {},
   "source": [
    "#### Location"
   ]
  },
  {
   "cell_type": "code",
   "execution_count": 17,
   "metadata": {
    "collapsed": false
   },
   "outputs": [
    {
     "data": {
      "text/plain": [
       "['Sydney NSW',\n",
       " 'Melbourne VIC',\n",
       " 'Richmond VIC',\n",
       " 'Australia',\n",
       " 'New South Wales',\n",
       " 'Carlton VIC',\n",
       " 'Melbourne VIC',\n",
       " 'Sydney NSW',\n",
       " 'Sydney NSW',\n",
       " 'Australia']"
      ]
     },
     "execution_count": 17,
     "metadata": {},
     "output_type": "execute_result"
    }
   ],
   "source": [
    "location = []\n",
    "for elem in targetElements:\n",
    "    location.append(elem.find('span', attrs = {'itemprop':'addressLocality'}).getText().strip().encode('utf-8'))\n",
    "\n",
    "location"
   ]
  },
  {
   "cell_type": "markdown",
   "metadata": {},
   "source": [
    "#### Summary"
   ]
  },
  {
   "cell_type": "code",
   "execution_count": 18,
   "metadata": {
    "collapsed": false
   },
   "outputs": [
    {
     "data": {
      "text/plain": [
       "['Experienced Business Analyst/Project. In business testing validation of requirements. Learning Space project and collaborating with business stakeholders to....',\n",
       " 'Proven years of experience in Business Analysis, preferably with experience in Project transition to BAU or Business Analysis in a BAU function....',\n",
       " 'Developing and refining specifications and business test cases. Core business analysis skills including problem definition, requirements gathering, test...',\n",
       " 'Minimum 3 years experience in a Technical Business Analyst role or similar. Gather business, application and user requirements....',\n",
       " 'As a critical part of the business transformation team, the Project Business Analyst will work closely with key stakeholders to provide in-depth analysis and...',\n",
       " 'We are currently recruiting for the role of Project Business Analyst. Tertiary qualification in a business related discipline....',\n",
       " '_Join us to shape your career in IT industry in the high demanding roles of Software Test Analyst, Automation Test Analyst , Selenium Test Analyst , Business...',\n",
       " 'Test Analyst \\xe2\\x80\\x93 Performance Testing (Cards & Payments). Test Tools and Technical aspects:. Experience in doing performance test for REST Api....',\n",
       " 'The role requires an individual with a proven background as a Business Analyst within the professional services space i.e. IT/business consulting....',\n",
       " 'Liaise with CSIRO business units to identify opportunities for the application of modern business workflow solutions....']"
      ]
     },
     "execution_count": 18,
     "metadata": {},
     "output_type": "execute_result"
    }
   ],
   "source": [
    "summary = []\n",
    "for elem in targetElements:\n",
    "    summary.append(elem.find('span', attrs = {'class':'summary'}).getText().strip().encode('utf-8'))\n",
    "    \n",
    "summary"
   ]
  },
  {
   "cell_type": "markdown",
   "metadata": {},
   "source": [
    "#### Company Rating"
   ]
  },
  {
   "cell_type": "code",
   "execution_count": 19,
   "metadata": {
    "collapsed": false
   },
   "outputs": [
    {
     "data": {
      "text/plain": [
       "[None, None, None, None, None, None, None, None, None, None]"
      ]
     },
     "execution_count": 19,
     "metadata": {},
     "output_type": "execute_result"
    }
   ],
   "source": [
    "## cant seem to get this to work for some reason\n",
    "company_rating = []\n",
    "for elem in targetElements:\n",
    "    if elem.find('span', attrs = [{'class':'ratingNumber'}]) is None:\n",
    "        company_rating.append(None)\n",
    "    else:\n",
    "        company_rating.append(elem.find('span', attrs = {'class':'ratingNumber'})\n",
    "                                     .getText().strip().encode('utf-8'))\n",
    "    \n",
    "company_rating"
   ]
  },
  {
   "cell_type": "markdown",
   "metadata": {},
   "source": [
    "#### Company rating - Number of Reviews"
   ]
  },
  {
   "cell_type": "code",
   "execution_count": 20,
   "metadata": {
    "collapsed": false
   },
   "outputs": [
    {
     "data": {
      "text/plain": [
       "['9 reviews',\n",
       " '252 reviews',\n",
       " '4 reviews',\n",
       " None,\n",
       " '18 reviews',\n",
       " None,\n",
       " None,\n",
       " None,\n",
       " '238 reviews',\n",
       " '12 reviews']"
      ]
     },
     "execution_count": 20,
     "metadata": {},
     "output_type": "execute_result"
    }
   ],
   "source": [
    "company_rating_counts = []\n",
    "for elem in targetElements:\n",
    "    if elem.find('span', attrs = {'class':'slNoUnderline'}) is None:\n",
    "        company_rating_counts.append(None)\n",
    "    else:\n",
    "        company_rating_counts.append(elem.find('span', attrs = {'class':'slNoUnderline'})\n",
    "                                     .getText().strip().encode('utf-8'))\n",
    "\n",
    "company_rating_counts"
   ]
  },
  {
   "cell_type": "markdown",
   "metadata": {},
   "source": [
    "#### Advertised number of days ago"
   ]
  },
  {
   "cell_type": "code",
   "execution_count": 21,
   "metadata": {
    "collapsed": false
   },
   "outputs": [
    {
     "data": {
      "text/plain": [
       "['10 days ago',\n",
       " '30+ days ago',\n",
       " '4 days ago',\n",
       " '1 day ago',\n",
       " '30+ days ago',\n",
       " '30+ days ago',\n",
       " '30+ days ago',\n",
       " '24 days ago',\n",
       " '2 days ago',\n",
       " '10 days ago']"
      ]
     },
     "execution_count": 21,
     "metadata": {},
     "output_type": "execute_result"
    }
   ],
   "source": [
    "advertised_number_of_days_ago = []\n",
    "for elem in targetElements:\n",
    "    if elem.find('span', attrs = {'class':'date'}) is None:\n",
    "        advertised_number_of_days_ago.append(None)\n",
    "    else:\n",
    "        advertised_number_of_days_ago.append(elem.find('span', attrs = {'class':'date'})\n",
    "                                     .getText().strip().encode('utf-8'))\n",
    "\n",
    "advertised_number_of_days_ago"
   ]
  },
  {
   "cell_type": "markdown",
   "metadata": {},
   "source": [
    "#### Salary"
   ]
  },
  {
   "cell_type": "code",
   "execution_count": 22,
   "metadata": {
    "collapsed": false
   },
   "outputs": [
    {
     "data": {
      "text/plain": [
       "[None,\n",
       " None,\n",
       " None,\n",
       " None,\n",
       " None,\n",
       " None,\n",
       " '$60,000 a year',\n",
       " None,\n",
       " None,\n",
       " '$92,000 - $100,000 a year']"
      ]
     },
     "execution_count": 22,
     "metadata": {},
     "output_type": "execute_result"
    }
   ],
   "source": [
    "salary = []\n",
    "for elem in targetElements:\n",
    "    if elem.find('nobr') is None:\n",
    "        salary.append(None)\n",
    "    else:\n",
    "        salary.append(elem.find('nobr').getText().strip().encode('utf-8'))\n",
    "\n",
    "salary"
   ]
  },
  {
   "cell_type": "markdown",
   "metadata": {},
   "source": [
    "#### Job Link"
   ]
  },
  {
   "cell_type": "code",
   "execution_count": 23,
   "metadata": {
    "collapsed": false
   },
   "outputs": [
    {
     "data": {
      "text/plain": [
       "['http://www.indeed.com/rc/clk?jk=139028a441c86ede&fccid=b455017d27b96f6f',\n",
       " 'http://www.indeed.com/rc/clk?jk=a0950380dff977a5&fccid=82e2c70af47d511b',\n",
       " 'http://www.indeed.com/rc/clk?jk=205ec518acce32f9&fccid=6241cad651a67d45',\n",
       " 'http://www.indeed.com/rc/clk?jk=7ce02c7dfa95f3ca&fccid=5fb568e477636329',\n",
       " 'http://www.indeed.com/rc/clk?jk=86ccb305d489868f&fccid=d241caf81c5b2d3f',\n",
       " 'http://www.indeed.com/rc/clk?jk=898919313c9b74c5&fccid=6a160112576e9451',\n",
       " 'http://www.indeed.com/cmp/Ichip-Solutions/jobs/Business-Analyst-Training-Live-Project-Assistance-55b07906608be0f4?r=1&fccid=8a16cb3f66ab8ad0',\n",
       " 'http://www.indeed.com/rc/clk?jk=506f165104e984b7&fccid=0ddd285ee27b130f',\n",
       " 'http://www.indeed.com/rc/clk?jk=1903a01e324a526d&fccid=37a309344fac585c',\n",
       " 'http://www.indeed.com/rc/clk?jk=acd08454a8c5a5be&fccid=f6e6c4d709d8e570']"
      ]
     },
     "execution_count": 23,
     "metadata": {},
     "output_type": "execute_result"
    }
   ],
   "source": [
    "joblink = []\n",
    "home_url = 'http://www.indeed.com'\n",
    "\n",
    "for elem in targetElements:\n",
    "        joblink.append(\"%s%s\" % (home_url,elem.find('a').get('href')))\n",
    "\n",
    "joblink"
   ]
  },
  {
   "cell_type": "markdown",
   "metadata": {},
   "source": [
    "## Create a dataframe based on information collected"
   ]
  },
  {
   "cell_type": "code",
   "execution_count": 24,
   "metadata": {
    "collapsed": false,
    "scrolled": false
   },
   "outputs": [
    {
     "data": {
      "text/html": [
       "<div>\n",
       "<table border=\"1\" class=\"dataframe\">\n",
       "  <thead>\n",
       "    <tr style=\"text-align: right;\">\n",
       "      <th></th>\n",
       "      <th>query_date</th>\n",
       "      <th>jobtitle</th>\n",
       "      <th>companyname</th>\n",
       "      <th>location</th>\n",
       "      <th>advertised_number_of_days_ago</th>\n",
       "      <th>company_rating</th>\n",
       "      <th>company_rating_counts</th>\n",
       "      <th>salary</th>\n",
       "      <th>summary</th>\n",
       "      <th>joblink</th>\n",
       "      <th>job_query_string</th>\n",
       "    </tr>\n",
       "  </thead>\n",
       "  <tbody>\n",
       "    <tr>\n",
       "      <th>0</th>\n",
       "      <td>2016-06-19</td>\n",
       "      <td>Business Analyst/Project Co-ordinator – My Lea...</td>\n",
       "      <td>Boral Industries</td>\n",
       "      <td>Sydney NSW</td>\n",
       "      <td>10 days ago</td>\n",
       "      <td>None</td>\n",
       "      <td>9 reviews</td>\n",
       "      <td>None</td>\n",
       "      <td>Experienced Business Analyst/Project. In busin...</td>\n",
       "      <td>http://www.indeed.com/rc/clk?jk=139028a441c86e...</td>\n",
       "      <td>%22test+analyst%22+%22automation%22+%22busines...</td>\n",
       "    </tr>\n",
       "    <tr>\n",
       "      <th>1</th>\n",
       "      <td>2016-06-19</td>\n",
       "      <td>Project Business Analyst</td>\n",
       "      <td>ANZ Banking Group</td>\n",
       "      <td>Melbourne VIC</td>\n",
       "      <td>30+ days ago</td>\n",
       "      <td>None</td>\n",
       "      <td>252 reviews</td>\n",
       "      <td>None</td>\n",
       "      <td>Proven years of experience in Business Analysi...</td>\n",
       "      <td>http://www.indeed.com/rc/clk?jk=a0950380dff977...</td>\n",
       "      <td>%22test+analyst%22+%22automation%22+%22busines...</td>\n",
       "    </tr>\n",
       "    <tr>\n",
       "      <th>2</th>\n",
       "      <td>2016-06-19</td>\n",
       "      <td>Business Analyst - My Roster Project</td>\n",
       "      <td>Epworth Healthcare</td>\n",
       "      <td>Richmond VIC</td>\n",
       "      <td>4 days ago</td>\n",
       "      <td>None</td>\n",
       "      <td>4 reviews</td>\n",
       "      <td>None</td>\n",
       "      <td>Developing and refining specifications and bus...</td>\n",
       "      <td>http://www.indeed.com/rc/clk?jk=205ec518acce32...</td>\n",
       "      <td>%22test+analyst%22+%22automation%22+%22busines...</td>\n",
       "    </tr>\n",
       "    <tr>\n",
       "      <th>3</th>\n",
       "      <td>2016-06-19</td>\n",
       "      <td>Technical Business Analyst (Project Manager)</td>\n",
       "      <td>Cashrewards</td>\n",
       "      <td>Australia</td>\n",
       "      <td>1 day ago</td>\n",
       "      <td>None</td>\n",
       "      <td>None</td>\n",
       "      <td>None</td>\n",
       "      <td>Minimum 3 years experience in a Technical Busi...</td>\n",
       "      <td>http://www.indeed.com/rc/clk?jk=7ce02c7dfa95f3...</td>\n",
       "      <td>%22test+analyst%22+%22automation%22+%22busines...</td>\n",
       "    </tr>\n",
       "    <tr>\n",
       "      <th>4</th>\n",
       "      <td>2016-06-19</td>\n",
       "      <td>Project Business Analyst (12 month contract)</td>\n",
       "      <td>Metcash</td>\n",
       "      <td>New South Wales</td>\n",
       "      <td>30+ days ago</td>\n",
       "      <td>None</td>\n",
       "      <td>18 reviews</td>\n",
       "      <td>None</td>\n",
       "      <td>As a critical part of the business transformat...</td>\n",
       "      <td>http://www.indeed.com/rc/clk?jk=86ccb305d48986...</td>\n",
       "      <td>%22test+analyst%22+%22automation%22+%22busines...</td>\n",
       "    </tr>\n",
       "  </tbody>\n",
       "</table>\n",
       "</div>"
      ],
      "text/plain": [
       "  query_date                                           jobtitle  \\\n",
       "0 2016-06-19  Business Analyst/Project Co-ordinator – My Lea...   \n",
       "1 2016-06-19                           Project Business Analyst   \n",
       "2 2016-06-19               Business Analyst - My Roster Project   \n",
       "3 2016-06-19       Technical Business Analyst (Project Manager)   \n",
       "4 2016-06-19       Project Business Analyst (12 month contract)   \n",
       "\n",
       "          companyname         location advertised_number_of_days_ago  \\\n",
       "0    Boral Industries       Sydney NSW                   10 days ago   \n",
       "1   ANZ Banking Group    Melbourne VIC                  30+ days ago   \n",
       "2  Epworth Healthcare     Richmond VIC                    4 days ago   \n",
       "3         Cashrewards        Australia                     1 day ago   \n",
       "4             Metcash  New South Wales                  30+ days ago   \n",
       "\n",
       "  company_rating company_rating_counts salary  \\\n",
       "0           None             9 reviews   None   \n",
       "1           None           252 reviews   None   \n",
       "2           None             4 reviews   None   \n",
       "3           None                  None   None   \n",
       "4           None            18 reviews   None   \n",
       "\n",
       "                                             summary  \\\n",
       "0  Experienced Business Analyst/Project. In busin...   \n",
       "1  Proven years of experience in Business Analysi...   \n",
       "2  Developing and refining specifications and bus...   \n",
       "3  Minimum 3 years experience in a Technical Busi...   \n",
       "4  As a critical part of the business transformat...   \n",
       "\n",
       "                                             joblink  \\\n",
       "0  http://www.indeed.com/rc/clk?jk=139028a441c86e...   \n",
       "1  http://www.indeed.com/rc/clk?jk=a0950380dff977...   \n",
       "2  http://www.indeed.com/rc/clk?jk=205ec518acce32...   \n",
       "3  http://www.indeed.com/rc/clk?jk=7ce02c7dfa95f3...   \n",
       "4  http://www.indeed.com/rc/clk?jk=86ccb305d48986...   \n",
       "\n",
       "                                    job_query_string  \n",
       "0  %22test+analyst%22+%22automation%22+%22busines...  \n",
       "1  %22test+analyst%22+%22automation%22+%22busines...  \n",
       "2  %22test+analyst%22+%22automation%22+%22busines...  \n",
       "3  %22test+analyst%22+%22automation%22+%22busines...  \n",
       "4  %22test+analyst%22+%22automation%22+%22busines...  "
      ]
     },
     "execution_count": 24,
     "metadata": {},
     "output_type": "execute_result"
    }
   ],
   "source": [
    "df_columns=['query_date','jobtitle','companyname','location',\n",
    "             'advertised_number_of_days_ago','company_rating',\n",
    "             'company_rating_counts','salary','summary',\n",
    "             'joblink','job_query_string']\n",
    "\n",
    "df_joblist = pd.DataFrame({'query_date':pd.to_datetime('today'),\n",
    "                                'jobtitle':jobtitle,\n",
    "                                'companyname':companyname,\n",
    "                                'location':location,\n",
    "                                'advertised_number_of_days_ago':advertised_number_of_days_ago,\n",
    "                                'company_rating':company_rating,\n",
    "                                'company_rating_counts':company_rating_counts,\n",
    "                                'salary':salary,\n",
    "                                'summary':summary,\n",
    "                                'joblink':joblink,\n",
    "                                'job_query_string':job_query_string},\n",
    "                         columns = df_columns)\n",
    "\n",
    "df_joblist.head()"
   ]
  },
  {
   "cell_type": "markdown",
   "metadata": {},
   "source": [
    "## Use the information collected above to create a function for data collection"
   ]
  },
  {
   "cell_type": "code",
   "execution_count": 49,
   "metadata": {
    "collapsed": false
   },
   "outputs": [],
   "source": [
    "def get_data_job_board(job_query1,job_query2,job_query3):\n",
    "    #STEP1\n",
    "    # create query string in the required format\n",
    "    # 1) within search string, spaces are replaced by '+' in html\n",
    "    # 2) each search query is preceded and succeeded by a \"%22\"\n",
    "    # 3) string the elements of the list into one string separated by a \"+\"\n",
    "    job_query_string = []\n",
    "    job_query_string.append(\"%22\" + job_query1.replace(\" \",\"+\") + \"%22\")\n",
    "    job_query_string.append(\"%22\" + job_query2.replace(\" \",\"+\") + \"%22\")\n",
    "    job_query_string.append(\"%22\" + job_query3.replace(\" \",\"+\") + \"%22\")\n",
    "    job_query_string = \"+\".join(job_query_string)\n",
    "    \n",
    "    stepname = 'one'\n",
    "    \n",
    "    #STEP2\n",
    "    # start of the url - this will not change because I'm including search query to search\n",
    "    # anywhere in the job ad. Not just the job title.\n",
    "    base_url = 'http://au.indeed.com/jobs?as_and=&as_phr=&as_any='\n",
    "    \n",
    "    stepname = 'two'\n",
    "    \n",
    "    #STEP3\n",
    "    #company name, salary, location and fromage are not being worked on currently\n",
    "    #pagenum is null for the first time the query is generated\n",
    "    company_name_string=''\n",
    "    salary_string=''\n",
    "    location_string=''\n",
    "    fromage_string='any'\n",
    "    \n",
    "    stepname = 'three'\n",
    "    \n",
    "    #STEP4\n",
    "    #create query to read the page for the first time\n",
    "    initial_query = [base_url,job_query_string,'&as_not=&as_ttl=&as_cmp=',company_name_string,\n",
    "                '&jt=all&st=&salary=',salary_string,'&radius=50&l=',location_string,\n",
    "                '&fromage=',fromage_string,'&limit=10&sort=&']\n",
    "    initial_query = \"\".join(initial_query)\n",
    "    \n",
    "    stepname = 'four'\n",
    "    \n",
    "    #open website and read it\n",
    "    try:\n",
    "        html = urlopen(initial_query).read()  \n",
    "        soup = BeautifulSoup(html, \"lxml\")\n",
    "        \n",
    "        stepname = 'five'\n",
    "    \n",
    "        #find how many times to loop through to get each job\n",
    "        number_of_jobs_page_area = soup.find(id=\"searchCount\").string.encode('utf-8')\n",
    "        number_of_jobs = re.findall('\\d+', number_of_jobs_page_area.replace(',',''))\n",
    "        total_number_of_jobs = int(number_of_jobs[2])\n",
    "        number_of_pages_to_scroll = np.ceil(total_number_of_jobs/10)\n",
    "        \n",
    "        print total_number_of_jobs,' jobs found for search terms:',upper(job_query1), \\\n",
    "                                                ',',upper(job_query2),',',upper(job_query3)\n",
    "        \n",
    "        if total_number_of_jobs > 1000: #realised that job board has limitation to show only 1000 records\n",
    "            print 'Limiting Search to first 1000 records...'\n",
    "        \n",
    "        stepname = 'six'\n",
    "            \n",
    "        #initialise variables for storing page variables\n",
    "        jobtitle = []\n",
    "        companyname = []\n",
    "        location = []\n",
    "        advertised_number_of_days_ago = []\n",
    "        company_rating = []\n",
    "        company_rating_counts = []\n",
    "        salary = []\n",
    "        summary = []\n",
    "        joblink = []\n",
    "        previous_job_number_start = '' # this will be used to determine when to break loop \n",
    "                                       # (indeed repeats job postings)       \n",
    "        \n",
    "        #loop through\n",
    "        for counter in xrange(0,100):\n",
    "         \n",
    "            stepname = 'seven'\n",
    "            \n",
    "            #create query to read the page\n",
    "            sleep(1)\n",
    "            page_query = [base_url,job_query_string,'&as_not=&as_ttl=&as_cmp=',company_name_string,\n",
    "                   '&jt=all&st=&salary=',salary_string,'&radius=50&l=',location_string,\n",
    "                   '&fromage=',fromage_string,'&limit=10&sort=&start=',str(counter * 10)]\n",
    "            page_query = \"\".join(page_query)\n",
    "            \n",
    "            stepname = 'eight'\n",
    "            \n",
    "            #read page contents\n",
    "            html = urlopen(page_query).read()  \n",
    "            soup = BeautifulSoup(html, \"lxml\")\n",
    "            \n",
    "            stepname = 'nine'\n",
    "            \n",
    "            #print page numbers for each page fetch\n",
    "            current_page_number_of_jobs_page_area = soup.find(id=\"searchCount\").string.encode('utf-8')\n",
    "            current_page_number_of_jobs = re.findall('\\d+', current_page_number_of_jobs_page_area.replace(',',''))\n",
    "            \n",
    "            #this test is to not repeat job fetches. indeed removes the last couple of hundred job postings\n",
    "            #because they are similar to what has been previously displayed. We remove it from our fetch too\n",
    "            if int(current_page_number_of_jobs[0]) == previous_job_number_start:\n",
    "                break\n",
    "            previous_job_number_start = int(current_page_number_of_jobs[0])\n",
    "            \n",
    "            print 'Fetching details for jobs', int(current_page_number_of_jobs[0]), \\\n",
    "            'to',int(current_page_number_of_jobs[1])\n",
    "            \n",
    "            stepname = 'ten'            \n",
    "            \n",
    "            #extract page body / details into a BS4 element result set called targetElements\n",
    "            targetElements = soup.findAll('div', attrs = {'class' : ' row result'})\n",
    "            targetElements.extend(soup.findAll('div', attrs = {'class' : 'lastRow row result'}))\n",
    "            \n",
    "            stepname = 'eleven'\n",
    "            \n",
    "            #start storing into variable lists\n",
    "            for elem in targetElements:\n",
    "                \n",
    "                #job title\n",
    "                jobtitle.append(elem.find('a', attrs = {'class':'turnstileLink'}).attrs['title'])\n",
    "                \n",
    "                #company name\n",
    "                if elem.find('span', attrs = {'itemprop':'name'}) is None:\n",
    "                    companyname.append(None)\n",
    "                else:\n",
    "                    companyname.append(elem.find('span', attrs = {'itemprop':'name'})\n",
    "                                     .getText().strip().encode('utf-8'))  \n",
    "                \n",
    "                #location\n",
    "                location.append(elem.find('span', attrs = {'itemprop':'addressLocality'})\n",
    "                                .getText().strip().encode('utf-8'))\n",
    "                \n",
    "                #summary\n",
    "                summary.append(elem.find('span', attrs = {'class':'summary'})\n",
    "                               .getText().strip().encode('utf-8'))\n",
    "                \n",
    "                #company rating\n",
    "                if elem.find('span', attrs = [{'class':'ratingNumber'}]) is None:\n",
    "                    company_rating.append(None)\n",
    "                else:\n",
    "                    company_rating.append(elem.find('span', attrs = {'class':'ratingNumber'})\n",
    "                                     .getText().strip().encode('utf-8'))\n",
    "                \n",
    "                #company rating counts\n",
    "                if elem.find('span', attrs = {'class':'slNoUnderline'}) is None:\n",
    "                    company_rating_counts.append(None)\n",
    "                else:\n",
    "                    company_rating_counts.append(elem.find('span', attrs = {'class':'slNoUnderline'})\n",
    "                                     .getText().strip().encode('utf-8'))\n",
    "                \n",
    "                #advertised number of days ago\n",
    "                if elem.find('span', attrs = {'class':'date'}) is None:\n",
    "                    advertised_number_of_days_ago.append(None)\n",
    "                else:\n",
    "                    advertised_number_of_days_ago.append(elem.find('span', attrs = {'class':'date'})\n",
    "                                     .getText().strip().encode('utf-8'))\n",
    "                    \n",
    "                #salary\n",
    "                if elem.find('nobr') is None:\n",
    "                    salary.append(None)\n",
    "                else:\n",
    "                    salary.append(elem.find('nobr').getText().strip().encode('utf-8'))\n",
    "                    \n",
    "                #job link\n",
    "                joblink.append(\"%s%s\" % (home_url,elem.find('a').get('href')))\n",
    "            \n",
    "        #after all pages are extracted, store them into a dataframe\n",
    "        df_columns=['query_date','jobtitle','companyname','location',\n",
    "                 'advertised_number_of_days_ago','company_rating',\n",
    "                 'company_rating_counts','salary','summary',\n",
    "                 'joblink','job_query_string']\n",
    "\n",
    "        df_joblist = pd.DataFrame({'query_date':pd.to_datetime('today'),\n",
    "                                'jobtitle':jobtitle,\n",
    "                                'companyname':companyname,\n",
    "                                'location':location,\n",
    "                                'advertised_number_of_days_ago':advertised_number_of_days_ago,\n",
    "                                'company_rating':company_rating,\n",
    "                                'company_rating_counts':company_rating_counts,\n",
    "                                'salary':salary,\n",
    "                                'summary':summary,\n",
    "                                'joblink':joblink,\n",
    "                                'job_query_string':job_query_string},\n",
    "                                 columns = df_columns)\n",
    "            \n",
    "        return df_joblist    \n",
    "\n",
    "    except:\n",
    "        print 'something went wrong...'\n",
    "        return"
   ]
  },
  {
   "cell_type": "code",
   "execution_count": 26,
   "metadata": {
    "collapsed": false
   },
   "outputs": [
    {
     "name": "stdout",
     "output_type": "stream",
     "text": [
      "2929  jobs found for search terms: test analyst , automation , business analyst\n",
      "Limiting Search to first 1000 records...\n",
      "Fetching details for jobs 1 to 10\n",
      "Fetching details for jobs 11 to 20\n",
      "Fetching details for jobs 21 to 30\n",
      "Fetching details for jobs 31 to 40\n",
      "Fetching details for jobs 41 to 50\n",
      "Fetching details for jobs 51 to 60\n",
      "Fetching details for jobs 61 to 70\n",
      "Fetching details for jobs 71 to 80\n",
      "Fetching details for jobs 81 to 90\n",
      "Fetching details for jobs 91 to 100\n",
      "Fetching details for jobs 101 to 110\n",
      "Fetching details for jobs 111 to 120\n",
      "Fetching details for jobs 121 to 130\n",
      "Fetching details for jobs 131 to 140\n",
      "Fetching details for jobs 141 to 150\n",
      "Fetching details for jobs 151 to 160\n",
      "Fetching details for jobs 161 to 170\n",
      "Fetching details for jobs 171 to 180\n",
      "Fetching details for jobs 181 to 190\n",
      "Fetching details for jobs 191 to 200\n",
      "Fetching details for jobs 201 to 210\n",
      "Fetching details for jobs 211 to 220\n",
      "Fetching details for jobs 221 to 230\n",
      "Fetching details for jobs 231 to 240\n",
      "Fetching details for jobs 241 to 250\n",
      "Fetching details for jobs 251 to 260\n",
      "Fetching details for jobs 261 to 270\n",
      "Fetching details for jobs 271 to 280\n",
      "Fetching details for jobs 281 to 290\n",
      "Fetching details for jobs 291 to 300\n",
      "Fetching details for jobs 301 to 310\n",
      "Fetching details for jobs 311 to 320\n",
      "Fetching details for jobs 321 to 330\n",
      "Fetching details for jobs 331 to 340\n",
      "Fetching details for jobs 341 to 350\n",
      "Fetching details for jobs 351 to 360\n",
      "Fetching details for jobs 361 to 370\n",
      "Fetching details for jobs 371 to 380\n",
      "Fetching details for jobs 381 to 390\n",
      "Fetching details for jobs 391 to 400\n",
      "Fetching details for jobs 401 to 410\n",
      "Fetching details for jobs 411 to 420\n",
      "Fetching details for jobs 421 to 430\n",
      "Fetching details for jobs 431 to 440\n",
      "Fetching details for jobs 441 to 450\n",
      "Fetching details for jobs 451 to 460\n",
      "Fetching details for jobs 461 to 470\n",
      "Fetching details for jobs 471 to 480\n",
      "Fetching details for jobs 481 to 490\n",
      "Fetching details for jobs 491 to 500\n",
      "Fetching details for jobs 501 to 510\n",
      "Fetching details for jobs 511 to 520\n",
      "Fetching details for jobs 521 to 530\n",
      "Fetching details for jobs 531 to 540\n",
      "Fetching details for jobs 541 to 550\n",
      "Fetching details for jobs 551 to 560\n",
      "Fetching details for jobs 561 to 570\n",
      "Fetching details for jobs 571 to 580\n",
      "Fetching details for jobs 581 to 590\n",
      "Fetching details for jobs 591 to 600\n",
      "Fetching details for jobs 601 to 610\n",
      "Fetching details for jobs 611 to 620\n",
      "Fetching details for jobs 621 to 630\n",
      "Fetching details for jobs 631 to 640\n",
      "Fetching details for jobs 641 to 650\n",
      "Fetching details for jobs 651 to 660\n",
      "Fetching details for jobs 661 to 670\n",
      "Fetching details for jobs 671 to 680\n",
      "Fetching details for jobs 681 to 690\n",
      "Fetching details for jobs 691 to 700\n",
      "Fetching details for jobs 701 to 710\n",
      "Fetching details for jobs 711 to 720\n",
      "Fetching details for jobs 721 to 730\n",
      "Fetching details for jobs 731 to 740\n",
      "Fetching details for jobs 741 to 750\n",
      "Fetching details for jobs 751 to 760\n",
      "Fetching details for jobs 761 to 770\n",
      "Fetching details for jobs 771 to 780\n",
      "Fetching details for jobs 781 to 790\n",
      "Fetching details for jobs 791 to 800\n",
      "Fetching details for jobs 801 to 810\n",
      "Fetching details for jobs 811 to 820\n",
      "Fetching details for jobs 821 to 830\n",
      "Fetching details for jobs 831 to 840\n",
      "Fetching details for jobs 841 to 850\n",
      "Fetching details for jobs 851 to 860\n",
      "Fetching details for jobs 861 to 870\n",
      "Fetching details for jobs 871 to 880\n",
      "Fetching details for jobs 881 to 890\n",
      "Fetching details for jobs 891 to 900\n",
      "Fetching details for jobs 901 to 910\n",
      "Fetching details for jobs 911 to 920\n",
      "Fetching details for jobs 921 to 930\n",
      "Fetching details for jobs 931 to 940\n",
      "Fetching details for jobs 941 to 950\n",
      "Fetching details for jobs 951 to 960\n",
      "Fetching details for jobs 961 to 970\n",
      "Fetching details for jobs 971 to 980\n",
      "Fetching details for jobs 981 to 990\n",
      "Fetching details for jobs 991 to 1000\n"
     ]
    }
   ],
   "source": [
    "#df_joblist = get_data_job_board('data scientist','customer analytics','data analysis')\n",
    "df_joblist = get_data_job_board('test analyst','automation','business analyst')"
   ]
  },
  {
   "cell_type": "markdown",
   "metadata": {},
   "source": [
    "## Analyse and clean job dataset"
   ]
  },
  {
   "cell_type": "code",
   "execution_count": 27,
   "metadata": {
    "collapsed": false
   },
   "outputs": [
    {
     "data": {
      "text/plain": [
       "1000"
      ]
     },
     "execution_count": 27,
     "metadata": {},
     "output_type": "execute_result"
    }
   ],
   "source": [
    "len(df_joblist)"
   ]
  },
  {
   "cell_type": "code",
   "execution_count": 28,
   "metadata": {
    "collapsed": false
   },
   "outputs": [
    {
     "data": {
      "text/html": [
       "<div>\n",
       "<table border=\"1\" class=\"dataframe\">\n",
       "  <thead>\n",
       "    <tr style=\"text-align: right;\">\n",
       "      <th></th>\n",
       "      <th>query_date</th>\n",
       "      <th>jobtitle</th>\n",
       "      <th>companyname</th>\n",
       "      <th>location</th>\n",
       "      <th>advertised_number_of_days_ago</th>\n",
       "      <th>company_rating</th>\n",
       "      <th>company_rating_counts</th>\n",
       "      <th>salary</th>\n",
       "      <th>summary</th>\n",
       "      <th>joblink</th>\n",
       "      <th>job_query_string</th>\n",
       "    </tr>\n",
       "  </thead>\n",
       "  <tbody>\n",
       "    <tr>\n",
       "      <th>0</th>\n",
       "      <td>2016-06-19</td>\n",
       "      <td>Business Analyst</td>\n",
       "      <td>Telstra</td>\n",
       "      <td>Sydney NSW</td>\n",
       "      <td>2 days ago</td>\n",
       "      <td>None</td>\n",
       "      <td>238 reviews</td>\n",
       "      <td>None</td>\n",
       "      <td>The role requires an individual with a proven ...</td>\n",
       "      <td>http://www.indeed.com/rc/clk?jk=1903a01e324a52...</td>\n",
       "      <td>%22test+analyst%22+%22automation%22+%22busines...</td>\n",
       "    </tr>\n",
       "    <tr>\n",
       "      <th>1</th>\n",
       "      <td>2016-06-19</td>\n",
       "      <td>Business Analyst</td>\n",
       "      <td>CSIRO</td>\n",
       "      <td>Australia</td>\n",
       "      <td>10 days ago</td>\n",
       "      <td>None</td>\n",
       "      <td>12 reviews</td>\n",
       "      <td>$92,000 - $100,000 a year</td>\n",
       "      <td>Liaise with CSIRO business units to identify o...</td>\n",
       "      <td>http://www.indeed.com/rc/clk?jk=acd08454a8c5a5...</td>\n",
       "      <td>%22test+analyst%22+%22automation%22+%22busines...</td>\n",
       "    </tr>\n",
       "    <tr>\n",
       "      <th>2</th>\n",
       "      <td>2016-06-19</td>\n",
       "      <td>Business Analyst Change Management,Officer</td>\n",
       "      <td>State Street</td>\n",
       "      <td>Sydney NSW</td>\n",
       "      <td>26 days ago</td>\n",
       "      <td>None</td>\n",
       "      <td>783 reviews</td>\n",
       "      <td>None</td>\n",
       "      <td>Analyse information to determine business risk...</td>\n",
       "      <td>http://www.indeed.com/rc/clk?jk=9522e630f71d08...</td>\n",
       "      <td>%22test+analyst%22+%22automation%22+%22busines...</td>\n",
       "    </tr>\n",
       "  </tbody>\n",
       "</table>\n",
       "</div>"
      ],
      "text/plain": [
       "  query_date                                    jobtitle   companyname  \\\n",
       "0 2016-06-19                            Business Analyst       Telstra   \n",
       "1 2016-06-19                            Business Analyst         CSIRO   \n",
       "2 2016-06-19  Business Analyst Change Management,Officer  State Street   \n",
       "\n",
       "     location advertised_number_of_days_ago company_rating  \\\n",
       "0  Sydney NSW                    2 days ago           None   \n",
       "1   Australia                   10 days ago           None   \n",
       "2  Sydney NSW                   26 days ago           None   \n",
       "\n",
       "  company_rating_counts                     salary  \\\n",
       "0           238 reviews                       None   \n",
       "1            12 reviews  $92,000 - $100,000 a year   \n",
       "2           783 reviews                       None   \n",
       "\n",
       "                                             summary  \\\n",
       "0  The role requires an individual with a proven ...   \n",
       "1  Liaise with CSIRO business units to identify o...   \n",
       "2  Analyse information to determine business risk...   \n",
       "\n",
       "                                             joblink  \\\n",
       "0  http://www.indeed.com/rc/clk?jk=1903a01e324a52...   \n",
       "1  http://www.indeed.com/rc/clk?jk=acd08454a8c5a5...   \n",
       "2  http://www.indeed.com/rc/clk?jk=9522e630f71d08...   \n",
       "\n",
       "                                    job_query_string  \n",
       "0  %22test+analyst%22+%22automation%22+%22busines...  \n",
       "1  %22test+analyst%22+%22automation%22+%22busines...  \n",
       "2  %22test+analyst%22+%22automation%22+%22busines...  "
      ]
     },
     "execution_count": 28,
     "metadata": {},
     "output_type": "execute_result"
    }
   ],
   "source": [
    "df_joblist.head(3)"
   ]
  },
  {
   "cell_type": "markdown",
   "metadata": {},
   "source": [
    "#### Create derived field for advertised_date"
   ]
  },
  {
   "cell_type": "code",
   "execution_count": 29,
   "metadata": {
    "collapsed": false
   },
   "outputs": [
    {
     "data": {
      "text/plain": [
       "array(['1 day ago', '1 hour ago', '10 days ago', '11 days ago',\n",
       "       '12 days ago', '13 days ago', '14 hours ago', '15 days ago',\n",
       "       '16 days ago', '17 days ago', '18 days ago', '19 days ago',\n",
       "       '19 hours ago', '2 days ago', '20 days ago', '20 hours ago',\n",
       "       '21 days ago', '22 days ago', '23 days ago', '23 hours ago',\n",
       "       '24 days ago', '25 days ago', '26 days ago', '27 days ago',\n",
       "       '28 days ago', '29 days ago', '3 days ago', '30 days ago',\n",
       "       '30+ days ago', '4 days ago', '5 days ago', '6 days ago',\n",
       "       '6 hours ago', '7 days ago', '8 days ago', '9 days ago'], dtype=object)"
      ]
     },
     "execution_count": 29,
     "metadata": {},
     "output_type": "execute_result"
    }
   ],
   "source": [
    "df_joblist.advertised_number_of_days_ago.sort_values().unique()"
   ]
  },
  {
   "cell_type": "code",
   "execution_count": 51,
   "metadata": {
    "collapsed": false
   },
   "outputs": [
    {
     "data": {
      "text/plain": [
       "<matplotlib.axes._subplots.AxesSubplot at 0x10a5a8f10>"
      ]
     },
     "execution_count": 51,
     "metadata": {},
     "output_type": "execute_result"
    },
    {
     "data": {
      "image/png": "[encoded data removed]",
      "text/plain": [
       "<matplotlib.figure.Figure at 0x10a5a8190>"
      ]
     },
     "metadata": {},
     "output_type": "display_data"
    }
   ],
   "source": [
    "df_joblist.advertised_number_of_days_ago.value_counts(normalize=True).plot(kind='bar',\n",
    "                                  title=\"Advertised num of days ago\",\n",
    "                                  color='orange',\n",
    "                                  align='center')"
   ]
  },
  {
   "cell_type": "code",
   "execution_count": 30,
   "metadata": {
    "collapsed": false
   },
   "outputs": [],
   "source": [
    "def compute_advertised_date(row):\n",
    "    #extract number and identifier (days or hours)\n",
    "    \n",
    "    advertised_number = int(re.findall('\\d+', row['advertised_number_of_days_ago'])[0])\n",
    "    \n",
    "    if re.findall('hour', row['advertised_number_of_days_ago']):\n",
    "        return row['query_date']\n",
    "    elif re.findall('day', row['advertised_number_of_days_ago']) and advertised_number == 30:\n",
    "        return row['query_date'] - pd.Timedelta(days=30) #jobs advertised 30+ days ago also defaulted to 30 days.\n",
    "    elif re.findall('day', row['advertised_number_of_days_ago']) and advertised_number != 30:            \n",
    "        return row['query_date'] - pd.Timedelta(days=advertised_number)\n",
    "    else:\n",
    "        return None"
   ]
  },
  {
   "cell_type": "code",
   "execution_count": 31,
   "metadata": {
    "collapsed": false,
    "scrolled": true
   },
   "outputs": [
    {
     "data": {
      "text/html": [
       "<div>\n",
       "<table border=\"1\" class=\"dataframe\">\n",
       "  <thead>\n",
       "    <tr style=\"text-align: right;\">\n",
       "      <th></th>\n",
       "      <th>query_date</th>\n",
       "      <th>jobtitle</th>\n",
       "      <th>companyname</th>\n",
       "      <th>location</th>\n",
       "      <th>advertised_number_of_days_ago</th>\n",
       "      <th>company_rating</th>\n",
       "      <th>company_rating_counts</th>\n",
       "      <th>salary</th>\n",
       "      <th>summary</th>\n",
       "      <th>joblink</th>\n",
       "      <th>job_query_string</th>\n",
       "      <th>advertised_date</th>\n",
       "    </tr>\n",
       "  </thead>\n",
       "  <tbody>\n",
       "    <tr>\n",
       "      <th>0</th>\n",
       "      <td>2016-06-19</td>\n",
       "      <td>Business Analyst</td>\n",
       "      <td>Telstra</td>\n",
       "      <td>Sydney NSW</td>\n",
       "      <td>2 days ago</td>\n",
       "      <td>None</td>\n",
       "      <td>238 reviews</td>\n",
       "      <td>None</td>\n",
       "      <td>The role requires an individual with a proven ...</td>\n",
       "      <td>http://www.indeed.com/rc/clk?jk=1903a01e324a52...</td>\n",
       "      <td>%22test+analyst%22+%22automation%22+%22busines...</td>\n",
       "      <td>2016-06-17</td>\n",
       "    </tr>\n",
       "    <tr>\n",
       "      <th>1</th>\n",
       "      <td>2016-06-19</td>\n",
       "      <td>Business Analyst</td>\n",
       "      <td>CSIRO</td>\n",
       "      <td>Australia</td>\n",
       "      <td>10 days ago</td>\n",
       "      <td>None</td>\n",
       "      <td>12 reviews</td>\n",
       "      <td>$92,000 - $100,000 a year</td>\n",
       "      <td>Liaise with CSIRO business units to identify o...</td>\n",
       "      <td>http://www.indeed.com/rc/clk?jk=acd08454a8c5a5...</td>\n",
       "      <td>%22test+analyst%22+%22automation%22+%22busines...</td>\n",
       "      <td>2016-06-09</td>\n",
       "    </tr>\n",
       "    <tr>\n",
       "      <th>2</th>\n",
       "      <td>2016-06-19</td>\n",
       "      <td>Business Analyst Change Management,Officer</td>\n",
       "      <td>State Street</td>\n",
       "      <td>Sydney NSW</td>\n",
       "      <td>26 days ago</td>\n",
       "      <td>None</td>\n",
       "      <td>783 reviews</td>\n",
       "      <td>None</td>\n",
       "      <td>Analyse information to determine business risk...</td>\n",
       "      <td>http://www.indeed.com/rc/clk?jk=9522e630f71d08...</td>\n",
       "      <td>%22test+analyst%22+%22automation%22+%22busines...</td>\n",
       "      <td>2016-05-24</td>\n",
       "    </tr>\n",
       "  </tbody>\n",
       "</table>\n",
       "</div>"
      ],
      "text/plain": [
       "  query_date                                    jobtitle   companyname  \\\n",
       "0 2016-06-19                            Business Analyst       Telstra   \n",
       "1 2016-06-19                            Business Analyst         CSIRO   \n",
       "2 2016-06-19  Business Analyst Change Management,Officer  State Street   \n",
       "\n",
       "     location advertised_number_of_days_ago company_rating  \\\n",
       "0  Sydney NSW                    2 days ago           None   \n",
       "1   Australia                   10 days ago           None   \n",
       "2  Sydney NSW                   26 days ago           None   \n",
       "\n",
       "  company_rating_counts                     salary  \\\n",
       "0           238 reviews                       None   \n",
       "1            12 reviews  $92,000 - $100,000 a year   \n",
       "2           783 reviews                       None   \n",
       "\n",
       "                                             summary  \\\n",
       "0  The role requires an individual with a proven ...   \n",
       "1  Liaise with CSIRO business units to identify o...   \n",
       "2  Analyse information to determine business risk...   \n",
       "\n",
       "                                             joblink  \\\n",
       "0  http://www.indeed.com/rc/clk?jk=1903a01e324a52...   \n",
       "1  http://www.indeed.com/rc/clk?jk=acd08454a8c5a5...   \n",
       "2  http://www.indeed.com/rc/clk?jk=9522e630f71d08...   \n",
       "\n",
       "                                    job_query_string advertised_date  \n",
       "0  %22test+analyst%22+%22automation%22+%22busines...      2016-06-17  \n",
       "1  %22test+analyst%22+%22automation%22+%22busines...      2016-06-09  \n",
       "2  %22test+analyst%22+%22automation%22+%22busines...      2016-05-24  "
      ]
     },
     "execution_count": 31,
     "metadata": {},
     "output_type": "execute_result"
    }
   ],
   "source": [
    "df_joblist['advertised_date'] = df_joblist.apply (lambda row: compute_advertised_date(row),axis=1)\n",
    "df_joblist.head(3)"
   ]
  },
  {
   "cell_type": "code",
   "execution_count": 53,
   "metadata": {
    "collapsed": false
   },
   "outputs": [],
   "source": [
    "#df_joblist.advertised_date.value_counts(normalize=True).plot(kind='bar',\n",
    "#                                  title=\"Advertised date\",\n",
    "#                                  color='orange',\n",
    "#                                  align='center')"
   ]
  },
  {
   "cell_type": "markdown",
   "metadata": {},
   "source": [
    "#### Check how many rows have salaries"
   ]
  },
  {
   "cell_type": "code",
   "execution_count": 32,
   "metadata": {
    "collapsed": false
   },
   "outputs": [
    {
     "data": {
      "text/plain": [
       "854"
      ]
     },
     "execution_count": 32,
     "metadata": {},
     "output_type": "execute_result"
    }
   ],
   "source": [
    "df_joblist.salary.isnull().sum()"
   ]
  },
  {
   "cell_type": "code",
   "execution_count": 46,
   "metadata": {
    "collapsed": false
   },
   "outputs": [
    {
     "data": {
      "text/plain": [
       "1000"
      ]
     },
     "execution_count": 46,
     "metadata": {},
     "output_type": "execute_result"
    }
   ],
   "source": [
    "len(df_joblist)"
   ]
  },
  {
   "cell_type": "code",
   "execution_count": 47,
   "metadata": {
    "collapsed": false
   },
   "outputs": [
    {
     "name": "stdout",
     "output_type": "stream",
     "text": [
      "854\n",
      "1000\n"
     ]
    }
   ],
   "source": [
    "print int(df_joblist.salary.isnull().sum())\n",
    "print len(df_joblist)"
   ]
  },
  {
   "cell_type": "markdown",
   "metadata": {},
   "source": [
    "So 80% of jobs don't have salary populated"
   ]
  },
  {
   "cell_type": "code",
   "execution_count": 33,
   "metadata": {
    "collapsed": false
   },
   "outputs": [
    {
     "data": {
      "text/plain": [
       "count                 146\n",
       "unique                 86\n",
       "top       $100,000 a year\n",
       "freq                    6\n",
       "Name: salary, dtype: object"
      ]
     },
     "execution_count": 33,
     "metadata": {},
     "output_type": "execute_result"
    }
   ],
   "source": [
    "df_joblist.salary.describe()"
   ]
  },
  {
   "cell_type": "code",
   "execution_count": null,
   "metadata": {
    "collapsed": true
   },
   "outputs": [],
   "source": []
  }
 ],
 "metadata": {
  "kernelspec": {
   "display_name": "Python2.7_web_scraping",
   "language": "python",
   "name": "web_scraping"
  },
  "language_info": {
   "codemirror_mode": {
    "name": "ipython",
    "version": 2
   },
   "file_extension": ".py",
   "mimetype": "text/x-python",
   "name": "python",
   "nbconvert_exporter": "python",
   "pygments_lexer": "ipython2",
   "version": "2.7.11"
  }
 },
 "nbformat": 4,
 "nbformat_minor": 0
}
