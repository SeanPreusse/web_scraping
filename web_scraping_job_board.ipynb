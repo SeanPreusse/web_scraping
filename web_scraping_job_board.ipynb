{
 "cells": [
  {
   "cell_type": "markdown",
   "metadata": {},
   "source": [
    "Web scraping indeed website for data science jobs based on Greg Reda's [excellent tutorial](http://www.gregreda.com/2013/03/03/web-scraping-101-with-python/) and Jesse Steinweg's [excellent analysis](https://jessesw.com/Data-Science-Skills/) and finally, Sung Pil Moon's [awesome analysis](http://blog.nycdatascience.com/students-work/project-3-web-scraping-company-data-from-indeed-com-and-dice-com/)"
   ]
  },
  {
   "cell_type": "markdown",
   "metadata": {},
   "source": [
    "## 1) Admin and Setup"
   ]
  },
  {
   "cell_type": "markdown",
   "metadata": {},
   "source": [
    "I've already created a virtual environment in conda by downloading bs4. Please feel free to use my environment.yaml to create a similar virtual env. I'll update it as I go."
   ]
  },
  {
   "cell_type": "code",
   "execution_count": 1,
   "metadata": {
    "collapsed": false
   },
   "outputs": [],
   "source": [
    "from bs4 import BeautifulSoup\n",
    "from urllib2 import urlopen\n",
    "import pandas as pd\n",
    "import re\n",
    "import numpy as np"
   ]
  },
  {
   "cell_type": "markdown",
   "metadata": {},
   "source": [
    "## 2) What do I want to achieve"
   ]
  },
  {
   "cell_type": "markdown",
   "metadata": {},
   "source": [
    "http://au.indeed.com/jobs?as_and=&as_phr=&as_any=%22customer+analytics%22+%22data+analysis%22&as_not=&as_ttl=&as_cmp=&jt=all&st=&salary=&radius=50&l=&fromage=any&limit=10&sort=&psf=advsrch\n",
    "\n",
    "OR\n",
    "\n",
    "http://au.indeed.com/jobs?as_and=&as_phr=&as_any=%22customer+analytics%22+%22data+analysis%22&as_not=&as_ttl=&as_cmp=&jt=all&st=&salary=&radius=0&l=Sydney+NSW&fromage=last&limit=10&sort=&psf=advsrch\n",
    "\n",
    "in a nice tabular format for data exploration"
   ]
  },
  {
   "cell_type": "markdown",
   "metadata": {},
   "source": [
    "## 3) String together webpage url based on different parameters"
   ]
  },
  {
   "cell_type": "markdown",
   "metadata": {},
   "source": [
    "Create logic for converting different search parameters such as search query, city, salary etc. as separate lists and then stringing them together into one final query"
   ]
  },
  {
   "cell_type": "markdown",
   "metadata": {},
   "source": [
    "final_query = base_url + job_query_string + company_name + salary + location + fromage"
   ]
  },
  {
   "cell_type": "markdown",
   "metadata": {},
   "source": [
    "#### Base URL"
   ]
  },
  {
   "cell_type": "code",
   "execution_count": 2,
   "metadata": {
    "collapsed": false
   },
   "outputs": [],
   "source": [
    "# start of the url - this will not change because I'm including search query to search\n",
    "# anywhere in the job ad. Not just the job title.\n",
    "base_url = 'http://au.indeed.com/jobs?as_and=&as_phr=&as_any='"
   ]
  },
  {
   "cell_type": "markdown",
   "metadata": {},
   "source": [
    "#### Job query string inputs as parameters are stored in job_query1, 2 and 3. Restrict to only 3 parameters. "
   ]
  },
  {
   "cell_type": "markdown",
   "metadata": {},
   "source": [
    "Step1 - collect 3 search queries<br/>\n",
    "When you refactor this, make sure this is converted into parameters"
   ]
  },
  {
   "cell_type": "code",
   "execution_count": 3,
   "metadata": {
    "collapsed": true
   },
   "outputs": [],
   "source": [
    "job_query1 = 'data scientist'\n",
    "job_query2 = 'customer analytics'\n",
    "job_query3 = 'data analysis'"
   ]
  },
  {
   "cell_type": "markdown",
   "metadata": {},
   "source": [
    "Step2 - create query string in the required format"
   ]
  },
  {
   "cell_type": "code",
   "execution_count": 4,
   "metadata": {
    "collapsed": false
   },
   "outputs": [
    {
     "data": {
      "text/plain": [
       "'%22data+scientist%22+%22customer+analytics%22+%22data+analysis%22'"
      ]
     },
     "execution_count": 4,
     "metadata": {},
     "output_type": "execute_result"
    }
   ],
   "source": [
    "# 1) within search string, spaces are replaced by '+' in html\n",
    "# 2) each search query is preceded and succeeded by a \"%22\"\n",
    "# 3) string the elements of the list into one string separated by a \"+\"\n",
    "job_query_string = []\n",
    "job_query_string.append(\"%22\" + job_query1.replace(\" \",\"+\") + \"%22\")\n",
    "job_query_string.append(\"%22\" + job_query2.replace(\" \",\"+\") + \"%22\")\n",
    "job_query_string.append(\"%22\" + job_query3.replace(\" \",\"+\") + \"%22\")\n",
    "job_query_string = \"+\".join(job_query_string)\n",
    "job_query_string"
   ]
  },
  {
   "cell_type": "markdown",
   "metadata": {},
   "source": [
    "#### Company name, salary, location, fromage - not working on these right now"
   ]
  },
  {
   "cell_type": "code",
   "execution_count": 5,
   "metadata": {
    "collapsed": false
   },
   "outputs": [],
   "source": [
    "company_name=''\n",
    "salary=''\n",
    "location=''\n",
    "fromage='any'"
   ]
  },
  {
   "cell_type": "markdown",
   "metadata": {},
   "source": [
    "#### Create final query"
   ]
  },
  {
   "cell_type": "code",
   "execution_count": 6,
   "metadata": {
    "collapsed": false
   },
   "outputs": [
    {
     "data": {
      "text/plain": [
       "'http://au.indeed.com/jobs?as_and=&as_phr=&as_any=%22data+scientist%22+%22customer+analytics%22+%22data+analysis%22&as_not=&as_ttl=&as_cmp=&jt=all&st=&salary=&radius=50&l=&fromage=any&limit=10&sort=&psf=advsrch'"
      ]
     },
     "execution_count": 6,
     "metadata": {},
     "output_type": "execute_result"
    }
   ],
   "source": [
    "final_query = [base_url,job_query_string,'&as_not=&as_ttl=&as_cmp=',company_name,\n",
    "               '&jt=all&st=&salary=',salary,'&radius=50&l=',location,\n",
    "               '&fromage=',fromage,'&limit=10&sort=&psf=advsrch']\n",
    "final_query = \"\".join(final_query)\n",
    "final_query"
   ]
  },
  {
   "cell_type": "markdown",
   "metadata": {},
   "source": [
    "## 4) Open website and read it"
   ]
  },
  {
   "cell_type": "markdown",
   "metadata": {},
   "source": [
    "Step1: Open the first page <br/>\n",
    "Step2: Get the html of the first page"
   ]
  },
  {
   "cell_type": "code",
   "execution_count": 7,
   "metadata": {
    "collapsed": false
   },
   "outputs": [
    {
     "data": {
      "text/plain": [
       "<!DOCTYPE html>\\n<html>\\n<head>\\n<meta content=\"text/html;charset=unicode-escape\" http-equiv=\"content-type\"/>\\n<!-- pll --><script src=\"/s/567da8a/en_AU.js\" type=\"text/javascript\"></script>\\n<link href=\"/s/a6a334e/jobsearch_all.css\" rel=\"stylesheet\" type=\"text/css\"/>\\n<link href=\"http://au.indeed.com/rss?q=%28%22data+scientist%22+or+%22customer+analytics%22+or+%22data+analysis%22%29\" rel=\"alternate\" title=\"Data Scientist Customer Analytics Data Analysis Jobs\" type=\"application/rss+xml\"/>\\n<link href=\"/m/jobs?q=%28%22data+scientist%22+or+%22customer+analytics%22+or+%22data+analysis%22%29\" media=\"handheld\" rel=\"alternate\"/>\\n<script type=\"text/javascript\">\\n    \\n    window['closureReadyCallbacks'] = [];\\n\\n    function call_when_jsall_loaded(cb) {\\n        if (window['closureReady']) {\\n            cb();\\n        } else {\\n            window['closureReadyCallbacks'].push(cb);\\n        }\\n    }\\n</script>\\n<script src=\"/s/37c105f/jobsearch-all-compiled.js\" type=\"text/javascript\"></script>\\n<script type=\"text/javascript\">\\nvar pingUrlsForGA = [];\\n\\nvar searchUID = '1al4vsf7v82j89q0';\\nvar tk = '1al4vsf7v82j89q0';\\n\\nvar loggedIn = false;\\nvar myindeed = true;\\nvar userEmail = '';\\nvar tellFriendEmail = '';\\nvar globalLoginURL = 'http:\\\\/\\\\/au.indeed.com\\\\/account\\\\/login?dest=%2Fjobs%3Fas_and%3D%26as_phr%3D%26as_any%3D%2522data%2Bscientist%2522%2B%2522customer%2Banalytics%2522%2B%2522data%2Banalysis%2522%26as_not%3D%26as_ttl%3D%26as_cmp%3D%26jt%3Dall%26st%3D%26salary%3D%26radius%3D50%26fromage%3Dany%26limit%3D10%26sort%3D%26psf%3Dadvsrch';\\nvar globalRegisterURL = 'http:\\\\/\\\\/au.indeed.com\\\\/account\\\\/register?dest=%2Fjobs%3Fas_and%3D%26as_phr%3D%26as_any%3D%2522data%2Bscientist%2522%2B%2522customer%2Banalytics%2522%2B%2522data%2Banalysis%2522%26as_not%3D%26as_ttl%3D%26as_cmp%3D%26jt%3Dall%26st%3D%26salary%3D%26radius%3D50%26fromage%3Dany%26limit%3D10%26sort%3D%26psf%3Dadvsrch';\\nvar searchKey = 'f4fa8eb2c5db1019';\\nvar searchState = 'q=%28%22data+scientist%22+or+%22customer+analytics%22+or+%22data+analysis%22%29&amp;sort=&amp;radius=50&amp;fromage=any&amp;limit=10&amp;jt=all&amp;st=';\\nvar searchQS = 'as_and=&as_phr=&as_any=%22data+scientist%22+%22customer+analytics%22+%22data+analysis%22&as_not=&as_ttl=&as_cmp=&jt=all&st=&salary=&radius=50&fromage=any&limit=10&sort=&psf=advsrch';\\nvar eventType = 'jobsearch';\\nvar locale = 'en_AU';\\nfunction clk(id) { var a = document.getElementById(id); var hr = a.href; var si = a.href.indexOf('&jsa='); if (si > 0) return; var jsh = hr + '&tk=1al4vsf7v82j89q0&jsa=6464'; a.href = jsh; }\\nfunction sjomd(id) { var a = document.getElementById(id); var hr = a.href; var ocs = hr.indexOf('&oc=1'); if (ocs < 0) return; var oce = ocs + 5; a.href = hr.substring(0, ocs) + hr.substring(oce); }\\nfunction sjoc(id, sal) { var a = document.getElementById(id); a.href = a.href + '&oc=1&sal='+sal; }\\nfunction ptk(st,p) {document.cookie = 'PTK=\"tk=1al4vsf7v82j89q0&type=jobsearch&subtype='+st+(p?'&'+p:'')+'\"; path=/';}\\nfunction rbptk(st, c, p) { ptk(st, 'cat='+c+(p?'&p='+p:''));}\\n</script>\\n<script type=\"text/javascript\">\\nfunction loadJSAsync( ) {\\nfor ( var i = 0; i < arguments.length; i++ ) {\\nvar url = arguments[i];\\n(function() {\\nvar s = document.createElement(\"script\"), el = document.getElementsByTagName(\"script\")[0];\\ns.async = true;\\ns.src = url;\\nel.parentNode.insertBefore(s, el);\\n})();\\n}\\n}\\n</script>\\n<meta content=\"963  Data Scientist Customer Analytics Data Analysis Vacancies available on Indeed.com.  one search.  all jobs.\" name=\"description\"/>\\n<meta content=\"Data Scientist Customer Analytics Data Analysis Jobs,  careers,  employment,  job listings,  job search,  search engine, work in \" name=\"keywords\"/>\\n<meta content=\"noindex,nofollow\" name=\"robots\"/>\\n<link href=\"/jobs?q=%22data+Scientist%22+%22customer+Analytics%22+%22data+Analysis%22\" rel=\"canonical\"/><link href=\"/jobs?q=%28%22data+scientist%22+or+%22customer+analytics%22+or+%22data+analysis%22%29&amp;radius=50&amp;start=10\" rel=\"next\"/><script type=\"text/javascript\">\\nvar indeedCsrfToken = 'pxIJmQasVP4SoxRReULmcGUI4wadzddz';\\nvar hashedCsrfToken = 'e5f565308089181d0eff5bc00ac84a77';\\n</script>\\n<style type=\"text/css\">\\n.jasxcustomfonttst-useCustomHostedFontFullPage *{font-family:\"Open Sans\", sans-serif !important}.jasxcustomfonttst-useLato *{font-family:\"Lato\", sans-serif !important}.jasxcustomfonttst-useFira *{font-family:\"Fira Sans\", sans-serif !important}\\n</style>\\n<style type=\"text/css\">\\n#resultsCol { padding-top: 0; }\\n.searchCount { margin-top: 6px; }\\n.showing { padding-top: 9px; padding-bottom: 9px; }\\n\\n.brdr { height: 1px; overflow: hidden; background-color: #ccc; }\\n\\n#bjobalerts { margin-top: 0; }\\n\\n/* Tall window sizes */\\n@media only screen and (min-height:780px){\\n.showing { padding-bottom: 0; }\\n}\\n\\n/* Wide window sizes */\\n@media only screen and (min-width:1125px){\\n.brdr  { margin-left: 12px; margin-right: 12px; }\\n}\\n\\na,a:link,.link,.btn,.btn:hover{text-decoration:none}a:hover,.link:hover{text-decoration:underline}.dya-container a{text-decoration:underline !important}</style>\\n<script>\\nfunction onLoadHandler() {\\n\\ndocument.js.reset();\\njobSeenInit('1al4vsf7v82j89q0');\\n\\nif ( document.radius_update ) { document.radius_update.reset(); }\\n\\n}\\n\\ninitLogInitialUserInteraction('1al4vsf7v82j89q0', 'serp');\\n\\nwindow.onload = onLoadHandler;\\n</script>\\n<title>Data Scientist Customer Analytics Data Analysis Jobs\\n|\\nIndeed.com</title>\\n<style type=\"text/css\">\\n.btn,.sg-btn{display:inline-block;padding:9px 15px;border:1px solid #9a99ac;border-bottom-color:#a2a2a2;-webkit-border-radius:6px;-moz-border-radius:6px;-ms-border-radius:6px;-o-border-radius:6px;border-radius:6px;background-color:#D9D9E2;background-image:-moz-linear-gradient(top, #f8f8f9, #D9D9E2);background-image:-webkit-gradient(linear, 0 0, 0 100%, from(#f8f8f9), to(#D9D9E2));background-image:-webkit-linear-gradient(top, #f8f8f9, #D9D9E2);background-image:linear-gradient(to bottom, #f8f8f9, #D9D9E2);background-repeat:repeat-x;-webkit-box-shadow:0 1px 5px rgba(0,0,0,0.2);-moz-box-shadow:0 1px 5px rgba(0,0,0,0.2);-ms-box-shadow:0 1px 5px rgba(0,0,0,0.2);-o-box-shadow:0 1px 5px rgba(0,0,0,0.2);box-shadow:0 1px 5px rgba(0,0,0,0.2);color:#333;vertical-align:middle;text-align:center;text-decoration:none;text-shadow:0 1px #fff;font-weight:700;font-size:16px;font-family:\"Helvetica Neue\",Helvetica,Arial,\"Lucida Grande\",sans-serif;line-height:22px;filter:progid:DXImageTransform.Microsoft.gradient(startColorstr='#fff8f8f9', endColorstr='#ffe6e6e6', GradientType=0);cursor:pointer;-webkit-user-select:none;-moz-user-select:none;-ms-user-select:none;-o-user-select:none;user-select:none;-webkit-touch-callout:none;-webkit-highlight:none;-webkit-tap-highlight-color:transparent;text-overflow:ellipsis;white-space:nowrap;overflow:hidden}.btn.active,.btn.sg-active,.btn:active,.btn.disabled,.btn.sg-disabled,.btn[disabled],.sg-btn.active,.sg-btn.sg-active,.sg-btn:active,.sg-btn.disabled,.sg-btn.sg-disabled,.sg-btn[disabled]{outline:none;background-color:#f8f8f9;color:#333}.btn:focus,.sg-btn:focus{outline:0;box-shadow:0 0 1px 0 #1642bb;-webkit-transition:box-shadow 0.2s linear;-moz-transition:box-shadow 0.2s linear;transition:box-shadow 0.2s linear}.btn.active,.btn.sg-active,.btn:active,.sg-btn.active,.sg-btn.sg-active,.sg-btn:active{background-color:#f8f8f9;background-image:none;-webkit-box-shadow:inset 0 2px 4px rgba(0,0,0,0.15),0 1px 2px rgba(0,0,0,0.05);-moz-box-shadow:inset 0 2px 4px rgba(0,0,0,0.15),0 1px 2px rgba(0,0,0,0.05);box-shadow:inset 0 2px 4px rgba(0,0,0,0.15),0 1px 2px rgba(0,0,0,0.05)}.btn.disabled,.btn.sg-disabled,.btn[disabled],.sg-btn.disabled,.sg-btn.sg-disabled,.sg-btn[disabled]{background-color:#f8f8f9;background-image:none;-webkit-box-shadow:none;-moz-box-shadow:none;box-shadow:none;opacity:.65;filter:alpha(opacity=65);cursor:default}.btn-primary,.sg-btn-primary{border-color:#1642bb;background-color:#5585f2;background-image:-moz-linear-gradient(top, #6598ff, #2e5ad7);background-image:-webkit-gradient(linear, 0 0, 0 100%, from(#6598ff), to(#2e5ad7));background-image:-webkit-linear-gradient(top, #6598ff, #2e5ad7);background-image:linear-gradient(to bottom, #6598ff, #2e5ad7);background-repeat:repeat-x;color:#F8F8F9;text-shadow:0 -1px #0f2299;-ms-filter:progid:DXImageTransform.Microsoft.dropshadow(OffX=0, OffY=-1, Color=#e80f2299, Positive=true);filter:progid:DXImageTransform.Microsoft.dropshadow(OffX=0, OffY=-1, Color=#e80f2299, Positive=true);filter:progid:DXImageTransform.Microsoft.gradient(startColorstr='#ff6598fe', endColorstr='#ff3c69e0', GradientType=0);zoom:1}.btn-primary.active,.btn-primary.sg-active,.btn-primary:active,.btn-primary.disabled,.btn-primary.sg-disabled,.btn-primary[disabled],.sg-btn-primary.active,.sg-btn-primary.sg-active,.sg-btn-primary:active,.sg-btn-primary.disabled,.sg-btn-primary.sg-disabled,.sg-btn-primary[disabled]{background-color:#2e5ad7;color:#F8F8F9}.btn-primary:focus,.sg-btn-primary:focus{box-shadow:0 0 1px 0 #000}.btn-special,.sg-btn-special{border-color:#ba3200;background-color:#5585f2;background-image:-moz-linear-gradient(top, #f60, #f14200);background-image:-webkit-gradient(linear, 0 0, 0 100%, from(#f60), to(#f14200));background-image:-webkit-linear-gradient(top, #f60, #f14200);background-image:linear-gradient(to bottom, #f60, #f14200);background-repeat:repeat-x;color:#F8F8F9;text-shadow:0 -1px #000;-ms-filter:progid:DXImageTransform.Microsoft.dropshadow(OffX=0, OffY=-1, Color=#e80f2299, Positive=true);filter:progid:DXImageTransform.Microsoft.dropshadow(OffX=0, OffY=-1, Color=#e80f2299, Positive=true);filter:progid:DXImageTransform.Microsoft.gradient(startColorstr='#ff6598fe', endColorstr='#ff3c69e0', GradientType=0);zoom:1}.btn-special.active,.btn-special.sg-active,.btn-special:active,.btn-special.disabled,.btn-special.sg-disabled,.btn-special[disabled],.sg-btn-special.active,.sg-btn-special.sg-active,.sg-btn-special:active,.sg-btn-special.disabled,.sg-btn-special.sg-disabled,.sg-btn-special[disabled]{background-color:#f14200;color:#F8F8F9}.btn-special:focus,.sg-btn-special:focus{box-shadow:0 0 1px 0 #000}.btn-danger,.sg-btn-danger{border-color:#83121b;background-color:#5585f2;background-image:-moz-linear-gradient(top, #d1787f, #b01825);background-image:-webkit-gradient(linear, 0 0, 0 100%, from(#d1787f), to(#b01825));background-image:-webkit-linear-gradient(top, #d1787f, #b01825);background-image:linear-gradient(to bottom, #d1787f, #b01825);background-repeat:repeat-x;color:#F8F8F9;text-shadow:0 -1px #000;-ms-filter:progid:DXImageTransform.Microsoft.dropshadow(OffX=0, OffY=-1, Color=#e80f2299, Positive=true);filter:progid:DXImageTransform.Microsoft.dropshadow(OffX=0, OffY=-1, Color=#e80f2299, Positive=true);filter:progid:DXImageTransform.Microsoft.gradient(startColorstr='#ff6598fe', endColorstr='#ff3c69e0', GradientType=0);zoom:1}.btn-danger.active,.btn-danger.sg-active,.btn-danger:active,.btn-danger.disabled,.btn-danger.sg-disabled,.btn-danger[disabled],.sg-btn-danger.active,.sg-btn-danger.sg-active,.sg-btn-danger:active,.sg-btn-danger.disabled,.sg-btn-danger.sg-disabled,.sg-btn-danger[disabled]{background-color:#b01825;color:#F8F8F9}.btn-danger:focus,.sg-btn-danger:focus{box-shadow:0 0 1px 0 #000}input.btn,input.sg-btn{-webkit-appearance:none}button.btn::-moz-focus-inner,button.sg-btn::-moz-focus-inner{border:0}.btn-sm,.sg-btn-sm,.btn-xs,.sg-bt-xs{padding:6px 12px}.btn-xs,.sg-btn-xs{padding:3px 6px;line-height:15px}.btn-md,.sg-btn-md{padding:6px 6px}.btn-lg,.sg-btn-lg{padding:9px 18px;border-radius:6px;font-size:18px}.btn-block,.sg-btn-block{display:block;margin:9px auto;-webkit-box-sizing:border-box !important;-moz-box-sizing:border-box !important;box-sizing:border-box !important;max-width:352px}.btn-block-compact,.sg-btn-block-compact{margin:2px auto}input.btn-block,input.sg-btn-block,button.btn-block,button.sg-btn-block{width:100%;max-width:351px}.btn-block+.btn-block,.sg-btn-block+.sg-btn-block{margin-top:5px}#buttonContainer .btn,#buttonContainer .sg-btn{margin:0}.btn-icon .cssImage{margin-bottom:-40px;position:relative;top:-27px}.btn-pair{-webkit-box-sizing:border-box !important;-moz-box-sizing:border-box !important;box-sizing:border-box !important;width:49%}#refineresultscol{width:184px}#refineresults{width:180px}#branding-td{width:186px;text-align:center}.ltr #searchCount{margin-right:4px;margin-left:4px}.ltr #resultsCol .sorting{padding-right:4px}.ltr #resultsCol .showing{padding-left:4px}.ltr #jobsearch{padding-left:4px}.rtl #searchCount{margin-left:4px;margin-right:4px}.rtl #resultsCol .sorting{padding-left:4px}.rtl #resultsCol .showing{padding-right:4px}.rtl #jobsearch{padding-right:4px}.jaui,.hasu .gasc,.row,.message,.oocs{padding-left:4px;padding-right:4px}#resumePromo{padding-left:4px;padding-right:4px}#primePromo{padding-left:4px;padding-right:4px}@media only screen and (min-width: 1125px){.ltr #refineresults{padding-left:15px}.ltr #branding img{margin-left:16px;margin-right:28px}.rtl #refineresults{padding-right:15px}.rtl #branding img{margin-right:16px;margin-left:28px}.ltr #searchCount{margin-right:12px;margin-left:12px}.ltr #resultsCol .sorting{padding-right:12px}.ltr #resultsCol .showing{padding-left:12px}.ltr #jobsearch{padding-left:12px}.rtl #searchCount{margin-left:12px;margin-right:12px}.rtl #resultsCol .sorting{padding-left:12px}.rtl #resultsCol .showing{padding-right:12px}.rtl #jobsearch{padding-right:12px}.jaui,.hasu .gasc,.row,.message,.oocs{padding-left:12px;padding-right:12px}#resumePromo{padding-left:12px;padding-right:12px}#primePromo{padding-left:12px;padding-right:12px}#serpBody{width:1125px}#refineresultscol,#branding-td{width:225px}#refineresults{width:210px}}@media only screen and (min-width: 1250px){#serpBody{width:1250px}#auxCol{width:315px}#refineresultscol,#branding-td{width:275px}#refineresults{width:260px}.ltr #refineresults{padding-left:15px}.ltr #branding img{margin-left:16px;margin-right:28px}.rtl #refineresults{padding-right:15px}.rtl #branding img{margin-right:16px;margin-left:28px}.ltr #searchCount{margin-right:12px;margin-left:12px}.ltr #resultsCol .sorting{padding-right:12px}.ltr #resultsCol .showing{padding-left:12px}.ltr #jobsearch{padding-left:12px}.rtl #searchCount{margin-left:12px;margin-right:12px}.rtl #resultsCol .sorting{padding-left:12px}.rtl #resultsCol .showing{padding-right:12px}.rtl #jobsearch{padding-right:12px}.jaui,.hasu .gasc,.row,.message,.oocs{padding-left:12px;padding-right:12px}#resumePromo{padding-left:12px;padding-right:12px}#primePromo{padding-left:12px;padding-right:12px}}#branding-td{padding:5px 0 5px 0px}\\n</style>\\n</head>\\n<style type=\"text/css\">\\n#branding {\\nvertical-align:top;\\ndisplay: inline-block;\\nheight: 46px;\\noverflow: hidden;\\nmargin-top: 6px;\\nmargin-bottom: 26px;\\n}\\n</style>\\n<body class=\"ltr jasxcustomfonttst-inactive\" data-tn-application=\"jasx\" data-tn-olth=\"9d2bcadf63a72746e920e0ea88bc9d14\" data-tn-originlogid=\"1al4vsf7v82j89q0\" data-tn-originlogtype=\"jobsearch\">\\n<style type=\"text/css\">\\nbody { margin-top: 0; margin-left: 0; margin-right: 0; padding-top: 0; padding-right: 0; padding-left: 0; }\\n\\n#g_nav { border-bottom:1px solid #ccc; margin-bottom: 9px; }\\n\\n#g_nav a,\\n#g_nav a:visited { color: #00c; }\\n\\n.navBi { display: -moz-inline-box; display: inline-block; padding: 9px 12px; margin: 0; list-style-type: none; }\\n</style>\\n<div data-tn-section=\"globalNav\" id=\"g_nav\">\\n<table cellpadding=\"0\" cellspacing=\"0\" width=\"100%\">\\n<tr>\\n<td nowrap=\"\"><style type=\"text/css\">\\n#p_nav a.selected { font-weight: bold; text-decoration:none; color: #000 !important; }\\n</style>\\n<div id=\"p_nav\"><span class=\"navBi\"><a class=\"selected\" href=\"/\" id=\"jobsLink\" title=\"Jobs\">Find Jobs</a></span><span class=\"navBi\"><a href=\"http://www.indeed.com/resumes?co=AU&amp;sp=0&amp;isid=find-resumes-AU&amp;ikw=SERPtop&amp;hl=en\" id=\"rezLink\" rel=\"nofollow\">Find Resumes</a></span><span class=\"navBi\"><a href=\"/hire?hl=en&amp;cc=AU\" id=\"empLink\" onclick=\"if ( this.href.match('&amp;isid=employerlink-AU-test&amp;ikw=SERPtop') == null ) { this.href += '&amp;isid=employerlink-AU-test&amp;ikw=SERPtop' };\">Employers / Post Job</a></span></div>\\n</td>\\n<td align=\"right\" nowrap=\"\"><style type=\"text/css\">\\n\\n\\n#navpromo a,\\n#navpromo a:visited {\\ncolor: #f60;\\n}\\n.resume-promo .ico {\\nbackground: url(\"data:image/png;base64,iVBORw0KGgoAAAANSUhEUgAAABIAAAAYCAMAAADAi10DAAAAA3NCSVQICAjb4U/gAAAAdVBMVEX////x7/3v7vjl4vXj4PTi3/Lg3fHf2/Dd2u7c2O3a1+vZ1erX0+nW0ufU0ObSz+TRzePPy+LOyuDMyN+uqt+lpeaIiNojI84gIMoeHsccHMQaGsEXF74VFbsTE7gREbQODrEMDK4KCqsICKgFBaQDA6EBAZ54rl54AAAACXBIWXMAAArrAAAK6wGCiw1aAAAAHHRFWHRTb2Z0d2FyZQBBZG9iZSBGaXJld29ya3MgQ1M1cbXjNgAAABV0RVh0Q3JlYXRpb24gVGltZQA5LzEzLzExzT7gEAAAAIJJREFUGNOt0LsOgkAQRuFzkGhP5Ob7PxsmaCy5KDEWC0vEQgv/avPN7M5mzNkm5bqRY0ry2eX/6c5+Q2PO5RAoQdWx0GJUdaahVC2HlfpKVat+oa52Tt1peP4MJ6ABDBMzuAmQwSPQFKowxS4W8u2rX8jdSuGYtkR6tvPFleImfqEXCDYV9f9Fn8cAAAAASUVORK5CYII=\");width:18px; height:24px; margin-top: -3px;\\nvertical-align: middle;\\ndisplay: inline-block;\\n}\\n\\n.resume-promo .new-ico {\\nbackground: url(\"data:image/png;base64,iVBORw0KGgoAAAANSUhEUgAAABAAAAATCAMAAACuuX39AAAABGdBTUEAALGPC/xhBQAAACBjSFJNAAB6JgAAgIQAAPoAAACA6AAAdTAAAOpgAAA6mAAAF3CculE8AAAArlBMVEUAAAAAAMwAAM0AAM4AAM4AAMwAAM0AAM0AAM0AAM0AAMwAAMwAAM4AAMwAAMwAAM4AAMwAAMwAAM8AAM0AAMwAAMwAAMwAAMwAAM8AAMwAAMwAAM4AAMwAAMwAAM0AAMwAAMwAAMwAAMwAAMwAAMwAAMwAAMwAAM0AAM0AAM0AAM0AAM0AAMwAAMwAAMwAAMwAAMwAAMwAAMwAAMwAAMwAAMwAAMwAAMwAAMz////mwGUNAAAAM3RSTlMAAAAAAAAAAAAADowNhPUOifYPjfcRkPgSlPkYmfxru8G/3BAREAx6cXFzO4WGhUtLS/MxCxrLAAAAAWJLR0Q51wCVQAAAAAd0SU1FB+AFCxIoIcvncLkAAACsSURBVBjTjY7JEoIwEAWHRXZQUJEdVBQUwSUJ8P9fZgLogfJgn9JdU68CwOA0Xdc4+MIbpmWZBv9xYbmyEbJXS2F00VlvEMZos3ZE5outu6NOy87dLgAkzw8GpyXwPQnCKEZkvCAojkJI0mx/aNlGe9hnaQLH/HQuOoIx6YrzKT+yWbnsWehLefqHfBnD5f+gXMfRqzIFtbrVTVPfKhV+cac8ngMP9obXDMAz3umvIW9T/HsIAAAAJXRFWHRkYXRlOmNyZWF0ZQAyMDE2LTA1LTExVDE4OjQwOjMzLTA0OjAwjkX6igAAACV0RVh0ZGF0ZTptb2RpZnkAMjAxNi0wNS0xMVQxODo0MDozMy0wNDowMP8YQjYAAAAASUVORK5CYII=\");\\nwidth:16px;\\nheight:19px;\\nmargin-top: -3px;\\ndisplay: inline-block;\\nvertical-align: middle;\\n}\\n\\n\\n#u_nav .login_unconfirmed,\\n#u_nav .login_unconfirmed a,\\n#u_nav .login_unconfirmed a:visited {\\ncolor: #c00\\n}\\n\\n#u_nav .resume_pending,\\n#u_nav .resume_pending a,\\n#u_nav .resume_pending a:visited {\\ncolor: #c00\\n}\\n\\n#userOptionsLabel {\\nposition: relative;\\nz-index: 5;\\n}\\n\\n#userOptionsLabel b {\\ncursor: pointer;\\ntext-decoration: underline;\\nposition: relative;\\nz-index: 5;\\n}\\n\\n#userOptionsLabel:active {\\noutline: none;\\n}\\n\\n#userOptionsLabel.active {\\npadding: 9px 11px;\\nmargin-bottom: -1px;\\n_margin-bottom: 0px;\\nborder: 1px solid #ccc;\\nborder-top: 0;\\n}\\n\\n#userOptionsLabel.active b {\\ncolor: #666;\\n}\\n\\n#userOptionsLabel.active .arrowStub {\\nborder-width: 0 3px 3px;\\n_border-width: 0px 3px 4px;\\nborder-color: transparent;\\nborder-bottom-color: #666;\\ntop: -2px;\\nborder-style: dashed dashed solid;\\n}\\n\\n#userOptionsLabel.active .halfPxlFix {\\nbackground: #fff;\\nbottom: -3px;\\nheight: 6px;\\nleft: 0;\\nposition: absolute;\\nright: 0;\\nborder: 1px solid #fff;\\n}\\n\\n.arrowStub {\\nposition: relative;\\nborder-style: solid dashed dashed;\\nborder-color: transparent;\\nborder-top-color: #666;\\ndisplay: -moz-inline-box;\\ndisplay: inline-block;\\nfont-size: 0;\\nheight: 0;\\nline-height: 0;\\nwidth: 0;\\nleft: 4px;\\nborder-width: 3px 3px 0px;\\npadding-top: 1px;\\ntop: -1px;\\n}\\n\\n#userOptions {\\nz-index: 2;\\nvisibility: hidden;\\nposition: absolute;\\nright: 0;\\nx_right: -1px;\\ntop: 100%;\\npadding: 9px 15px;\\nborder: 1px solid #ccc;\\nbackground: #fff;\\nmin-width: 150px;\\n_width: 150px;\\ntext-align: left;\\n}\\n\\n#userOptions.open {\\nvisibility: visible;\\n}\\n\\n.userOptionItem {\\nmargin: 6px 0;\\n}\\n\\n.userOptionItem a {\\nwhite-space: nowrap;\\n}\\n\\n.userOptionGroup {\\nborder-top: 1px solid #e8e8e8;\\nmargin-top: 12px;\\n}\\n\\n.userNameRepeat {\\ncolor: #a8a8a8;\\npadding-right: 48px;\\nfont-weight: bold;\\n}\\n\\n</style>\\n<div id=\"u_nav\">\\n<script type=\"text/javascript\">\\nfunction isUserOptionsOpen() {\\nreturn document.getElementById('userOptions').className == 'open';\\n}\\n\\nfunction hideUserOptions(label, options) {\\noptions.className = '';\\nlabel.className = 'navBi';\\n}\\n\\nfunction toggleUserOptions(e) {\\nvar options = document.getElementById('userOptions');\\nvar label = document.getElementById('userOptionsLabel');\\nif (isUserOptionsOpen()) {\\nhideUserOptions(label, options);\\nif (!e.keyCode) {\\nlabel.blur();\\n}\\n} else {\\noptions.className = 'open';\\nlabel.className = 'navBi active';\\ndocument.onclick = function() {\\nhideUserOptions(label, options);\\ndocument.onclick = function() {\\n};\\n};\\nif (e.keyCode && e.keyCode == 13) {\\nvar fL = gbid('userOptions').getElementsByTagName('a')[0];\\nif (fL) {\\nfL.focus();\\n}\\n}\\nelse {\\nlabel.blur();\\n}\\n}\\nstopPropagation(e);\\n\\n}\\n\\nfunction stopPropagation(e) {\\nvar e = e || window.event;\\ne.stopPropagation ? e.stopPropagation() : e.cancelBubble = true;\\n}\\n\\n</script>\\n<script>\\n\\nfunction regExpEscape(s) {\\n    return String(s).replace(/([-()\\\\[\\\\]{}+?*.$\\\\^|,:#<!\\\\\\\\])/g, '\\\\\\\\$1').\\n            replace(/\\\\x08/g, '\\\\\\\\x08');\\n}\\n\\n\\nfunction appendParamsOnce(url, params) {\\n    var useParams = params.replace(/^(\\\\?|\\\\&)/, '');\\n    if (url.match(new RegExp('[\\\\\\\\?|\\\\\\\\&]' + regExpEscape(useParams))) == null) {\\n        return url += (url.indexOf('?') > 0 ? '&' : '?' ) + useParams;\\n    }\\n    return url;\\n}\\n\\n</script>\\n<div id=\"user_actions\">\\n<span class=\"navBi\"><span class=\"resume-promo\" id=\"navpromo\">\\n<a href=\"/promo/resume\" onclick=\"window.location=this.href + '?from=nav&amp;subfrom=rezprmstd&amp;trk.origin=jobsearch&amp;trk.variant=rezprmstd&amp;trk.tk=1al4vsf7v82j89q0'; return false;\">Upload your resume</a>\\n</span></span>\\n<span class=\"navBi\"><a href=\"http://au.indeed.com/account/login?dest=%2Fjobs%3Fas_and%3D%26as_phr%3D%26as_any%3D%2522data%2Bscientist%2522%2B%2522customer%2Banalytics%2522%2B%2522data%2Banalysis%2522%26as_not%3D%26as_ttl%3D%26as_cmp%3D%26jt%3Dall%26st%3D%26salary%3D%26radius%3D50%26fromage%3Dany%26limit%3D10%26sort%3D%26psf%3Dadvsrch\" id=\"userOptionsLabel\" rel=\"nofollow\">Sign in</a></span>\\n</div>\\n</div>\\n</td>\\n</tr>\\n</table>\\n</div>\\n<style type=\"text/css\">\\n#branding img { border: 0; }\\n#jobsearch { margin: 0 }\\n.inwrap { border-right: 1px solid #e8e8e8;border-bottom: 1px solid #e8e8e8;display:inline-block; }\\n.inwrap input { box-sizing: border-box; margin:0; height: 30px; font-family:Arial,sans-serif;border:1px solid #ccc;border-bottom-color:#aaa;border-right-color:#aaa; -webkit-border-radius: 0; -webkit-appearance: none; }\\n.inwrap .input_text { font-size:18px;padding:3px 6px;_margin: -1px 0; }\\n.inwrap .input_submit {color:#614041;font-size:15px;height:30px;background: #e8e8e8; padding:3px 9px;cursor:pointer;_padding:3px;}\\n.inwrap .input_submit:active { background: #ccc; }\\n.lnav  {width:100%;line-height:1;;font-size:10pt;}\\n.jsf .label {font-size:12px; line-height:1.2;padding-top:0;color:#aaa;font-weight:normal;white-space:nowrap;padding-right:1.5em}\\n.jsf .label label {font-weight:normal}\\n.jsf .sl { font-size: 11px; color: #77c; white-space: nowrap; }\\n.npb { padding-bottom: 0; color: #f60; text-transform: lowercase;font-weight:bold; }\\n.npl { padding-left: 0 }\\n\\n.acd { border: 1px solid #333; background: #fff; position:absolute; width:100%; z-index: 1; }\\n.aci { font-size: 18px; padding:1px 6px; cursor:pointer; }\\n.acis { background:#36c; color:#fff; }\\n\\n#tjobalerts .ws_label,\\n#bjobalerts .ws_label,\\n#tjobalerts .member,\\n#bjobalerts .member{ z-index: 1; }\\n#acr td { padding-top:0; padding-bottom:0; }\\n#acr td .h { display:none; }\\n\\n#what { width: 280px; }\\n#where { width: 260px; }\\n.inwrapBorder{border:1px solid #1c4ed9;border-top-color:#2f62f1;border-bottom-color:#133fbb;display:inline-block;width:auto}.inwrapBorderTop{border-top:1px solid #69F;display:inline-block;background-color:#3163f2;filter:progid:DXImageTransform.Microsoft.gradient(startColorstr='#3163F2',endColorstr='#2B57D5');background:-webkit-gradient(linear,left top,left bottom,from(#3163f2),to(#2b57d5));background:-moz-linear-gradient(top,#3163f2,#2b57d5);background:linear-gradient(top,#3163f2,#2b57d5)}.inwrapBorder .input_submit{background:transparent;border:0;color:#fff;font-family:Arial;font-size:15px;margin:0;padding:4px 9px;cursor:pointer;_padding:3px}.inwrapBorder a.input_submit{text-decoration:none;display:block}.inwrapBorder:hover{border-color:#235af6;border-top-color:#4072ff;border-bottom-color:#1e4fd9}.inwrapBorderTop:hover{border-top-color:#7ba7ff;background-color:#4273ff;filter:progid:DXImageTransform.Microsoft.gradient(startColorstr='#4273ff',endColorstr='#3364f1');background:-webkit-gradient(linear,left top,left bottom,from(#4273ff),to(#3364f1));background:-moz-linear-gradient(top,#4273ff,#3364f1);background:linear-gradient(top,#4273ff,#3364f1)}.inwrapBorder:active{border-color:#536db7;border-top-color:#4b69c1;border-bottom-color:#3753a6}.inwrapBorder:active .inwrapBorderTop{border-top-color:#6c82c1;background-color:#4b69c1;filter:progid:DXImageTransform.Microsoft.gradient(startColorstr='#4b69c1',endColorstr='#3753a6');background:-webkit-gradient(linear,left top,left bottom,from(#4b69c1),to(#3753a6));background:-moz-linear-gradient(top,#4b69c1,#3753a6);background:linear-gradient(top,#4b69c1,#3753a6)}.roundedCorner{display:inline-block;zoom:1;*display:inline;vertical-align:baseline;margin:0 2px;outline:0;cursor:pointer;text-align:center;text-decoration:none;font:15px/100% Arial,Helvetica,sans-serif;padding:.5em 2em .55em;text-shadow:0 1px 1px rgba(0,0,0,.3);-webkit-border-radius:.5em;-moz-border-radius:.5em;border-radius:.5em;-webkit-box-shadow:0 1px 2px rgba(0,0,0,.2);-moz-box-shadow:0 1px 2px rgba(0,0,0,.2);box-shadow:0 1px 2px rgba(0,0,0,.2)}.roundedCorner:hover{text-decoration:none}.roundedCorner:active{position:relative;top:1px}.bigrounded{-webkit-border-radius:2em;-moz-border-radius:2em;border-radius:2em}.medium{font-size:12px;padding:.4em 1.5em .42em}.small{font-size:11px;padding:.2em 1em .275em}.indeedblue{color:#d9eef7;border:solid 1px #1c4ed9;background:#3163f2;background:-webkit-gradient(linear,left top,left bottom,from(#2f62f1),to(#133fbb));background:-moz-linear-gradient(top,#2f62f1,#133fbb);filter:progid:DXImageTransform.Microsoft.gradient(startColorstr='#2F62F1',endColorstr='#133FBB')}.indeedblue:hover{background:#235af6;background:-webkit-gradient(linear,left top,left bottom,from(#4072ff),to(#1e4fd9));background:-moz-linear-gradient(top,#4072ff,#1e4fd9);filter:progid:DXImageTransform.Microsoft.gradient(startColorstr='#4072ff',endColorstr='#1e4fd9')}.indeedblue:active{color:#d9eef7;background:-webkit-gradient(linear,left top,left bottom,from(#4b69c1),to(#3753a6));background:-moz-linear-gradient(top,#4b69c1,#3753a6);filter:progid:DXImageTransform.Microsoft.gradient(startColorstr='#4b69c1',endColorstr='#3753a6')}</style>\\n<table border=\"0\" cellpadding=\"0\" cellspacing=\"0\"><tr><td width=\"1125\"><table cellpadding=\"0\" cellspacing=\"0\" class=\"lnav\">\\n<tr>\\n<td id=\"branding-td\" style=\"vertical-align:top;\"><a href=\"/\" id=\"branding\" onmousedown=\"ptk('logo');\"><img alt=\"one search. all jobs. Indeed\" height=\"72\" src=\"/images/indeed_en_AU.png\" style=\"margin-bottom:6px;display:block\" width=\"175\"/></a></td>\\n<td style=\"padding-top:3px;\" valign=\"top\">\\n<form action=\"/jobs\" class=\"jsf\" id=\"jobsearch\" method=\"get\" name=\"js\" onsubmit=\"formptk('topsearch','where_ac','',['where_ac'], ptk);\">\\n<table align=\"left\" cellpadding=\"3\" cellspacing=\"0\">\\n<tr>\\n<td class=\"npb\"><label for=\"what\">What:</label></td>\\n<td class=\"npb\" colspan=\"3\"><label for=\"where\">Where:</label></td>\\n</tr>\\n<tr>\\n<td class=\"npl epr\"><span class=\"inwrap\"><input class=\"input_text\" id=\"what\" maxlength=\"512\" name=\"q\" size=\"31\" value='(\"data scientist\" or \"customer analytics\" or \"data analysis\")'/></span><div style=\"width:250px\"><!-- --></div></td>\\n<td class=\"npl epr\"><span class=\"inwrap\"><input class=\"input_text\" id=\"where\" maxlength=\"45\" name=\"l\" size=\"27\" value=\"\"/></span><div style=\"width:200px\"><!-- --></div></td>\\n<td class=\"npl\" style=\"width:1px\"><span class=\"inwrapBorder\" style=\"width:auto;padding-right:0;\"><span class=\"inwrapBorderTop\"><input class=\"input_submit\" id=\"fj\" type=\"submit\" value=\"Find Jobs\"/></span></span></td>\\n<td class=\"npl advanced-search\" style=\"width:240px;\"><div style=\"margin-left:12px; \"><a class=\"sl\" href=\"/advanced_search?q=%28%22data+scientist%22+or+%22customer+analytics%22+or+%22data+analysis%22%29\">Advanced Job Search</a></div></td>\\n</tr>\\n<tr id=\"acr\">\\n<td><span class=\"h\">\\xa0</span></td>\\n<td class=\"npl\" colspan=\"2\"><div style=\"position:relative;z-index:2\"><div class=\"acd\" id=\"acdiv\" style=\"display:none;\"></div></div></td>\\n<td><span class=\"h\">\\xa0</span></td>\\n</tr>\\n<tr valign=\"baseline\">\\n<td class=\"label\" id=\"what_label_cell\">\\n<label for=\"what\" id=\"what_label\">job title, keywords or company</label>\\n</td>\\n<td class=\"label\" colspan=\"3\" id=\"where_label_cell\">\\n<label for=\"where\" id=\"where_label\">city, state/territory or postcode</label>\\n</td>\\n</tr>\\n</table>\\n<input name=\"radius\" type=\"hidden\" value=\"50\"/></form>\\n</td>\\n</tr>\\n</table>\\n</td></tr></table>\\n<script type=\"text/javascript\">\\n\\n        initAutocomplete('where_ac', gbid('where'), gbid('acdiv'), '/rpc/suggest?from=serp&tk=1al4vsf7v82j89q0', function() { formptk('topsearch','where_ac', '', ['where_ac'], ptk); }, gbid('where'));\\n        </script>\\n<script type=\"text/javascript\">\\nfunction rclk(el,jobdata,oc,sal) { var ocstr = oc ? '&onclick=1' : ''; document.cookie='RCLK=\"jk='+jobdata.jk+'&tk=1al4vsf7v82j89q0&from=web&rd='+jobdata.rd+'&qd=7tdTJLF8oc4dPpT7T_zGvG2rxQ8g7QnuoKwEiTLuh53rBw0Pm6_ZDyKeamO6gd1AocxxRqhFvDBcjoOYKR0ghGqxykNofB72AeNk1LFEIG1C0EgYtBcshQ_qiJ_kJb66NS999Pu5hfsu-kakzrqIy7jRLi1T1xv-naI0pP9FFOqVbYwjtYnmD3m3kXgx9x6_Wm8BCZo2Br-7I8YKzNICfA&ts=1465825246463&sal='+sal+ocstr+'\"; path=/'; return true;}\\nfunction zrprclk(el,jobdata,oc) { var ocstr = oc ? '&onclick=1' : ''; document.cookie='RCLK=\"jk='+jobdata.jk+'&tk=1al4vsf7v82j89q0&from=reconzrp&rd='+jobdata.rd+'&qd=7tdTJLF8oc4dPpT7T_zGvG2rxQ8g7QnuoKwEiTLuh53rBw0Pm6_ZDyKeamO6gd1AocxxRqhFvDBcjoOYKR0ghGqxykNofB72AeNk1LFEIG1C0EgYtBcshQ_qiJ_kJb66NS999Pu5hfsu-kakzrqIy7jRLi1T1xv-naI0pP9FFOqVbYwjtYnmD3m3kXgx9x6_Wm8BCZo2Br-7I8YKzNICfA&ts=1465825246463'+ocstr+'\"; path=/'; return true;}\\nfunction prjbottomclk(el,jobdata,oc) { var ocstr = oc ? '&onclick=1' : ''; document.cookie='RCLK=\"jk='+jobdata.jk+'&tk=1al4vsf7v82j89q0&from=reconserp&rd='+jobdata.rd+'&qd=7tdTJLF8oc4dPpT7T_zGvG2rxQ8g7QnuoKwEiTLuh53rBw0Pm6_ZDyKeamO6gd1AocxxRqhFvDBcjoOYKR0ghGqxykNofB72AeNk1LFEIG1C0EgYtBcshQ_qiJ_kJb66NS999Pu5hfsu-kakzrqIy7jRLi1T1xv-naI0pP9FFOqVbYwjtYnmD3m3kXgx9x6_Wm8BCZo2Br-7I8YKzNICfA&ts=1465825246463'+ocstr+'\"; path=/'; return true;}\\n\\n\\nvar jobmap = {};\\n\\njobmap[0]= {jk:'ca8146b5d7b02d5f',efccid: '9fa362b9006d451b',srcid:'60bb2ba2b673ae10',cmpid:'1818d10a60db56b4',num:'0',srcname:'Victorian Government',cmp:'Victorian Government',cmpesc:'Victorian Government',cmplnk:'/Victorian-Government-jobs',loc:'Geelong VIC',country:'AU',zip:'',city:'Geelong',title:'Program and Service Advisor',locid:'6eda3136cb757989',rd:'NKG3cDJW7Vyg5W5O71muljeZrUdTegavv8oe3OW92lk'};\\n\\njobmap[1]= {jk:'7a9fe7de1beb85f9',efccid: '788dce617a49353b',srcid:'c7814fff9ac2f014',cmpid:'9605a3534a186df0',num:'1',srcname:'Fortescue Metals Group',cmp:'Fortescue Metals Group',cmpesc:'Fortescue Metals Group',cmplnk:'/Fortescue-Metals-Group-jobs',loc:'Pilbara WA',country:'AU',zip:'',city:'Pilbara',title:'Reliability Engineer - Christmas Creek',locid:'2605615cd5c36963',rd:'wJKMP0agM2aIqjeC5_pOjbSWZ1Gl5ZrokBXHSswHc30'};\\n\\njobmap[2]= {jk:'35211e3965486c66',efccid: '939730e90620770b',srcid:'982dad1ac9f451e2',cmpid:'b144006bbf2d95a5',num:'2',srcname:'Brookfield',cmp:'Brookfield',cmpesc:'Brookfield',cmplnk:'/Brookfield-jobs',loc:'Sydney NSW',country:'AU',zip:'',city:'Sydney',title:'Data Analyst \\\\/ Administrator',locid:'c85e2855c1711676',rd:'wVJCsZhnVZH71qNAhZJ1UpaQpuYCN9lpZT2AUY2cYLc'};\\n\\njobmap[3]= {jk:'90d5230fdc16cb28',efccid: 'd28e871f4fc64f3f',srcid:'7bb67d4fc708c40b',cmpid:'09daebe3b3aa55d9',num:'3',srcname:'UniSuper',cmp:'UniSuper',cmpesc:'UniSuper',cmplnk:'/UniSuper-jobs',loc:'Melbourne VIC',country:'AU',zip:'',city:'Melbourne',title:'Test Data Analyst',locid:'f3cb1e3751870ab3',rd:'bj2Mudovo7GGLA6gJZHSRxz6LGaBksccPavk9ryHLX8'};\\n\\njobmap[4]= {jk:'1c41fd61f33c7f7a',efccid: '34a5d0fdbfe974db',srcid:'59b4f4cffa30cd53',cmpid:'9f1632b30ffb46f4',num:'4',srcname:'Lorna Jane',cmp:'Lorna Jane',cmpesc:'Lorna Jane',cmplnk:'/Lorna-Jane-jobs',loc:'Queensland',country:'AU',zip:'',city:'',title:'Stock Coordinator - Support Centre QLD',locid:'2713b878477aa420',rd:'PrYcOR3f0_xDc8UnxazpdUdZ__v8SvkUW1dX8T2LS1w'};\\n\\njobmap[5]= {jk:'e404043290252ddc',efccid: '07405d3d36d5f5ba',srcid:'bcb8c139a7497445',cmpid:'bca6f10d73dbbf6c',num:'5',srcname:'Macquarie University',cmp:'Macquarie University',cmpesc:'Macquarie University',cmplnk:'/Macquarie-University-jobs',loc:'Macquarie University NSW 2109',country:'AU',zip:'2109',city:'Macquarie University',title:'Scholarly Teaching Fellow',locid:'8361ce12cfb9180e',rd:'LqIkfk-75pzRcxwQFGGwB-1HbChJg3fnr47g1QaHUc0'};\\n\\njobmap[6]= {jk:'845365829ba37eda',efccid: '8b7f84202d8cd5f4',srcid:'bc048d3fef2b496f',cmpid:'2973259ddc967948',num:'6',srcname:'PepsiCo',cmp:'PepsiCo',cmpesc:'PepsiCo',cmplnk:'/PepsiCo-jobs',loc:'Chatswood NSW',country:'AU',zip:'',city:'Chatswood',title:'Global Purchasing Procurement Analyst',locid:'f4b1f2970c731a1f',rd:'7dr6dz8jRE3TtaKHLNIuLMgtNJoStH0eaSQH0vjn6tE'};\\n\\njobmap[7]= {jk:'29209de19e74c885',efccid: '04fd9cc501ae5bcb',srcid:'451c5bd8200e805f',cmpid:'5e964c4afc56b180',num:'7',srcname:'PwC',cmp:'PwC',cmpesc:'PwC',cmplnk:'/PwC-jobs',loc:'Melbourne VIC',country:'AU',zip:'',city:'Melbourne',title:'Insight Analytics Manager',locid:'f3cb1e3751870ab3',rd:'MXy6w9ozftikxZ_SBC-_M6xhA9JLiPN_c0tKkRKGj_I'};\\n\\njobmap[8]= {jk:'812254ce6d0994d7',efccid: '96156f9d6ffe13ae',srcid:'b86a296c90c65f2d',cmpid:'4e42ec53f4b93e02',num:'8',srcname:'GlaxoSmithKline',cmp:'GlaxoSmithKline',cmpesc:'GlaxoSmithKline',cmplnk:'/GlaxoSmithKline-jobs',loc:'Melbourne VIC',country:'AU',zip:'',city:'Melbourne',title:'Production Reliabilty Engineer',locid:'f3cb1e3751870ab3',rd:'RQ1EY6zcoqHatmkxtss-aPxOnKbLEG4hDtj25aeQ29g'};\\n\\njobmap[9]= {jk:'ca649839049927c4',efccid: '2cc7293385d25ab7',srcid:'6e13edd40d6fe987',cmpid:'44e7c30753d07f3b',num:'9',srcname:'Downer EDI',cmp:'Downer EDI',cmpesc:'Downer EDI',cmplnk:'/Downer-EDI-jobs',loc:'Laverton WA',country:'AU',zip:'',city:'Laverton',title:'RTO Administration Officer',locid:'97e382a93ed4c59f',rd:'WhvDdifc24EiBRXG8YTC7JOJOYATDZNZi5_27-gDiok'};\\n</script>\\n<style type=\"text/css\">\\n.jobtitle {\\nfont-weight: bold;\\n}\\ntd.snip b, span.company b, #femp_list .jobtitle, #cmpinfo_list .jobtitle, .jobtitle .new {\\nfont-weight: normal;\\n}\\n</style>\\n<style type=\"text/css\">\\ndiv.row table tr td.snip { line-height: 1.4; }\\n</style>\\n<table border=\"0\" cellpadding=\"0\" cellspacing=\"0\" id=\"serpBody\"><tr><td>\\n<script type=\"text/javascript\">\\nwindow['ree'] = \"pdsssps\";\\nwindow['jas'] = \"w5Yqcptx3i7\";\\n</script>\\n<style type=\"text/css\">\\n.basePromo{margin-top:8px;margin-bottom:13px;padding-left:12px;padding-right:12px}.redText{color:red}.bold{font-weight:bold}.basePromo.resume{font-size:14px;margin-top:5px}.basePromo.resume>img{height:20px;margin-right:5px;margin-bottom:3px;width:16px}</style>\\n<table border=\"0\" cellpadding=\"0\" cellspacing=\"0\" id=\"pageContent\" width=\"100%\">\\n<tr valign=\"top\">\\n<td data-tn-section=\"refineBy\" id=\"refineresultscol\">\\n<script type=\"text/javascript\">setOpenSectionsCookie( '' );</script>\\n<div id=\"refineresults\">\\n<h1><font size=\"+1\">data scientist customer analytics data analysis jobs</font></h1>\\n<div style=\"margin-left: 6px; margin-bottom: 1em;\">Sort\\xa0by: <nobr><b>relevance</b> -\\n            <a href=\"/jobs?q=%28%22data+scientist%22+or+%22customer+analytics%22+or+%22data+analysis%22%29&amp;radius=50&amp;sort=date\" rel=\"nofollow\">date</a></nobr></div>\\n<script type=\"text/javascript\">\\nfunction handleRefine(isEvaluated, type, cookieValue) {\\nif (!isEvaluated) {\\ngetRefineByOptions(type);\\n}\\ntoggleRefineBy(cookieValue);\\nreturn false;\\n}\\n</script>\\n<div class=\"rbSection rbOpen\" id=\"rb_Salary Estimate\">\\n<div class=\"rbHeader\">\\n<span class=\"ws_bold\" tabindex=\"0\">\\n<span></span>\\nSalary Estimate</span>\\n</div>\\n<div class=\"rbsrbo\" id=\"SALARY_rbo\">\\n<ul class=\"rbList\">\\n<li onmousedown=\"rbptk('rb', 'salest', '1');\">\\n<a href=\"/jobs?q=(%22data+scientist%22+or+%22customer+analytics%22+or+%22data+analysis%22)+$70,000\" rel=\"nofollow\" title=\"$70,000+ (870)\">$70,000+</a> (870)</li>\\n<li onmousedown=\"rbptk('rb', 'salest', '2');\">\\n<a href=\"/jobs?q=(%22data+scientist%22+or+%22customer+analytics%22+or+%22data+analysis%22)+$90,000\" rel=\"nofollow\" title=\"$90,000+ (584)\">$90,000+</a> (584)</li>\\n<li onmousedown=\"rbptk('rb', 'salest', '3');\">\\n<a href=\"/jobs?q=(%22data+scientist%22+or+%22customer+analytics%22+or+%22data+analysis%22)+$110,000\" rel=\"nofollow\" title=\"$110,000+ (194)\">$110,000+</a> (194)</li>\\n<li onmousedown=\"rbptk('rb', 'salest', '4');\">\\n<a href=\"/jobs?q=(%22data+scientist%22+or+%22customer+analytics%22+or+%22data+analysis%22)+$130,000\" rel=\"nofollow\" title=\"$130,000+ (81)\">$130,000+</a> (81)</li>\\n<li onmousedown=\"rbptk('rb', 'salest', '5');\">\\n<a href=\"/jobs?q=(%22data+scientist%22+or+%22customer+analytics%22+or+%22data+analysis%22)+$150,000\" rel=\"nofollow\" title=\"$150,000+ (29)\">$150,000+</a> (29)</li>\\n</ul>\\n</div>\\n</div>\\n<div class=\"rbSection rbOpen\" id=\"rb_Title\">\\n<div class=\"rbHeader\">\\n<span class=\"ws_bold\" tabindex=\"0\">\\n<span></span>\\nTitle</span>\\n</div>\\n<div class=\"rbsrbo\" id=\"TITLE_rbo\">\\n<ul class=\"rbList\">\\n<li onmousedown=\"rbptk('rb', 'ttl', '1');\">\\n<a href=\"/Business-Analyst-jobs\" title=\"Business Analyst\">Business Analyst</a></li>\\n<li onmousedown=\"rbptk('rb', 'ttl', '2');\">\\n<a href=\"/Data-Scientist-jobs\" title=\"Data Scientist\">Data Scientist</a></li>\\n<li onmousedown=\"rbptk('rb', 'ttl', '3');\">\\n<a href=\"/Data-Analyst-jobs\" title=\"Data Analyst\">Data Analyst</a></li>\\n</ul>\\n</div>\\n</div>\\n<div class=\"rbSection rbOpen\" id=\"rb_Job Type\">\\n<div class=\"rbHeader\">\\n<span class=\"ws_bold\" tabindex=\"0\">\\n<span></span>\\nJob Type</span>\\n</div>\\n<div class=\"rbsrbo\" id=\"JOB_TYPE_rbo\">\\n<ul class=\"rbList\">\\n<li onmousedown=\"rbptk('rb', 'jobtype', '1');\">\\n<a href=\"/jobs?q=(%22data+scientist%22+or+%22customer+analytics%22+or+%22data+analysis%22)&amp;jt=fulltime\" rel=\"nofollow\" title=\"Full-time (408)\">Full-time</a> (408)</li>\\n<li onmousedown=\"rbptk('rb', 'jobtype', '2');\">\\n<a href=\"/jobs?q=(%22data+scientist%22+or+%22customer+analytics%22+or+%22data+analysis%22)&amp;jt=permanent\" rel=\"nofollow\" title=\"Permanent (188)\">Permanent</a> (188)</li>\\n<li onmousedown=\"rbptk('rb', 'jobtype', '3');\">\\n<a href=\"/jobs?q=(%22data+scientist%22+or+%22customer+analytics%22+or+%22data+analysis%22)&amp;jt=contract\" rel=\"nofollow\" title=\"Contract (160)\">Contract</a> (160)</li>\\n<li onmousedown=\"rbptk('rb', 'jobtype', '4');\">\\n<a href=\"/jobs?q=(%22data+scientist%22+or+%22customer+analytics%22+or+%22data+analysis%22)&amp;jt=temporary\" rel=\"nofollow\" title=\"Temporary (62)\">Temporary</a> (62)</li>\\n<li onmousedown=\"rbptk('rb', 'jobtype', '5');\">\\n<a href=\"/jobs?q=(%22data+scientist%22+or+%22customer+analytics%22+or+%22data+analysis%22)&amp;jt=parttime\" rel=\"nofollow\" title=\"Part-time (18)\">Part-time</a> (18)</li>\\n<li class=\"moreLi\" onmousedown=\"rbptk('rb', 'jobtype', '6');\">\\n<a href=\"/jobs?q=(%22data+scientist%22+or+%22customer+analytics%22+or+%22data+analysis%22)&amp;jt=internship\" rel=\"nofollow\" title=\"Internship (10)\">Internship</a> (10)</li>\\n<li class=\"moreLi\" onmousedown=\"rbptk('rb', 'jobtype', '7');\">\\n<a href=\"/jobs?q=(%22data+scientist%22+or+%22customer+analytics%22+or+%22data+analysis%22)&amp;jt=casual\" rel=\"nofollow\" title=\"Casual (2)\">Casual</a> (2)</li>\\n<li class=\"moreLi\" onmousedown=\"rbptk('rb', 'jobtype', '8');\">\\n<a href=\"/jobs?q=(%22data+scientist%22+or+%22customer+analytics%22+or+%22data+analysis%22)&amp;jt=apprenticeship\" rel=\"nofollow\" title=\"Apprenticeship (1)\">Apprenticeship</a> (1)</li>\\n<li class=\"moreLi\" onmousedown=\"rbptk('rb', 'jobtype', '9');\">\\n<a href=\"/jobs?q=(%22data+scientist%22+or+%22customer+analytics%22+or+%22data+analysis%22)&amp;jt=volunteer\" rel=\"nofollow\" title=\"Volunteer (1)\">Volunteer</a> (1)</li>\\n</ul>\\n<div class=\"more_link\"><span onclick=\"showAllRefinements('rb_Job Type'); return false;\" onkeyup=\"if (event.keyCode == 13) showAllRefinements('rb_Job Type'); return false;\" tabindex=\"0\">more \\xbb</span></div></div>\\n</div>\\n<div class=\"rbSection rbOpen\" id=\"rb_Location\">\\n<div class=\"rbHeader\">\\n<span class=\"ws_bold\" tabindex=\"0\">\\n<span></span>\\nLocation</span>\\n</div>\\n<div class=\"rbsrbo\" id=\"LOCATION_rbo\">\\n<ul class=\"rbList\">\\n<li onmousedown=\"rbptk('rb', 'loc', '1');\">\\n<a href=\"/jobs?q=(%22data+Scientist%22+or+%22customer+Analytics%22+or+%22data+Analysis%22)&amp;l=Sydney+NSW&amp;nc=jasx\" title=\"Sydney NSW\">Sydney NSW</a></li>\\n<li onmousedown=\"rbptk('rb', 'loc', '2');\">\\n<a href=\"/jobs?q=(%22data+Scientist%22+or+%22customer+Analytics%22+or+%22data+Analysis%22)&amp;l=Melbourne+VIC&amp;nc=jasx\" title=\"Melbourne VIC\">Melbourne VIC</a></li>\\n<li onmousedown=\"rbptk('rb', 'loc', '3');\">\\n<a href=\"/jobs?q=(%22data+Scientist%22+or+%22customer+Analytics%22+or+%22data+Analysis%22)&amp;l=Brisbane+QLD&amp;nc=jasx\" title=\"Brisbane QLD\">Brisbane QLD</a></li>\\n<li onmousedown=\"rbptk('rb', 'loc', '4');\">\\n<a href=\"/jobs?q=(%22data+Scientist%22+or+%22customer+Analytics%22+or+%22data+Analysis%22)&amp;l=Canberra+ACT&amp;nc=jasx\" title=\"Canberra ACT\">Canberra ACT</a></li>\\n<li onmousedown=\"rbptk('rb', 'loc', '5');\">\\n<a href=\"/jobs?q=(%22data+Scientist%22+or+%22customer+Analytics%22+or+%22data+Analysis%22)&amp;l=Sydney+Central+Business+District+NSW&amp;nc=jasx\" title=\"Sydney Central Business District NSW\">Sydney Central Business District NSW</a></li>\\n<li class=\"moreLi\" onmousedown=\"rbptk('rb', 'loc', '6');\">\\n<a href=\"/jobs?q=(%22data+Scientist%22+or+%22customer+Analytics%22+or+%22data+Analysis%22)&amp;l=New+South+Wales&amp;nc=jasx\" title=\"New South Wales\">New South Wales</a></li>\\n<li class=\"moreLi\" onmousedown=\"rbptk('rb', 'loc', '7');\">\\n<a href=\"/jobs?q=(%22data+Scientist%22+or+%22customer+Analytics%22+or+%22data+Analysis%22)&amp;l=Melbourne+City+Centre+VIC&amp;nc=jasx\" title=\"Melbourne City Centre VIC\">Melbourne City Centre VIC</a></li>\\n<li class=\"moreLi\" onmousedown=\"rbptk('rb', 'loc', '8');\">\\n<a href=\"/jobs?q=(%22data+Scientist%22+or+%22customer+Analytics%22+or+%22data+Analysis%22)&amp;l=Perth+WA&amp;nc=jasx\" title=\"Perth WA\">Perth WA</a></li>\\n<li class=\"moreLi\" onmousedown=\"rbptk('rb', 'loc', '9');\">\\n<a href=\"/jobs?q=(%22data+Scientist%22+or+%22customer+Analytics%22+or+%22data+Analysis%22)&amp;l=Brisbane+Central+Business+District+QLD&amp;nc=jasx\" title=\"Brisbane Central Business District QLD\">Brisbane Central Business District QLD</a></li>\\n</ul>\\n<div class=\"more_link\"><span onclick=\"showAllRefinements('rb_Location'); return false;\" onkeyup=\"if (event.keyCode == 13) showAllRefinements('rb_Location'); return false;\" tabindex=\"0\">more \\xbb</span></div></div>\\n</div>\\n<div class=\"rbSection rbOpen\" id=\"rb_Company\">\\n<div class=\"rbHeader\">\\n<span class=\"ws_bold\" tabindex=\"0\">\\n<span></span>\\nCompany</span>\\n</div>\\n<div class=\"rbsrbo\" id=\"COMPANY_rbo\">\\n<ul class=\"rbList\">\\n<li onmousedown=\"rbptk('rb', 'cmp', '1');\">\\n<a href=\"/Nuclei-Recruitment-jobs\" title=\"nuclei recruitment\">nuclei recruitment</a></li>\\n<li onmousedown=\"rbptk('rb', 'cmp', '2');\">\\n<a href=\"/Michael-Page-Au-jobs\" title=\"Michael Page AU\">Michael Page AU</a></li>\\n<li onmousedown=\"rbptk('rb', 'cmp', '3');\">\\n<a href=\"/Hays-jobs\" title=\"Hays\">Hays</a></li>\\n<li onmousedown=\"rbptk('rb', 'cmp', '4');\">\\n<a href=\"/Peoplebank-jobs\" title=\"Peoplebank\">Peoplebank</a></li>\\n<li onmousedown=\"rbptk('rb', 'cmp', '5');\">\\n<a href=\"/Greythorn-Specialist-Technology-Recruitment-jobs\" title=\"Greythorn Specialist Technology Recruitment\">Greythorn Specialist Technology Recruitment</a></li>\\n<li class=\"moreLi\" onmousedown=\"rbptk('rb', 'cmp', '6');\">\\n<a href=\"/Robert-Walters-jobs\" title=\"Robert Walters\">Robert Walters</a></li>\\n<li class=\"moreLi\" onmousedown=\"rbptk('rb', 'cmp', '7');\">\\n<a href=\"/Pwc-jobs\" title=\"PwC\">PwC</a></li>\\n<li class=\"moreLi\" onmousedown=\"rbptk('rb', 'cmp', '8');\">\\n<a href=\"/Bluefin-Resources-jobs\" title=\"Bluefin Resources\">Bluefin Resources</a></li>\\n<li class=\"moreLi\" onmousedown=\"rbptk('rb', 'cmp', '9');\">\\n<a href=\"/Nsw-Government-jobs\" title=\"NSW Government\">NSW Government</a></li>\\n<li class=\"moreLi\" onmousedown=\"rbptk('rb', 'cmp', '10');\">\\n<a href=\"/Hudson-jobs\" title=\"Hudson\">Hudson</a></li>\\n</ul>\\n<div class=\"more_link\"><span onclick=\"showAllRefinements('rb_Company'); return false;\" onkeyup=\"if (event.keyCode == 13) showAllRefinements('rb_Company'); return false;\" tabindex=\"0\">more \\xbb</span></div></div>\\n</div>\\n</div>\\n</td>\\n<td id=\"resultsCol\">\\n<div class=\"messageContainer\">\\n<script type=\"text/javascript\">\\nfunction setJaPromoCookie() {\\nvar expires = new Date();\\nexpires.setTime(expires.getTime() + (5 * 365 * 24 * 60 * 60 * 1000));\\nsetCookie(\"showJaPromo\", \"1\", expires);\\n}\\nfunction setRefineByCookie(refineByTypes) {\\nvar expires = new Date();\\nexpires.setTime(expires.getTime() + (10 * 1000));\\nrefineByTypes.forEach(function(type) {\\nsetCookie(type, \"1\", expires);\\n});\\n}\\n</script>\\n<p class=\"message\">Tip: Enter your city or postcode in the \"where\" box to show local job results (e.g. Sydney, or 2000)</p>\\n</div>\\n<style type=\"text/css\">\\n#increased_radius_result {\\nfont-size: 16px;\\nfont-style: italic;\\n}\\n#original_radius_result{\\nfont-size: 13px;\\nfont-style: italic;\\ncolor: #666666;\\n}\\n</style>\\n<div style=\"padding-top:9px;\"><div id=\"searchCount\">Jobs 1 to 10 of 963</div>\\n<div data-tn-section=\"resumePromo\" id=\"resumePromo\">\\n<a href=\"/promo/resume\" onmousedown=\"this.href = appendParamsOnce( this.href, '?from=serptop3&amp;subfrom=resprmrtop&amp;trk.origin=jobsearch&amp;trk.variant=resprmrtop&amp;trk.tk=1al4vsf7v82j89q0')\"><span aria-label=\"post resume icon\" class=\"new-ico\" role=\"img\"></span></a> <a href=\"/promo/resume\" onmousedown=\"this.href = appendParamsOnce( this.href, '?from=serptop3&amp;subfrom=resprmrtop&amp;trk.origin=jobsearch&amp;trk.variant=resprmrtop&amp;trk.tk=1al4vsf7v82j89q0')\"><b>Upload your resume</b></a> - Let employers find you</div></div>\\n<script type=\"text/javascript\">\\nwindow['sjl'] = \"PS2MuFHLU\";\\n</script>\\n<style type=\"text/css\">\\n.PS2MuFHLU { margin: 0 0 6px 0; padding: 0; _zoom:100%; border: 0; background-color: #fff; }\\n.PS2MuFHLU .jobtitle { white-space: nowrap; float:@LINE_START@; _float: none; }\\n.PS2MuFHLU .sdn { color: #CD29C0; }\\n.mLFGW3AL .brdr { margin-top: 12px; }\\n.MZHf79jKDQ .brdr { margin-bottom: 12px; }\\n@media only screen and (min-height:780px) {\\n.mLFGW3AL { margin-bottom: 9px; }\\n.MZHf79jKDQ .brdr,\\n.mLFGW3AL .brdr { margin-bottom: 9px; margin-top: 9px; }\\n}\\n</style>\\n<div></div><div class=\"PS2MuFHLU mLFGW3AL\">\\n<div class=\"row result\" data-jk=\"100cf0d195f6c43e\" id=\"pj_100cf0d195f6c43e\">\\n<a class=\"jobtitle turnstileLink\" data-tn-element=\"jobTitle\" href=\"/pagead/clk?mo=r&amp;ad=-6NYlbfkN0CPOLcAcgKL9pfM-xHIi-CiQJbdJLfXSwEoNYazYg3pE56rSw-20WAqxdkLUR1i7-4BJAmmuLOBeAypZessidA-_uTr3Skok7rn8ALCtdUPdfAd5vSRhYNDAzp4F2r9MrNTMi2mxfT_jBSpOED4ZMe1nZmzZ6R24Ra-gdua7bAs29aUdIrQEwRdyr_RuIAN2jBX4kmdVvFYj6IdI9hx92eSs9TyzJvR1oUMP-jDZ0vxhoQQhH5E2zMZTPERaHXd7uIuttECotRZ_QsCCe9iCoWg6L1W0gNDMPnCbIAjYkxBpF5M7bf8AF5upEes_AmlecquwD31WfEDeluRz5lyU9aFrGrQ9EWemgYDu_UlS7AdzX4Wbfna_7ZaxX38PKCvAJxjEBYluLDreYsfeVGvCKWYzNEesxTe5J_ua_mOpD-9Slu6_sztArrOHBM72iSDHRN8nkwBJnFAuKLBt1Nf34PsBBTruBfpkudowJPP6ri4Z6yZjAcEkJnDZWTiXEBrj1TF5lAYxEdDIXMUGhBz091-F4ebs8ihVfTEMQwTay4utEHboDT31SdalGJD-VF7zh9Qup4rhzpJ-yGgDB2Q2VVQ5bq7pHSQ4az5EbOOQchDZgbSH9UYfXU5oFiB1ncIH3z9AkXFXlGbnEUaEv3G4eD-puR0ZOZRJ9pCEhpqiSozkTqpCZWkYD2-h4r8DqUDcCRuNTjYReHHcro7cFXRhnVWc17d9mf64wdlNGd0Z8x3g3K9hGegDCU7eHijcReG8KcTnDbmuDAgLRy2qLrhJ-F5cQlZ5vZVufJBvMCDAX_FNg==&amp;p=1&amp;sk=&amp;fvj=0\" id=\"sja1\" onclick=\"setRefineByCookie(['radius']); sjoc('sja1',0); convCtr('SJ', pingUrlsForGA)\" onmousedown=\"sjomd('sja1'); clk('sja1');\" rel=\"nofollow\" target=\"_blank\" title=\"Data Scientist (Investigative Data Analyst/Technical Data Analyst) Canberra/Sydney\"><b>Data</b> <b>Scientist</b> (Investigative <b>Data</b> Analyst/Technical <b>Data</b> An...</a>\\n<br/>\\n<div class=\"sjcl\">\\n<span class=\"company\">\\n    ASIO</span>\\n\\n - <span class=\"location\">Sydney NSW</span>\\n</div>\\n<table border=\"0\" cellpadding=\"0\" cellspacing=\"0\"><tr><td class=\"snip\">\\n<span class=\"summary\">A demonstrated ability in complex <b>data</b> <b>analysis</b> and ideally a tertiary qualification in a discipline that requires <b>data</b> <b>analysis</b> (eg....</span>\\n</td></tr></table>\\n<div class=\"result-link-bar-container\">\\n<div class=\"result-link-bar\"><span class=\"date\">11 days ago</span> <span class=\"tt_set\" id=\"tt_set_10\">  -  <a class=\"sl resultLink tellafriend-link \" href=\"mailto:?subject=I found this job on Indeed&amp;body=http://au.indeed.com\" onclick=\"toggleTellAFriend('100cf0d195f6c43e', 10, true); return false;\">email</a></span><div class=\"edit_note_content\" id=\"editsaved2_100cf0d195f6c43e\" style=\"display:none;\"></div><script>window['sj_result_100cf0d195f6c43e'] = {\"showSource\": false, \"source\": \"ASIO\", \"loggedIn\": false, \"showMyJobsLinks\": true,\"undoAction\": \"unsave\",\"relativeJobAge\": \"11 days ago\",\"jobKey\": \"100cf0d195f6c43e\", \"myIndeedAvailable\": true, \"tellAFriendEnabled\": true, \"showMoreActionsLink\": false, \"resultNumber\": 10, \"jobStateChangedToSaved\": false, \"searchState\": \"q=(&quot;data scientist&quot; or &quot;customer analytics&quot; or &quot;data analysis&quot;)&amp;sort=&amp;radius=50&amp;fromage=any&amp;limit=10&amp;jt=all&amp;st=\", \"basicPermaLink\": \"http://au.indeed.com\", \"saveJobFailed\": false, \"removeJobFailed\": false, \"requestPending\": false, \"notesEnabled\": false, \"currentPage\" : \"serp\", \"sponsored\" : true,\"reportJobButtonEnabled\": false, \"showMyJobsHired\": false};</script></div></div>\\n<div class=\"tab-container\">\\n<div class=\"tellafriend-container result-tab email_job_content\"></div>\\n</div>\\n<span class=\"sdn\">Sponsored</span>\\n</div>\\n<div class=\"row result\" data-jk=\"1353965ae09cd90c\" id=\"pj_1353965ae09cd90c\">\\n<a class=\"jobtitle turnstileLink\" data-tn-element=\"jobTitle\" href=\"/pagead/clk?mo=r&amp;ad=-6NYlbfkN0Dp67TwjFzEWMhRtkC7gfQ7DFF2sTtQieezgZVmfDp2Q5Wg7jN-da5fTibp8_gLyVARLsdVwXnPi1YOYkp5dWtl-tCeYNypBkMWQATVhrXwvrKKzBcAUmQG8TEUHgnos9oy5uf5s8ZtUUhLQt2C9QWDVQNq9UkUVI3AEFRrJnZAXh5gF66VkDnLstFTyM1amEV5sl9ooq165JM1y-u4N3HavnCF7a6VkhrJHVMACXX4XQSan4wnRYV-b5fIkap0p4eDhM5IMEluj5Vf9ByeNKds18ktxHm2-SH9OxrkYr0dssRQhyIYjUgMTAJUn2xee2ygOUBfpirh27X-GMCqDUyKntE2TT4tL4IcwpXSeAkY0ARsYuyKDFimp9mDJkJCv5C5yzj9jQ1Nqu8v3bV_f9wj8L8flRyIba8HcscmXceKgdzukj6mEMD4f44LXet18RwBdvfOqsVZl6_Nh0vz91y5G1aPt2Yk9pVOiPrXrnP6L3I6Ix9EBsqN2Hrn4OvjhzgOuRpnEhJOiIDNeZlZb2jlX_HfjKzuvMtmCkBrdD5iWA==&amp;p=2&amp;sk=&amp;fvj=0\" id=\"sja2\" onclick=\"setRefineByCookie(['radius']); sjoc('sja2',0); convCtr('SJ', pingUrlsForGA)\" onmousedown=\"sjomd('sja2'); clk('sja2');\" rel=\"nofollow\" target=\"_blank\" title=\"Business Analyst\">Business Analyst</a>\\n<br/>\\n<div class=\"sjcl\">\\n<span class=\"company\">\\n    Experis</span>\\n\\n - <span class=\"location\">Melbourne VIC</span>\\n</div>\\n<table border=\"0\" cellpadding=\"0\" cellspacing=\"0\"><tr><td class=\"snip\">\\n<span class=\"summary\">Process modelling/mapping, interviewing techniques, gap <b>analysis</b>, business scenarios, <b>data</b> <b>analysis</b>. Demonstrates a strong <b>customer</b> service ethos....</span>\\n</td></tr></table>\\n<div class=\"result-link-bar-container\">\\n<div class=\"result-link-bar\"><span class=\"date\">6 days ago</span> <span class=\"tt_set\" id=\"tt_set_11\">  -  <a class=\"sl resultLink tellafriend-link \" href=\"mailto:?subject=I found this job on Indeed&amp;body=http://au.indeed.com\" onclick=\"toggleTellAFriend('1353965ae09cd90c', 11, true); return false;\">email</a></span><div class=\"edit_note_content\" id=\"editsaved2_1353965ae09cd90c\" style=\"display:none;\"></div><script>window['sj_result_1353965ae09cd90c'] = {\"showSource\": false, \"source\": \"Experis\", \"loggedIn\": false, \"showMyJobsLinks\": true,\"undoAction\": \"unsave\",\"relativeJobAge\": \"6 days ago\",\"jobKey\": \"1353965ae09cd90c\", \"myIndeedAvailable\": true, \"tellAFriendEnabled\": true, \"showMoreActionsLink\": false, \"resultNumber\": 11, \"jobStateChangedToSaved\": false, \"searchState\": \"q=(&quot;data scientist&quot; or &quot;customer analytics&quot; or &quot;data analysis&quot;)&amp;sort=&amp;radius=50&amp;fromage=any&amp;limit=10&amp;jt=all&amp;st=\", \"basicPermaLink\": \"http://au.indeed.com\", \"saveJobFailed\": false, \"removeJobFailed\": false, \"requestPending\": false, \"notesEnabled\": false, \"currentPage\" : \"serp\", \"sponsored\" : true,\"reportJobButtonEnabled\": false, \"showMyJobsHired\": false};</script></div></div>\\n<div class=\"tab-container\">\\n<div class=\"tellafriend-container result-tab email_job_content\"></div>\\n</div>\\n<span class=\"sdn\">Sponsored</span>\\n</div>\\n<div class=\"row sjlast result\" data-jk=\"9dfde4e645ea384f\" id=\"pj_9dfde4e645ea384f\">\\n<a class=\"jobtitle turnstileLink\" data-tn-element=\"jobTitle\" href=\"/pagead/clk?mo=r&amp;ad=-6NYlbfkN0Dp67TwjFzEWMhRtkC7gfQ7DFF2sTtQieezgZVmfDp2Q5Wg7jN-da5fTibp8_gLyVBj19meZePVMP4iUozGuX3-jQ8lkh2gAvNIQMs8cCG9d8JemceEMXSY7ZiGosRenUIdxo9r9Ti_NoU9AUMWRebGM0yaheaW4NztoVAduqMCfJ_HbE6JMrNwHYpJFPJUMWGySZabbl1gNZXRFEtEjhyNnc0S5bQnkQEhakIRydof17DLEjJzyQxJJruJklyLygklKJLSU4WYyphoZkCQdJUZTr8HAC1vQqDQVNlyzfZD7ml5fQ5fHtIZdLZkkhP-qrK8EevY-U5sn7nKS_WCseFjaQ5KpV61VJHBTTgomrnqth6DWVz_hNdGyiotsgiFBywJyEP_nUzuGtL9cfxiZsPDGTMWHAhd9khEIGFU-e6N8EHVB3tgUvPYhKhv9y6RCMcC_s73CMqffi90RM7VNtxehhQ2znFBwHswfrSmAodyAynSsrIjYjA2mMYl86lbLr3SBk3_H7-sAhOYv3T3pkc9fmfAYD6ImhNj6VGfc36aMw==&amp;p=3&amp;sk=&amp;fvj=0\" id=\"sja3\" onclick=\"setRefineByCookie(['radius']); sjoc('sja3',0); convCtr('SJ', pingUrlsForGA)\" onmousedown=\"sjomd('sja3'); clk('sja3');\" rel=\"nofollow\" target=\"_blank\" title=\"ETL Tester\">ETL Tester</a>\\n<br/>\\n<div class=\"sjcl\">\\n<span class=\"company\">\\n    Experis</span>\\n\\n - <span class=\"location\">Melbourne VIC</span>\\n</div>\\n<table border=\"0\" cellpadding=\"0\" cellspacing=\"0\"><tr><td class=\"snip\">\\n<span class=\"summary\">Experience in <b>data</b> warehousing and BI testing with strong <b>data</b> <b>analysis</b>, SQL &amp; <b>data</b> analytical skills. Validation of <b>data</b> transformations and perform End-to-End...</span>\\n</td></tr></table>\\n<div class=\"result-link-bar-container\">\\n<div class=\"result-link-bar\"><span class=\"date\">6 days ago</span> <span class=\"tt_set\" id=\"tt_set_12\">  -  <a class=\"sl resultLink tellafriend-link \" href=\"mailto:?subject=I found this job on Indeed&amp;body=http://au.indeed.com\" onclick=\"toggleTellAFriend('9dfde4e645ea384f', 12, true); return false;\">email</a></span><div class=\"edit_note_content\" id=\"editsaved2_9dfde4e645ea384f\" style=\"display:none;\"></div><script>window['sj_result_9dfde4e645ea384f'] = {\"showSource\": false, \"source\": \"Experis\", \"loggedIn\": false, \"showMyJobsLinks\": true,\"undoAction\": \"unsave\",\"relativeJobAge\": \"6 days ago\",\"jobKey\": \"9dfde4e645ea384f\", \"myIndeedAvailable\": true, \"tellAFriendEnabled\": true, \"showMoreActionsLink\": false, \"resultNumber\": 12, \"jobStateChangedToSaved\": false, \"searchState\": \"q=(&quot;data scientist&quot; or &quot;customer analytics&quot; or &quot;data analysis&quot;)&amp;sort=&amp;radius=50&amp;fromage=any&amp;limit=10&amp;jt=all&amp;st=\", \"basicPermaLink\": \"http://au.indeed.com\", \"saveJobFailed\": false, \"removeJobFailed\": false, \"requestPending\": false, \"notesEnabled\": false, \"currentPage\" : \"serp\", \"sponsored\" : true,\"reportJobButtonEnabled\": false, \"showMyJobsHired\": false};</script></div></div>\\n<div class=\"tab-container\">\\n<div class=\"tellafriend-container result-tab email_job_content\"></div>\\n</div>\\n<span class=\"sdn\">Sponsored</span>\\n</div>\\n</div>\\n<div class=\" row result\" data-jk=\"ca8146b5d7b02d5f\" data-tn-component=\"organicJob\" id=\"p_ca8146b5d7b02d5f\" itemscope=\"\" itemtype=\"http://schema.org/JobPosting\">\\n<h2 class=\"jobtitle\" id=\"jl_ca8146b5d7b02d5f\">\\n<a class=\"turnstileLink\" data-tn-element=\"jobTitle\" href=\"/rc/clk?jk=ca8146b5d7b02d5f&amp;fccid=1818d10a60db56b4\" itemprop=\"title\" onclick=\"setRefineByCookie(['radius']); return rclk(this,jobmap[0],true,0);\" onmousedown=\"return rclk(this,jobmap[0],0);\" rel=\"nofollow\" target=\"_blank\" title=\"Program and Service Advisor\">Program and Service Advisor</a>\\n</h2>\\n<span class=\"company\" itemprop=\"hiringOrganization\" itemtype=\"http://schema.org/Organization\">\\n<span itemprop=\"name\">\\n    Victorian Government</span>\\n</span>\\n\\n - <span itemprop=\"jobLocation\" itemscope=\"\" itemtype=\"http://schema.org/Place\"><span class=\"location\" itemprop=\"address\" itemscope=\"\" itemtype=\"http://schema.org/Postaladdress\"><span itemprop=\"addressLocality\">Geelong VIC</span></span></span>\\n<table border=\"0\" cellpadding=\"0\" cellspacing=\"0\">\\n<tr>\\n<td class=\"snip\">\\nFull-time,\\xa0Contract<div>\\n<span class=\"summary\" itemprop=\"description\">\\nIn particular, a highly motivated individual with great <b>data</b> <b>analysis</b> and relationship management skills with health sector experience would suit this role....</span>\\n</div>\\n<div class=\"result-link-bar-container\">\\n<div class=\"result-link-bar\"><span class=\"date\">12 days ago</span> <span class=\"tt_set\" id=\"tt_set_0\"> - <span class=\"savelink2\" id=\"savelink2_ca8146b5d7b02d5f\"><a class=\"sl resultLink save-job-link\" href=\"#\" id=\"sj_ca8146b5d7b02d5f\" onclick=\"changeJobState('ca8146b5d7b02d5f', 'save', 'linkbar', false);return false;\" title=\"Save this job to my.indeed\">save job</a></span>  -  <a class=\"sl resultLink tellafriend-link \" href=\"mailto:?subject=I found this job on Indeed&amp;body=http://au.indeed.com\" onclick=\"toggleTellAFriend('ca8146b5d7b02d5f', 0, false); return false;\">email</a> - <a class=\"sl resultLink more-link \" href=\"#\" id=\"tog_0\" onclick=\"toggleMoreLinks('ca8146b5d7b02d5f'); return false;\">more...</a></span><div class=\"edit_note_content\" id=\"editsaved2_ca8146b5d7b02d5f\" style=\"display:none;\"></div><script>window['result_ca8146b5d7b02d5f'] = {\"showSource\": false, \"source\": \"Victorian Government\", \"loggedIn\": false, \"showMyJobsLinks\": true,\"undoAction\": \"unsave\",\"relativeJobAge\": \"12 days ago\",\"jobKey\": \"ca8146b5d7b02d5f\", \"myIndeedAvailable\": true, \"tellAFriendEnabled\": true, \"showMoreActionsLink\": true, \"resultNumber\": 0, \"jobStateChangedToSaved\": false, \"searchState\": \"q=(&quot;data scientist&quot; or &quot;customer analytics&quot; or &quot;data analysis&quot;)&amp;sort=&amp;radius=50&amp;fromage=any&amp;limit=10&amp;jt=all&amp;st=\", \"basicPermaLink\": \"http://au.indeed.com\", \"saveJobFailed\": false, \"removeJobFailed\": false, \"requestPending\": false, \"notesEnabled\": true, \"currentPage\" : \"serp\", \"sponsored\" : false,\"reportJobButtonEnabled\": false, \"showMyJobsHired\": false};</script></div></div>\\n<div class=\"tab-container\">\\n<div class=\"more-links-container result-tab\" id=\"tt_display_0\" style=\"display:none;\"><a class=\"close-link closeLink\" href=\"#\" onclick=\"toggleMoreLinks('ca8146b5d7b02d5f'); return false;\" title=\"Close\"></a><div class=\"more_actions\" id=\"more_0\"><ul><li><span class=\"mat\">View all <a href=\"/Victorian-Government-jobs\" rel=\"nofollow\">Victorian Government jobs</a> - <a href=\"/jobs-in-Geelong-VIC\">Geelong jobs</a></span></li><li><span class=\"mat\">Learn more about working at <a href=\"/cmp/Victorian-Government?fromjk=ca8146b5d7b02d5f&amp;from=serp-more&amp;campaignid=serp-more&amp;jcid=1818d10a60db56b4\">Victorian Government</a></span></li></ul></div></div><div class=\"dya-container result-tab\"></div>\\n<div class=\"tellafriend-container result-tab email_job_content\"></div>\\n<div class=\"sign-in-container result-tab\"></div>\\n<div class=\"notes-container result-tab\"></div>\\n</div>\\n</td>\\n</tr>\\n</table>\\n</div>\\n<div class=\" row result\" data-jk=\"7a9fe7de1beb85f9\" data-tn-component=\"organicJob\" id=\"p_7a9fe7de1beb85f9\" itemscope=\"\" itemtype=\"http://schema.org/JobPosting\">\\n<h2 class=\"jobtitle\" id=\"jl_7a9fe7de1beb85f9\">\\n<a class=\"turnstileLink\" data-tn-element=\"jobTitle\" href=\"/rc/clk?jk=7a9fe7de1beb85f9&amp;fccid=9605a3534a186df0\" itemprop=\"title\" onclick=\"setRefineByCookie(['radius']); return rclk(this,jobmap[1],true,0);\" onmousedown=\"return rclk(this,jobmap[1],0);\" rel=\"nofollow\" target=\"_blank\" title=\"Reliability Engineer - Christmas Creek\">Reliability Engineer - Christmas Creek</a>\\n</h2>\\n<span class=\"company\" itemprop=\"hiringOrganization\" itemtype=\"http://schema.org/Organization\">\\n<span itemprop=\"name\">\\n<a href=\"/cmp/Fortescue-Metals-Group?from=SERP&amp;campaignid=serp-linkcompanyname&amp;fromjk=7a9fe7de1beb85f9&amp;jcid=9605a3534a186df0\" target=\"_blank\">\\n    Fortescue Metals Group</a></span>\\n</span>\\n\\n - <a class=\"turnstileLink slNoUnderline \" data-tn-element=\"reviewStars\" data-tn-variant=\"cmplinktst2\" href=\"/cmp/Fortescue-Metals-Group/reviews?jcid=9605a3534a186df0\" onmousedown=\"this.href = appendParamsOnce(this.href, '?campaignid=cmplinktst2&amp;from=SERP&amp;jt=Reliability+Engineer+-+Christmas+Creek&amp;fromjk=7a9fe7de1beb85f9');\" target=\"_blank\" title=\"Fortescue Metals Group reviews\">\\n<span class=\"ratings\"><span class=\"rating\" style=\"width:46.199997px;\"><!-- --></span></span><span class=\"slNoUnderline\">23 reviews</span></a>\\n - <span itemprop=\"jobLocation\" itemscope=\"\" itemtype=\"http://schema.org/Place\"><span class=\"location\" itemprop=\"address\" itemscope=\"\" itemtype=\"http://schema.org/Postaladdress\"><span itemprop=\"addressLocality\">Pilbara WA</span></span></span>\\n<table border=\"0\" cellpadding=\"0\" cellspacing=\"0\">\\n<tr>\\n<td class=\"snip\">\\n<div>\\n<span class=\"summary\" itemprop=\"description\">\\n<b>Analysis</b> and reporting of fleet performance. The role of the reliability engineer is to provide technical support using initiatives and applying reliability...</span>\\n</div>\\n<div class=\"result-link-bar-container\">\\n<div class=\"result-link-bar\"><span class=\"date\">3 days ago</span> <span class=\"tt_set\" id=\"tt_set_1\"> - <span class=\"savelink2\" id=\"savelink2_7a9fe7de1beb85f9\"><a class=\"sl resultLink save-job-link\" href=\"#\" id=\"sj_7a9fe7de1beb85f9\" onclick=\"changeJobState('7a9fe7de1beb85f9', 'save', 'linkbar', false);return false;\" title=\"Save this job to my.indeed\">save job</a></span>  -  <a class=\"sl resultLink tellafriend-link \" href=\"mailto:?subject=I found this job on Indeed&amp;body=http://au.indeed.com\" onclick=\"toggleTellAFriend('7a9fe7de1beb85f9', 1, false); return false;\">email</a> - <a class=\"sl resultLink more-link \" href=\"#\" id=\"tog_1\" onclick=\"toggleMoreLinks('7a9fe7de1beb85f9'); return false;\">more...</a></span><div class=\"edit_note_content\" id=\"editsaved2_7a9fe7de1beb85f9\" style=\"display:none;\"></div><script>window['result_7a9fe7de1beb85f9'] = {\"showSource\": false, \"source\": \"Fortescue Metals Group\", \"loggedIn\": false, \"showMyJobsLinks\": true,\"undoAction\": \"unsave\",\"relativeJobAge\": \"3 days ago\",\"jobKey\": \"7a9fe7de1beb85f9\", \"myIndeedAvailable\": true, \"tellAFriendEnabled\": true, \"showMoreActionsLink\": true, \"resultNumber\": 1, \"jobStateChangedToSaved\": false, \"searchState\": \"q=(&quot;data scientist&quot; or &quot;customer analytics&quot; or &quot;data analysis&quot;)&amp;sort=&amp;radius=50&amp;fromage=any&amp;limit=10&amp;jt=all&amp;st=\", \"basicPermaLink\": \"http://au.indeed.com\", \"saveJobFailed\": false, \"removeJobFailed\": false, \"requestPending\": false, \"notesEnabled\": true, \"currentPage\" : \"serp\", \"sponsored\" : false,\"reportJobButtonEnabled\": false, \"showMyJobsHired\": false};</script></div></div>\\n<div class=\"tab-container\">\\n<div class=\"more-links-container result-tab\" id=\"tt_display_1\" style=\"display:none;\"><a class=\"close-link closeLink\" href=\"#\" onclick=\"toggleMoreLinks('7a9fe7de1beb85f9'); return false;\" title=\"Close\"></a><div class=\"more_actions\" id=\"more_1\"><ul><li><span class=\"mat\">View all <a href=\"/Fortescue-Metals-Group-jobs\" rel=\"nofollow\">Fortescue Metals Group jobs</a> - <a href=\"/jobs-in-Pilbara-WA\">Pilbara jobs</a></span></li><li><span class=\"mat\">Learn more about working at <a href=\"/cmp/Fortescue-Metals-Group?fromjk=7a9fe7de1beb85f9&amp;from=serp-more&amp;campaignid=serp-more&amp;jcid=9605a3534a186df0\">Fortescue Metals Group</a></span></li></ul></div></div><div class=\"dya-container result-tab\"></div>\\n<div class=\"tellafriend-container result-tab email_job_content\"></div>\\n<div class=\"sign-in-container result-tab\"></div>\\n<div class=\"notes-container result-tab\"></div>\\n</div>\\n</td>\\n</tr>\\n</table>\\n</div>\\n<div class=\" row result\" data-jk=\"35211e3965486c66\" data-tn-component=\"organicJob\" id=\"p_35211e3965486c66\" itemscope=\"\" itemtype=\"http://schema.org/JobPosting\">\\n<h2 class=\"jobtitle\" id=\"jl_35211e3965486c66\">\\n<a class=\"turnstileLink\" data-tn-element=\"jobTitle\" href=\"/rc/clk?jk=35211e3965486c66&amp;fccid=b144006bbf2d95a5\" itemprop=\"title\" onclick=\"setRefineByCookie(['radius']); return rclk(this,jobmap[2],true,0);\" onmousedown=\"return rclk(this,jobmap[2],0);\" rel=\"nofollow\" target=\"_blank\" title=\"Data Analyst / Administrator\"><b>Data</b> Analyst / Administrator</a>\\n</h2>\\n<span class=\"company\" itemprop=\"hiringOrganization\" itemtype=\"http://schema.org/Organization\">\\n<span itemprop=\"name\">\\n<a href=\"/cmp/Brookfield?from=SERP&amp;campaignid=serp-linkcompanyname&amp;fromjk=35211e3965486c66&amp;jcid=b144006bbf2d95a5\" target=\"_blank\">\\n    Brookfield</a></span>\\n</span>\\n\\n - <a class=\"turnstileLink slNoUnderline \" data-tn-element=\"reviewStars\" data-tn-variant=\"cmplinktst2\" href=\"/cmp/Brookfield/reviews?jcid=b144006bbf2d95a5\" onmousedown=\"this.href = appendParamsOnce(this.href, '?campaignid=cmplinktst2&amp;from=SERP&amp;jt=Data+Analyst+%5C%2F+Administrator&amp;fromjk=35211e3965486c66');\" target=\"_blank\" title=\"Brookfield reviews\">\\n<span class=\"ratings\"><span class=\"rating\" style=\"width:45.1px;\"><!-- --></span></span><span class=\"slNoUnderline\">21 reviews</span></a>\\n - <span itemprop=\"jobLocation\" itemscope=\"\" itemtype=\"http://schema.org/Place\"><span class=\"location\" itemprop=\"address\" itemscope=\"\" itemtype=\"http://schema.org/Postaladdress\"><span itemprop=\"addressLocality\">Sydney NSW</span></span></span>\\n<table border=\"0\" cellpadding=\"0\" cellspacing=\"0\">\\n<tr>\\n<td class=\"snip\">\\n<div>\\n<span class=\"summary\" itemprop=\"description\">\\nUndertake <b>data</b> <b>analysis</b>, cleansing, validation and updates. Management of <b>data</b> including; <b>Data</b> and system incident management;...</span>\\n</div>\\n<div class=\"result-link-bar-container\">\\n<div class=\"result-link-bar\"><span class=\"date\">28 days ago</span> <span class=\"tt_set\" id=\"tt_set_2\"> - <span class=\"savelink2\" id=\"savelink2_35211e3965486c66\"><a class=\"sl resultLink save-job-link\" href=\"#\" id=\"sj_35211e3965486c66\" onclick=\"changeJobState('35211e3965486c66', 'save', 'linkbar', false);return false;\" title=\"Save this job to my.indeed\">save job</a></span>  -  <a class=\"sl resultLink tellafriend-link \" href=\"mailto:?subject=I found this job on Indeed&amp;body=http://au.indeed.com\" onclick=\"toggleTellAFriend('35211e3965486c66', 2, false); return false;\">email</a> - <a class=\"sl resultLink more-link \" href=\"#\" id=\"tog_2\" onclick=\"toggleMoreLinks('35211e3965486c66'); return false;\">more...</a></span><div class=\"edit_note_content\" id=\"editsaved2_35211e3965486c66\" style=\"display:none;\"></div><script>window['result_35211e3965486c66'] = {\"showSource\": false, \"source\": \"Brookfield\", \"loggedIn\": false, \"showMyJobsLinks\": true,\"undoAction\": \"unsave\",\"relativeJobAge\": \"28 days ago\",\"jobKey\": \"35211e3965486c66\", \"myIndeedAvailable\": true, \"tellAFriendEnabled\": true, \"showMoreActionsLink\": true, \"resultNumber\": 2, \"jobStateChangedToSaved\": false, \"searchState\": \"q=(&quot;data scientist&quot; or &quot;customer analytics&quot; or &quot;data analysis&quot;)&amp;sort=&amp;radius=50&amp;fromage=any&amp;limit=10&amp;jt=all&amp;st=\", \"basicPermaLink\": \"http://au.indeed.com\", \"saveJobFailed\": false, \"removeJobFailed\": false, \"requestPending\": false, \"notesEnabled\": true, \"currentPage\" : \"serp\", \"sponsored\" : false,\"reportJobButtonEnabled\": false, \"showMyJobsHired\": false};</script></div></div>\\n<div class=\"tab-container\">\\n<div class=\"more-links-container result-tab\" id=\"tt_display_2\" style=\"display:none;\"><a class=\"close-link closeLink\" href=\"#\" onclick=\"toggleMoreLinks('35211e3965486c66'); return false;\" title=\"Close\"></a><div class=\"more_actions\" id=\"more_2\"><ul><li><span class=\"mat\">View all <a href=\"/Brookfield-jobs\" rel=\"nofollow\">Brookfield jobs</a> - <a href=\"/jobs-in-Sydney-NSW\">Sydney jobs</a></span></li></ul></div></div><div class=\"dya-container result-tab\"></div>\\n<div class=\"tellafriend-container result-tab email_job_content\"></div>\\n<div class=\"sign-in-container result-tab\"></div>\\n<div class=\"notes-container result-tab\"></div>\\n</div>\\n</td>\\n</tr>\\n</table>\\n</div>\\n<div class=\" row result\" data-jk=\"90d5230fdc16cb28\" data-tn-component=\"organicJob\" id=\"p_90d5230fdc16cb28\" itemscope=\"\" itemtype=\"http://schema.org/JobPosting\">\\n<h2 class=\"jobtitle\" id=\"jl_90d5230fdc16cb28\">\\n<a class=\"turnstileLink\" data-tn-element=\"jobTitle\" href=\"/rc/clk?jk=90d5230fdc16cb28&amp;fccid=7414fd5891b0ddd2\" itemprop=\"title\" onclick=\"setRefineByCookie(['radius']); return rclk(this,jobmap[3],true,0);\" onmousedown=\"return rclk(this,jobmap[3],0);\" rel=\"nofollow\" target=\"_blank\" title=\"Test Data Analyst\">Test <b>Data</b> Analyst</a>\\n</h2>\\n<span class=\"company\" itemprop=\"hiringOrganization\" itemtype=\"http://schema.org/Organization\">\\n<span itemprop=\"name\">\\n    UniSuper</span>\\n</span>\\n\\n - <span itemprop=\"jobLocation\" itemscope=\"\" itemtype=\"http://schema.org/Place\"><span class=\"location\" itemprop=\"address\" itemscope=\"\" itemtype=\"http://schema.org/Postaladdress\"><span itemprop=\"addressLocality\">Melbourne VIC</span></span></span>\\n<table border=\"0\" cellpadding=\"0\" cellspacing=\"0\">\\n<tr>\\n<td class=\"snip\">\\n<div>\\n<span class=\"summary\" itemprop=\"description\">\\nExtensive <b>data</b> extract, <b>analysis</b> and reporting experience. As a Test <b>Data</b> Analyst you will perform complex <b>data</b> <b>analysis</b> testing to ensure that changes to new...</span>\\n</div>\\n<div class=\"iaP\">\\n<span class=\"iaLabel\"> Easily apply to this job</span>\\n</div><div class=\"result-link-bar-container\">\\n<div class=\"result-link-bar\"><span class=\"date\">11 days ago</span> <span class=\"tt_set\" id=\"tt_set_3\"> - <span class=\"savelink2\" id=\"savelink2_90d5230fdc16cb28\"><a class=\"sl resultLink save-job-link\" href=\"#\" id=\"sj_90d5230fdc16cb28\" onclick=\"changeJobState('90d5230fdc16cb28', 'save', 'linkbar', false);return false;\" title=\"Save this job to my.indeed\">save job</a></span>  -  <a class=\"sl resultLink tellafriend-link \" href=\"mailto:?subject=I found this job on Indeed&amp;body=http://au.indeed.com\" onclick=\"toggleTellAFriend('90d5230fdc16cb28', 3, false); return false;\">email</a> - <a class=\"sl resultLink more-link \" href=\"#\" id=\"tog_3\" onclick=\"toggleMoreLinks('90d5230fdc16cb28'); return false;\">more...</a></span><div class=\"edit_note_content\" id=\"editsaved2_90d5230fdc16cb28\" style=\"display:none;\"></div><script>window['result_90d5230fdc16cb28'] = {\"showSource\": false, \"source\": \"UniSuper\", \"loggedIn\": false, \"showMyJobsLinks\": true,\"undoAction\": \"unsave\",\"relativeJobAge\": \"11 days ago\",\"jobKey\": \"90d5230fdc16cb28\", \"myIndeedAvailable\": true, \"tellAFriendEnabled\": true, \"showMoreActionsLink\": true, \"resultNumber\": 3, \"jobStateChangedToSaved\": false, \"searchState\": \"q=(&quot;data scientist&quot; or &quot;customer analytics&quot; or &quot;data analysis&quot;)&amp;sort=&amp;radius=50&amp;fromage=any&amp;limit=10&amp;jt=all&amp;st=\", \"basicPermaLink\": \"http://au.indeed.com\", \"saveJobFailed\": false, \"removeJobFailed\": false, \"requestPending\": false, \"notesEnabled\": true, \"currentPage\" : \"serp\", \"sponsored\" : false,\"reportJobButtonEnabled\": false, \"showMyJobsHired\": false};</script></div></div>\\n<div class=\"tab-container\">\\n<div class=\"more-links-container result-tab\" id=\"tt_display_3\" style=\"display:none;\"><a class=\"close-link closeLink\" href=\"#\" onclick=\"toggleMoreLinks('90d5230fdc16cb28'); return false;\" title=\"Close\"></a><div class=\"more_actions\" id=\"more_3\"><ul><li><span class=\"mat\">View all <a href=\"/Unisuper-jobs\" rel=\"nofollow\">UniSuper jobs</a> - <a href=\"/jobs-in-Melbourne-VIC\">Melbourne jobs</a></span></li></ul></div></div><div class=\"dya-container result-tab\"></div>\\n<div class=\"tellafriend-container result-tab email_job_content\"></div>\\n<div class=\"sign-in-container result-tab\"></div>\\n<div class=\"notes-container result-tab\"></div>\\n</div>\\n</td>\\n</tr>\\n</table>\\n</div>\\n<div class=\" row result\" data-jk=\"1c41fd61f33c7f7a\" data-tn-component=\"organicJob\" id=\"p_1c41fd61f33c7f7a\" itemscope=\"\" itemtype=\"http://schema.org/JobPosting\">\\n<h2 class=\"jobtitle\" id=\"jl_1c41fd61f33c7f7a\">\\n<a class=\"turnstileLink\" data-tn-element=\"jobTitle\" href=\"/rc/clk?jk=1c41fd61f33c7f7a&amp;fccid=9f1632b30ffb46f4\" itemprop=\"title\" onclick=\"setRefineByCookie(['radius']); return rclk(this,jobmap[4],true,0);\" onmousedown=\"return rclk(this,jobmap[4],0);\" rel=\"nofollow\" target=\"_blank\" title=\"Stock Coordinator - Support Centre QLD\">Stock Coordinator - Support Centre QLD</a>\\n</h2>\\n<span class=\"company\" itemprop=\"hiringOrganization\" itemtype=\"http://schema.org/Organization\">\\n<span itemprop=\"name\">\\n<a href=\"/cmp/Lorna-Jane?from=SERP&amp;campaignid=serp-linkcompanyname&amp;fromjk=1c41fd61f33c7f7a&amp;jcid=9f1632b30ffb46f4\" target=\"_blank\">\\n    Lorna Jane</a></span>\\n</span>\\n\\n - <a class=\"turnstileLink slNoUnderline \" data-tn-element=\"reviewStars\" data-tn-variant=\"cmplinktst2\" href=\"/cmp/Lorna-Jane/reviews?jcid=9f1632b30ffb46f4\" onmousedown=\"this.href = appendParamsOnce(this.href, '?campaignid=cmplinktst2&amp;from=SERP&amp;jt=Stock+Coordinator+-+Support+Centre+QLD&amp;fromjk=1c41fd61f33c7f7a');\" target=\"_blank\" title=\"Lorna Jane reviews\">\\n<span class=\"ratings\"><span class=\"rating\" style=\"width:40.7px;\"><!-- --></span></span><span class=\"slNoUnderline\">19 reviews</span></a>\\n - <span itemprop=\"jobLocation\" itemscope=\"\" itemtype=\"http://schema.org/Place\"><span class=\"location\" itemprop=\"address\" itemscope=\"\" itemtype=\"http://schema.org/Postaladdress\"><span itemprop=\"addressLocality\">Queensland</span></span></span>\\n<table border=\"0\" cellpadding=\"0\" cellspacing=\"0\">\\n<tr>\\n<td class=\"snip\">\\n<div>\\n<span class=\"summary\" itemprop=\"description\">\\n<b>Analysis</b> of sales <b>data</b> and through reports to supply. Combining a love of LJ Active Wear and <b>data</b> <b>analysis</b> with....</span>\\n</div>\\n<div class=\"result-link-bar-container\">\\n<div class=\"result-link-bar\"><span class=\"date\">3 days ago</span> <span class=\"tt_set\" id=\"tt_set_4\"> - <span class=\"savelink2\" id=\"savelink2_1c41fd61f33c7f7a\"><a class=\"sl resultLink save-job-link\" href=\"#\" id=\"sj_1c41fd61f33c7f7a\" onclick=\"changeJobState('1c41fd61f33c7f7a', 'save', 'linkbar', false);return false;\" title=\"Save this job to my.indeed\">save job</a></span>  -  <a class=\"sl resultLink tellafriend-link \" href=\"mailto:?subject=I found this job on Indeed&amp;body=http://au.indeed.com\" onclick=\"toggleTellAFriend('1c41fd61f33c7f7a', 4, false); return false;\">email</a> - <a class=\"sl resultLink more-link \" href=\"#\" id=\"tog_4\" onclick=\"toggleMoreLinks('1c41fd61f33c7f7a'); return false;\">more...</a></span><div class=\"edit_note_content\" id=\"editsaved2_1c41fd61f33c7f7a\" style=\"display:none;\"></div><script>window['result_1c41fd61f33c7f7a'] = {\"showSource\": false, \"source\": \"Lorna Jane\", \"loggedIn\": false, \"showMyJobsLinks\": true,\"undoAction\": \"unsave\",\"relativeJobAge\": \"3 days ago\",\"jobKey\": \"1c41fd61f33c7f7a\", \"myIndeedAvailable\": true, \"tellAFriendEnabled\": true, \"showMoreActionsLink\": true, \"resultNumber\": 4, \"jobStateChangedToSaved\": false, \"searchState\": \"q=(&quot;data scientist&quot; or &quot;customer analytics&quot; or &quot;data analysis&quot;)&amp;sort=&amp;radius=50&amp;fromage=any&amp;limit=10&amp;jt=all&amp;st=\", \"basicPermaLink\": \"http://au.indeed.com\", \"saveJobFailed\": false, \"removeJobFailed\": false, \"requestPending\": false, \"notesEnabled\": true, \"currentPage\" : \"serp\", \"sponsored\" : false,\"reportJobButtonEnabled\": false, \"showMyJobsHired\": false};</script></div></div>\\n<div class=\"tab-container\">\\n<div class=\"more-links-container result-tab\" id=\"tt_display_4\" style=\"display:none;\"><a class=\"close-link closeLink\" href=\"#\" onclick=\"toggleMoreLinks('1c41fd61f33c7f7a'); return false;\" title=\"Close\"></a><div class=\"more_actions\" id=\"more_4\"><ul><li><span class=\"mat\">View all <a href=\"/Lorna-Jane-jobs\" rel=\"nofollow\">Lorna Jane jobs</a> - <a href=\"/jobs-in-Queensland\">Queensland jobs</a></span></li><li><span class=\"mat\">Learn more about working at <a href=\"/cmp/Lorna-Jane?fromjk=1c41fd61f33c7f7a&amp;from=serp-more&amp;campaignid=serp-more&amp;jcid=9f1632b30ffb46f4\">Lorna Jane</a></span></li></ul></div></div><div class=\"dya-container result-tab\"></div>\\n<div class=\"tellafriend-container result-tab email_job_content\"></div>\\n<div class=\"sign-in-container result-tab\"></div>\\n<div class=\"notes-container result-tab\"></div>\\n</div>\\n</td>\\n</tr>\\n</table>\\n</div>\\n<div class=\" row result\" data-jk=\"e404043290252ddc\" data-tn-component=\"organicJob\" id=\"p_e404043290252ddc\" itemscope=\"\" itemtype=\"http://schema.org/JobPosting\">\\n<h2 class=\"jobtitle\" id=\"jl_e404043290252ddc\">\\n<a class=\"turnstileLink\" data-tn-element=\"jobTitle\" href=\"/rc/clk?jk=e404043290252ddc&amp;fccid=bca6f10d73dbbf6c\" itemprop=\"title\" onclick=\"setRefineByCookie(['radius']); return rclk(this,jobmap[5],true,1);\" onmousedown=\"return rclk(this,jobmap[5],1);\" rel=\"nofollow\" target=\"_blank\" title=\"Scholarly Teaching Fellow\">Scholarly Teaching Fellow</a>\\n</h2>\\n<span class=\"company\" itemprop=\"hiringOrganization\" itemtype=\"http://schema.org/Organization\">\\n<span itemprop=\"name\">\\n<a href=\"/cmp/Macquarie-University?from=SERP&amp;campaignid=serp-linkcompanyname&amp;fromjk=e404043290252ddc&amp;jcid=bca6f10d73dbbf6c\" target=\"_blank\">\\n    Macquarie University</a></span>\\n</span>\\n\\n - <a class=\"turnstileLink slNoUnderline \" data-tn-element=\"reviewStars\" data-tn-variant=\"cmplinktst2\" href=\"/cmp/Macquarie-University/reviews?jcid=bca6f10d73dbbf6c\" onmousedown=\"this.href = appendParamsOnce(this.href, '?campaignid=cmplinktst2&amp;from=SERP&amp;jt=Scholarly+Teaching+Fellow&amp;fromjk=e404043290252ddc');\" target=\"_blank\" title=\"Macquarie University reviews\">\\n<span class=\"ratings\"><span class=\"rating\" style=\"width:45.1px;\"><!-- --></span></span><span class=\"slNoUnderline\">11 reviews</span></a>\\n - <span itemprop=\"jobLocation\" itemscope=\"\" itemtype=\"http://schema.org/Place\"><span class=\"location\" itemprop=\"address\" itemscope=\"\" itemtype=\"http://schema.org/Postaladdress\"><span itemprop=\"addressLocality\">Macquarie University NSW</span></span></span>\\n<table border=\"0\" cellpadding=\"0\" cellspacing=\"0\">\\n<tr>\\n<td class=\"snip\">\\n<nobr>$68,324 - $92,000 a year</nobr>\\n - Full-time,\\xa0Part-time<div>\\n<span class=\"summary\" itemprop=\"description\">\\nExperience in acoustic, articulatory and/or perceptual speech <b>data</b> <b>analysis</b>. Macquarie is the university of pioneering minds....</span>\\n</div>\\n<div class=\"result-link-bar-container\">\\n<div class=\"result-link-bar\"><span class=\"date\">13 days ago</span> <span class=\"tt_set\" id=\"tt_set_5\"> - <span class=\"savelink2\" id=\"savelink2_e404043290252ddc\"><a class=\"sl resultLink save-job-link\" href=\"#\" id=\"sj_e404043290252ddc\" onclick=\"changeJobState('e404043290252ddc', 'save', 'linkbar', false);return false;\" title=\"Save this job to my.indeed\">save job</a></span>  -  <a class=\"sl resultLink tellafriend-link \" href=\"mailto:?subject=I found this job on Indeed&amp;body=http://au.indeed.com\" onclick=\"toggleTellAFriend('e404043290252ddc', 5, false); return false;\">email</a> - <a class=\"sl resultLink more-link \" href=\"#\" id=\"tog_5\" onclick=\"toggleMoreLinks('e404043290252ddc'); return false;\">more...</a></span><div class=\"edit_note_content\" id=\"editsaved2_e404043290252ddc\" style=\"display:none;\"></div><script>window['result_e404043290252ddc'] = {\"showSource\": false, \"source\": \"Macquarie University\", \"loggedIn\": false, \"showMyJobsLinks\": true,\"undoAction\": \"unsave\",\"relativeJobAge\": \"13 days ago\",\"jobKey\": \"e404043290252ddc\", \"myIndeedAvailable\": true, \"tellAFriendEnabled\": true, \"showMoreActionsLink\": true, \"resultNumber\": 5, \"jobStateChangedToSaved\": false, \"searchState\": \"q=(&quot;data scientist&quot; or &quot;customer analytics&quot; or &quot;data analysis&quot;)&amp;sort=&amp;radius=50&amp;fromage=any&amp;limit=10&amp;jt=all&amp;st=\", \"basicPermaLink\": \"http://au.indeed.com\", \"saveJobFailed\": false, \"removeJobFailed\": false, \"requestPending\": false, \"notesEnabled\": true, \"currentPage\" : \"serp\", \"sponsored\" : false,\"reportJobButtonEnabled\": false, \"showMyJobsHired\": false};</script></div></div>\\n<div class=\"tab-container\">\\n<div class=\"more-links-container result-tab\" id=\"tt_display_5\" style=\"display:none;\"><a class=\"close-link closeLink\" href=\"#\" onclick=\"toggleMoreLinks('e404043290252ddc'); return false;\" title=\"Close\"></a><div class=\"more_actions\" id=\"more_5\"><ul><li><span class=\"mat\">View all <a href=\"/Macquarie-University-jobs\" rel=\"nofollow\">Macquarie University jobs</a> - <a href=\"/jobs-in-Macquarie-University-NSW\">Macquarie University jobs</a></span></li><li><span class=\"mat\">Learn more about working at <a href=\"/cmp/Macquarie-University?fromjk=e404043290252ddc&amp;from=serp-more&amp;campaignid=serp-more&amp;jcid=bca6f10d73dbbf6c\">Macquarie University</a></span></li></ul></div></div><div class=\"dya-container result-tab\"></div>\\n<div class=\"tellafriend-container result-tab email_job_content\"></div>\\n<div class=\"sign-in-container result-tab\"></div>\\n<div class=\"notes-container result-tab\"></div>\\n</div>\\n</td>\\n</tr>\\n</table>\\n</div>\\n<div class=\" row result\" data-jk=\"845365829ba37eda\" data-tn-component=\"organicJob\" id=\"p_845365829ba37eda\" itemscope=\"\" itemtype=\"http://schema.org/JobPosting\">\\n<h2 class=\"jobtitle\" id=\"jl_845365829ba37eda\">\\n<a class=\"turnstileLink\" data-tn-element=\"jobTitle\" href=\"/rc/clk?jk=845365829ba37eda&amp;fccid=2973259ddc967948\" itemprop=\"title\" onclick=\"setRefineByCookie(['radius']); return rclk(this,jobmap[6],true,0);\" onmousedown=\"return rclk(this,jobmap[6],0);\" rel=\"nofollow\" target=\"_blank\" title=\"Global Purchasing Procurement Analyst\">Global Purchasing Procurement Analyst</a>\\n</h2>\\n<span class=\"company\" itemprop=\"hiringOrganization\" itemtype=\"http://schema.org/Organization\">\\n<span itemprop=\"name\">\\n<a href=\"/cmp/PepsiCo?from=SERP&amp;campaignid=serp-linkcompanyname&amp;fromjk=845365829ba37eda&amp;jcid=2973259ddc967948\" target=\"_blank\">\\n    PepsiCo</a></span>\\n</span>\\n\\n - <a class=\"turnstileLink slNoUnderline \" data-tn-element=\"reviewStars\" data-tn-variant=\"cmplinktst2\" href=\"/cmp/PepsiCo/reviews?jcid=2973259ddc967948\" onmousedown=\"this.href = appendParamsOnce(this.href, '?campaignid=cmplinktst2&amp;from=SERP&amp;jt=Global+Purchasing+Procurement+Analyst&amp;fromjk=845365829ba37eda');\" target=\"_blank\" title=\"PepsiCo reviews\">\\n<span class=\"ratings\"><span class=\"rating\" style=\"width:42.9px;\"><!-- --></span></span><span class=\"slNoUnderline\">4,712 reviews</span></a>\\n - <span itemprop=\"jobLocation\" itemscope=\"\" itemtype=\"http://schema.org/Place\"><span class=\"location\" itemprop=\"address\" itemscope=\"\" itemtype=\"http://schema.org/Postaladdress\"><span itemprop=\"addressLocality\">Chatswood NSW</span></span></span>\\n<table border=\"0\" cellpadding=\"0\" cellspacing=\"0\">\\n<tr>\\n<td class=\"snip\">\\n<div>\\n<span class=\"summary\" itemprop=\"description\">\\nYou will be responsible for managing performance metrics, insightful reports, <b>data</b> <b>analytics</b>, and commodity risk compliance, coupled with regular engagement...</span>\\n</div>\\n<div class=\"result-link-bar-container\">\\n<div class=\"result-link-bar\"><span class=\"date\">6 days ago</span> <span class=\"tt_set\" id=\"tt_set_6\"> - <span class=\"savelink2\" id=\"savelink2_845365829ba37eda\"><a class=\"sl resultLink save-job-link\" href=\"#\" id=\"sj_845365829ba37eda\" onclick=\"changeJobState('845365829ba37eda', 'save', 'linkbar', false);return false;\" title=\"Save this job to my.indeed\">save job</a></span>  -  <a class=\"sl resultLink tellafriend-link \" href=\"mailto:?subject=I found this job on Indeed&amp;body=http://au.indeed.com\" onclick=\"toggleTellAFriend('845365829ba37eda', 6, false); return false;\">email</a> - <a class=\"sl resultLink more-link \" href=\"#\" id=\"tog_6\" onclick=\"toggleMoreLinks('845365829ba37eda'); return false;\">more...</a></span><div class=\"edit_note_content\" id=\"editsaved2_845365829ba37eda\" style=\"display:none;\"></div><script>window['result_845365829ba37eda'] = {\"showSource\": false, \"source\": \"PepsiCo\", \"loggedIn\": false, \"showMyJobsLinks\": true,\"undoAction\": \"unsave\",\"relativeJobAge\": \"6 days ago\",\"jobKey\": \"845365829ba37eda\", \"myIndeedAvailable\": true, \"tellAFriendEnabled\": true, \"showMoreActionsLink\": true, \"resultNumber\": 6, \"jobStateChangedToSaved\": false, \"searchState\": \"q=(&quot;data scientist&quot; or &quot;customer analytics&quot; or &quot;data analysis&quot;)&amp;sort=&amp;radius=50&amp;fromage=any&amp;limit=10&amp;jt=all&amp;st=\", \"basicPermaLink\": \"http://au.indeed.com\", \"saveJobFailed\": false, \"removeJobFailed\": false, \"requestPending\": false, \"notesEnabled\": true, \"currentPage\" : \"serp\", \"sponsored\" : false,\"reportJobButtonEnabled\": false, \"showMyJobsHired\": false};</script></div></div>\\n<div class=\"tab-container\">\\n<div class=\"more-links-container result-tab\" id=\"tt_display_6\" style=\"display:none;\"><a class=\"close-link closeLink\" href=\"#\" onclick=\"toggleMoreLinks('845365829ba37eda'); return false;\" title=\"Close\"></a><div class=\"more_actions\" id=\"more_6\"><ul><li><span class=\"mat\">View all <a href=\"/PepsiCo-jobs\" rel=\"nofollow\">PepsiCo jobs</a> - <a href=\"/jobs-in-Chatswood-NSW\">Chatswood jobs</a></span></li><li><span class=\"mat\">Learn more about working at <a href=\"/cmp/PepsiCo?fromjk=845365829ba37eda&amp;from=serp-more&amp;campaignid=serp-more&amp;jcid=2973259ddc967948\">PepsiCo</a></span></li></ul></div></div><div class=\"dya-container result-tab\"></div>\\n<div class=\"tellafriend-container result-tab email_job_content\"></div>\\n<div class=\"sign-in-container result-tab\"></div>\\n<div class=\"notes-container result-tab\"></div>\\n</div>\\n</td>\\n</tr>\\n</table>\\n</div>\\n<div class=\" row result\" data-jk=\"29209de19e74c885\" data-tn-component=\"organicJob\" id=\"p_29209de19e74c885\" itemscope=\"\" itemtype=\"http://schema.org/JobPosting\">\\n<h2 class=\"jobtitle\" id=\"jl_29209de19e74c885\">\\n<a class=\"turnstileLink\" data-tn-element=\"jobTitle\" href=\"/rc/clk?jk=29209de19e74c885&amp;fccid=5e964c4afc56b180\" itemprop=\"title\" onclick=\"setRefineByCookie(['radius']); return rclk(this,jobmap[7],true,0);\" onmousedown=\"return rclk(this,jobmap[7],0);\" rel=\"nofollow\" target=\"_blank\" title=\"Insight Analytics Manager\">Insight <b>Analytics</b> Manager</a>\\n</h2>\\n<span class=\"company\" itemprop=\"hiringOrganization\" itemtype=\"http://schema.org/Organization\">\\n<span itemprop=\"name\">\\n<a href=\"/cmp/Pwc?from=SERP&amp;campaignid=serp-linkcompanyname&amp;fromjk=29209de19e74c885&amp;jcid=5e964c4afc56b180\" target=\"_blank\">\\n    PwC</a></span>\\n</span>\\n\\n - <a class=\"turnstileLink slNoUnderline \" data-tn-element=\"reviewStars\" data-tn-variant=\"cmplinktst2\" href=\"/cmp/Pwc/reviews?jcid=5e964c4afc56b180\" onmousedown=\"this.href = appendParamsOnce(this.href, '?campaignid=cmplinktst2&amp;from=SERP&amp;jt=Insight+Analytics+Manager&amp;fromjk=29209de19e74c885');\" target=\"_blank\" title=\"Pwc reviews\">\\n<span class=\"ratings\"><span class=\"rating\" style=\"width:44.0px;\"><!-- --></span></span><span class=\"slNoUnderline\">2,342 reviews</span></a>\\n - <span itemprop=\"jobLocation\" itemscope=\"\" itemtype=\"http://schema.org/Place\"><span class=\"location\" itemprop=\"address\" itemscope=\"\" itemtype=\"http://schema.org/Postaladdress\"><span itemprop=\"addressLocality\">Melbourne VIC</span></span></span>\\n<table border=\"0\" cellpadding=\"0\" cellspacing=\"0\">\\n<tr>\\n<td class=\"snip\">\\n<div>\\n<span class=\"summary\" itemprop=\"description\">\\nInsight <b>Analytics</b> Manager. PwC is a world leader in the use of <b>data</b> <b>analytics</b> to help business and government clients make better decisions and improve their...</span>\\n</div>\\n<div class=\"result-link-bar-container\">\\n<div class=\"result-link-bar\"><span class=\"date\">30+ days ago</span> <span class=\"tt_set\" id=\"tt_set_7\"> - <span class=\"savelink2\" id=\"savelink2_29209de19e74c885\"><a class=\"sl resultLink save-job-link\" href=\"#\" id=\"sj_29209de19e74c885\" onclick=\"changeJobState('29209de19e74c885', 'save', 'linkbar', false);return false;\" title=\"Save this job to my.indeed\">save job</a></span>  -  <a class=\"sl resultLink tellafriend-link \" href=\"mailto:?subject=I found this job on Indeed&amp;body=http://au.indeed.com\" onclick=\"toggleTellAFriend('29209de19e74c885', 7, false); return false;\">email</a> - <a class=\"sl resultLink more-link \" href=\"#\" id=\"tog_7\" onclick=\"toggleMoreLinks('29209de19e74c885'); return false;\">more...</a></span><div class=\"edit_note_content\" id=\"editsaved2_29209de19e74c885\" style=\"display:none;\"></div><script>window['result_29209de19e74c885'] = {\"showSource\": false, \"source\": \"PwC\", \"loggedIn\": false, \"showMyJobsLinks\": true,\"undoAction\": \"unsave\",\"relativeJobAge\": \"30+ days ago\",\"jobKey\": \"29209de19e74c885\", \"myIndeedAvailable\": true, \"tellAFriendEnabled\": true, \"showMoreActionsLink\": true, \"resultNumber\": 7, \"jobStateChangedToSaved\": false, \"searchState\": \"q=(&quot;data scientist&quot; or &quot;customer analytics&quot; or &quot;data analysis&quot;)&amp;sort=&amp;radius=50&amp;fromage=any&amp;limit=10&amp;jt=all&amp;st=\", \"basicPermaLink\": \"http://au.indeed.com\", \"saveJobFailed\": false, \"removeJobFailed\": false, \"requestPending\": false, \"notesEnabled\": true, \"currentPage\" : \"serp\", \"sponsored\" : false,\"reportJobButtonEnabled\": false, \"showMyJobsHired\": false};</script></div></div>\\n<div class=\"tab-container\">\\n<div class=\"more-links-container result-tab\" id=\"tt_display_7\" style=\"display:none;\"><a class=\"close-link closeLink\" href=\"#\" onclick=\"toggleMoreLinks('29209de19e74c885'); return false;\" title=\"Close\"></a><div class=\"more_actions\" id=\"more_7\"><ul><li><span class=\"mat\">View all <a href=\"/Pwc-jobs\" rel=\"nofollow\">PwC jobs</a> - <a href=\"/jobs-in-Melbourne-VIC\">Melbourne jobs</a></span></li><li><span class=\"mat\">Learn more about working at <a href=\"/cmp/Pwc?fromjk=29209de19e74c885&amp;from=serp-more&amp;campaignid=serp-more&amp;jcid=5e964c4afc56b180\">Pwc</a></span></li></ul></div></div><div class=\"dya-container result-tab\"></div>\\n<div class=\"tellafriend-container result-tab email_job_content\"></div>\\n<div class=\"sign-in-container result-tab\"></div>\\n<div class=\"notes-container result-tab\"></div>\\n</div>\\n</td>\\n</tr>\\n</table>\\n</div>\\n<div class=\" row result\" data-jk=\"812254ce6d0994d7\" data-tn-component=\"organicJob\" id=\"p_812254ce6d0994d7\" itemscope=\"\" itemtype=\"http://schema.org/JobPosting\">\\n<h2 class=\"jobtitle\" id=\"jl_812254ce6d0994d7\">\\n<a class=\"turnstileLink\" data-tn-element=\"jobTitle\" href=\"/rc/clk?jk=812254ce6d0994d7&amp;fccid=4e42ec53f4b93e02\" itemprop=\"title\" onclick=\"setRefineByCookie(['radius']); return rclk(this,jobmap[8],true,0);\" onmousedown=\"return rclk(this,jobmap[8],0);\" rel=\"nofollow\" target=\"_blank\" title=\"Production Reliabilty Engineer\">Production Reliabilty Engineer</a>\\n</h2>\\n<span class=\"company\" itemprop=\"hiringOrganization\" itemtype=\"http://schema.org/Organization\">\\n<span itemprop=\"name\">\\n<a href=\"/cmp/Glaxosmithkline?from=SERP&amp;campaignid=serp-linkcompanyname&amp;fromjk=812254ce6d0994d7&amp;jcid=4e42ec53f4b93e02\" target=\"_blank\">\\n    GlaxoSmithKline</a></span>\\n</span>\\n\\n - <a class=\"turnstileLink slNoUnderline \" data-tn-element=\"reviewStars\" data-tn-variant=\"cmplinktst2\" href=\"/cmp/Glaxosmithkline/reviews?jcid=4e42ec53f4b93e02\" onmousedown=\"this.href = appendParamsOnce(this.href, '?campaignid=cmplinktst2&amp;from=SERP&amp;jt=Production+Reliabilty+Engineer&amp;fromjk=812254ce6d0994d7');\" target=\"_blank\" title=\"Glaxosmithkline reviews\">\\n<span class=\"ratings\"><span class=\"rating\" style=\"width:46.199997px;\"><!-- --></span></span><span class=\"slNoUnderline\">1,581 reviews</span></a>\\n - <span itemprop=\"jobLocation\" itemscope=\"\" itemtype=\"http://schema.org/Place\"><span class=\"location\" itemprop=\"address\" itemscope=\"\" itemtype=\"http://schema.org/Postaladdress\"><span itemprop=\"addressLocality\">Melbourne VIC</span></span></span>\\n<table border=\"0\" cellpadding=\"0\" cellspacing=\"0\">\\n<tr>\\n<td class=\"snip\">\\n<div>\\n<span class=\"summary\" itemprop=\"description\">\\nHigh understanding of business management, leadership, problem solving techniques, <b>data</b> <b>analysis</b> is required. Analyses failure rate <b>data</b>....</span>\\n</div>\\n<div class=\"result-link-bar-container\">\\n<div class=\"result-link-bar\"><span class=\"date\">4 days ago</span> <span class=\"tt_set\" id=\"tt_set_8\"> - <span class=\"savelink2\" id=\"savelink2_812254ce6d0994d7\"><a class=\"sl resultLink save-job-link\" href=\"#\" id=\"sj_812254ce6d0994d7\" onclick=\"changeJobState('812254ce6d0994d7', 'save', 'linkbar', false);return false;\" title=\"Save this job to my.indeed\">save job</a></span>  -  <a class=\"sl resultLink tellafriend-link \" href=\"mailto:?subject=I found this job on Indeed&amp;body=http://au.indeed.com\" onclick=\"toggleTellAFriend('812254ce6d0994d7', 8, false); return false;\">email</a> - <a class=\"sl resultLink more-link \" href=\"#\" id=\"tog_8\" onclick=\"toggleMoreLinks('812254ce6d0994d7'); return false;\">more...</a></span><div class=\"edit_note_content\" id=\"editsaved2_812254ce6d0994d7\" style=\"display:none;\"></div><script>window['result_812254ce6d0994d7'] = {\"showSource\": false, \"source\": \"GlaxoSmithKline\", \"loggedIn\": false, \"showMyJobsLinks\": true,\"undoAction\": \"unsave\",\"relativeJobAge\": \"4 days ago\",\"jobKey\": \"812254ce6d0994d7\", \"myIndeedAvailable\": true, \"tellAFriendEnabled\": true, \"showMoreActionsLink\": true, \"resultNumber\": 8, \"jobStateChangedToSaved\": false, \"searchState\": \"q=(&quot;data scientist&quot; or &quot;customer analytics&quot; or &quot;data analysis&quot;)&amp;sort=&amp;radius=50&amp;fromage=any&amp;limit=10&amp;jt=all&amp;st=\", \"basicPermaLink\": \"http://au.indeed.com\", \"saveJobFailed\": false, \"removeJobFailed\": false, \"requestPending\": false, \"notesEnabled\": true, \"currentPage\" : \"serp\", \"sponsored\" : false,\"reportJobButtonEnabled\": false, \"showMyJobsHired\": false};</script></div></div>\\n<div class=\"tab-container\">\\n<div class=\"more-links-container result-tab\" id=\"tt_display_8\" style=\"display:none;\"><a class=\"close-link closeLink\" href=\"#\" onclick=\"toggleMoreLinks('812254ce6d0994d7'); return false;\" title=\"Close\"></a><div class=\"more_actions\" id=\"more_8\"><ul><li><span class=\"mat\">View all <a href=\"/Glaxosmithkline-jobs\" rel=\"nofollow\">GlaxoSmithKline jobs</a> - <a href=\"/jobs-in-Melbourne-VIC\">Melbourne jobs</a></span></li><li><span class=\"mat\">Learn more about working at <a href=\"/cmp/Glaxosmithkline?fromjk=812254ce6d0994d7&amp;from=serp-more&amp;campaignid=serp-more&amp;jcid=4e42ec53f4b93e02\">Glaxosmithkline</a></span></li></ul></div></div><div class=\"dya-container result-tab\"></div>\\n<div class=\"tellafriend-container result-tab email_job_content\"></div>\\n<div class=\"sign-in-container result-tab\"></div>\\n<div class=\"notes-container result-tab\"></div>\\n</div>\\n</td>\\n</tr>\\n</table>\\n</div>\\n<div class=\"lastRow row result\" data-jk=\"ca649839049927c4\" data-tn-component=\"organicJob\" id=\"p_ca649839049927c4\" itemscope=\"\" itemtype=\"http://schema.org/JobPosting\">\\n<h2 class=\"jobtitle\" id=\"jl_ca649839049927c4\">\\n<a class=\"turnstileLink\" data-tn-element=\"jobTitle\" href=\"/rc/clk?jk=ca649839049927c4&amp;fccid=44e7c30753d07f3b\" itemprop=\"title\" onclick=\"setRefineByCookie(['radius']); return rclk(this,jobmap[9],true,0);\" onmousedown=\"return rclk(this,jobmap[9],0);\" rel=\"nofollow\" target=\"_blank\" title=\"RTO Administration Officer\">RTO Administration Officer</a>\\n</h2>\\n<span class=\"company\" itemprop=\"hiringOrganization\" itemtype=\"http://schema.org/Organization\">\\n<span itemprop=\"name\">\\n<a href=\"/cmp/Downer-EDI?from=SERP&amp;campaignid=serp-linkcompanyname&amp;fromjk=ca649839049927c4&amp;jcid=44e7c30753d07f3b\" target=\"_blank\">\\n    Downer EDI</a></span>\\n</span>\\n\\n - <a class=\"turnstileLink slNoUnderline \" data-tn-element=\"reviewStars\" data-tn-variant=\"cmplinktst2\" href=\"/cmp/Downer-EDI/reviews?jcid=44e7c30753d07f3b\" onmousedown=\"this.href = appendParamsOnce(this.href, '?campaignid=cmplinktst2&amp;from=SERP&amp;jt=RTO+Administration+Officer&amp;fromjk=ca649839049927c4');\" target=\"_blank\" title=\"Downer EDI reviews\">\\n<span class=\"ratings\"><span class=\"rating\" style=\"width:42.9px;\"><!-- --></span></span><span class=\"slNoUnderline\">47 reviews</span></a>\\n - <span itemprop=\"jobLocation\" itemscope=\"\" itemtype=\"http://schema.org/Place\"><span class=\"location\" itemprop=\"address\" itemscope=\"\" itemtype=\"http://schema.org/Postaladdress\"><span itemprop=\"addressLocality\">Laverton WA</span></span></span>\\n<table border=\"0\" cellpadding=\"0\" cellspacing=\"0\">\\n<tr>\\n<td class=\"snip\">\\n<div>\\n<span class=\"summary\" itemprop=\"description\">\\nStrong computer and <b>data</b> <b>analysis</b> skills that extend to report collation and presentation. High degree of efficiency and effectiveness with managing large...</span>\\n</div>\\n<div class=\"result-link-bar-container\">\\n<div class=\"result-link-bar\"><span class=\"date\">11 days ago</span> <span class=\"tt_set\" id=\"tt_set_9\"> - <span class=\"savelink2\" id=\"savelink2_ca649839049927c4\"><a class=\"sl resultLink save-job-link\" href=\"#\" id=\"sj_ca649839049927c4\" onclick=\"changeJobState('ca649839049927c4', 'save', 'linkbar', false);return false;\" title=\"Save this job to my.indeed\">save job</a></span>  -  <a class=\"sl resultLink tellafriend-link \" href=\"mailto:?subject=I found this job on Indeed&amp;body=http://au.indeed.com\" onclick=\"toggleTellAFriend('ca649839049927c4', 9, false); return false;\">email</a> - <a class=\"sl resultLink more-link \" href=\"#\" id=\"tog_9\" onclick=\"toggleMoreLinks('ca649839049927c4'); return false;\">more...</a></span><div class=\"edit_note_content\" id=\"editsaved2_ca649839049927c4\" style=\"display:none;\"></div><script>window['result_ca649839049927c4'] = {\"showSource\": false, \"source\": \"Downer EDI\", \"loggedIn\": false, \"showMyJobsLinks\": true,\"undoAction\": \"unsave\",\"relativeJobAge\": \"11 days ago\",\"jobKey\": \"ca649839049927c4\", \"myIndeedAvailable\": true, \"tellAFriendEnabled\": true, \"showMoreActionsLink\": true, \"resultNumber\": 9, \"jobStateChangedToSaved\": false, \"searchState\": \"q=(&quot;data scientist&quot; or &quot;customer analytics&quot; or &quot;data analysis&quot;)&amp;sort=&amp;radius=50&amp;fromage=any&amp;limit=10&amp;jt=all&amp;st=\", \"basicPermaLink\": \"http://au.indeed.com\", \"saveJobFailed\": false, \"removeJobFailed\": false, \"requestPending\": false, \"notesEnabled\": true, \"currentPage\" : \"serp\", \"sponsored\" : false,\"reportJobButtonEnabled\": false, \"showMyJobsHired\": false};</script></div></div>\\n<div class=\"tab-container\">\\n<div class=\"more-links-container result-tab\" id=\"tt_display_9\" style=\"display:none;\"><a class=\"close-link closeLink\" href=\"#\" onclick=\"toggleMoreLinks('ca649839049927c4'); return false;\" title=\"Close\"></a><div class=\"more_actions\" id=\"more_9\"><ul><li><span class=\"mat\">View all <a href=\"/Downer-EDI-jobs\" rel=\"nofollow\">Downer EDI jobs</a> - <a href=\"/jobs-in-Laverton-WA\">Laverton jobs</a></span></li><li><span class=\"mat\">Learn more about working at <a href=\"/cmp/Downer-EDI?fromjk=ca649839049927c4&amp;from=serp-more&amp;campaignid=serp-more&amp;jcid=44e7c30753d07f3b\">Downer EDI</a></span></li></ul></div></div><div class=\"dya-container result-tab\"></div>\\n<div class=\"tellafriend-container result-tab email_job_content\"></div>\\n<div class=\"sign-in-container result-tab\"></div>\\n<div class=\"notes-container result-tab\"></div>\\n</div>\\n</td>\\n</tr>\\n</table>\\n</div>\\n<div></div><div class=\"PS2MuFHLU MZHf79jKDQ\">\\n<div class=\"row result\" data-jk=\"7f8ffd7a049cc49c\" id=\"pj_7f8ffd7a049cc49c\">\\n<a class=\"jobtitle turnstileLink\" data-tn-element=\"jobTitle\" href=\"/pagead/clk?mo=r&amp;ad=-6NYlbfkN0AhM9u_BKaHQpupwQk2jev0Dn1YC14aPbaHguLhpUDvU278ibr9DcEbtnbQFHjbgXKGPvOg5U-MR2REqM8pWk20Jn2RisZMoa2QjUVVrtSCCj66b3AhfGYjlpWKwG1h8NX2zkCvJxbGMmvqnuZiNq_nvY33FGo2NrRDtYdR1nI7alBZ0gCc2icrImWiz40VulQe9TYqIsG-rt9qXtEmDzNDEnYaEgdgPmSaeZEBmz4s3kjTWrGSH4jBV-Y8pP-bb9iy1HYQmA9fwghxZBWvQzXRZGM9oTmtqghrYJHv3WKK1rmO8XVAEjHwdSlxHUvLyH_44rZuYwt5TOXGHZu-GIeP2xLqkFYsZR5mNrIFYvYF0JQDl2iXx_Q43JsmJ8_syRoT7NpwY6F9rejmvjUh4AqXNJQ-rJ7rF7YdJbnyLW9E-q0bBgO86sUW1vG2id1-5jA7eUTi6omcm1U92ZmPm-botBNRI90zpXjESuMA8AiKk_5hYBC-RRYdwYZoM_UCj0etLIMdnADey8RAs2HgNC3V&amp;p=4&amp;sk=&amp;fvj=1\" id=\"sja4\" onclick=\"setRefineByCookie(['radius']); sjoc('sja4',1); convCtr('SJ', pingUrlsForGA)\" onmousedown=\"sjomd('sja4'); clk('sja4');\" rel=\"nofollow\" target=\"_blank\" title=\"Senior Fundraising Officer\">Senior Fundraising Officer</a>\\n<br/>\\n<div class=\"sjcl\">\\n<span class=\"company\">\\n    Wesley Marketing, Fundraising &amp; Volunteering</span>\\n\\n - <span class=\"location\">Sydney NSW</span>\\n<div>\\n$82,400 a year</div>\\n</div>\\n<table border=\"0\" cellpadding=\"0\" cellspacing=\"0\"><tr><td class=\"snip\">\\n<span class=\"summary\">Extensive experience with demonstrable results within direct marketing, events, corporate relations and work place giving areas including the ability to apply...</span>\\n</td></tr></table>\\n<div class=\"iaP\">\\n<span class=\"iaLabel\"> Easily apply to this job</span>\\n</div><div class=\"result-link-bar-container\">\\n<div class=\"result-link-bar\"><span class=\"date\">25 days ago</span> <span class=\"tt_set\" id=\"tt_set_13\">  -  <a class=\"sl resultLink tellafriend-link \" href=\"mailto:?subject=I found this job on Indeed&amp;body=http://au.indeed.com\" onclick=\"toggleTellAFriend('7f8ffd7a049cc49c', 13, true); return false;\">email</a></span><div class=\"edit_note_content\" id=\"editsaved2_7f8ffd7a049cc49c\" style=\"display:none;\"></div><script>window['sj_result_7f8ffd7a049cc49c'] = {\"showSource\": false, \"source\": \"Indeed\", \"loggedIn\": false, \"showMyJobsLinks\": true,\"undoAction\": \"unsave\",\"relativeJobAge\": \"25 days ago\",\"jobKey\": \"7f8ffd7a049cc49c\", \"myIndeedAvailable\": true, \"tellAFriendEnabled\": true, \"showMoreActionsLink\": false, \"resultNumber\": 13, \"jobStateChangedToSaved\": false, \"searchState\": \"q=(&quot;data scientist&quot; or &quot;customer analytics&quot; or &quot;data analysis&quot;)&amp;sort=&amp;radius=50&amp;fromage=any&amp;limit=10&amp;jt=all&amp;st=\", \"basicPermaLink\": \"http://au.indeed.com\", \"saveJobFailed\": false, \"removeJobFailed\": false, \"requestPending\": false, \"notesEnabled\": false, \"currentPage\" : \"serp\", \"sponsored\" : true,\"reportJobButtonEnabled\": false, \"showMyJobsHired\": false};</script></div></div>\\n<div class=\"tab-container\">\\n<div class=\"tellafriend-container result-tab email_job_content\"></div>\\n</div>\\n<span class=\"sdn\">Sponsored</span>\\n</div>\\n<div class=\"row result\" data-jk=\"e8d98f9f3d88385f\" id=\"pj_e8d98f9f3d88385f\">\\n<a class=\"jobtitle turnstileLink\" data-tn-element=\"jobTitle\" href=\"/pagead/clk?mo=r&amp;ad=-6NYlbfkN0AIZnlKm_cZeRxLYqs5vhrXyaDC-U6fbeTrHVQPcgfzyw2mUyoAiXIJg2_SI_Dk-cpiRefY_8QdbUT2nwLrw1KR6yN7pcOKaj7tz_ubQQClNnBUwVdY1rL-1zRBwFylnpzbXede7vhGKHu_iBtwBUktsbkSV_r3MM9PBDGvGvoM9H8XDx3scIpM7Q6QSK9x9-iZQRZc_OG2jL6Sm5WZvpXeNa77KHa-4VcfnXva9S1YHkmKL5HALJ2jU2dUD_j800h-QqUSk1Ze6fjjkpiHEvn-gDaD9o2cVQVM0XVwPNzo5LdJdOyFF9BwppqlDHcKbHuESq1ztrRDpJ-4VzdjefKmjxnxy9-hhR1A7F0tG6gFsJBn0lMWNRPep7OBmmraTago2v-pCR_g193ACVj73vmJYfUY2BSsBGSuuwXJWdpPYOWyU0CU1vm07iLPhbQl2yoIFDZ2OS6BYH6dcm7Y9K6qNYbcdVlvNagFVTuZwZxL5AHD-0R--XklFjTDYbNSidO5_exjN39pYdluuUbxLLSTUa4morHviwtXlXZpPXUtvSKcVtcG_gJKFJJNHQzy1HaKeOa-h63HIgggJzB_BtFFnpHXW0E0HW1rMvI7dUZiwA==&amp;p=5&amp;sk=&amp;fvj=0\" id=\"sja5\" onclick=\"setRefineByCookie(['radius']); sjoc('sja5',0); convCtr('SJ', pingUrlsForGA)\" onmousedown=\"sjomd('sja5'); clk('sja5');\" rel=\"nofollow\" target=\"_blank\" title=\"Lodging Content Associate (12 months contract)\">Lodging Content Associate (12 months contract)</a>\\n<br/>\\n<div class=\"sjcl\">\\n<span class=\"company\">\\n<a class=\"turnstileLink\" data-tn-element=\"companyName\" href=\"/cmp/Expedia,-Inc.?from=SERP&amp;campaignid=serp-linkcompanyname&amp;fromjk=e8d98f9f3d88385f&amp;jcid=19af92080aec41b6\" target=\"_blank\">\\n    Expedia</a></span>\\n\\n - <a class=\"turnstileLink slNoUnderline \" data-tn-element=\"reviewStars\" data-tn-variant=\"cmplinktst2\" href=\"/cmp/Expedia,-Inc./reviews?jcid=19af92080aec41b6\" onmousedown=\"this.href = appendParamsOnce(this.href, '?campaignid=cmplinktst2&amp;from=SERP&amp;jt=Lodging+Content+Associate+%2812+months+contract%29&amp;fromjk=e8d98f9f3d88385f');\" target=\"_blank\" title=\"Expedia reviews\">\\n<span class=\"ratings\"><span class=\"rating\" style=\"width:42.9px;\"><!-- --></span></span><span class=\"slNoUnderline\">236 reviews</span></a>\\n - <span class=\"location\">Sydney NSW</span>\\n</div>\\n<table border=\"0\" cellpadding=\"0\" cellspacing=\"0\"><tr><td class=\"snip\">\\n<span class=\"summary\">Interest and/or experience in metrics, reporting, and <b>data</b> <b>analysis</b> a plus. Successful candidates will complete work to program standards, while working and...</span>\\n</td></tr></table>\\n<div class=\"result-link-bar-container\">\\n<div class=\"result-link-bar\"><span class=\"date\">28 days ago</span> <span class=\"tt_set\" id=\"tt_set_14\">  -  <a class=\"sl resultLink tellafriend-link \" href=\"mailto:?subject=I found this job on Indeed&amp;body=http://au.indeed.com\" onclick=\"toggleTellAFriend('e8d98f9f3d88385f', 14, true); return false;\">email</a></span><div class=\"edit_note_content\" id=\"editsaved2_e8d98f9f3d88385f\" style=\"display:none;\"></div><script>window['sj_result_e8d98f9f3d88385f'] = {\"showSource\": false, \"source\": \"Expedia\", \"loggedIn\": false, \"showMyJobsLinks\": true,\"undoAction\": \"unsave\",\"relativeJobAge\": \"28 days ago\",\"jobKey\": \"e8d98f9f3d88385f\", \"myIndeedAvailable\": true, \"tellAFriendEnabled\": true, \"showMoreActionsLink\": false, \"resultNumber\": 14, \"jobStateChangedToSaved\": false, \"searchState\": \"q=(&quot;data scientist&quot; or &quot;customer analytics&quot; or &quot;data analysis&quot;)&amp;sort=&amp;radius=50&amp;fromage=any&amp;limit=10&amp;jt=all&amp;st=\", \"basicPermaLink\": \"http://au.indeed.com\", \"saveJobFailed\": false, \"removeJobFailed\": false, \"requestPending\": false, \"notesEnabled\": false, \"currentPage\" : \"serp\", \"sponsored\" : true,\"reportJobButtonEnabled\": false, \"showMyJobsHired\": false};</script></div></div>\\n<div class=\"tab-container\">\\n<div class=\"tellafriend-container result-tab email_job_content\"></div>\\n</div>\\n<span class=\"sdn\">Sponsored</span>\\n</div>\\n<div class=\"row sjlast result\" data-jk=\"33df1c89ca64401e\" id=\"pj_33df1c89ca64401e\">\\n<a class=\"jobtitle turnstileLink\" data-tn-element=\"jobTitle\" href=\"/pagead/clk?mo=r&amp;ad=-6NYlbfkN0Dp67TwjFzEWMhRtkC7gfQ7DFF2sTtQieezgZVmfDp2Q5Wg7jN-da5fTibp8_gLyVChMs2ENHpmwWoX8xUG5JUrfxyRznDKyWNOsiTRBFECRk2P29ECH2Hz4Cx5AaTAN4IhI898SZnshfOzArZNTSeZkzQHLHMe1SroJnh2YAK7q90plyHptm2-G-DonUMCAp_5dyl4Wz6Enp9JOMA-EimSR42LlV4WI2AuiN_RiDQL-fE-cIOgay4vDuuABKq-eqVfpHhsXN2cRvo72bVQbQUylyvk2LCXLRwDEgdN8w2eeJoYGJgG4zMwqXlulWwTJqVGpaLdA96EklVwirmo81q8Kk4qpaQUIdIzULdTZv9gZMj2eH1_soqouRu77wgH8hO0Nc4eZNHn84kKi5m6nVHcK7vfm7OsJUZ3fMHKJPHe85bDPiTEOCPR8yEYaZR4NSjoClrd8q_n0ReVAkXPtFke6UhpMgwRn2tzfuntd1yfPNiObb_upQGAt47p1xcWyOdUHUlmHQ9vRtcHbRuwzjcwPwqBukD4TIoNMxXUGvIodg==&amp;p=6&amp;sk=&amp;fvj=0\" id=\"sja6\" onclick=\"setRefineByCookie(['radius']); sjoc('sja6',1); convCtr('SJ', pingUrlsForGA)\" onmousedown=\"sjomd('sja6'); clk('sja6');\" rel=\"nofollow\" target=\"_blank\" title=\"Data Modeller - Contract\"><b>Data</b> Modeller - Contract</a>\\n<br/>\\n<div class=\"sjcl\">\\n<span class=\"company\">\\n    Experis</span>\\n\\n - <span class=\"location\">Melbourne VIC</span>\\n<div>\\n$80 - $120 an hour</div>\\n</div>\\n<table border=\"0\" cellpadding=\"0\" cellspacing=\"0\"><tr><td class=\"snip\">\\n<span class=\"summary\">You must have knowledge and experience in database and <b>data</b> warehouse design, multi dimensional modelling, <b>data</b> <b>analysis</b>, <b>data</b> source <b>analysis</b>, <b>data</b> migration,...</span>\\n</td></tr></table>\\n<div class=\"result-link-bar-container\">\\n<div class=\"result-link-bar\"><span class=\"date\">12 days ago</span> <span class=\"tt_set\" id=\"tt_set_15\">  -  <a class=\"sl resultLink tellafriend-link \" href=\"mailto:?subject=I found this job on Indeed&amp;body=http://au.indeed.com\" onclick=\"toggleTellAFriend('33df1c89ca64401e', 15, true); return false;\">email</a></span><div class=\"edit_note_content\" id=\"editsaved2_33df1c89ca64401e\" style=\"display:none;\"></div><script>window['sj_result_33df1c89ca64401e'] = {\"showSource\": false, \"source\": \"Experis\", \"loggedIn\": false, \"showMyJobsLinks\": true,\"undoAction\": \"unsave\",\"relativeJobAge\": \"12 days ago\",\"jobKey\": \"33df1c89ca64401e\", \"myIndeedAvailable\": true, \"tellAFriendEnabled\": true, \"showMoreActionsLink\": false, \"resultNumber\": 15, \"jobStateChangedToSaved\": false, \"searchState\": \"q=(&quot;data scientist&quot; or &quot;customer analytics&quot; or &quot;data analysis&quot;)&amp;sort=&amp;radius=50&amp;fromage=any&amp;limit=10&amp;jt=all&amp;st=\", \"basicPermaLink\": \"http://au.indeed.com\", \"saveJobFailed\": false, \"removeJobFailed\": false, \"requestPending\": false, \"notesEnabled\": false, \"currentPage\" : \"serp\", \"sponsored\" : true,\"reportJobButtonEnabled\": false, \"showMyJobsHired\": false};</script></div></div>\\n<div class=\"tab-container\">\\n<div class=\"tellafriend-container result-tab email_job_content\"></div>\\n</div>\\n<span class=\"sdn\">Sponsored</span>\\n</div>\\n</div><p class=\"footerJaPromoBubble\">\\n<span>\\nNever miss a job. Get new jobs emailed to you daily.</span>\\n<script type=\"text/javascript\">setJaPromoCookie()</script>\\n</p>\\n<style>\\n.fixed_ja_link_x { color:#00C; float: right; font-size: 22px; margin-top: -8px; font-weight: bold;}\\n.fixed_ja_link_x:hover { cursor:pointer;}\\n.fixed_ja_link { color:#00C; cursor: pointer;}\\n.fixed_ja_link:hover { text-decoration: underline;}\\n.fixed_ja_background { background-color: #ebebeb;}\\n</style>\\n<div id=\"bjobalertswrapper\">\\n<div class=\"open jaPromoUi jaui w5Yqcptx3i7\" id=\"bjobalerts\">\\n<div class=\"jobalertlabel\">\\n<span class=\"jobalerts_title\" id=\"bjobalertlabel\"><span aria-label=\"alert icon\" class=\"ico\" role=\"img\"></span>Get email updates for the latest <b>(\"data scientist\" or \"customer analytics\" or \"data analysis\") jobs</b></span>\\n</div>\\n<div class=\"jaform\" id=\"bjobalertform\">\\n<span id=\"bjobalerttext\"></span><span id=\"bjobalertsending\"></span>\\n<div id=\"bjobalertmessage\">\\n<form action=\"/alert\" method=\"POST\" onsubmit=\"return addalertdelegate('%28%22data+scientist%22+or+%22customer+analytics%22+or+%22data+analysis%22%29','','b','radius%3D50%26jt%3Dall%26st%3D',this.email.value,'1al4vsf7v82j89q0', this.verified.value, true, '547974', true, '', 'AU', 'e5f565308089181d0eff5bc00ac84a77', this.recjobalert.checked, false);\">\\n<input name=\"a\" type=\"hidden\" value=\"add\"/>\\n<input name=\"q\" type=\"hidden\" value='(\"data scientist\" or \"customer analytics\" or \"data analysis\")'/>\\n<input name=\"l\" type=\"hidden\" value=\"\"/>\\n<input name=\"radius\" type=\"hidden\" value=\"50\"/>\\n<input name=\"noscript\" type=\"hidden\" value=\"1\"/>\\n<input name=\"fr\" type=\"hidden\" value=\"b\"/>\\n<input name=\"tk\" type=\"hidden\" value=\"1al4vsf7v82j89q0\"/>\\n<input id=\"balertverified\" name=\"verified\" type=\"hidden\" value=\"0\"/>\\n<input name=\"alertparams\" type=\"hidden\" value=\"radius%3D50%26jt%3Dall%26st%3D\"/>\\n<label for=\"balertemail\">My email:</label> <input id=\"balertemail\" maxlength=\"100\" name=\"email\" size=\"25\" type=\"text\" value=\"\"/>\\n<span class=\"indeed-apply-button\"><span class=\"indeed-apply-button-inner\"><input class=\"indeed-apply-button-label\" id=\"balertsubmit\" type=\"submit\" value=\"Activate\"/></span></span>\\n<style type=\"text/css\">\\n    .indeed-apply-button { cursor : pointer !important; display : inline-block !important; padding : 1px !important; height : 31px !important; -moz-border-radius : 7px !important; border-radius : 7px !important; position : relative !important; text-decoration : none !important;background-color:#79788B; filter:progid:DXImageTransform.Microsoft.gradient(startColorstr='#BCBBCD', endColorstr='#79788B', GradientType=0);background-image: -webkit-gradient(linear, center top, center bottom, from(#BCBBCD), to(#79788B)) !important;background-image: -webkit-linear-gradient(top, #BCBBCD, #79788B) !important;background-image: -moz-linear-gradient(top, #BCBBCD, #79788B) !important;background-image: -o-linear-gradient(top, #BCBBCD, #79788B) !important;background-image: -ms-linear-gradient(top, #BCBBCD, #79788B) !important;background-image: linear-gradient(top, #BCBBCD, #79788B) !important;-webkit-box-shadow: 0 1px 2px rgba(0,0,0,0.2) !important;-moz-box-shadow: 0 1px 2px rgba(0,0,0,0.2) !important;box-shadow: 0 1px 2px rgba(0,0,0,0.2) !important; } #indeed-ia-1329175190441-0:link, #indeed-ia-1329175190441-0:visited, #indeed-ia-1329175190441-0:hover, #indeed-ia-1329175190441-0:active { border : 0 !important; text-decoration : none !important; }\\n\\n    .indeed-apply-button:hover { filter:progid:DXImageTransform.Microsoft.gradient(startColorstr='#6D99F6', endColorstr='#1B45A3', GradientType=0);background-image: -webkit-gradient(linear, center top, center bottom, from(#6D99F6), to(#1B45A3)) !important;background-image: -webkit-linear-gradient(top, #6D99F6, #1B45A3) !important;background-image: -moz-linear-gradient(top, #6D99F6, #1B45A3) !important;background-image: -o-linear-gradient(top, #6D99F6, #1B45A3) !important;background-image: -ms-linear-gradient(top, #6D99F6, #1B45A3) !important;background-image: linear-gradient(top, #6D99F6, #1B45A3) !important; }\\n\\n    .indeed-apply-state-clicked .indeed-apply-button,\\n    .indeed-apply-button:active { filter:progid:DXImageTransform.Microsoft.gradient(startColorstr='#B3BACA', endColorstr='#7C8493', GradientType=0);background-image: -webkit-gradient(linear, center top, center bottom, from(#B3BACA), to(#7C8493)) !important;background-image: -webkit-linear-gradient(top, #B3BACA, #7C8493) !important;background-image: -moz-linear-gradient(top, #B3BACA, #7C8493) !important;background-image: -o-linear-gradient(top, #B3BACA, #7C8493) !important;background-image: -ms-linear-gradient(top, #B3BACA, #7C8493) !important;background-image: linear-gradient(top, #B3BACA, #7C8493) !important;-webkit-box-shadow: none !important;-moz-box-shadow: none !important;box-shadow: none !important; }\\n\\n    .indeed-apply-button-inner { display : inline-block !important; height : 31px !important; -moz-border-radius : 6px !important; border-radius : 6px !important; font : 18px 'Helvetica Neue','Helvetica',Arial !important; font-weight : 200 !important; text-decoration : none !important; text-shadow : 0px 1px #F1F1F4 !important;background-color:#D9D9E2;  color: #FF6703;filter:progid:DXImageTransform.Microsoft.gradient(startColorstr='#FAFAFB', endColorstr='#D9D9E2', GradientType=0);background-image: -webkit-gradient(linear, center top, center bottom, from(#FAFAFB), to(#D9D9E2)) !important;background-image: -webkit-linear-gradient(top, #FAFAFB, #D9D9E2) !important;background-image: -moz-linear-gradient(top, #FAFAFB, #D9D9E2) !important;background-image: -o-linear-gradient(top, #FAFAFB, #D9D9E2) !important;background-image: -ms-linear-gradient(top, #FAFAFB, #D9D9E2) !important;background-image: linear-gradient(top, #FAFAFB, #D9D9E2) !important; }\\n\\n    .indeed-apply-button:active .indeed-apply-button-inner { filter:progid:DXImageTransform.Microsoft.gradient(startColorstr='#E8E8E9', endColorstr='#CBCBD3', GradientType=0);background-image: -webkit-gradient(linear, center top, center bottom, from(#E8E8E9), to(#CBCBD3)) !important;background-image: -webkit-linear-gradient(top, #E8E8E9, #CBCBD3) !important;background-image: -moz-linear-gradient(top, #E8E8E9, #CBCBD3) !important;background-image: -o-linear-gradient(top, #E8E8E9, #CBCBD3) !important;background-image: -ms-linear-gradient(top, #E8E8E9, #CBCBD3) !important;background-image: linear-gradient(top, #E8E8E9, #CBCBD3) !important; }\\n\\n    .indeed-apply-button-label {cursor: pointer; text-align : center !important; border:0; background: transparent;font-size: 12px; font-family: Arial, sans-serif; padding:3px 14px 2px 12px; margin:0; line-height: 26px; }\\n\\n    .indeed-apply-button:active .indeed-apply-button-label,\\n    .indeed-apply-state-clicked .indeed-apply-button-label { -ms-filter: \"progid:DXImageTransform.Microsoft.Alpha(Opacity=0.75)\" !important;filter: alpha(opacity=75) !important;-moz-opacity: 0.75 !important;-khtml-opacity: 0.75 !important;opacity: 0.75 !important; }\\n\\n    #talertemail, #balertemail {  height: 27px; line-height: 24px; padding-left: 6px; padding-right: 6px; font-size: 14px; font-family: Arial, sans-serif; }\\n</style><label for=\"brecjobalert\" id=\"brecjobalertlabel\">\\n<input checked=\"\" id=\"brecjobalert\" name=\"recjobalert\" type=\"checkbox\"/>\\n<span>Also get an email with jobs recommended just for me</span>\\n</label>\\n</form>\\n<span class=\"caption\">\\nYou can cancel email alerts at any time.</span>\\n</div>\\n</div>\\n</div>\\n</div><script type=\"text/javascript\">\\nfunction ptk(st,p) {\\ndocument.cookie = 'PTK=\"tk=&type=jobsearch&subtype=' + st + (p ? '&' + p : '')\\n + (st == 'pagination' ? '&fp=1' : '')\\n+'\"; path=/';\\n}\\n</script>\\n<script type=\"text/javascript\">\\nfunction pclk(event) {\\nvar evt = event || window.event;\\nvar target = evt.target || evt.srcElement;\\nvar el = target.nodeType == 1 ? target : target.parentNode;\\nvar tag = el.tagName.toLowerCase();\\nif (tag == 'span' || tag == 'a') {\\nptk('pagination');\\n}\\nreturn true;\\n}\\n</script>\\n<div class=\"pagination\" onmousedown=\"pclk(event);\">Results\\xa0Page:\\xa0\\xa0<b>1</b>\\xa0\\xa0<a href=\"/jobs?q=%28%22data+scientist%22+or+%22customer+analytics%22+or+%22data+analysis%22%29&amp;radius=50&amp;start=10\"><span class=\"pn\">2</span></a>\\xa0\\xa0<a href=\"/jobs?q=%28%22data+scientist%22+or+%22customer+analytics%22+or+%22data+analysis%22%29&amp;radius=50&amp;start=20\"><span class=\"pn\">3</span></a>\\xa0\\xa0<a href=\"/jobs?q=%28%22data+scientist%22+or+%22customer+analytics%22+or+%22data+analysis%22%29&amp;radius=50&amp;start=30\"><span class=\"pn\">4</span></a>\\xa0\\xa0<a href=\"/jobs?q=%28%22data+scientist%22+or+%22customer+analytics%22+or+%22data+analysis%22%29&amp;radius=50&amp;start=40\"><span class=\"pn\">5</span></a>\\xa0\\xa0 <a href=\"/jobs?q=%28%22data+scientist%22+or+%22customer+analytics%22+or+%22data+analysis%22%29&amp;radius=50&amp;start=10&amp;pp=\"><span class=\"pn\"><span class=\"np\">Next\\xa0\\xbb</span></span></a></div>\\n</td>\\n<td id=\"auxCol\">\\n<div id=\"tjobalertswrapper\">\\n<div class=\"open jaui \" id=\"tjobalerts\">\\n<div class=\"jobalertlabel\">\\n<span class=\"jobalerts_title\" id=\"tjobalertlabel\"><span aria-label=\"alert icon\" class=\"ico\" role=\"img\"></span>Get new jobs for this search by email</span>\\n</div>\\n<div class=\"jaform\" id=\"tjobalertform\">\\n<span id=\"tjobalerttext\"></span><span id=\"tjobalertsending\"></span>\\n<div id=\"tjobalertmessage\">\\n<form action=\"/alert\" method=\"POST\" onsubmit=\"return addalertdelegate('%28%22data+scientist%22+or+%22customer+analytics%22+or+%22data+analysis%22%29','','t','radius%3D50%26jt%3Dall%26st%3D',this.email.value,'1al4vsf7v82j89q0', this.verified.value, true, '547974', true, '', 'AU', 'e5f565308089181d0eff5bc00ac84a77', this.recjobalert.checked, false);\">\\n<input name=\"a\" type=\"hidden\" value=\"add\"/>\\n<input name=\"q\" type=\"hidden\" value='(\"data scientist\" or \"customer analytics\" or \"data analysis\")'/>\\n<input name=\"l\" type=\"hidden\" value=\"\"/>\\n<input name=\"radius\" type=\"hidden\" value=\"50\"/>\\n<input name=\"noscript\" type=\"hidden\" value=\"1\"/>\\n<input name=\"fr\" type=\"hidden\" value=\"t\"/>\\n<input name=\"tk\" type=\"hidden\" value=\"1al4vsf7v82j89q0\"/>\\n<input id=\"talertverified\" name=\"verified\" type=\"hidden\" value=\"0\"/>\\n<input name=\"alertparams\" type=\"hidden\" value=\"radius%3D50%26jt%3Dall%26st%3D\"/>\\n<label for=\"talertemail\">My email:</label> <input id=\"talertemail\" maxlength=\"100\" name=\"email\" size=\"25\" type=\"text\" value=\"\"/>\\n<label for=\"trecjobalert\" id=\"trecjobalertlabel\">\\n<input checked=\"\" id=\"trecjobalert\" name=\"recjobalert\" type=\"checkbox\"/>\\n<span>Also get an email with jobs recommended just for me</span>\\n</label>\\n<span class=\"indeed-apply-button\"><span class=\"indeed-apply-button-inner\"><input class=\"indeed-apply-button-label\" id=\"talertsubmit\" type=\"submit\" value=\"Activate\"/></span></span>\\n<style type=\"text/css\">\\n    .indeed-apply-button { cursor : pointer !important; display : inline-block !important; padding : 1px !important; height : 31px !important; -moz-border-radius : 7px !important; border-radius : 7px !important; position : relative !important; text-decoration : none !important;background-color:#79788B; filter:progid:DXImageTransform.Microsoft.gradient(startColorstr='#BCBBCD', endColorstr='#79788B', GradientType=0);background-image: -webkit-gradient(linear, center top, center bottom, from(#BCBBCD), to(#79788B)) !important;background-image: -webkit-linear-gradient(top, #BCBBCD, #79788B) !important;background-image: -moz-linear-gradient(top, #BCBBCD, #79788B) !important;background-image: -o-linear-gradient(top, #BCBBCD, #79788B) !important;background-image: -ms-linear-gradient(top, #BCBBCD, #79788B) !important;background-image: linear-gradient(top, #BCBBCD, #79788B) !important;-webkit-box-shadow: 0 1px 2px rgba(0,0,0,0.2) !important;-moz-box-shadow: 0 1px 2px rgba(0,0,0,0.2) !important;box-shadow: 0 1px 2px rgba(0,0,0,0.2) !important; } #indeed-ia-1329175190441-0:link, #indeed-ia-1329175190441-0:visited, #indeed-ia-1329175190441-0:hover, #indeed-ia-1329175190441-0:active { border : 0 !important; text-decoration : none !important; }\\n\\n    .indeed-apply-button:hover { filter:progid:DXImageTransform.Microsoft.gradient(startColorstr='#6D99F6', endColorstr='#1B45A3', GradientType=0);background-image: -webkit-gradient(linear, center top, center bottom, from(#6D99F6), to(#1B45A3)) !important;background-image: -webkit-linear-gradient(top, #6D99F6, #1B45A3) !important;background-image: -moz-linear-gradient(top, #6D99F6, #1B45A3) !important;background-image: -o-linear-gradient(top, #6D99F6, #1B45A3) !important;background-image: -ms-linear-gradient(top, #6D99F6, #1B45A3) !important;background-image: linear-gradient(top, #6D99F6, #1B45A3) !important; }\\n\\n    .indeed-apply-state-clicked .indeed-apply-button,\\n    .indeed-apply-button:active { filter:progid:DXImageTransform.Microsoft.gradient(startColorstr='#B3BACA', endColorstr='#7C8493', GradientType=0);background-image: -webkit-gradient(linear, center top, center bottom, from(#B3BACA), to(#7C8493)) !important;background-image: -webkit-linear-gradient(top, #B3BACA, #7C8493) !important;background-image: -moz-linear-gradient(top, #B3BACA, #7C8493) !important;background-image: -o-linear-gradient(top, #B3BACA, #7C8493) !important;background-image: -ms-linear-gradient(top, #B3BACA, #7C8493) !important;background-image: linear-gradient(top, #B3BACA, #7C8493) !important;-webkit-box-shadow: none !important;-moz-box-shadow: none !important;box-shadow: none !important; }\\n\\n    .indeed-apply-button-inner { display : inline-block !important; height : 31px !important; -moz-border-radius : 6px !important; border-radius : 6px !important; font : 18px 'Helvetica Neue','Helvetica',Arial !important; font-weight : 200 !important; text-decoration : none !important; text-shadow : 0px 1px #F1F1F4 !important;background-color:#D9D9E2;  color: #FF6703;filter:progid:DXImageTransform.Microsoft.gradient(startColorstr='#FAFAFB', endColorstr='#D9D9E2', GradientType=0);background-image: -webkit-gradient(linear, center top, center bottom, from(#FAFAFB), to(#D9D9E2)) !important;background-image: -webkit-linear-gradient(top, #FAFAFB, #D9D9E2) !important;background-image: -moz-linear-gradient(top, #FAFAFB, #D9D9E2) !important;background-image: -o-linear-gradient(top, #FAFAFB, #D9D9E2) !important;background-image: -ms-linear-gradient(top, #FAFAFB, #D9D9E2) !important;background-image: linear-gradient(top, #FAFAFB, #D9D9E2) !important; }\\n\\n    .indeed-apply-button:active .indeed-apply-button-inner { filter:progid:DXImageTransform.Microsoft.gradient(startColorstr='#E8E8E9', endColorstr='#CBCBD3', GradientType=0);background-image: -webkit-gradient(linear, center top, center bottom, from(#E8E8E9), to(#CBCBD3)) !important;background-image: -webkit-linear-gradient(top, #E8E8E9, #CBCBD3) !important;background-image: -moz-linear-gradient(top, #E8E8E9, #CBCBD3) !important;background-image: -o-linear-gradient(top, #E8E8E9, #CBCBD3) !important;background-image: -ms-linear-gradient(top, #E8E8E9, #CBCBD3) !important;background-image: linear-gradient(top, #E8E8E9, #CBCBD3) !important; }\\n\\n    .indeed-apply-button-label {cursor: pointer; text-align : center !important; border:0; background: transparent;font-size: 12px; font-family: Arial, sans-serif; padding:3px 14px 2px 12px; margin:0; line-height: 26px; }\\n\\n    .indeed-apply-button:active .indeed-apply-button-label,\\n    .indeed-apply-state-clicked .indeed-apply-button-label { -ms-filter: \"progid:DXImageTransform.Microsoft.Alpha(Opacity=0.75)\" !important;filter: alpha(opacity=75) !important;-moz-opacity: 0.75 !important;-khtml-opacity: 0.75 !important;opacity: 0.75 !important; }\\n\\n    #talertemail, #balertemail {  height: 27px; line-height: 24px; padding-left: 6px; padding-right: 6px; font-size: 14px; font-family: Arial, sans-serif; }\\n</style></form>\\n<span class=\"caption\">\\nYou can cancel email alerts at any time.</span>\\n</div>\\n</div>\\n</div>\\n</div><div id=\"femp_list\">\\n<div class=\"femp_header\">Company with (\"data scientist\" or \"customer analytics\" or \"data analysis\") jobs</div>\\n<div class=\"femp_item\">\\n<div class=\"femp_logo\"><a href=\"/cmp/Experis-4?tk=1al4vsf7v82j89q0\" onmousedown=\"this.href = appendParamsOnce(this.href, '&amp;campaignid=femp&amp;from=femp');\" target=\"_blank\"><img alt=\"\\xa0Experis\" src=\"https://d2q79iu7y748jz.cloudfront.net/s/_logo/b945f83f4d96e2f2a096c59955191a81\" width=\"120\"/></a></div>\\n<div class=\"femp_cmp\"><a class=\"femp_cmp_link\" href=\"/cmp/Experis-4?tk=1al4vsf7v82j89q0\" onmousedown=\"this.href = appendParamsOnce(this.href, '&amp;campaignid=femp&amp;from=femp');\" target=\"_blank\">\\xa0Experis</a></div>\\n<div class=\"femp_desc\">Experis Australia is among the leading job recruitment agencies in Australia.</div>\\n<div class=\"featemp_sjl\" id=\"featemp_sj\" style=\"display: none\">\\n<div id=\"indJobContent\"></div>\\n</div>\\n<script type=\"text/javascript\">\\n        var ind_nr = true;\\n        var ind_pub = '8772657697788355';\\n        var ind_el = 'indJobContent';\\n        var ind_pf = '';\\n        var ind_q = '';\\n        var ind_fcckey = '05d2e3adb31f68ae';\\n        var ind_l = '';\\n        var ind_chnl = '\\\\u00A0Experis';\\n        var ind_n = 3;\\n        var ind_d = '';\\n        var ind_t = 60;\\n        var ind_c = 30;\\n        var ind_rq = '(\\\\\"data scientist\\\\\" or \\\\\"customer analytics\\\\\" or \\\\\"data analysis\\\\\")';\\n    </script>\\n<script src=\"/jobroll-widget-v3-fc2.js\" type=\"text/javascript\"></script>\\n<script type=\"text/javascript\">\\n        window.indeedJobroll.origJobsCallback = window.indeedJobroll.jobsCallback;\\n        window.indeedJobroll.jobsCallback=function(contentId, content) {\\n            var sjDiv = document.getElementById('featemp_sj');\\n            if (content.length <= 33 && sjDiv) {\\n                sjDiv.style.display = 'none';\\n            } else {\\n                if (sjDiv) { sjDiv.style.display = 'block'; }\\n                window.indeedJobroll.origJobsCallback(contentId, content);\\n            }\\n        };\\n    </script>\\n<div class=\"femp_links\">\\n<div class=\"jobs\"><a href=\"/jobs?q=company%3A%22%C2%A0Experis%22&amp;l=\" onmousedown=\"this.href = appendParamsOnce(this.href, '&amp;from=femp');\">Jobs (100)</a></div>\\n</div>\\n</div></div>\\n</td></tr>\\n</table>\\n<script>\\nvar focusHandlers = [];\\nvar linkHighlighter = new LinkHighlighter();\\nfocusHandlers.push(googBind(linkHighlighter.fadeToOriginalColor, linkHighlighter));\\nvar lostFocusHandlers = [];\\nlostFocusHandlers.push(googBind(linkHighlighter.clickedAway, linkHighlighter, \"#551a8b\"));\\n\\n\\nvar didYouApplyPrompt = new DidYouApplyPrompt('1al4vsf7v82j89q0',\\n60, 'serp', false);\\nfocusHandlers.push(googBind(didYouApplyPrompt.returnedToPage, didYouApplyPrompt));\\nlostFocusHandlers.push(googBind(didYouApplyPrompt.leftPage, didYouApplyPrompt));\\ndidYouApplyPrompt.dyaChangeFromCookie();\\n\\nvar clickTime = new ClickTime(window.tk, 'serp', 'jobtitle', focusHandlers, lostFocusHandlers);\\n</script>\\n<style type=\"text/css\">\\n#secondary_nav a,#secondary_nav a:link,#secondary_nav a:visited{color:#77c;text-decoration:none}#secondary_nav a:hover{text-decoration:underline}</style>\\n<!-- jobs -->\\n<div id=\"footerWrapper\" style=\"text-align:center;\">\\n<div id=\"footer\" style=\"text-align:left;\">\\n<div class=\"separator_bottom\"></div>\\n<div id=\"secondary_nav\">\\n<script type=\"text/javascript\">\\nvar jobsProductLink = document.getElementById('jobs_product_link');\\n</script>\\n<a href=\"/browsejobs\">Browse Jobs</a> - <a href=\"http://www.indeed.jobs\">Work at Indeed</a> - <a href=\"/publisher\">API</a> - <a href=\"http://blog.au.indeed.com\">Blog</a> - <a href=\"/intl/en/about.html\"><nobr>About</nobr></a> - <a href=\"https://indeed.zendesk.com/hc/en-ca\">Help Centre</a>\\n<style type=\"text/css\">\\n#footer-legal {\\nmargin-top: 10px;\\nfont-size: 9pt;\\n}\\n</style>\\n<div id=\"footer-legal\">\\n<div class=\"legal-footer\">\\xa92016 Indeed - <a href=\"/legal\">Cookies, Privacy and Terms</a></div></div>\\n</div>\\n</div>\\n</div>\\n</td></tr></table>\\n<script type=\"text/javascript\">\\n        var ebRand = Math.random()+'';\\n        ebRand = ebRand * 1000000;\\n\\n        document.write('<scr'+'ipt src=\"HTTP://bs.serving-sys.com/Serving/ActivityServer.bs?cn=as&ActivityID=' + '547975' + '&rnd=' + ebRand +  '\" crossorigin=\"anonymous\"></scr' + 'ipt>');\\n    </script>\\n<noscript>\\n<img height=\"1\" src=\"HTTP://bs.serving-sys.com/Serving/ActivityServer.bs?cn=as&amp;ActivityID=547975&amp;ns=1\" style=\"border:0\" width=\"1\"/>\\n</noscript>\\n<script type=\"text/javascript\">\\n        function mc_cv_tag(activityId) {\\n            var ebRand = Math.random()+'';\\n            ebRand = ebRand * 1000000;\\n\\n            var tagContainer = document.body.appendChild(document.createElement(\"div\"));\\n            tagContainer.style.position=\"absolute\";\\n            tagContainer.style.top=\"0\";\\n            tagContainer.style.left=\"0\";\\n            tagContainer.style.width=\"1px\";\\n            tagContainer.style.height=\"1px\";\\n            tagContainer.style.display=\"none\";\\n\\n            var jsTag = document.createElement('script');\\n            jsTag.src = 'HTTP://bs.serving-sys.com/Serving/ActivityServer.bs?cn=as&ActivityID=' + activityId + '&rnd=' + ebRand;\\n            jsTag.setAttribute('crossorigin', 'anonymous');\\n            jsTag.style.width=\"1px\";\\n            jsTag.style.height=\"1px\";\\n            jsTag.style.border=\"0\";\\n\\n            var noScript = document.createElement(\"noscript\");\\n            var noScriptText = '<img width=\"1\" height=\"1\" style=\"border:0\" src=\"HTTP://bs.serving-sys.com/Serving/ActivityServer.bs?cn=as&ActivityID=' + activityId + '&ns=1\"/>';\\n\\n            // IE less than 9 and RCs do not support innerHTML on some DOM elements, but supports .text for it\\n            if (((typeof noScript.canHaveHTML) === \"boolean\") && (noScript.canHaveHTML === false)) { // canHaveHTML only exists for IE\\n                noScript.text = noScriptText;\\n            } else {\\n                noScript.innerHTML = noScriptText;\\n            }\\n\\n            tagContainer.appendChild(jsTag);\\n            tagContainer.appendChild(noScript);\\n        }\\n    </script>\\n<script type=\"text/javascript\">\\n        function sm_cv_tag(activityId) {\\n            var ebRand = Math.random()+'';\\n            ebRand = ebRand * 1000000;\\n\\n            var tagContainer = document.body.appendChild(document.createElement(\"div\"));\\n            tagContainer.style.position=\"absolute\";\\n            tagContainer.style.top=\"0\";\\n            tagContainer.style.left=\"0\";\\n            tagContainer.style.width=\"1px\";\\n            tagContainer.style.height=\"1px\";\\n            tagContainer.style.display=\"none\";\\n\\n            var jsTag = document.createElement('script');\\n            jsTag.src = 'HTTPS://bs.serving-sys.com/Serving/ActivityServer.bs?cn=as&ActivityID=' + activityId + '&rnd=' + ebRand;\\n            jsTag.setAttribute('crossorigin', 'anonymous');\\n            jsTag.style.width=\"1px\";\\n            jsTag.style.height=\"1px\";\\n            jsTag.style.border=\"0\";\\n\\n            var noScript = document.createElement(\"noscript\");\\n            var noScriptText = '<img width=\"1\" height=\"1\" style=\"border:0\" src=\"HTTPS://bs.serving-sys.com/Serving/ActivityServer.bs?cn=as&ActivityID=' + activityId + '&ns=1\"/>';\\n\\n            // IE less than 9 and RCs do not support innerHTML on some DOM elements, but supports .text for it\\n            if (((typeof noScript.canHaveHTML) === \"boolean\") && (noScript.canHaveHTML === false)) { // canHaveHTML only exists for IE\\n                noScript.text = noScriptText;\\n            } else {\\n                noScript.innerHTML = noScriptText;\\n            }\\n\\n            tagContainer.appendChild(jsTag);\\n            tagContainer.appendChild(noScript);\\n        }\\n    </script>\\n<script type=\"text/javascript\">\\n<!--\\n(function ( tk ) { if ( tk && document.images ) { var s=\"/\", q=\"?\", a=\"&\", e=\"=\"; rpc(s+\"rpc\"+s+\"log\"+q+\"a\"+e+\"jsv\"+a+\"tk\"+e+tk); } })('1al4vsf7v82j89q0');\\nfunction jsall_loaded() {\\n\\n\\ninitProcessLeftoverDwellEntries();\\n\\nattachSjBlock('');\\nattachJaBlock('');\\n}\\nif (window['closureReady'] === true) {\\njsall_loaded();\\n}\\n//-->\\n</script>\\n<script type=\"text/javascript\">\\nPENDING_ANALYTICS_VARS = window.PENDING_ANALYTICS_VARS || [];\\nPENDING_ANALYTICS_VARS[PENDING_ANALYTICS_VARS.length] = ['_setCustomVar', 5, 'loggedIn', 'false', 3];\\n</script>\\n<script type=\"text/javascript\">\\n        var ga_domains = [];\\n        ga_domains.push('indeed.com.pe');ga_domains.push('indeed.com.br');ga_domains.push('indeed.es');ga_domains.push('indeed.com.ph');ga_domains.push('indeed.com');ga_domains.push('indeed.cl');ga_domains.push('indeed.ie');ga_domains.push('indeed.ch');ga_domains.push('indeed.ae');ga_domains.push('indeed.com.pk');ga_domains.push('indeed.ca');ga_domains.push('indeed.co.ve');ga_domains.push('indeed.co.za');ga_domains.push('indeed.fr');ga_domains.push('indeed.com.sg');ga_domains.push('indeed.pt');ga_domains.push('indeed.com.au');ga_domains.push('indeed.lu');ga_domains.push('indeed.com.co');ga_domains.push('indeed.co.in');ga_domains.push('indeed.com.my');ga_domains.push('indeed.de');ga_domains.push('indeed.com.mx');ga_domains.push('indeed.hk');ga_domains.push('indeed.fi');ga_domains.push('indeed.jp');ga_domains.push('indeed.nl');ga_domains.push('indeed.co.uk');\\n\\n        (function (i, s, o, g, r, a, m) {\\n            i['GoogleAnalyticsObject'] = r;\\n            i[r] = i[r] || function () {\\n                (i[r].q = i[r].q || []).push(arguments)\\n            }, i[r].l = 1 * new Date();\\n            a = s.createElement(o),\\n                    m = s.getElementsByTagName(o)[0];\\n            a.async = 1;\\n            a.src = g;\\n            m.parentNode.insertBefore(a, m)\\n        })(window, document, 'script', '//www.google-analytics.com/analytics.js', 'ga');\\n\\n        var ga = ga || [];\\n        ga('create', 'UA-90780-1', 'auto', {\\n            'allowLinker': true\\n        });\\n        ga('require', 'linkid');\\n        ga('require', 'linker');\\n        ga('linker:autoLink', ga_domains, false, true);\\n        ga('require', 'displayfeatures');\\n        ga('send', 'pageview');\\n\\n        \\n        (function () {\\n            if (window.PENDING_ANALYTICS_VARS && window.PENDING_ANALYTICS_VARS.length > 0) {\\n                for (var i in PENDING_ANALYTICS_VARS) {\\n                    ga('set', PENDING_ANALYTICS_VARS[i][2], PENDING_ANALYTICS_VARS[i][3]);\\n                }\\n            }\\n        })();\\n    </script>\\n<script>\\nvar _comscore = _comscore || [];\\n_comscore.push({ c1: \"2\", c2: \"6486505\", c4:\"au.indeed.com/jobs\", c15:\"1al4vsf7t82j88ju\"});\\n(function() { var s = document.createElement(\"script\"), el = document.getElementsByTagName(\"script\")[0]; s.async = true; s.src = (document.location.protocol == \"https:\" ? \"https://sb\" : \"http://b\") + \".scorecardresearch.com/beacon.js\"; el.parentNode.insertBefore(s, el); })();\\n</script>\\n<noscript>\\n<img alt=\"\" height=\"0\" src=\"http://b.scorecardresearch.com/p?c1=2&amp;c2=6486505&amp;c4=au.indeed.com%2Fjobs&amp;c15=1al4vsf7t82j88ju&amp;cv=2.0&amp;cj=1\" style=\"display:none\" width=\"0\"/>\\n</noscript>\\n<!-- START Nielsen Online SiteCensus V6.0 -->\\n<!-- COPYRIGHT 2012 Nielsen Online -->\\n<script type=\"text/javascript\">\\n    (function () {\\n        var d = new Image(1, 1);\\n        d.onerror = d.onload = function () {\\n            d.onerror = d.onload = null;\\n        };\\n        d.src = [\"//secure-us.imrworldwide.com/cgi-bin/m?ci=au-506740h&cg=0&cc=1&si=\", escape(window.location.href), \"&rp=\", escape(document.referrer), \"&ts=compact&rnd=\", (new Date()).getTime()].join('');\\n    })();\\n</script>\\n<noscript>\\n<div>\\n<img alt=\"\" height=\"1\" src=\"//secure-us.imrworldwide.com/cgi-bin/m?ci=au-506740h&amp;cg=0&amp;cc=1&amp;ts=noscript\" width=\"1\"/>\\n</div>\\n</noscript>\\n<!-- END Nielsen Online SiteCensus V6.0 -->\\n<script type=\"text/javascript\">\\n    /* <![CDATA[ */\\n    var google_conversion_id = 1049100955;\\n    var google_conversion_label = \"GXkhCM2YtwMQm4Wg9AM\";\\n    var google_custom_params = window.google_tag_params;\\n    var google_remarketing_only = true;\\n    /* ]]> */\\n</script>\\n<script src=\"//www.googleadservices.com/pagead/conversion.js\" type=\"text/javascript\">\\n</script>\\n<noscript>\\n<div style=\"display:inline;\">\\n<img alt=\"\" height=\"1\" src=\"//googleads.g.doubleclick.net/pagead/viewthroughconversion/1049100955/?value=0&amp;label=GXkhCM2YtwMQm4Wg9AM&amp;guid=ON&amp;script=0\" style=\"border-style:none;\" width=\"1\"/>\\n</div>\\n</noscript>\\n</body>\\n</html>\\n"
      ]
     },
     "execution_count": 7,
     "metadata": {},
     "output_type": "execute_result"
    }
   ],
   "source": [
    "html = urlopen(final_query).read()  \n",
    "soup = BeautifulSoup(html, \"lxml\")  \n",
    "soup"
   ]
  },
  {
   "cell_type": "markdown",
   "metadata": {},
   "source": [
    "Step3: find out how many jobs returned from the search query"
   ]
  },
  {
   "cell_type": "code",
   "execution_count": 8,
   "metadata": {
    "collapsed": false
   },
   "outputs": [
    {
     "data": {
      "text/plain": [
       "'Jobs 1 to 10 of 963'"
      ]
     },
     "execution_count": 8,
     "metadata": {},
     "output_type": "execute_result"
    }
   ],
   "source": [
    "number_of_jobs_page_area = soup.find(id=\"searchCount\").string.encode('utf-8')\n",
    "number_of_jobs_page_area"
   ]
  },
  {
   "cell_type": "code",
   "execution_count": 9,
   "metadata": {
    "collapsed": false
   },
   "outputs": [
    {
     "data": {
      "text/plain": [
       "['1', '10', '963']"
      ]
     },
     "execution_count": 9,
     "metadata": {},
     "output_type": "execute_result"
    }
   ],
   "source": [
    "number_of_jobs = re.findall('\\d+', number_of_jobs_page_area)\n",
    "number_of_jobs"
   ]
  },
  {
   "cell_type": "code",
   "execution_count": 10,
   "metadata": {
    "collapsed": false
   },
   "outputs": [
    {
     "data": {
      "text/plain": [
       "963"
      ]
     },
     "execution_count": 10,
     "metadata": {},
     "output_type": "execute_result"
    }
   ],
   "source": [
    "total_number_of_jobs = int(number_of_jobs[2])\n",
    "total_number_of_jobs"
   ]
  },
  {
   "cell_type": "markdown",
   "metadata": {},
   "source": [
    "Step4: calculate how many pages to scroll"
   ]
  },
  {
   "cell_type": "code",
   "execution_count": 11,
   "metadata": {
    "collapsed": false
   },
   "outputs": [
    {
     "data": {
      "text/plain": [
       "97.0"
      ]
     },
     "execution_count": 11,
     "metadata": {},
     "output_type": "execute_result"
    }
   ],
   "source": [
    "#round up the # of records divided by 10 as the number of pages in order to ensure coverage. \n",
    "number_of_pages_to_scroll = np.ceil(total_number_of_jobs/10.0)\n",
    "number_of_pages_to_scroll"
   ]
  },
  {
   "cell_type": "markdown",
   "metadata": {},
   "source": [
    "## 5) Load all the deets into separate lists"
   ]
  },
  {
   "cell_type": "code",
   "execution_count": 12,
   "metadata": {
    "collapsed": false
   },
   "outputs": [
    {
     "data": {
      "text/plain": [
       "[<div class=\" row result\" data-jk=\"ca8146b5d7b02d5f\" data-tn-component=\"organicJob\" id=\"p_ca8146b5d7b02d5f\" itemscope=\"\" itemtype=\"http://schema.org/JobPosting\">\\n<h2 class=\"jobtitle\" id=\"jl_ca8146b5d7b02d5f\">\\n<a class=\"turnstileLink\" data-tn-element=\"jobTitle\" href=\"/rc/clk?jk=ca8146b5d7b02d5f&amp;fccid=1818d10a60db56b4\" itemprop=\"title\" onclick=\"setRefineByCookie(['radius']); return rclk(this,jobmap[0],true,0);\" onmousedown=\"return rclk(this,jobmap[0],0);\" rel=\"nofollow\" target=\"_blank\" title=\"Program and Service Advisor\">Program and Service Advisor</a>\\n</h2>\\n<span class=\"company\" itemprop=\"hiringOrganization\" itemtype=\"http://schema.org/Organization\">\\n<span itemprop=\"name\">\\n    Victorian Government</span>\\n</span>\\n\\n - <span itemprop=\"jobLocation\" itemscope=\"\" itemtype=\"http://schema.org/Place\"><span class=\"location\" itemprop=\"address\" itemscope=\"\" itemtype=\"http://schema.org/Postaladdress\"><span itemprop=\"addressLocality\">Geelong VIC</span></span></span>\\n<table border=\"0\" cellpadding=\"0\" cellspacing=\"0\">\\n<tr>\\n<td class=\"snip\">\\nFull-time,\\xa0Contract<div>\\n<span class=\"summary\" itemprop=\"description\">\\nIn particular, a highly motivated individual with great <b>data</b> <b>analysis</b> and relationship management skills with health sector experience would suit this role....</span>\\n</div>\\n<div class=\"result-link-bar-container\">\\n<div class=\"result-link-bar\"><span class=\"date\">12 days ago</span> <span class=\"tt_set\" id=\"tt_set_0\"> - <span class=\"savelink2\" id=\"savelink2_ca8146b5d7b02d5f\"><a class=\"sl resultLink save-job-link\" href=\"#\" id=\"sj_ca8146b5d7b02d5f\" onclick=\"changeJobState('ca8146b5d7b02d5f', 'save', 'linkbar', false);return false;\" title=\"Save this job to my.indeed\">save job</a></span>  -  <a class=\"sl resultLink tellafriend-link \" href=\"mailto:?subject=I found this job on Indeed&amp;body=http://au.indeed.com\" onclick=\"toggleTellAFriend('ca8146b5d7b02d5f', 0, false); return false;\">email</a> - <a class=\"sl resultLink more-link \" href=\"#\" id=\"tog_0\" onclick=\"toggleMoreLinks('ca8146b5d7b02d5f'); return false;\">more...</a></span><div class=\"edit_note_content\" id=\"editsaved2_ca8146b5d7b02d5f\" style=\"display:none;\"></div><script>window['result_ca8146b5d7b02d5f'] = {\"showSource\": false, \"source\": \"Victorian Government\", \"loggedIn\": false, \"showMyJobsLinks\": true,\"undoAction\": \"unsave\",\"relativeJobAge\": \"12 days ago\",\"jobKey\": \"ca8146b5d7b02d5f\", \"myIndeedAvailable\": true, \"tellAFriendEnabled\": true, \"showMoreActionsLink\": true, \"resultNumber\": 0, \"jobStateChangedToSaved\": false, \"searchState\": \"q=(&quot;data scientist&quot; or &quot;customer analytics&quot; or &quot;data analysis&quot;)&amp;sort=&amp;radius=50&amp;fromage=any&amp;limit=10&amp;jt=all&amp;st=\", \"basicPermaLink\": \"http://au.indeed.com\", \"saveJobFailed\": false, \"removeJobFailed\": false, \"requestPending\": false, \"notesEnabled\": true, \"currentPage\" : \"serp\", \"sponsored\" : false,\"reportJobButtonEnabled\": false, \"showMyJobsHired\": false};</script></div></div>\\n<div class=\"tab-container\">\\n<div class=\"more-links-container result-tab\" id=\"tt_display_0\" style=\"display:none;\"><a class=\"close-link closeLink\" href=\"#\" onclick=\"toggleMoreLinks('ca8146b5d7b02d5f'); return false;\" title=\"Close\"></a><div class=\"more_actions\" id=\"more_0\"><ul><li><span class=\"mat\">View all <a href=\"/Victorian-Government-jobs\" rel=\"nofollow\">Victorian Government jobs</a> - <a href=\"/jobs-in-Geelong-VIC\">Geelong jobs</a></span></li><li><span class=\"mat\">Learn more about working at <a href=\"/cmp/Victorian-Government?fromjk=ca8146b5d7b02d5f&amp;from=serp-more&amp;campaignid=serp-more&amp;jcid=1818d10a60db56b4\">Victorian Government</a></span></li></ul></div></div><div class=\"dya-container result-tab\"></div>\\n<div class=\"tellafriend-container result-tab email_job_content\"></div>\\n<div class=\"sign-in-container result-tab\"></div>\\n<div class=\"notes-container result-tab\"></div>\\n</div>\\n</td>\\n</tr>\\n</table>\\n</div>,\n",
       " <div class=\" row result\" data-jk=\"7a9fe7de1beb85f9\" data-tn-component=\"organicJob\" id=\"p_7a9fe7de1beb85f9\" itemscope=\"\" itemtype=\"http://schema.org/JobPosting\">\\n<h2 class=\"jobtitle\" id=\"jl_7a9fe7de1beb85f9\">\\n<a class=\"turnstileLink\" data-tn-element=\"jobTitle\" href=\"/rc/clk?jk=7a9fe7de1beb85f9&amp;fccid=9605a3534a186df0\" itemprop=\"title\" onclick=\"setRefineByCookie(['radius']); return rclk(this,jobmap[1],true,0);\" onmousedown=\"return rclk(this,jobmap[1],0);\" rel=\"nofollow\" target=\"_blank\" title=\"Reliability Engineer - Christmas Creek\">Reliability Engineer - Christmas Creek</a>\\n</h2>\\n<span class=\"company\" itemprop=\"hiringOrganization\" itemtype=\"http://schema.org/Organization\">\\n<span itemprop=\"name\">\\n<a href=\"/cmp/Fortescue-Metals-Group?from=SERP&amp;campaignid=serp-linkcompanyname&amp;fromjk=7a9fe7de1beb85f9&amp;jcid=9605a3534a186df0\" target=\"_blank\">\\n    Fortescue Metals Group</a></span>\\n</span>\\n\\n - <a class=\"turnstileLink slNoUnderline \" data-tn-element=\"reviewStars\" data-tn-variant=\"cmplinktst2\" href=\"/cmp/Fortescue-Metals-Group/reviews?jcid=9605a3534a186df0\" onmousedown=\"this.href = appendParamsOnce(this.href, '?campaignid=cmplinktst2&amp;from=SERP&amp;jt=Reliability+Engineer+-+Christmas+Creek&amp;fromjk=7a9fe7de1beb85f9');\" target=\"_blank\" title=\"Fortescue Metals Group reviews\">\\n<span class=\"ratings\"><span class=\"rating\" style=\"width:46.199997px;\"><!-- --></span></span><span class=\"slNoUnderline\">23 reviews</span></a>\\n - <span itemprop=\"jobLocation\" itemscope=\"\" itemtype=\"http://schema.org/Place\"><span class=\"location\" itemprop=\"address\" itemscope=\"\" itemtype=\"http://schema.org/Postaladdress\"><span itemprop=\"addressLocality\">Pilbara WA</span></span></span>\\n<table border=\"0\" cellpadding=\"0\" cellspacing=\"0\">\\n<tr>\\n<td class=\"snip\">\\n<div>\\n<span class=\"summary\" itemprop=\"description\">\\n<b>Analysis</b> and reporting of fleet performance. The role of the reliability engineer is to provide technical support using initiatives and applying reliability...</span>\\n</div>\\n<div class=\"result-link-bar-container\">\\n<div class=\"result-link-bar\"><span class=\"date\">3 days ago</span> <span class=\"tt_set\" id=\"tt_set_1\"> - <span class=\"savelink2\" id=\"savelink2_7a9fe7de1beb85f9\"><a class=\"sl resultLink save-job-link\" href=\"#\" id=\"sj_7a9fe7de1beb85f9\" onclick=\"changeJobState('7a9fe7de1beb85f9', 'save', 'linkbar', false);return false;\" title=\"Save this job to my.indeed\">save job</a></span>  -  <a class=\"sl resultLink tellafriend-link \" href=\"mailto:?subject=I found this job on Indeed&amp;body=http://au.indeed.com\" onclick=\"toggleTellAFriend('7a9fe7de1beb85f9', 1, false); return false;\">email</a> - <a class=\"sl resultLink more-link \" href=\"#\" id=\"tog_1\" onclick=\"toggleMoreLinks('7a9fe7de1beb85f9'); return false;\">more...</a></span><div class=\"edit_note_content\" id=\"editsaved2_7a9fe7de1beb85f9\" style=\"display:none;\"></div><script>window['result_7a9fe7de1beb85f9'] = {\"showSource\": false, \"source\": \"Fortescue Metals Group\", \"loggedIn\": false, \"showMyJobsLinks\": true,\"undoAction\": \"unsave\",\"relativeJobAge\": \"3 days ago\",\"jobKey\": \"7a9fe7de1beb85f9\", \"myIndeedAvailable\": true, \"tellAFriendEnabled\": true, \"showMoreActionsLink\": true, \"resultNumber\": 1, \"jobStateChangedToSaved\": false, \"searchState\": \"q=(&quot;data scientist&quot; or &quot;customer analytics&quot; or &quot;data analysis&quot;)&amp;sort=&amp;radius=50&amp;fromage=any&amp;limit=10&amp;jt=all&amp;st=\", \"basicPermaLink\": \"http://au.indeed.com\", \"saveJobFailed\": false, \"removeJobFailed\": false, \"requestPending\": false, \"notesEnabled\": true, \"currentPage\" : \"serp\", \"sponsored\" : false,\"reportJobButtonEnabled\": false, \"showMyJobsHired\": false};</script></div></div>\\n<div class=\"tab-container\">\\n<div class=\"more-links-container result-tab\" id=\"tt_display_1\" style=\"display:none;\"><a class=\"close-link closeLink\" href=\"#\" onclick=\"toggleMoreLinks('7a9fe7de1beb85f9'); return false;\" title=\"Close\"></a><div class=\"more_actions\" id=\"more_1\"><ul><li><span class=\"mat\">View all <a href=\"/Fortescue-Metals-Group-jobs\" rel=\"nofollow\">Fortescue Metals Group jobs</a> - <a href=\"/jobs-in-Pilbara-WA\">Pilbara jobs</a></span></li><li><span class=\"mat\">Learn more about working at <a href=\"/cmp/Fortescue-Metals-Group?fromjk=7a9fe7de1beb85f9&amp;from=serp-more&amp;campaignid=serp-more&amp;jcid=9605a3534a186df0\">Fortescue Metals Group</a></span></li></ul></div></div><div class=\"dya-container result-tab\"></div>\\n<div class=\"tellafriend-container result-tab email_job_content\"></div>\\n<div class=\"sign-in-container result-tab\"></div>\\n<div class=\"notes-container result-tab\"></div>\\n</div>\\n</td>\\n</tr>\\n</table>\\n</div>,\n",
       " <div class=\" row result\" data-jk=\"35211e3965486c66\" data-tn-component=\"organicJob\" id=\"p_35211e3965486c66\" itemscope=\"\" itemtype=\"http://schema.org/JobPosting\">\\n<h2 class=\"jobtitle\" id=\"jl_35211e3965486c66\">\\n<a class=\"turnstileLink\" data-tn-element=\"jobTitle\" href=\"/rc/clk?jk=35211e3965486c66&amp;fccid=b144006bbf2d95a5\" itemprop=\"title\" onclick=\"setRefineByCookie(['radius']); return rclk(this,jobmap[2],true,0);\" onmousedown=\"return rclk(this,jobmap[2],0);\" rel=\"nofollow\" target=\"_blank\" title=\"Data Analyst / Administrator\"><b>Data</b> Analyst / Administrator</a>\\n</h2>\\n<span class=\"company\" itemprop=\"hiringOrganization\" itemtype=\"http://schema.org/Organization\">\\n<span itemprop=\"name\">\\n<a href=\"/cmp/Brookfield?from=SERP&amp;campaignid=serp-linkcompanyname&amp;fromjk=35211e3965486c66&amp;jcid=b144006bbf2d95a5\" target=\"_blank\">\\n    Brookfield</a></span>\\n</span>\\n\\n - <a class=\"turnstileLink slNoUnderline \" data-tn-element=\"reviewStars\" data-tn-variant=\"cmplinktst2\" href=\"/cmp/Brookfield/reviews?jcid=b144006bbf2d95a5\" onmousedown=\"this.href = appendParamsOnce(this.href, '?campaignid=cmplinktst2&amp;from=SERP&amp;jt=Data+Analyst+%5C%2F+Administrator&amp;fromjk=35211e3965486c66');\" target=\"_blank\" title=\"Brookfield reviews\">\\n<span class=\"ratings\"><span class=\"rating\" style=\"width:45.1px;\"><!-- --></span></span><span class=\"slNoUnderline\">21 reviews</span></a>\\n - <span itemprop=\"jobLocation\" itemscope=\"\" itemtype=\"http://schema.org/Place\"><span class=\"location\" itemprop=\"address\" itemscope=\"\" itemtype=\"http://schema.org/Postaladdress\"><span itemprop=\"addressLocality\">Sydney NSW</span></span></span>\\n<table border=\"0\" cellpadding=\"0\" cellspacing=\"0\">\\n<tr>\\n<td class=\"snip\">\\n<div>\\n<span class=\"summary\" itemprop=\"description\">\\nUndertake <b>data</b> <b>analysis</b>, cleansing, validation and updates. Management of <b>data</b> including; <b>Data</b> and system incident management;...</span>\\n</div>\\n<div class=\"result-link-bar-container\">\\n<div class=\"result-link-bar\"><span class=\"date\">28 days ago</span> <span class=\"tt_set\" id=\"tt_set_2\"> - <span class=\"savelink2\" id=\"savelink2_35211e3965486c66\"><a class=\"sl resultLink save-job-link\" href=\"#\" id=\"sj_35211e3965486c66\" onclick=\"changeJobState('35211e3965486c66', 'save', 'linkbar', false);return false;\" title=\"Save this job to my.indeed\">save job</a></span>  -  <a class=\"sl resultLink tellafriend-link \" href=\"mailto:?subject=I found this job on Indeed&amp;body=http://au.indeed.com\" onclick=\"toggleTellAFriend('35211e3965486c66', 2, false); return false;\">email</a> - <a class=\"sl resultLink more-link \" href=\"#\" id=\"tog_2\" onclick=\"toggleMoreLinks('35211e3965486c66'); return false;\">more...</a></span><div class=\"edit_note_content\" id=\"editsaved2_35211e3965486c66\" style=\"display:none;\"></div><script>window['result_35211e3965486c66'] = {\"showSource\": false, \"source\": \"Brookfield\", \"loggedIn\": false, \"showMyJobsLinks\": true,\"undoAction\": \"unsave\",\"relativeJobAge\": \"28 days ago\",\"jobKey\": \"35211e3965486c66\", \"myIndeedAvailable\": true, \"tellAFriendEnabled\": true, \"showMoreActionsLink\": true, \"resultNumber\": 2, \"jobStateChangedToSaved\": false, \"searchState\": \"q=(&quot;data scientist&quot; or &quot;customer analytics&quot; or &quot;data analysis&quot;)&amp;sort=&amp;radius=50&amp;fromage=any&amp;limit=10&amp;jt=all&amp;st=\", \"basicPermaLink\": \"http://au.indeed.com\", \"saveJobFailed\": false, \"removeJobFailed\": false, \"requestPending\": false, \"notesEnabled\": true, \"currentPage\" : \"serp\", \"sponsored\" : false,\"reportJobButtonEnabled\": false, \"showMyJobsHired\": false};</script></div></div>\\n<div class=\"tab-container\">\\n<div class=\"more-links-container result-tab\" id=\"tt_display_2\" style=\"display:none;\"><a class=\"close-link closeLink\" href=\"#\" onclick=\"toggleMoreLinks('35211e3965486c66'); return false;\" title=\"Close\"></a><div class=\"more_actions\" id=\"more_2\"><ul><li><span class=\"mat\">View all <a href=\"/Brookfield-jobs\" rel=\"nofollow\">Brookfield jobs</a> - <a href=\"/jobs-in-Sydney-NSW\">Sydney jobs</a></span></li></ul></div></div><div class=\"dya-container result-tab\"></div>\\n<div class=\"tellafriend-container result-tab email_job_content\"></div>\\n<div class=\"sign-in-container result-tab\"></div>\\n<div class=\"notes-container result-tab\"></div>\\n</div>\\n</td>\\n</tr>\\n</table>\\n</div>,\n",
       " <div class=\" row result\" data-jk=\"90d5230fdc16cb28\" data-tn-component=\"organicJob\" id=\"p_90d5230fdc16cb28\" itemscope=\"\" itemtype=\"http://schema.org/JobPosting\">\\n<h2 class=\"jobtitle\" id=\"jl_90d5230fdc16cb28\">\\n<a class=\"turnstileLink\" data-tn-element=\"jobTitle\" href=\"/rc/clk?jk=90d5230fdc16cb28&amp;fccid=7414fd5891b0ddd2\" itemprop=\"title\" onclick=\"setRefineByCookie(['radius']); return rclk(this,jobmap[3],true,0);\" onmousedown=\"return rclk(this,jobmap[3],0);\" rel=\"nofollow\" target=\"_blank\" title=\"Test Data Analyst\">Test <b>Data</b> Analyst</a>\\n</h2>\\n<span class=\"company\" itemprop=\"hiringOrganization\" itemtype=\"http://schema.org/Organization\">\\n<span itemprop=\"name\">\\n    UniSuper</span>\\n</span>\\n\\n - <span itemprop=\"jobLocation\" itemscope=\"\" itemtype=\"http://schema.org/Place\"><span class=\"location\" itemprop=\"address\" itemscope=\"\" itemtype=\"http://schema.org/Postaladdress\"><span itemprop=\"addressLocality\">Melbourne VIC</span></span></span>\\n<table border=\"0\" cellpadding=\"0\" cellspacing=\"0\">\\n<tr>\\n<td class=\"snip\">\\n<div>\\n<span class=\"summary\" itemprop=\"description\">\\nExtensive <b>data</b> extract, <b>analysis</b> and reporting experience. As a Test <b>Data</b> Analyst you will perform complex <b>data</b> <b>analysis</b> testing to ensure that changes to new...</span>\\n</div>\\n<div class=\"iaP\">\\n<span class=\"iaLabel\"> Easily apply to this job</span>\\n</div><div class=\"result-link-bar-container\">\\n<div class=\"result-link-bar\"><span class=\"date\">11 days ago</span> <span class=\"tt_set\" id=\"tt_set_3\"> - <span class=\"savelink2\" id=\"savelink2_90d5230fdc16cb28\"><a class=\"sl resultLink save-job-link\" href=\"#\" id=\"sj_90d5230fdc16cb28\" onclick=\"changeJobState('90d5230fdc16cb28', 'save', 'linkbar', false);return false;\" title=\"Save this job to my.indeed\">save job</a></span>  -  <a class=\"sl resultLink tellafriend-link \" href=\"mailto:?subject=I found this job on Indeed&amp;body=http://au.indeed.com\" onclick=\"toggleTellAFriend('90d5230fdc16cb28', 3, false); return false;\">email</a> - <a class=\"sl resultLink more-link \" href=\"#\" id=\"tog_3\" onclick=\"toggleMoreLinks('90d5230fdc16cb28'); return false;\">more...</a></span><div class=\"edit_note_content\" id=\"editsaved2_90d5230fdc16cb28\" style=\"display:none;\"></div><script>window['result_90d5230fdc16cb28'] = {\"showSource\": false, \"source\": \"UniSuper\", \"loggedIn\": false, \"showMyJobsLinks\": true,\"undoAction\": \"unsave\",\"relativeJobAge\": \"11 days ago\",\"jobKey\": \"90d5230fdc16cb28\", \"myIndeedAvailable\": true, \"tellAFriendEnabled\": true, \"showMoreActionsLink\": true, \"resultNumber\": 3, \"jobStateChangedToSaved\": false, \"searchState\": \"q=(&quot;data scientist&quot; or &quot;customer analytics&quot; or &quot;data analysis&quot;)&amp;sort=&amp;radius=50&amp;fromage=any&amp;limit=10&amp;jt=all&amp;st=\", \"basicPermaLink\": \"http://au.indeed.com\", \"saveJobFailed\": false, \"removeJobFailed\": false, \"requestPending\": false, \"notesEnabled\": true, \"currentPage\" : \"serp\", \"sponsored\" : false,\"reportJobButtonEnabled\": false, \"showMyJobsHired\": false};</script></div></div>\\n<div class=\"tab-container\">\\n<div class=\"more-links-container result-tab\" id=\"tt_display_3\" style=\"display:none;\"><a class=\"close-link closeLink\" href=\"#\" onclick=\"toggleMoreLinks('90d5230fdc16cb28'); return false;\" title=\"Close\"></a><div class=\"more_actions\" id=\"more_3\"><ul><li><span class=\"mat\">View all <a href=\"/Unisuper-jobs\" rel=\"nofollow\">UniSuper jobs</a> - <a href=\"/jobs-in-Melbourne-VIC\">Melbourne jobs</a></span></li></ul></div></div><div class=\"dya-container result-tab\"></div>\\n<div class=\"tellafriend-container result-tab email_job_content\"></div>\\n<div class=\"sign-in-container result-tab\"></div>\\n<div class=\"notes-container result-tab\"></div>\\n</div>\\n</td>\\n</tr>\\n</table>\\n</div>,\n",
       " <div class=\" row result\" data-jk=\"1c41fd61f33c7f7a\" data-tn-component=\"organicJob\" id=\"p_1c41fd61f33c7f7a\" itemscope=\"\" itemtype=\"http://schema.org/JobPosting\">\\n<h2 class=\"jobtitle\" id=\"jl_1c41fd61f33c7f7a\">\\n<a class=\"turnstileLink\" data-tn-element=\"jobTitle\" href=\"/rc/clk?jk=1c41fd61f33c7f7a&amp;fccid=9f1632b30ffb46f4\" itemprop=\"title\" onclick=\"setRefineByCookie(['radius']); return rclk(this,jobmap[4],true,0);\" onmousedown=\"return rclk(this,jobmap[4],0);\" rel=\"nofollow\" target=\"_blank\" title=\"Stock Coordinator - Support Centre QLD\">Stock Coordinator - Support Centre QLD</a>\\n</h2>\\n<span class=\"company\" itemprop=\"hiringOrganization\" itemtype=\"http://schema.org/Organization\">\\n<span itemprop=\"name\">\\n<a href=\"/cmp/Lorna-Jane?from=SERP&amp;campaignid=serp-linkcompanyname&amp;fromjk=1c41fd61f33c7f7a&amp;jcid=9f1632b30ffb46f4\" target=\"_blank\">\\n    Lorna Jane</a></span>\\n</span>\\n\\n - <a class=\"turnstileLink slNoUnderline \" data-tn-element=\"reviewStars\" data-tn-variant=\"cmplinktst2\" href=\"/cmp/Lorna-Jane/reviews?jcid=9f1632b30ffb46f4\" onmousedown=\"this.href = appendParamsOnce(this.href, '?campaignid=cmplinktst2&amp;from=SERP&amp;jt=Stock+Coordinator+-+Support+Centre+QLD&amp;fromjk=1c41fd61f33c7f7a');\" target=\"_blank\" title=\"Lorna Jane reviews\">\\n<span class=\"ratings\"><span class=\"rating\" style=\"width:40.7px;\"><!-- --></span></span><span class=\"slNoUnderline\">19 reviews</span></a>\\n - <span itemprop=\"jobLocation\" itemscope=\"\" itemtype=\"http://schema.org/Place\"><span class=\"location\" itemprop=\"address\" itemscope=\"\" itemtype=\"http://schema.org/Postaladdress\"><span itemprop=\"addressLocality\">Queensland</span></span></span>\\n<table border=\"0\" cellpadding=\"0\" cellspacing=\"0\">\\n<tr>\\n<td class=\"snip\">\\n<div>\\n<span class=\"summary\" itemprop=\"description\">\\n<b>Analysis</b> of sales <b>data</b> and through reports to supply. Combining a love of LJ Active Wear and <b>data</b> <b>analysis</b> with....</span>\\n</div>\\n<div class=\"result-link-bar-container\">\\n<div class=\"result-link-bar\"><span class=\"date\">3 days ago</span> <span class=\"tt_set\" id=\"tt_set_4\"> - <span class=\"savelink2\" id=\"savelink2_1c41fd61f33c7f7a\"><a class=\"sl resultLink save-job-link\" href=\"#\" id=\"sj_1c41fd61f33c7f7a\" onclick=\"changeJobState('1c41fd61f33c7f7a', 'save', 'linkbar', false);return false;\" title=\"Save this job to my.indeed\">save job</a></span>  -  <a class=\"sl resultLink tellafriend-link \" href=\"mailto:?subject=I found this job on Indeed&amp;body=http://au.indeed.com\" onclick=\"toggleTellAFriend('1c41fd61f33c7f7a', 4, false); return false;\">email</a> - <a class=\"sl resultLink more-link \" href=\"#\" id=\"tog_4\" onclick=\"toggleMoreLinks('1c41fd61f33c7f7a'); return false;\">more...</a></span><div class=\"edit_note_content\" id=\"editsaved2_1c41fd61f33c7f7a\" style=\"display:none;\"></div><script>window['result_1c41fd61f33c7f7a'] = {\"showSource\": false, \"source\": \"Lorna Jane\", \"loggedIn\": false, \"showMyJobsLinks\": true,\"undoAction\": \"unsave\",\"relativeJobAge\": \"3 days ago\",\"jobKey\": \"1c41fd61f33c7f7a\", \"myIndeedAvailable\": true, \"tellAFriendEnabled\": true, \"showMoreActionsLink\": true, \"resultNumber\": 4, \"jobStateChangedToSaved\": false, \"searchState\": \"q=(&quot;data scientist&quot; or &quot;customer analytics&quot; or &quot;data analysis&quot;)&amp;sort=&amp;radius=50&amp;fromage=any&amp;limit=10&amp;jt=all&amp;st=\", \"basicPermaLink\": \"http://au.indeed.com\", \"saveJobFailed\": false, \"removeJobFailed\": false, \"requestPending\": false, \"notesEnabled\": true, \"currentPage\" : \"serp\", \"sponsored\" : false,\"reportJobButtonEnabled\": false, \"showMyJobsHired\": false};</script></div></div>\\n<div class=\"tab-container\">\\n<div class=\"more-links-container result-tab\" id=\"tt_display_4\" style=\"display:none;\"><a class=\"close-link closeLink\" href=\"#\" onclick=\"toggleMoreLinks('1c41fd61f33c7f7a'); return false;\" title=\"Close\"></a><div class=\"more_actions\" id=\"more_4\"><ul><li><span class=\"mat\">View all <a href=\"/Lorna-Jane-jobs\" rel=\"nofollow\">Lorna Jane jobs</a> - <a href=\"/jobs-in-Queensland\">Queensland jobs</a></span></li><li><span class=\"mat\">Learn more about working at <a href=\"/cmp/Lorna-Jane?fromjk=1c41fd61f33c7f7a&amp;from=serp-more&amp;campaignid=serp-more&amp;jcid=9f1632b30ffb46f4\">Lorna Jane</a></span></li></ul></div></div><div class=\"dya-container result-tab\"></div>\\n<div class=\"tellafriend-container result-tab email_job_content\"></div>\\n<div class=\"sign-in-container result-tab\"></div>\\n<div class=\"notes-container result-tab\"></div>\\n</div>\\n</td>\\n</tr>\\n</table>\\n</div>,\n",
       " <div class=\" row result\" data-jk=\"e404043290252ddc\" data-tn-component=\"organicJob\" id=\"p_e404043290252ddc\" itemscope=\"\" itemtype=\"http://schema.org/JobPosting\">\\n<h2 class=\"jobtitle\" id=\"jl_e404043290252ddc\">\\n<a class=\"turnstileLink\" data-tn-element=\"jobTitle\" href=\"/rc/clk?jk=e404043290252ddc&amp;fccid=bca6f10d73dbbf6c\" itemprop=\"title\" onclick=\"setRefineByCookie(['radius']); return rclk(this,jobmap[5],true,1);\" onmousedown=\"return rclk(this,jobmap[5],1);\" rel=\"nofollow\" target=\"_blank\" title=\"Scholarly Teaching Fellow\">Scholarly Teaching Fellow</a>\\n</h2>\\n<span class=\"company\" itemprop=\"hiringOrganization\" itemtype=\"http://schema.org/Organization\">\\n<span itemprop=\"name\">\\n<a href=\"/cmp/Macquarie-University?from=SERP&amp;campaignid=serp-linkcompanyname&amp;fromjk=e404043290252ddc&amp;jcid=bca6f10d73dbbf6c\" target=\"_blank\">\\n    Macquarie University</a></span>\\n</span>\\n\\n - <a class=\"turnstileLink slNoUnderline \" data-tn-element=\"reviewStars\" data-tn-variant=\"cmplinktst2\" href=\"/cmp/Macquarie-University/reviews?jcid=bca6f10d73dbbf6c\" onmousedown=\"this.href = appendParamsOnce(this.href, '?campaignid=cmplinktst2&amp;from=SERP&amp;jt=Scholarly+Teaching+Fellow&amp;fromjk=e404043290252ddc');\" target=\"_blank\" title=\"Macquarie University reviews\">\\n<span class=\"ratings\"><span class=\"rating\" style=\"width:45.1px;\"><!-- --></span></span><span class=\"slNoUnderline\">11 reviews</span></a>\\n - <span itemprop=\"jobLocation\" itemscope=\"\" itemtype=\"http://schema.org/Place\"><span class=\"location\" itemprop=\"address\" itemscope=\"\" itemtype=\"http://schema.org/Postaladdress\"><span itemprop=\"addressLocality\">Macquarie University NSW</span></span></span>\\n<table border=\"0\" cellpadding=\"0\" cellspacing=\"0\">\\n<tr>\\n<td class=\"snip\">\\n<nobr>$68,324 - $92,000 a year</nobr>\\n - Full-time,\\xa0Part-time<div>\\n<span class=\"summary\" itemprop=\"description\">\\nExperience in acoustic, articulatory and/or perceptual speech <b>data</b> <b>analysis</b>. Macquarie is the university of pioneering minds....</span>\\n</div>\\n<div class=\"result-link-bar-container\">\\n<div class=\"result-link-bar\"><span class=\"date\">13 days ago</span> <span class=\"tt_set\" id=\"tt_set_5\"> - <span class=\"savelink2\" id=\"savelink2_e404043290252ddc\"><a class=\"sl resultLink save-job-link\" href=\"#\" id=\"sj_e404043290252ddc\" onclick=\"changeJobState('e404043290252ddc', 'save', 'linkbar', false);return false;\" title=\"Save this job to my.indeed\">save job</a></span>  -  <a class=\"sl resultLink tellafriend-link \" href=\"mailto:?subject=I found this job on Indeed&amp;body=http://au.indeed.com\" onclick=\"toggleTellAFriend('e404043290252ddc', 5, false); return false;\">email</a> - <a class=\"sl resultLink more-link \" href=\"#\" id=\"tog_5\" onclick=\"toggleMoreLinks('e404043290252ddc'); return false;\">more...</a></span><div class=\"edit_note_content\" id=\"editsaved2_e404043290252ddc\" style=\"display:none;\"></div><script>window['result_e404043290252ddc'] = {\"showSource\": false, \"source\": \"Macquarie University\", \"loggedIn\": false, \"showMyJobsLinks\": true,\"undoAction\": \"unsave\",\"relativeJobAge\": \"13 days ago\",\"jobKey\": \"e404043290252ddc\", \"myIndeedAvailable\": true, \"tellAFriendEnabled\": true, \"showMoreActionsLink\": true, \"resultNumber\": 5, \"jobStateChangedToSaved\": false, \"searchState\": \"q=(&quot;data scientist&quot; or &quot;customer analytics&quot; or &quot;data analysis&quot;)&amp;sort=&amp;radius=50&amp;fromage=any&amp;limit=10&amp;jt=all&amp;st=\", \"basicPermaLink\": \"http://au.indeed.com\", \"saveJobFailed\": false, \"removeJobFailed\": false, \"requestPending\": false, \"notesEnabled\": true, \"currentPage\" : \"serp\", \"sponsored\" : false,\"reportJobButtonEnabled\": false, \"showMyJobsHired\": false};</script></div></div>\\n<div class=\"tab-container\">\\n<div class=\"more-links-container result-tab\" id=\"tt_display_5\" style=\"display:none;\"><a class=\"close-link closeLink\" href=\"#\" onclick=\"toggleMoreLinks('e404043290252ddc'); return false;\" title=\"Close\"></a><div class=\"more_actions\" id=\"more_5\"><ul><li><span class=\"mat\">View all <a href=\"/Macquarie-University-jobs\" rel=\"nofollow\">Macquarie University jobs</a> - <a href=\"/jobs-in-Macquarie-University-NSW\">Macquarie University jobs</a></span></li><li><span class=\"mat\">Learn more about working at <a href=\"/cmp/Macquarie-University?fromjk=e404043290252ddc&amp;from=serp-more&amp;campaignid=serp-more&amp;jcid=bca6f10d73dbbf6c\">Macquarie University</a></span></li></ul></div></div><div class=\"dya-container result-tab\"></div>\\n<div class=\"tellafriend-container result-tab email_job_content\"></div>\\n<div class=\"sign-in-container result-tab\"></div>\\n<div class=\"notes-container result-tab\"></div>\\n</div>\\n</td>\\n</tr>\\n</table>\\n</div>,\n",
       " <div class=\" row result\" data-jk=\"845365829ba37eda\" data-tn-component=\"organicJob\" id=\"p_845365829ba37eda\" itemscope=\"\" itemtype=\"http://schema.org/JobPosting\">\\n<h2 class=\"jobtitle\" id=\"jl_845365829ba37eda\">\\n<a class=\"turnstileLink\" data-tn-element=\"jobTitle\" href=\"/rc/clk?jk=845365829ba37eda&amp;fccid=2973259ddc967948\" itemprop=\"title\" onclick=\"setRefineByCookie(['radius']); return rclk(this,jobmap[6],true,0);\" onmousedown=\"return rclk(this,jobmap[6],0);\" rel=\"nofollow\" target=\"_blank\" title=\"Global Purchasing Procurement Analyst\">Global Purchasing Procurement Analyst</a>\\n</h2>\\n<span class=\"company\" itemprop=\"hiringOrganization\" itemtype=\"http://schema.org/Organization\">\\n<span itemprop=\"name\">\\n<a href=\"/cmp/PepsiCo?from=SERP&amp;campaignid=serp-linkcompanyname&amp;fromjk=845365829ba37eda&amp;jcid=2973259ddc967948\" target=\"_blank\">\\n    PepsiCo</a></span>\\n</span>\\n\\n - <a class=\"turnstileLink slNoUnderline \" data-tn-element=\"reviewStars\" data-tn-variant=\"cmplinktst2\" href=\"/cmp/PepsiCo/reviews?jcid=2973259ddc967948\" onmousedown=\"this.href = appendParamsOnce(this.href, '?campaignid=cmplinktst2&amp;from=SERP&amp;jt=Global+Purchasing+Procurement+Analyst&amp;fromjk=845365829ba37eda');\" target=\"_blank\" title=\"PepsiCo reviews\">\\n<span class=\"ratings\"><span class=\"rating\" style=\"width:42.9px;\"><!-- --></span></span><span class=\"slNoUnderline\">4,712 reviews</span></a>\\n - <span itemprop=\"jobLocation\" itemscope=\"\" itemtype=\"http://schema.org/Place\"><span class=\"location\" itemprop=\"address\" itemscope=\"\" itemtype=\"http://schema.org/Postaladdress\"><span itemprop=\"addressLocality\">Chatswood NSW</span></span></span>\\n<table border=\"0\" cellpadding=\"0\" cellspacing=\"0\">\\n<tr>\\n<td class=\"snip\">\\n<div>\\n<span class=\"summary\" itemprop=\"description\">\\nYou will be responsible for managing performance metrics, insightful reports, <b>data</b> <b>analytics</b>, and commodity risk compliance, coupled with regular engagement...</span>\\n</div>\\n<div class=\"result-link-bar-container\">\\n<div class=\"result-link-bar\"><span class=\"date\">6 days ago</span> <span class=\"tt_set\" id=\"tt_set_6\"> - <span class=\"savelink2\" id=\"savelink2_845365829ba37eda\"><a class=\"sl resultLink save-job-link\" href=\"#\" id=\"sj_845365829ba37eda\" onclick=\"changeJobState('845365829ba37eda', 'save', 'linkbar', false);return false;\" title=\"Save this job to my.indeed\">save job</a></span>  -  <a class=\"sl resultLink tellafriend-link \" href=\"mailto:?subject=I found this job on Indeed&amp;body=http://au.indeed.com\" onclick=\"toggleTellAFriend('845365829ba37eda', 6, false); return false;\">email</a> - <a class=\"sl resultLink more-link \" href=\"#\" id=\"tog_6\" onclick=\"toggleMoreLinks('845365829ba37eda'); return false;\">more...</a></span><div class=\"edit_note_content\" id=\"editsaved2_845365829ba37eda\" style=\"display:none;\"></div><script>window['result_845365829ba37eda'] = {\"showSource\": false, \"source\": \"PepsiCo\", \"loggedIn\": false, \"showMyJobsLinks\": true,\"undoAction\": \"unsave\",\"relativeJobAge\": \"6 days ago\",\"jobKey\": \"845365829ba37eda\", \"myIndeedAvailable\": true, \"tellAFriendEnabled\": true, \"showMoreActionsLink\": true, \"resultNumber\": 6, \"jobStateChangedToSaved\": false, \"searchState\": \"q=(&quot;data scientist&quot; or &quot;customer analytics&quot; or &quot;data analysis&quot;)&amp;sort=&amp;radius=50&amp;fromage=any&amp;limit=10&amp;jt=all&amp;st=\", \"basicPermaLink\": \"http://au.indeed.com\", \"saveJobFailed\": false, \"removeJobFailed\": false, \"requestPending\": false, \"notesEnabled\": true, \"currentPage\" : \"serp\", \"sponsored\" : false,\"reportJobButtonEnabled\": false, \"showMyJobsHired\": false};</script></div></div>\\n<div class=\"tab-container\">\\n<div class=\"more-links-container result-tab\" id=\"tt_display_6\" style=\"display:none;\"><a class=\"close-link closeLink\" href=\"#\" onclick=\"toggleMoreLinks('845365829ba37eda'); return false;\" title=\"Close\"></a><div class=\"more_actions\" id=\"more_6\"><ul><li><span class=\"mat\">View all <a href=\"/PepsiCo-jobs\" rel=\"nofollow\">PepsiCo jobs</a> - <a href=\"/jobs-in-Chatswood-NSW\">Chatswood jobs</a></span></li><li><span class=\"mat\">Learn more about working at <a href=\"/cmp/PepsiCo?fromjk=845365829ba37eda&amp;from=serp-more&amp;campaignid=serp-more&amp;jcid=2973259ddc967948\">PepsiCo</a></span></li></ul></div></div><div class=\"dya-container result-tab\"></div>\\n<div class=\"tellafriend-container result-tab email_job_content\"></div>\\n<div class=\"sign-in-container result-tab\"></div>\\n<div class=\"notes-container result-tab\"></div>\\n</div>\\n</td>\\n</tr>\\n</table>\\n</div>,\n",
       " <div class=\" row result\" data-jk=\"29209de19e74c885\" data-tn-component=\"organicJob\" id=\"p_29209de19e74c885\" itemscope=\"\" itemtype=\"http://schema.org/JobPosting\">\\n<h2 class=\"jobtitle\" id=\"jl_29209de19e74c885\">\\n<a class=\"turnstileLink\" data-tn-element=\"jobTitle\" href=\"/rc/clk?jk=29209de19e74c885&amp;fccid=5e964c4afc56b180\" itemprop=\"title\" onclick=\"setRefineByCookie(['radius']); return rclk(this,jobmap[7],true,0);\" onmousedown=\"return rclk(this,jobmap[7],0);\" rel=\"nofollow\" target=\"_blank\" title=\"Insight Analytics Manager\">Insight <b>Analytics</b> Manager</a>\\n</h2>\\n<span class=\"company\" itemprop=\"hiringOrganization\" itemtype=\"http://schema.org/Organization\">\\n<span itemprop=\"name\">\\n<a href=\"/cmp/Pwc?from=SERP&amp;campaignid=serp-linkcompanyname&amp;fromjk=29209de19e74c885&amp;jcid=5e964c4afc56b180\" target=\"_blank\">\\n    PwC</a></span>\\n</span>\\n\\n - <a class=\"turnstileLink slNoUnderline \" data-tn-element=\"reviewStars\" data-tn-variant=\"cmplinktst2\" href=\"/cmp/Pwc/reviews?jcid=5e964c4afc56b180\" onmousedown=\"this.href = appendParamsOnce(this.href, '?campaignid=cmplinktst2&amp;from=SERP&amp;jt=Insight+Analytics+Manager&amp;fromjk=29209de19e74c885');\" target=\"_blank\" title=\"Pwc reviews\">\\n<span class=\"ratings\"><span class=\"rating\" style=\"width:44.0px;\"><!-- --></span></span><span class=\"slNoUnderline\">2,342 reviews</span></a>\\n - <span itemprop=\"jobLocation\" itemscope=\"\" itemtype=\"http://schema.org/Place\"><span class=\"location\" itemprop=\"address\" itemscope=\"\" itemtype=\"http://schema.org/Postaladdress\"><span itemprop=\"addressLocality\">Melbourne VIC</span></span></span>\\n<table border=\"0\" cellpadding=\"0\" cellspacing=\"0\">\\n<tr>\\n<td class=\"snip\">\\n<div>\\n<span class=\"summary\" itemprop=\"description\">\\nInsight <b>Analytics</b> Manager. PwC is a world leader in the use of <b>data</b> <b>analytics</b> to help business and government clients make better decisions and improve their...</span>\\n</div>\\n<div class=\"result-link-bar-container\">\\n<div class=\"result-link-bar\"><span class=\"date\">30+ days ago</span> <span class=\"tt_set\" id=\"tt_set_7\"> - <span class=\"savelink2\" id=\"savelink2_29209de19e74c885\"><a class=\"sl resultLink save-job-link\" href=\"#\" id=\"sj_29209de19e74c885\" onclick=\"changeJobState('29209de19e74c885', 'save', 'linkbar', false);return false;\" title=\"Save this job to my.indeed\">save job</a></span>  -  <a class=\"sl resultLink tellafriend-link \" href=\"mailto:?subject=I found this job on Indeed&amp;body=http://au.indeed.com\" onclick=\"toggleTellAFriend('29209de19e74c885', 7, false); return false;\">email</a> - <a class=\"sl resultLink more-link \" href=\"#\" id=\"tog_7\" onclick=\"toggleMoreLinks('29209de19e74c885'); return false;\">more...</a></span><div class=\"edit_note_content\" id=\"editsaved2_29209de19e74c885\" style=\"display:none;\"></div><script>window['result_29209de19e74c885'] = {\"showSource\": false, \"source\": \"PwC\", \"loggedIn\": false, \"showMyJobsLinks\": true,\"undoAction\": \"unsave\",\"relativeJobAge\": \"30+ days ago\",\"jobKey\": \"29209de19e74c885\", \"myIndeedAvailable\": true, \"tellAFriendEnabled\": true, \"showMoreActionsLink\": true, \"resultNumber\": 7, \"jobStateChangedToSaved\": false, \"searchState\": \"q=(&quot;data scientist&quot; or &quot;customer analytics&quot; or &quot;data analysis&quot;)&amp;sort=&amp;radius=50&amp;fromage=any&amp;limit=10&amp;jt=all&amp;st=\", \"basicPermaLink\": \"http://au.indeed.com\", \"saveJobFailed\": false, \"removeJobFailed\": false, \"requestPending\": false, \"notesEnabled\": true, \"currentPage\" : \"serp\", \"sponsored\" : false,\"reportJobButtonEnabled\": false, \"showMyJobsHired\": false};</script></div></div>\\n<div class=\"tab-container\">\\n<div class=\"more-links-container result-tab\" id=\"tt_display_7\" style=\"display:none;\"><a class=\"close-link closeLink\" href=\"#\" onclick=\"toggleMoreLinks('29209de19e74c885'); return false;\" title=\"Close\"></a><div class=\"more_actions\" id=\"more_7\"><ul><li><span class=\"mat\">View all <a href=\"/Pwc-jobs\" rel=\"nofollow\">PwC jobs</a> - <a href=\"/jobs-in-Melbourne-VIC\">Melbourne jobs</a></span></li><li><span class=\"mat\">Learn more about working at <a href=\"/cmp/Pwc?fromjk=29209de19e74c885&amp;from=serp-more&amp;campaignid=serp-more&amp;jcid=5e964c4afc56b180\">Pwc</a></span></li></ul></div></div><div class=\"dya-container result-tab\"></div>\\n<div class=\"tellafriend-container result-tab email_job_content\"></div>\\n<div class=\"sign-in-container result-tab\"></div>\\n<div class=\"notes-container result-tab\"></div>\\n</div>\\n</td>\\n</tr>\\n</table>\\n</div>,\n",
       " <div class=\" row result\" data-jk=\"812254ce6d0994d7\" data-tn-component=\"organicJob\" id=\"p_812254ce6d0994d7\" itemscope=\"\" itemtype=\"http://schema.org/JobPosting\">\\n<h2 class=\"jobtitle\" id=\"jl_812254ce6d0994d7\">\\n<a class=\"turnstileLink\" data-tn-element=\"jobTitle\" href=\"/rc/clk?jk=812254ce6d0994d7&amp;fccid=4e42ec53f4b93e02\" itemprop=\"title\" onclick=\"setRefineByCookie(['radius']); return rclk(this,jobmap[8],true,0);\" onmousedown=\"return rclk(this,jobmap[8],0);\" rel=\"nofollow\" target=\"_blank\" title=\"Production Reliabilty Engineer\">Production Reliabilty Engineer</a>\\n</h2>\\n<span class=\"company\" itemprop=\"hiringOrganization\" itemtype=\"http://schema.org/Organization\">\\n<span itemprop=\"name\">\\n<a href=\"/cmp/Glaxosmithkline?from=SERP&amp;campaignid=serp-linkcompanyname&amp;fromjk=812254ce6d0994d7&amp;jcid=4e42ec53f4b93e02\" target=\"_blank\">\\n    GlaxoSmithKline</a></span>\\n</span>\\n\\n - <a class=\"turnstileLink slNoUnderline \" data-tn-element=\"reviewStars\" data-tn-variant=\"cmplinktst2\" href=\"/cmp/Glaxosmithkline/reviews?jcid=4e42ec53f4b93e02\" onmousedown=\"this.href = appendParamsOnce(this.href, '?campaignid=cmplinktst2&amp;from=SERP&amp;jt=Production+Reliabilty+Engineer&amp;fromjk=812254ce6d0994d7');\" target=\"_blank\" title=\"Glaxosmithkline reviews\">\\n<span class=\"ratings\"><span class=\"rating\" style=\"width:46.199997px;\"><!-- --></span></span><span class=\"slNoUnderline\">1,581 reviews</span></a>\\n - <span itemprop=\"jobLocation\" itemscope=\"\" itemtype=\"http://schema.org/Place\"><span class=\"location\" itemprop=\"address\" itemscope=\"\" itemtype=\"http://schema.org/Postaladdress\"><span itemprop=\"addressLocality\">Melbourne VIC</span></span></span>\\n<table border=\"0\" cellpadding=\"0\" cellspacing=\"0\">\\n<tr>\\n<td class=\"snip\">\\n<div>\\n<span class=\"summary\" itemprop=\"description\">\\nHigh understanding of business management, leadership, problem solving techniques, <b>data</b> <b>analysis</b> is required. Analyses failure rate <b>data</b>....</span>\\n</div>\\n<div class=\"result-link-bar-container\">\\n<div class=\"result-link-bar\"><span class=\"date\">4 days ago</span> <span class=\"tt_set\" id=\"tt_set_8\"> - <span class=\"savelink2\" id=\"savelink2_812254ce6d0994d7\"><a class=\"sl resultLink save-job-link\" href=\"#\" id=\"sj_812254ce6d0994d7\" onclick=\"changeJobState('812254ce6d0994d7', 'save', 'linkbar', false);return false;\" title=\"Save this job to my.indeed\">save job</a></span>  -  <a class=\"sl resultLink tellafriend-link \" href=\"mailto:?subject=I found this job on Indeed&amp;body=http://au.indeed.com\" onclick=\"toggleTellAFriend('812254ce6d0994d7', 8, false); return false;\">email</a> - <a class=\"sl resultLink more-link \" href=\"#\" id=\"tog_8\" onclick=\"toggleMoreLinks('812254ce6d0994d7'); return false;\">more...</a></span><div class=\"edit_note_content\" id=\"editsaved2_812254ce6d0994d7\" style=\"display:none;\"></div><script>window['result_812254ce6d0994d7'] = {\"showSource\": false, \"source\": \"GlaxoSmithKline\", \"loggedIn\": false, \"showMyJobsLinks\": true,\"undoAction\": \"unsave\",\"relativeJobAge\": \"4 days ago\",\"jobKey\": \"812254ce6d0994d7\", \"myIndeedAvailable\": true, \"tellAFriendEnabled\": true, \"showMoreActionsLink\": true, \"resultNumber\": 8, \"jobStateChangedToSaved\": false, \"searchState\": \"q=(&quot;data scientist&quot; or &quot;customer analytics&quot; or &quot;data analysis&quot;)&amp;sort=&amp;radius=50&amp;fromage=any&amp;limit=10&amp;jt=all&amp;st=\", \"basicPermaLink\": \"http://au.indeed.com\", \"saveJobFailed\": false, \"removeJobFailed\": false, \"requestPending\": false, \"notesEnabled\": true, \"currentPage\" : \"serp\", \"sponsored\" : false,\"reportJobButtonEnabled\": false, \"showMyJobsHired\": false};</script></div></div>\\n<div class=\"tab-container\">\\n<div class=\"more-links-container result-tab\" id=\"tt_display_8\" style=\"display:none;\"><a class=\"close-link closeLink\" href=\"#\" onclick=\"toggleMoreLinks('812254ce6d0994d7'); return false;\" title=\"Close\"></a><div class=\"more_actions\" id=\"more_8\"><ul><li><span class=\"mat\">View all <a href=\"/Glaxosmithkline-jobs\" rel=\"nofollow\">GlaxoSmithKline jobs</a> - <a href=\"/jobs-in-Melbourne-VIC\">Melbourne jobs</a></span></li><li><span class=\"mat\">Learn more about working at <a href=\"/cmp/Glaxosmithkline?fromjk=812254ce6d0994d7&amp;from=serp-more&amp;campaignid=serp-more&amp;jcid=4e42ec53f4b93e02\">Glaxosmithkline</a></span></li></ul></div></div><div class=\"dya-container result-tab\"></div>\\n<div class=\"tellafriend-container result-tab email_job_content\"></div>\\n<div class=\"sign-in-container result-tab\"></div>\\n<div class=\"notes-container result-tab\"></div>\\n</div>\\n</td>\\n</tr>\\n</table>\\n</div>,\n",
       " <div class=\"lastRow row result\" data-jk=\"ca649839049927c4\" data-tn-component=\"organicJob\" id=\"p_ca649839049927c4\" itemscope=\"\" itemtype=\"http://schema.org/JobPosting\">\\n<h2 class=\"jobtitle\" id=\"jl_ca649839049927c4\">\\n<a class=\"turnstileLink\" data-tn-element=\"jobTitle\" href=\"/rc/clk?jk=ca649839049927c4&amp;fccid=44e7c30753d07f3b\" itemprop=\"title\" onclick=\"setRefineByCookie(['radius']); return rclk(this,jobmap[9],true,0);\" onmousedown=\"return rclk(this,jobmap[9],0);\" rel=\"nofollow\" target=\"_blank\" title=\"RTO Administration Officer\">RTO Administration Officer</a>\\n</h2>\\n<span class=\"company\" itemprop=\"hiringOrganization\" itemtype=\"http://schema.org/Organization\">\\n<span itemprop=\"name\">\\n<a href=\"/cmp/Downer-EDI?from=SERP&amp;campaignid=serp-linkcompanyname&amp;fromjk=ca649839049927c4&amp;jcid=44e7c30753d07f3b\" target=\"_blank\">\\n    Downer EDI</a></span>\\n</span>\\n\\n - <a class=\"turnstileLink slNoUnderline \" data-tn-element=\"reviewStars\" data-tn-variant=\"cmplinktst2\" href=\"/cmp/Downer-EDI/reviews?jcid=44e7c30753d07f3b\" onmousedown=\"this.href = appendParamsOnce(this.href, '?campaignid=cmplinktst2&amp;from=SERP&amp;jt=RTO+Administration+Officer&amp;fromjk=ca649839049927c4');\" target=\"_blank\" title=\"Downer EDI reviews\">\\n<span class=\"ratings\"><span class=\"rating\" style=\"width:42.9px;\"><!-- --></span></span><span class=\"slNoUnderline\">47 reviews</span></a>\\n - <span itemprop=\"jobLocation\" itemscope=\"\" itemtype=\"http://schema.org/Place\"><span class=\"location\" itemprop=\"address\" itemscope=\"\" itemtype=\"http://schema.org/Postaladdress\"><span itemprop=\"addressLocality\">Laverton WA</span></span></span>\\n<table border=\"0\" cellpadding=\"0\" cellspacing=\"0\">\\n<tr>\\n<td class=\"snip\">\\n<div>\\n<span class=\"summary\" itemprop=\"description\">\\nStrong computer and <b>data</b> <b>analysis</b> skills that extend to report collation and presentation. High degree of efficiency and effectiveness with managing large...</span>\\n</div>\\n<div class=\"result-link-bar-container\">\\n<div class=\"result-link-bar\"><span class=\"date\">11 days ago</span> <span class=\"tt_set\" id=\"tt_set_9\"> - <span class=\"savelink2\" id=\"savelink2_ca649839049927c4\"><a class=\"sl resultLink save-job-link\" href=\"#\" id=\"sj_ca649839049927c4\" onclick=\"changeJobState('ca649839049927c4', 'save', 'linkbar', false);return false;\" title=\"Save this job to my.indeed\">save job</a></span>  -  <a class=\"sl resultLink tellafriend-link \" href=\"mailto:?subject=I found this job on Indeed&amp;body=http://au.indeed.com\" onclick=\"toggleTellAFriend('ca649839049927c4', 9, false); return false;\">email</a> - <a class=\"sl resultLink more-link \" href=\"#\" id=\"tog_9\" onclick=\"toggleMoreLinks('ca649839049927c4'); return false;\">more...</a></span><div class=\"edit_note_content\" id=\"editsaved2_ca649839049927c4\" style=\"display:none;\"></div><script>window['result_ca649839049927c4'] = {\"showSource\": false, \"source\": \"Downer EDI\", \"loggedIn\": false, \"showMyJobsLinks\": true,\"undoAction\": \"unsave\",\"relativeJobAge\": \"11 days ago\",\"jobKey\": \"ca649839049927c4\", \"myIndeedAvailable\": true, \"tellAFriendEnabled\": true, \"showMoreActionsLink\": true, \"resultNumber\": 9, \"jobStateChangedToSaved\": false, \"searchState\": \"q=(&quot;data scientist&quot; or &quot;customer analytics&quot; or &quot;data analysis&quot;)&amp;sort=&amp;radius=50&amp;fromage=any&amp;limit=10&amp;jt=all&amp;st=\", \"basicPermaLink\": \"http://au.indeed.com\", \"saveJobFailed\": false, \"removeJobFailed\": false, \"requestPending\": false, \"notesEnabled\": true, \"currentPage\" : \"serp\", \"sponsored\" : false,\"reportJobButtonEnabled\": false, \"showMyJobsHired\": false};</script></div></div>\\n<div class=\"tab-container\">\\n<div class=\"more-links-container result-tab\" id=\"tt_display_9\" style=\"display:none;\"><a class=\"close-link closeLink\" href=\"#\" onclick=\"toggleMoreLinks('ca649839049927c4'); return false;\" title=\"Close\"></a><div class=\"more_actions\" id=\"more_9\"><ul><li><span class=\"mat\">View all <a href=\"/Downer-EDI-jobs\" rel=\"nofollow\">Downer EDI jobs</a> - <a href=\"/jobs-in-Laverton-WA\">Laverton jobs</a></span></li><li><span class=\"mat\">Learn more about working at <a href=\"/cmp/Downer-EDI?fromjk=ca649839049927c4&amp;from=serp-more&amp;campaignid=serp-more&amp;jcid=44e7c30753d07f3b\">Downer EDI</a></span></li></ul></div></div><div class=\"dya-container result-tab\"></div>\\n<div class=\"tellafriend-container result-tab email_job_content\"></div>\\n<div class=\"sign-in-container result-tab\"></div>\\n<div class=\"notes-container result-tab\"></div>\\n</div>\\n</td>\\n</tr>\\n</table>\\n</div>]"
      ]
     },
     "execution_count": 12,
     "metadata": {},
     "output_type": "execute_result"
    }
   ],
   "source": [
    "# get all the deets of each row. One row pertains to one job\n",
    "# incidentally, i noticed that the class \"row result\" was only picking 9 results in the first page.\n",
    "# this was because the last row was populated in another class 'lastRow row result'\n",
    "\n",
    "targetElements = soup.findAll('div', attrs = {'class' : ' row result'})\n",
    "targetElements.extend(soup.findAll('div', attrs = {'class' : 'lastRow row result'}))\n",
    "targetElements"
   ]
  },
  {
   "cell_type": "code",
   "execution_count": 13,
   "metadata": {
    "collapsed": false
   },
   "outputs": [
    {
     "data": {
      "text/plain": [
       "bs4.element.ResultSet"
      ]
     },
     "execution_count": 13,
     "metadata": {},
     "output_type": "execute_result"
    }
   ],
   "source": [
    "type(targetElements)"
   ]
  },
  {
   "cell_type": "code",
   "execution_count": 14,
   "metadata": {
    "collapsed": false,
    "scrolled": false
   },
   "outputs": [
    {
     "name": "stdout",
     "output_type": "stream",
     "text": [
      "<div class=\" row result\" data-jk=\"ca8146b5d7b02d5f\" data-tn-component=\"organicJob\" id=\"p_ca8146b5d7b02d5f\" itemscope=\"\" itemtype=\"http://schema.org/JobPosting\">\n",
      "<h2 class=\"jobtitle\" id=\"jl_ca8146b5d7b02d5f\">\n",
      "<a class=\"turnstileLink\" data-tn-element=\"jobTitle\" href=\"/rc/clk?jk=ca8146b5d7b02d5f&amp;fccid=1818d10a60db56b4\" itemprop=\"title\" onclick=\"setRefineByCookie(['radius']); return rclk(this,jobmap[0],true,0);\" onmousedown=\"return rclk(this,jobmap[0],0);\" rel=\"nofollow\" target=\"_blank\" title=\"Program and Service Advisor\">Program and Service Advisor</a>\n",
      "</h2>\n",
      "<span class=\"company\" itemprop=\"hiringOrganization\" itemtype=\"http://schema.org/Organization\">\n",
      "<span itemprop=\"name\">\n",
      "    Victorian Government</span>\n",
      "</span>\n",
      "\n",
      " - <span itemprop=\"jobLocation\" itemscope=\"\" itemtype=\"http://schema.org/Place\"><span class=\"location\" itemprop=\"address\" itemscope=\"\" itemtype=\"http://schema.org/Postaladdress\"><span itemprop=\"addressLocality\">Geelong VIC</span></span></span>\n",
      "<table border=\"0\" cellpadding=\"0\" cellspacing=\"0\">\n",
      "<tr>\n",
      "<td class=\"snip\">\n",
      "Full-time, Contract<div>\n",
      "<span class=\"summary\" itemprop=\"description\">\n",
      "In particular, a highly motivated individual with great <b>data</b> <b>analysis</b> and relationship management skills with health sector experience would suit this role....</span>\n",
      "</div>\n",
      "<div class=\"result-link-bar-container\">\n",
      "<div class=\"result-link-bar\"><span class=\"date\">12 days ago</span> <span class=\"tt_set\" id=\"tt_set_0\"> - <span class=\"savelink2\" id=\"savelink2_ca8146b5d7b02d5f\"><a class=\"sl resultLink save-job-link\" href=\"#\" id=\"sj_ca8146b5d7b02d5f\" onclick=\"changeJobState('ca8146b5d7b02d5f', 'save', 'linkbar', false);return false;\" title=\"Save this job to my.indeed\">save job</a></span>  -  <a class=\"sl resultLink tellafriend-link \" href=\"mailto:?subject=I found this job on Indeed&amp;body=http://au.indeed.com\" onclick=\"toggleTellAFriend('ca8146b5d7b02d5f', 0, false); return false;\">email</a> - <a class=\"sl resultLink more-link \" href=\"#\" id=\"tog_0\" onclick=\"toggleMoreLinks('ca8146b5d7b02d5f'); return false;\">more...</a></span><div class=\"edit_note_content\" id=\"editsaved2_ca8146b5d7b02d5f\" style=\"display:none;\"></div><script>window['result_ca8146b5d7b02d5f'] = {\"showSource\": false, \"source\": \"Victorian Government\", \"loggedIn\": false, \"showMyJobsLinks\": true,\"undoAction\": \"unsave\",\"relativeJobAge\": \"12 days ago\",\"jobKey\": \"ca8146b5d7b02d5f\", \"myIndeedAvailable\": true, \"tellAFriendEnabled\": true, \"showMoreActionsLink\": true, \"resultNumber\": 0, \"jobStateChangedToSaved\": false, \"searchState\": \"q=(&quot;data scientist&quot; or &quot;customer analytics&quot; or &quot;data analysis&quot;)&amp;sort=&amp;radius=50&amp;fromage=any&amp;limit=10&amp;jt=all&amp;st=\", \"basicPermaLink\": \"http://au.indeed.com\", \"saveJobFailed\": false, \"removeJobFailed\": false, \"requestPending\": false, \"notesEnabled\": true, \"currentPage\" : \"serp\", \"sponsored\" : false,\"reportJobButtonEnabled\": false, \"showMyJobsHired\": false};</script></div></div>\n",
      "<div class=\"tab-container\">\n",
      "<div class=\"more-links-container result-tab\" id=\"tt_display_0\" style=\"display:none;\"><a class=\"close-link closeLink\" href=\"#\" onclick=\"toggleMoreLinks('ca8146b5d7b02d5f'); return false;\" title=\"Close\"></a><div class=\"more_actions\" id=\"more_0\"><ul><li><span class=\"mat\">View all <a href=\"/Victorian-Government-jobs\" rel=\"nofollow\">Victorian Government jobs</a> - <a href=\"/jobs-in-Geelong-VIC\">Geelong jobs</a></span></li><li><span class=\"mat\">Learn more about working at <a href=\"/cmp/Victorian-Government?fromjk=ca8146b5d7b02d5f&amp;from=serp-more&amp;campaignid=serp-more&amp;jcid=1818d10a60db56b4\">Victorian Government</a></span></li></ul></div></div><div class=\"dya-container result-tab\"></div>\n",
      "<div class=\"tellafriend-container result-tab email_job_content\"></div>\n",
      "<div class=\"sign-in-container result-tab\"></div>\n",
      "<div class=\"notes-container result-tab\"></div>\n",
      "</div>\n",
      "</td>\n",
      "</tr>\n",
      "</table>\n",
      "</div>\n",
      "\n",
      "\n",
      "*****************************************************\n",
      "\n",
      "\n",
      "<div class=\" row result\" data-jk=\"7a9fe7de1beb85f9\" data-tn-component=\"organicJob\" id=\"p_7a9fe7de1beb85f9\" itemscope=\"\" itemtype=\"http://schema.org/JobPosting\">\n",
      "<h2 class=\"jobtitle\" id=\"jl_7a9fe7de1beb85f9\">\n",
      "<a class=\"turnstileLink\" data-tn-element=\"jobTitle\" href=\"/rc/clk?jk=7a9fe7de1beb85f9&amp;fccid=9605a3534a186df0\" itemprop=\"title\" onclick=\"setRefineByCookie(['radius']); return rclk(this,jobmap[1],true,0);\" onmousedown=\"return rclk(this,jobmap[1],0);\" rel=\"nofollow\" target=\"_blank\" title=\"Reliability Engineer - Christmas Creek\">Reliability Engineer - Christmas Creek</a>\n",
      "</h2>\n",
      "<span class=\"company\" itemprop=\"hiringOrganization\" itemtype=\"http://schema.org/Organization\">\n",
      "<span itemprop=\"name\">\n",
      "<a href=\"/cmp/Fortescue-Metals-Group?from=SERP&amp;campaignid=serp-linkcompanyname&amp;fromjk=7a9fe7de1beb85f9&amp;jcid=9605a3534a186df0\" target=\"_blank\">\n",
      "    Fortescue Metals Group</a></span>\n",
      "</span>\n",
      "\n",
      " - <a class=\"turnstileLink slNoUnderline \" data-tn-element=\"reviewStars\" data-tn-variant=\"cmplinktst2\" href=\"/cmp/Fortescue-Metals-Group/reviews?jcid=9605a3534a186df0\" onmousedown=\"this.href = appendParamsOnce(this.href, '?campaignid=cmplinktst2&amp;from=SERP&amp;jt=Reliability+Engineer+-+Christmas+Creek&amp;fromjk=7a9fe7de1beb85f9');\" target=\"_blank\" title=\"Fortescue Metals Group reviews\">\n",
      "<span class=\"ratings\"><span class=\"rating\" style=\"width:46.199997px;\"><!-- --></span></span><span class=\"slNoUnderline\">23 reviews</span></a>\n",
      " - <span itemprop=\"jobLocation\" itemscope=\"\" itemtype=\"http://schema.org/Place\"><span class=\"location\" itemprop=\"address\" itemscope=\"\" itemtype=\"http://schema.org/Postaladdress\"><span itemprop=\"addressLocality\">Pilbara WA</span></span></span>\n",
      "<table border=\"0\" cellpadding=\"0\" cellspacing=\"0\">\n",
      "<tr>\n",
      "<td class=\"snip\">\n",
      "<div>\n",
      "<span class=\"summary\" itemprop=\"description\">\n",
      "<b>Analysis</b> and reporting of fleet performance. The role of the reliability engineer is to provide technical support using initiatives and applying reliability...</span>\n",
      "</div>\n",
      "<div class=\"result-link-bar-container\">\n",
      "<div class=\"result-link-bar\"><span class=\"date\">3 days ago</span> <span class=\"tt_set\" id=\"tt_set_1\"> - <span class=\"savelink2\" id=\"savelink2_7a9fe7de1beb85f9\"><a class=\"sl resultLink save-job-link\" href=\"#\" id=\"sj_7a9fe7de1beb85f9\" onclick=\"changeJobState('7a9fe7de1beb85f9', 'save', 'linkbar', false);return false;\" title=\"Save this job to my.indeed\">save job</a></span>  -  <a class=\"sl resultLink tellafriend-link \" href=\"mailto:?subject=I found this job on Indeed&amp;body=http://au.indeed.com\" onclick=\"toggleTellAFriend('7a9fe7de1beb85f9', 1, false); return false;\">email</a> - <a class=\"sl resultLink more-link \" href=\"#\" id=\"tog_1\" onclick=\"toggleMoreLinks('7a9fe7de1beb85f9'); return false;\">more...</a></span><div class=\"edit_note_content\" id=\"editsaved2_7a9fe7de1beb85f9\" style=\"display:none;\"></div><script>window['result_7a9fe7de1beb85f9'] = {\"showSource\": false, \"source\": \"Fortescue Metals Group\", \"loggedIn\": false, \"showMyJobsLinks\": true,\"undoAction\": \"unsave\",\"relativeJobAge\": \"3 days ago\",\"jobKey\": \"7a9fe7de1beb85f9\", \"myIndeedAvailable\": true, \"tellAFriendEnabled\": true, \"showMoreActionsLink\": true, \"resultNumber\": 1, \"jobStateChangedToSaved\": false, \"searchState\": \"q=(&quot;data scientist&quot; or &quot;customer analytics&quot; or &quot;data analysis&quot;)&amp;sort=&amp;radius=50&amp;fromage=any&amp;limit=10&amp;jt=all&amp;st=\", \"basicPermaLink\": \"http://au.indeed.com\", \"saveJobFailed\": false, \"removeJobFailed\": false, \"requestPending\": false, \"notesEnabled\": true, \"currentPage\" : \"serp\", \"sponsored\" : false,\"reportJobButtonEnabled\": false, \"showMyJobsHired\": false};</script></div></div>\n",
      "<div class=\"tab-container\">\n",
      "<div class=\"more-links-container result-tab\" id=\"tt_display_1\" style=\"display:none;\"><a class=\"close-link closeLink\" href=\"#\" onclick=\"toggleMoreLinks('7a9fe7de1beb85f9'); return false;\" title=\"Close\"></a><div class=\"more_actions\" id=\"more_1\"><ul><li><span class=\"mat\">View all <a href=\"/Fortescue-Metals-Group-jobs\" rel=\"nofollow\">Fortescue Metals Group jobs</a> - <a href=\"/jobs-in-Pilbara-WA\">Pilbara jobs</a></span></li><li><span class=\"mat\">Learn more about working at <a href=\"/cmp/Fortescue-Metals-Group?fromjk=7a9fe7de1beb85f9&amp;from=serp-more&amp;campaignid=serp-more&amp;jcid=9605a3534a186df0\">Fortescue Metals Group</a></span></li></ul></div></div><div class=\"dya-container result-tab\"></div>\n",
      "<div class=\"tellafriend-container result-tab email_job_content\"></div>\n",
      "<div class=\"sign-in-container result-tab\"></div>\n",
      "<div class=\"notes-container result-tab\"></div>\n",
      "</div>\n",
      "</td>\n",
      "</tr>\n",
      "</table>\n",
      "</div>\n",
      "\n",
      "\n",
      "*****************************************************\n",
      "\n",
      "\n",
      "<div class=\" row result\" data-jk=\"35211e3965486c66\" data-tn-component=\"organicJob\" id=\"p_35211e3965486c66\" itemscope=\"\" itemtype=\"http://schema.org/JobPosting\">\n",
      "<h2 class=\"jobtitle\" id=\"jl_35211e3965486c66\">\n",
      "<a class=\"turnstileLink\" data-tn-element=\"jobTitle\" href=\"/rc/clk?jk=35211e3965486c66&amp;fccid=b144006bbf2d95a5\" itemprop=\"title\" onclick=\"setRefineByCookie(['radius']); return rclk(this,jobmap[2],true,0);\" onmousedown=\"return rclk(this,jobmap[2],0);\" rel=\"nofollow\" target=\"_blank\" title=\"Data Analyst / Administrator\"><b>Data</b> Analyst / Administrator</a>\n",
      "</h2>\n",
      "<span class=\"company\" itemprop=\"hiringOrganization\" itemtype=\"http://schema.org/Organization\">\n",
      "<span itemprop=\"name\">\n",
      "<a href=\"/cmp/Brookfield?from=SERP&amp;campaignid=serp-linkcompanyname&amp;fromjk=35211e3965486c66&amp;jcid=b144006bbf2d95a5\" target=\"_blank\">\n",
      "    Brookfield</a></span>\n",
      "</span>\n",
      "\n",
      " - <a class=\"turnstileLink slNoUnderline \" data-tn-element=\"reviewStars\" data-tn-variant=\"cmplinktst2\" href=\"/cmp/Brookfield/reviews?jcid=b144006bbf2d95a5\" onmousedown=\"this.href = appendParamsOnce(this.href, '?campaignid=cmplinktst2&amp;from=SERP&amp;jt=Data+Analyst+%5C%2F+Administrator&amp;fromjk=35211e3965486c66');\" target=\"_blank\" title=\"Brookfield reviews\">\n",
      "<span class=\"ratings\"><span class=\"rating\" style=\"width:45.1px;\"><!-- --></span></span><span class=\"slNoUnderline\">21 reviews</span></a>\n",
      " - <span itemprop=\"jobLocation\" itemscope=\"\" itemtype=\"http://schema.org/Place\"><span class=\"location\" itemprop=\"address\" itemscope=\"\" itemtype=\"http://schema.org/Postaladdress\"><span itemprop=\"addressLocality\">Sydney NSW</span></span></span>\n",
      "<table border=\"0\" cellpadding=\"0\" cellspacing=\"0\">\n",
      "<tr>\n",
      "<td class=\"snip\">\n",
      "<div>\n",
      "<span class=\"summary\" itemprop=\"description\">\n",
      "Undertake <b>data</b> <b>analysis</b>, cleansing, validation and updates. Management of <b>data</b> including; <b>Data</b> and system incident management;...</span>\n",
      "</div>\n",
      "<div class=\"result-link-bar-container\">\n",
      "<div class=\"result-link-bar\"><span class=\"date\">28 days ago</span> <span class=\"tt_set\" id=\"tt_set_2\"> - <span class=\"savelink2\" id=\"savelink2_35211e3965486c66\"><a class=\"sl resultLink save-job-link\" href=\"#\" id=\"sj_35211e3965486c66\" onclick=\"changeJobState('35211e3965486c66', 'save', 'linkbar', false);return false;\" title=\"Save this job to my.indeed\">save job</a></span>  -  <a class=\"sl resultLink tellafriend-link \" href=\"mailto:?subject=I found this job on Indeed&amp;body=http://au.indeed.com\" onclick=\"toggleTellAFriend('35211e3965486c66', 2, false); return false;\">email</a> - <a class=\"sl resultLink more-link \" href=\"#\" id=\"tog_2\" onclick=\"toggleMoreLinks('35211e3965486c66'); return false;\">more...</a></span><div class=\"edit_note_content\" id=\"editsaved2_35211e3965486c66\" style=\"display:none;\"></div><script>window['result_35211e3965486c66'] = {\"showSource\": false, \"source\": \"Brookfield\", \"loggedIn\": false, \"showMyJobsLinks\": true,\"undoAction\": \"unsave\",\"relativeJobAge\": \"28 days ago\",\"jobKey\": \"35211e3965486c66\", \"myIndeedAvailable\": true, \"tellAFriendEnabled\": true, \"showMoreActionsLink\": true, \"resultNumber\": 2, \"jobStateChangedToSaved\": false, \"searchState\": \"q=(&quot;data scientist&quot; or &quot;customer analytics&quot; or &quot;data analysis&quot;)&amp;sort=&amp;radius=50&amp;fromage=any&amp;limit=10&amp;jt=all&amp;st=\", \"basicPermaLink\": \"http://au.indeed.com\", \"saveJobFailed\": false, \"removeJobFailed\": false, \"requestPending\": false, \"notesEnabled\": true, \"currentPage\" : \"serp\", \"sponsored\" : false,\"reportJobButtonEnabled\": false, \"showMyJobsHired\": false};</script></div></div>\n",
      "<div class=\"tab-container\">\n",
      "<div class=\"more-links-container result-tab\" id=\"tt_display_2\" style=\"display:none;\"><a class=\"close-link closeLink\" href=\"#\" onclick=\"toggleMoreLinks('35211e3965486c66'); return false;\" title=\"Close\"></a><div class=\"more_actions\" id=\"more_2\"><ul><li><span class=\"mat\">View all <a href=\"/Brookfield-jobs\" rel=\"nofollow\">Brookfield jobs</a> - <a href=\"/jobs-in-Sydney-NSW\">Sydney jobs</a></span></li></ul></div></div><div class=\"dya-container result-tab\"></div>\n",
      "<div class=\"tellafriend-container result-tab email_job_content\"></div>\n",
      "<div class=\"sign-in-container result-tab\"></div>\n",
      "<div class=\"notes-container result-tab\"></div>\n",
      "</div>\n",
      "</td>\n",
      "</tr>\n",
      "</table>\n",
      "</div>\n",
      "\n",
      "\n",
      "*****************************************************\n",
      "\n",
      "\n",
      "<div class=\" row result\" data-jk=\"90d5230fdc16cb28\" data-tn-component=\"organicJob\" id=\"p_90d5230fdc16cb28\" itemscope=\"\" itemtype=\"http://schema.org/JobPosting\">\n",
      "<h2 class=\"jobtitle\" id=\"jl_90d5230fdc16cb28\">\n",
      "<a class=\"turnstileLink\" data-tn-element=\"jobTitle\" href=\"/rc/clk?jk=90d5230fdc16cb28&amp;fccid=7414fd5891b0ddd2\" itemprop=\"title\" onclick=\"setRefineByCookie(['radius']); return rclk(this,jobmap[3],true,0);\" onmousedown=\"return rclk(this,jobmap[3],0);\" rel=\"nofollow\" target=\"_blank\" title=\"Test Data Analyst\">Test <b>Data</b> Analyst</a>\n",
      "</h2>\n",
      "<span class=\"company\" itemprop=\"hiringOrganization\" itemtype=\"http://schema.org/Organization\">\n",
      "<span itemprop=\"name\">\n",
      "    UniSuper</span>\n",
      "</span>\n",
      "\n",
      " - <span itemprop=\"jobLocation\" itemscope=\"\" itemtype=\"http://schema.org/Place\"><span class=\"location\" itemprop=\"address\" itemscope=\"\" itemtype=\"http://schema.org/Postaladdress\"><span itemprop=\"addressLocality\">Melbourne VIC</span></span></span>\n",
      "<table border=\"0\" cellpadding=\"0\" cellspacing=\"0\">\n",
      "<tr>\n",
      "<td class=\"snip\">\n",
      "<div>\n",
      "<span class=\"summary\" itemprop=\"description\">\n",
      "Extensive <b>data</b> extract, <b>analysis</b> and reporting experience. As a Test <b>Data</b> Analyst you will perform complex <b>data</b> <b>analysis</b> testing to ensure that changes to new...</span>\n",
      "</div>\n",
      "<div class=\"iaP\">\n",
      "<span class=\"iaLabel\"> Easily apply to this job</span>\n",
      "</div><div class=\"result-link-bar-container\">\n",
      "<div class=\"result-link-bar\"><span class=\"date\">11 days ago</span> <span class=\"tt_set\" id=\"tt_set_3\"> - <span class=\"savelink2\" id=\"savelink2_90d5230fdc16cb28\"><a class=\"sl resultLink save-job-link\" href=\"#\" id=\"sj_90d5230fdc16cb28\" onclick=\"changeJobState('90d5230fdc16cb28', 'save', 'linkbar', false);return false;\" title=\"Save this job to my.indeed\">save job</a></span>  -  <a class=\"sl resultLink tellafriend-link \" href=\"mailto:?subject=I found this job on Indeed&amp;body=http://au.indeed.com\" onclick=\"toggleTellAFriend('90d5230fdc16cb28', 3, false); return false;\">email</a> - <a class=\"sl resultLink more-link \" href=\"#\" id=\"tog_3\" onclick=\"toggleMoreLinks('90d5230fdc16cb28'); return false;\">more...</a></span><div class=\"edit_note_content\" id=\"editsaved2_90d5230fdc16cb28\" style=\"display:none;\"></div><script>window['result_90d5230fdc16cb28'] = {\"showSource\": false, \"source\": \"UniSuper\", \"loggedIn\": false, \"showMyJobsLinks\": true,\"undoAction\": \"unsave\",\"relativeJobAge\": \"11 days ago\",\"jobKey\": \"90d5230fdc16cb28\", \"myIndeedAvailable\": true, \"tellAFriendEnabled\": true, \"showMoreActionsLink\": true, \"resultNumber\": 3, \"jobStateChangedToSaved\": false, \"searchState\": \"q=(&quot;data scientist&quot; or &quot;customer analytics&quot; or &quot;data analysis&quot;)&amp;sort=&amp;radius=50&amp;fromage=any&amp;limit=10&amp;jt=all&amp;st=\", \"basicPermaLink\": \"http://au.indeed.com\", \"saveJobFailed\": false, \"removeJobFailed\": false, \"requestPending\": false, \"notesEnabled\": true, \"currentPage\" : \"serp\", \"sponsored\" : false,\"reportJobButtonEnabled\": false, \"showMyJobsHired\": false};</script></div></div>\n",
      "<div class=\"tab-container\">\n",
      "<div class=\"more-links-container result-tab\" id=\"tt_display_3\" style=\"display:none;\"><a class=\"close-link closeLink\" href=\"#\" onclick=\"toggleMoreLinks('90d5230fdc16cb28'); return false;\" title=\"Close\"></a><div class=\"more_actions\" id=\"more_3\"><ul><li><span class=\"mat\">View all <a href=\"/Unisuper-jobs\" rel=\"nofollow\">UniSuper jobs</a> - <a href=\"/jobs-in-Melbourne-VIC\">Melbourne jobs</a></span></li></ul></div></div><div class=\"dya-container result-tab\"></div>\n",
      "<div class=\"tellafriend-container result-tab email_job_content\"></div>\n",
      "<div class=\"sign-in-container result-tab\"></div>\n",
      "<div class=\"notes-container result-tab\"></div>\n",
      "</div>\n",
      "</td>\n",
      "</tr>\n",
      "</table>\n",
      "</div>\n",
      "\n",
      "\n",
      "*****************************************************\n",
      "\n",
      "\n",
      "<div class=\" row result\" data-jk=\"1c41fd61f33c7f7a\" data-tn-component=\"organicJob\" id=\"p_1c41fd61f33c7f7a\" itemscope=\"\" itemtype=\"http://schema.org/JobPosting\">\n",
      "<h2 class=\"jobtitle\" id=\"jl_1c41fd61f33c7f7a\">\n",
      "<a class=\"turnstileLink\" data-tn-element=\"jobTitle\" href=\"/rc/clk?jk=1c41fd61f33c7f7a&amp;fccid=9f1632b30ffb46f4\" itemprop=\"title\" onclick=\"setRefineByCookie(['radius']); return rclk(this,jobmap[4],true,0);\" onmousedown=\"return rclk(this,jobmap[4],0);\" rel=\"nofollow\" target=\"_blank\" title=\"Stock Coordinator - Support Centre QLD\">Stock Coordinator - Support Centre QLD</a>\n",
      "</h2>\n",
      "<span class=\"company\" itemprop=\"hiringOrganization\" itemtype=\"http://schema.org/Organization\">\n",
      "<span itemprop=\"name\">\n",
      "<a href=\"/cmp/Lorna-Jane?from=SERP&amp;campaignid=serp-linkcompanyname&amp;fromjk=1c41fd61f33c7f7a&amp;jcid=9f1632b30ffb46f4\" target=\"_blank\">\n",
      "    Lorna Jane</a></span>\n",
      "</span>\n",
      "\n",
      " - <a class=\"turnstileLink slNoUnderline \" data-tn-element=\"reviewStars\" data-tn-variant=\"cmplinktst2\" href=\"/cmp/Lorna-Jane/reviews?jcid=9f1632b30ffb46f4\" onmousedown=\"this.href = appendParamsOnce(this.href, '?campaignid=cmplinktst2&amp;from=SERP&amp;jt=Stock+Coordinator+-+Support+Centre+QLD&amp;fromjk=1c41fd61f33c7f7a');\" target=\"_blank\" title=\"Lorna Jane reviews\">\n",
      "<span class=\"ratings\"><span class=\"rating\" style=\"width:40.7px;\"><!-- --></span></span><span class=\"slNoUnderline\">19 reviews</span></a>\n",
      " - <span itemprop=\"jobLocation\" itemscope=\"\" itemtype=\"http://schema.org/Place\"><span class=\"location\" itemprop=\"address\" itemscope=\"\" itemtype=\"http://schema.org/Postaladdress\"><span itemprop=\"addressLocality\">Queensland</span></span></span>\n",
      "<table border=\"0\" cellpadding=\"0\" cellspacing=\"0\">\n",
      "<tr>\n",
      "<td class=\"snip\">\n",
      "<div>\n",
      "<span class=\"summary\" itemprop=\"description\">\n",
      "<b>Analysis</b> of sales <b>data</b> and through reports to supply. Combining a love of LJ Active Wear and <b>data</b> <b>analysis</b> with....</span>\n",
      "</div>\n",
      "<div class=\"result-link-bar-container\">\n",
      "<div class=\"result-link-bar\"><span class=\"date\">3 days ago</span> <span class=\"tt_set\" id=\"tt_set_4\"> - <span class=\"savelink2\" id=\"savelink2_1c41fd61f33c7f7a\"><a class=\"sl resultLink save-job-link\" href=\"#\" id=\"sj_1c41fd61f33c7f7a\" onclick=\"changeJobState('1c41fd61f33c7f7a', 'save', 'linkbar', false);return false;\" title=\"Save this job to my.indeed\">save job</a></span>  -  <a class=\"sl resultLink tellafriend-link \" href=\"mailto:?subject=I found this job on Indeed&amp;body=http://au.indeed.com\" onclick=\"toggleTellAFriend('1c41fd61f33c7f7a', 4, false); return false;\">email</a> - <a class=\"sl resultLink more-link \" href=\"#\" id=\"tog_4\" onclick=\"toggleMoreLinks('1c41fd61f33c7f7a'); return false;\">more...</a></span><div class=\"edit_note_content\" id=\"editsaved2_1c41fd61f33c7f7a\" style=\"display:none;\"></div><script>window['result_1c41fd61f33c7f7a'] = {\"showSource\": false, \"source\": \"Lorna Jane\", \"loggedIn\": false, \"showMyJobsLinks\": true,\"undoAction\": \"unsave\",\"relativeJobAge\": \"3 days ago\",\"jobKey\": \"1c41fd61f33c7f7a\", \"myIndeedAvailable\": true, \"tellAFriendEnabled\": true, \"showMoreActionsLink\": true, \"resultNumber\": 4, \"jobStateChangedToSaved\": false, \"searchState\": \"q=(&quot;data scientist&quot; or &quot;customer analytics&quot; or &quot;data analysis&quot;)&amp;sort=&amp;radius=50&amp;fromage=any&amp;limit=10&amp;jt=all&amp;st=\", \"basicPermaLink\": \"http://au.indeed.com\", \"saveJobFailed\": false, \"removeJobFailed\": false, \"requestPending\": false, \"notesEnabled\": true, \"currentPage\" : \"serp\", \"sponsored\" : false,\"reportJobButtonEnabled\": false, \"showMyJobsHired\": false};</script></div></div>\n",
      "<div class=\"tab-container\">\n",
      "<div class=\"more-links-container result-tab\" id=\"tt_display_4\" style=\"display:none;\"><a class=\"close-link closeLink\" href=\"#\" onclick=\"toggleMoreLinks('1c41fd61f33c7f7a'); return false;\" title=\"Close\"></a><div class=\"more_actions\" id=\"more_4\"><ul><li><span class=\"mat\">View all <a href=\"/Lorna-Jane-jobs\" rel=\"nofollow\">Lorna Jane jobs</a> - <a href=\"/jobs-in-Queensland\">Queensland jobs</a></span></li><li><span class=\"mat\">Learn more about working at <a href=\"/cmp/Lorna-Jane?fromjk=1c41fd61f33c7f7a&amp;from=serp-more&amp;campaignid=serp-more&amp;jcid=9f1632b30ffb46f4\">Lorna Jane</a></span></li></ul></div></div><div class=\"dya-container result-tab\"></div>\n",
      "<div class=\"tellafriend-container result-tab email_job_content\"></div>\n",
      "<div class=\"sign-in-container result-tab\"></div>\n",
      "<div class=\"notes-container result-tab\"></div>\n",
      "</div>\n",
      "</td>\n",
      "</tr>\n",
      "</table>\n",
      "</div>\n",
      "\n",
      "\n",
      "*****************************************************\n",
      "\n",
      "\n",
      "<div class=\" row result\" data-jk=\"e404043290252ddc\" data-tn-component=\"organicJob\" id=\"p_e404043290252ddc\" itemscope=\"\" itemtype=\"http://schema.org/JobPosting\">\n",
      "<h2 class=\"jobtitle\" id=\"jl_e404043290252ddc\">\n",
      "<a class=\"turnstileLink\" data-tn-element=\"jobTitle\" href=\"/rc/clk?jk=e404043290252ddc&amp;fccid=bca6f10d73dbbf6c\" itemprop=\"title\" onclick=\"setRefineByCookie(['radius']); return rclk(this,jobmap[5],true,1);\" onmousedown=\"return rclk(this,jobmap[5],1);\" rel=\"nofollow\" target=\"_blank\" title=\"Scholarly Teaching Fellow\">Scholarly Teaching Fellow</a>\n",
      "</h2>\n",
      "<span class=\"company\" itemprop=\"hiringOrganization\" itemtype=\"http://schema.org/Organization\">\n",
      "<span itemprop=\"name\">\n",
      "<a href=\"/cmp/Macquarie-University?from=SERP&amp;campaignid=serp-linkcompanyname&amp;fromjk=e404043290252ddc&amp;jcid=bca6f10d73dbbf6c\" target=\"_blank\">\n",
      "    Macquarie University</a></span>\n",
      "</span>\n",
      "\n",
      " - <a class=\"turnstileLink slNoUnderline \" data-tn-element=\"reviewStars\" data-tn-variant=\"cmplinktst2\" href=\"/cmp/Macquarie-University/reviews?jcid=bca6f10d73dbbf6c\" onmousedown=\"this.href = appendParamsOnce(this.href, '?campaignid=cmplinktst2&amp;from=SERP&amp;jt=Scholarly+Teaching+Fellow&amp;fromjk=e404043290252ddc');\" target=\"_blank\" title=\"Macquarie University reviews\">\n",
      "<span class=\"ratings\"><span class=\"rating\" style=\"width:45.1px;\"><!-- --></span></span><span class=\"slNoUnderline\">11 reviews</span></a>\n",
      " - <span itemprop=\"jobLocation\" itemscope=\"\" itemtype=\"http://schema.org/Place\"><span class=\"location\" itemprop=\"address\" itemscope=\"\" itemtype=\"http://schema.org/Postaladdress\"><span itemprop=\"addressLocality\">Macquarie University NSW</span></span></span>\n",
      "<table border=\"0\" cellpadding=\"0\" cellspacing=\"0\">\n",
      "<tr>\n",
      "<td class=\"snip\">\n",
      "<nobr>$68,324 - $92,000 a year</nobr>\n",
      " - Full-time, Part-time<div>\n",
      "<span class=\"summary\" itemprop=\"description\">\n",
      "Experience in acoustic, articulatory and/or perceptual speech <b>data</b> <b>analysis</b>. Macquarie is the university of pioneering minds....</span>\n",
      "</div>\n",
      "<div class=\"result-link-bar-container\">\n",
      "<div class=\"result-link-bar\"><span class=\"date\">13 days ago</span> <span class=\"tt_set\" id=\"tt_set_5\"> - <span class=\"savelink2\" id=\"savelink2_e404043290252ddc\"><a class=\"sl resultLink save-job-link\" href=\"#\" id=\"sj_e404043290252ddc\" onclick=\"changeJobState('e404043290252ddc', 'save', 'linkbar', false);return false;\" title=\"Save this job to my.indeed\">save job</a></span>  -  <a class=\"sl resultLink tellafriend-link \" href=\"mailto:?subject=I found this job on Indeed&amp;body=http://au.indeed.com\" onclick=\"toggleTellAFriend('e404043290252ddc', 5, false); return false;\">email</a> - <a class=\"sl resultLink more-link \" href=\"#\" id=\"tog_5\" onclick=\"toggleMoreLinks('e404043290252ddc'); return false;\">more...</a></span><div class=\"edit_note_content\" id=\"editsaved2_e404043290252ddc\" style=\"display:none;\"></div><script>window['result_e404043290252ddc'] = {\"showSource\": false, \"source\": \"Macquarie University\", \"loggedIn\": false, \"showMyJobsLinks\": true,\"undoAction\": \"unsave\",\"relativeJobAge\": \"13 days ago\",\"jobKey\": \"e404043290252ddc\", \"myIndeedAvailable\": true, \"tellAFriendEnabled\": true, \"showMoreActionsLink\": true, \"resultNumber\": 5, \"jobStateChangedToSaved\": false, \"searchState\": \"q=(&quot;data scientist&quot; or &quot;customer analytics&quot; or &quot;data analysis&quot;)&amp;sort=&amp;radius=50&amp;fromage=any&amp;limit=10&amp;jt=all&amp;st=\", \"basicPermaLink\": \"http://au.indeed.com\", \"saveJobFailed\": false, \"removeJobFailed\": false, \"requestPending\": false, \"notesEnabled\": true, \"currentPage\" : \"serp\", \"sponsored\" : false,\"reportJobButtonEnabled\": false, \"showMyJobsHired\": false};</script></div></div>\n",
      "<div class=\"tab-container\">\n",
      "<div class=\"more-links-container result-tab\" id=\"tt_display_5\" style=\"display:none;\"><a class=\"close-link closeLink\" href=\"#\" onclick=\"toggleMoreLinks('e404043290252ddc'); return false;\" title=\"Close\"></a><div class=\"more_actions\" id=\"more_5\"><ul><li><span class=\"mat\">View all <a href=\"/Macquarie-University-jobs\" rel=\"nofollow\">Macquarie University jobs</a> - <a href=\"/jobs-in-Macquarie-University-NSW\">Macquarie University jobs</a></span></li><li><span class=\"mat\">Learn more about working at <a href=\"/cmp/Macquarie-University?fromjk=e404043290252ddc&amp;from=serp-more&amp;campaignid=serp-more&amp;jcid=bca6f10d73dbbf6c\">Macquarie University</a></span></li></ul></div></div><div class=\"dya-container result-tab\"></div>\n",
      "<div class=\"tellafriend-container result-tab email_job_content\"></div>\n",
      "<div class=\"sign-in-container result-tab\"></div>\n",
      "<div class=\"notes-container result-tab\"></div>\n",
      "</div>\n",
      "</td>\n",
      "</tr>\n",
      "</table>\n",
      "</div>\n",
      "\n",
      "\n",
      "*****************************************************\n",
      "\n",
      "\n",
      "<div class=\" row result\" data-jk=\"845365829ba37eda\" data-tn-component=\"organicJob\" id=\"p_845365829ba37eda\" itemscope=\"\" itemtype=\"http://schema.org/JobPosting\">\n",
      "<h2 class=\"jobtitle\" id=\"jl_845365829ba37eda\">\n",
      "<a class=\"turnstileLink\" data-tn-element=\"jobTitle\" href=\"/rc/clk?jk=845365829ba37eda&amp;fccid=2973259ddc967948\" itemprop=\"title\" onclick=\"setRefineByCookie(['radius']); return rclk(this,jobmap[6],true,0);\" onmousedown=\"return rclk(this,jobmap[6],0);\" rel=\"nofollow\" target=\"_blank\" title=\"Global Purchasing Procurement Analyst\">Global Purchasing Procurement Analyst</a>\n",
      "</h2>\n",
      "<span class=\"company\" itemprop=\"hiringOrganization\" itemtype=\"http://schema.org/Organization\">\n",
      "<span itemprop=\"name\">\n",
      "<a href=\"/cmp/PepsiCo?from=SERP&amp;campaignid=serp-linkcompanyname&amp;fromjk=845365829ba37eda&amp;jcid=2973259ddc967948\" target=\"_blank\">\n",
      "    PepsiCo</a></span>\n",
      "</span>\n",
      "\n",
      " - <a class=\"turnstileLink slNoUnderline \" data-tn-element=\"reviewStars\" data-tn-variant=\"cmplinktst2\" href=\"/cmp/PepsiCo/reviews?jcid=2973259ddc967948\" onmousedown=\"this.href = appendParamsOnce(this.href, '?campaignid=cmplinktst2&amp;from=SERP&amp;jt=Global+Purchasing+Procurement+Analyst&amp;fromjk=845365829ba37eda');\" target=\"_blank\" title=\"PepsiCo reviews\">\n",
      "<span class=\"ratings\"><span class=\"rating\" style=\"width:42.9px;\"><!-- --></span></span><span class=\"slNoUnderline\">4,712 reviews</span></a>\n",
      " - <span itemprop=\"jobLocation\" itemscope=\"\" itemtype=\"http://schema.org/Place\"><span class=\"location\" itemprop=\"address\" itemscope=\"\" itemtype=\"http://schema.org/Postaladdress\"><span itemprop=\"addressLocality\">Chatswood NSW</span></span></span>\n",
      "<table border=\"0\" cellpadding=\"0\" cellspacing=\"0\">\n",
      "<tr>\n",
      "<td class=\"snip\">\n",
      "<div>\n",
      "<span class=\"summary\" itemprop=\"description\">\n",
      "You will be responsible for managing performance metrics, insightful reports, <b>data</b> <b>analytics</b>, and commodity risk compliance, coupled with regular engagement...</span>\n",
      "</div>\n",
      "<div class=\"result-link-bar-container\">\n",
      "<div class=\"result-link-bar\"><span class=\"date\">6 days ago</span> <span class=\"tt_set\" id=\"tt_set_6\"> - <span class=\"savelink2\" id=\"savelink2_845365829ba37eda\"><a class=\"sl resultLink save-job-link\" href=\"#\" id=\"sj_845365829ba37eda\" onclick=\"changeJobState('845365829ba37eda', 'save', 'linkbar', false);return false;\" title=\"Save this job to my.indeed\">save job</a></span>  -  <a class=\"sl resultLink tellafriend-link \" href=\"mailto:?subject=I found this job on Indeed&amp;body=http://au.indeed.com\" onclick=\"toggleTellAFriend('845365829ba37eda', 6, false); return false;\">email</a> - <a class=\"sl resultLink more-link \" href=\"#\" id=\"tog_6\" onclick=\"toggleMoreLinks('845365829ba37eda'); return false;\">more...</a></span><div class=\"edit_note_content\" id=\"editsaved2_845365829ba37eda\" style=\"display:none;\"></div><script>window['result_845365829ba37eda'] = {\"showSource\": false, \"source\": \"PepsiCo\", \"loggedIn\": false, \"showMyJobsLinks\": true,\"undoAction\": \"unsave\",\"relativeJobAge\": \"6 days ago\",\"jobKey\": \"845365829ba37eda\", \"myIndeedAvailable\": true, \"tellAFriendEnabled\": true, \"showMoreActionsLink\": true, \"resultNumber\": 6, \"jobStateChangedToSaved\": false, \"searchState\": \"q=(&quot;data scientist&quot; or &quot;customer analytics&quot; or &quot;data analysis&quot;)&amp;sort=&amp;radius=50&amp;fromage=any&amp;limit=10&amp;jt=all&amp;st=\", \"basicPermaLink\": \"http://au.indeed.com\", \"saveJobFailed\": false, \"removeJobFailed\": false, \"requestPending\": false, \"notesEnabled\": true, \"currentPage\" : \"serp\", \"sponsored\" : false,\"reportJobButtonEnabled\": false, \"showMyJobsHired\": false};</script></div></div>\n",
      "<div class=\"tab-container\">\n",
      "<div class=\"more-links-container result-tab\" id=\"tt_display_6\" style=\"display:none;\"><a class=\"close-link closeLink\" href=\"#\" onclick=\"toggleMoreLinks('845365829ba37eda'); return false;\" title=\"Close\"></a><div class=\"more_actions\" id=\"more_6\"><ul><li><span class=\"mat\">View all <a href=\"/PepsiCo-jobs\" rel=\"nofollow\">PepsiCo jobs</a> - <a href=\"/jobs-in-Chatswood-NSW\">Chatswood jobs</a></span></li><li><span class=\"mat\">Learn more about working at <a href=\"/cmp/PepsiCo?fromjk=845365829ba37eda&amp;from=serp-more&amp;campaignid=serp-more&amp;jcid=2973259ddc967948\">PepsiCo</a></span></li></ul></div></div><div class=\"dya-container result-tab\"></div>\n",
      "<div class=\"tellafriend-container result-tab email_job_content\"></div>\n",
      "<div class=\"sign-in-container result-tab\"></div>\n",
      "<div class=\"notes-container result-tab\"></div>\n",
      "</div>\n",
      "</td>\n",
      "</tr>\n",
      "</table>\n",
      "</div>\n",
      "\n",
      "\n",
      "*****************************************************\n",
      "\n",
      "\n",
      "<div class=\" row result\" data-jk=\"29209de19e74c885\" data-tn-component=\"organicJob\" id=\"p_29209de19e74c885\" itemscope=\"\" itemtype=\"http://schema.org/JobPosting\">\n",
      "<h2 class=\"jobtitle\" id=\"jl_29209de19e74c885\">\n",
      "<a class=\"turnstileLink\" data-tn-element=\"jobTitle\" href=\"/rc/clk?jk=29209de19e74c885&amp;fccid=5e964c4afc56b180\" itemprop=\"title\" onclick=\"setRefineByCookie(['radius']); return rclk(this,jobmap[7],true,0);\" onmousedown=\"return rclk(this,jobmap[7],0);\" rel=\"nofollow\" target=\"_blank\" title=\"Insight Analytics Manager\">Insight <b>Analytics</b> Manager</a>\n",
      "</h2>\n",
      "<span class=\"company\" itemprop=\"hiringOrganization\" itemtype=\"http://schema.org/Organization\">\n",
      "<span itemprop=\"name\">\n",
      "<a href=\"/cmp/Pwc?from=SERP&amp;campaignid=serp-linkcompanyname&amp;fromjk=29209de19e74c885&amp;jcid=5e964c4afc56b180\" target=\"_blank\">\n",
      "    PwC</a></span>\n",
      "</span>\n",
      "\n",
      " - <a class=\"turnstileLink slNoUnderline \" data-tn-element=\"reviewStars\" data-tn-variant=\"cmplinktst2\" href=\"/cmp/Pwc/reviews?jcid=5e964c4afc56b180\" onmousedown=\"this.href = appendParamsOnce(this.href, '?campaignid=cmplinktst2&amp;from=SERP&amp;jt=Insight+Analytics+Manager&amp;fromjk=29209de19e74c885');\" target=\"_blank\" title=\"Pwc reviews\">\n",
      "<span class=\"ratings\"><span class=\"rating\" style=\"width:44.0px;\"><!-- --></span></span><span class=\"slNoUnderline\">2,342 reviews</span></a>\n",
      " - <span itemprop=\"jobLocation\" itemscope=\"\" itemtype=\"http://schema.org/Place\"><span class=\"location\" itemprop=\"address\" itemscope=\"\" itemtype=\"http://schema.org/Postaladdress\"><span itemprop=\"addressLocality\">Melbourne VIC</span></span></span>\n",
      "<table border=\"0\" cellpadding=\"0\" cellspacing=\"0\">\n",
      "<tr>\n",
      "<td class=\"snip\">\n",
      "<div>\n",
      "<span class=\"summary\" itemprop=\"description\">\n",
      "Insight <b>Analytics</b> Manager. PwC is a world leader in the use of <b>data</b> <b>analytics</b> to help business and government clients make better decisions and improve their...</span>\n",
      "</div>\n",
      "<div class=\"result-link-bar-container\">\n",
      "<div class=\"result-link-bar\"><span class=\"date\">30+ days ago</span> <span class=\"tt_set\" id=\"tt_set_7\"> - <span class=\"savelink2\" id=\"savelink2_29209de19e74c885\"><a class=\"sl resultLink save-job-link\" href=\"#\" id=\"sj_29209de19e74c885\" onclick=\"changeJobState('29209de19e74c885', 'save', 'linkbar', false);return false;\" title=\"Save this job to my.indeed\">save job</a></span>  -  <a class=\"sl resultLink tellafriend-link \" href=\"mailto:?subject=I found this job on Indeed&amp;body=http://au.indeed.com\" onclick=\"toggleTellAFriend('29209de19e74c885', 7, false); return false;\">email</a> - <a class=\"sl resultLink more-link \" href=\"#\" id=\"tog_7\" onclick=\"toggleMoreLinks('29209de19e74c885'); return false;\">more...</a></span><div class=\"edit_note_content\" id=\"editsaved2_29209de19e74c885\" style=\"display:none;\"></div><script>window['result_29209de19e74c885'] = {\"showSource\": false, \"source\": \"PwC\", \"loggedIn\": false, \"showMyJobsLinks\": true,\"undoAction\": \"unsave\",\"relativeJobAge\": \"30+ days ago\",\"jobKey\": \"29209de19e74c885\", \"myIndeedAvailable\": true, \"tellAFriendEnabled\": true, \"showMoreActionsLink\": true, \"resultNumber\": 7, \"jobStateChangedToSaved\": false, \"searchState\": \"q=(&quot;data scientist&quot; or &quot;customer analytics&quot; or &quot;data analysis&quot;)&amp;sort=&amp;radius=50&amp;fromage=any&amp;limit=10&amp;jt=all&amp;st=\", \"basicPermaLink\": \"http://au.indeed.com\", \"saveJobFailed\": false, \"removeJobFailed\": false, \"requestPending\": false, \"notesEnabled\": true, \"currentPage\" : \"serp\", \"sponsored\" : false,\"reportJobButtonEnabled\": false, \"showMyJobsHired\": false};</script></div></div>\n",
      "<div class=\"tab-container\">\n",
      "<div class=\"more-links-container result-tab\" id=\"tt_display_7\" style=\"display:none;\"><a class=\"close-link closeLink\" href=\"#\" onclick=\"toggleMoreLinks('29209de19e74c885'); return false;\" title=\"Close\"></a><div class=\"more_actions\" id=\"more_7\"><ul><li><span class=\"mat\">View all <a href=\"/Pwc-jobs\" rel=\"nofollow\">PwC jobs</a> - <a href=\"/jobs-in-Melbourne-VIC\">Melbourne jobs</a></span></li><li><span class=\"mat\">Learn more about working at <a href=\"/cmp/Pwc?fromjk=29209de19e74c885&amp;from=serp-more&amp;campaignid=serp-more&amp;jcid=5e964c4afc56b180\">Pwc</a></span></li></ul></div></div><div class=\"dya-container result-tab\"></div>\n",
      "<div class=\"tellafriend-container result-tab email_job_content\"></div>\n",
      "<div class=\"sign-in-container result-tab\"></div>\n",
      "<div class=\"notes-container result-tab\"></div>\n",
      "</div>\n",
      "</td>\n",
      "</tr>\n",
      "</table>\n",
      "</div>\n",
      "\n",
      "\n",
      "*****************************************************\n",
      "\n",
      "\n",
      "<div class=\" row result\" data-jk=\"812254ce6d0994d7\" data-tn-component=\"organicJob\" id=\"p_812254ce6d0994d7\" itemscope=\"\" itemtype=\"http://schema.org/JobPosting\">\n",
      "<h2 class=\"jobtitle\" id=\"jl_812254ce6d0994d7\">\n",
      "<a class=\"turnstileLink\" data-tn-element=\"jobTitle\" href=\"/rc/clk?jk=812254ce6d0994d7&amp;fccid=4e42ec53f4b93e02\" itemprop=\"title\" onclick=\"setRefineByCookie(['radius']); return rclk(this,jobmap[8],true,0);\" onmousedown=\"return rclk(this,jobmap[8],0);\" rel=\"nofollow\" target=\"_blank\" title=\"Production Reliabilty Engineer\">Production Reliabilty Engineer</a>\n",
      "</h2>\n",
      "<span class=\"company\" itemprop=\"hiringOrganization\" itemtype=\"http://schema.org/Organization\">\n",
      "<span itemprop=\"name\">\n",
      "<a href=\"/cmp/Glaxosmithkline?from=SERP&amp;campaignid=serp-linkcompanyname&amp;fromjk=812254ce6d0994d7&amp;jcid=4e42ec53f4b93e02\" target=\"_blank\">\n",
      "    GlaxoSmithKline</a></span>\n",
      "</span>\n",
      "\n",
      " - <a class=\"turnstileLink slNoUnderline \" data-tn-element=\"reviewStars\" data-tn-variant=\"cmplinktst2\" href=\"/cmp/Glaxosmithkline/reviews?jcid=4e42ec53f4b93e02\" onmousedown=\"this.href = appendParamsOnce(this.href, '?campaignid=cmplinktst2&amp;from=SERP&amp;jt=Production+Reliabilty+Engineer&amp;fromjk=812254ce6d0994d7');\" target=\"_blank\" title=\"Glaxosmithkline reviews\">\n",
      "<span class=\"ratings\"><span class=\"rating\" style=\"width:46.199997px;\"><!-- --></span></span><span class=\"slNoUnderline\">1,581 reviews</span></a>\n",
      " - <span itemprop=\"jobLocation\" itemscope=\"\" itemtype=\"http://schema.org/Place\"><span class=\"location\" itemprop=\"address\" itemscope=\"\" itemtype=\"http://schema.org/Postaladdress\"><span itemprop=\"addressLocality\">Melbourne VIC</span></span></span>\n",
      "<table border=\"0\" cellpadding=\"0\" cellspacing=\"0\">\n",
      "<tr>\n",
      "<td class=\"snip\">\n",
      "<div>\n",
      "<span class=\"summary\" itemprop=\"description\">\n",
      "High understanding of business management, leadership, problem solving techniques, <b>data</b> <b>analysis</b> is required. Analyses failure rate <b>data</b>....</span>\n",
      "</div>\n",
      "<div class=\"result-link-bar-container\">\n",
      "<div class=\"result-link-bar\"><span class=\"date\">4 days ago</span> <span class=\"tt_set\" id=\"tt_set_8\"> - <span class=\"savelink2\" id=\"savelink2_812254ce6d0994d7\"><a class=\"sl resultLink save-job-link\" href=\"#\" id=\"sj_812254ce6d0994d7\" onclick=\"changeJobState('812254ce6d0994d7', 'save', 'linkbar', false);return false;\" title=\"Save this job to my.indeed\">save job</a></span>  -  <a class=\"sl resultLink tellafriend-link \" href=\"mailto:?subject=I found this job on Indeed&amp;body=http://au.indeed.com\" onclick=\"toggleTellAFriend('812254ce6d0994d7', 8, false); return false;\">email</a> - <a class=\"sl resultLink more-link \" href=\"#\" id=\"tog_8\" onclick=\"toggleMoreLinks('812254ce6d0994d7'); return false;\">more...</a></span><div class=\"edit_note_content\" id=\"editsaved2_812254ce6d0994d7\" style=\"display:none;\"></div><script>window['result_812254ce6d0994d7'] = {\"showSource\": false, \"source\": \"GlaxoSmithKline\", \"loggedIn\": false, \"showMyJobsLinks\": true,\"undoAction\": \"unsave\",\"relativeJobAge\": \"4 days ago\",\"jobKey\": \"812254ce6d0994d7\", \"myIndeedAvailable\": true, \"tellAFriendEnabled\": true, \"showMoreActionsLink\": true, \"resultNumber\": 8, \"jobStateChangedToSaved\": false, \"searchState\": \"q=(&quot;data scientist&quot; or &quot;customer analytics&quot; or &quot;data analysis&quot;)&amp;sort=&amp;radius=50&amp;fromage=any&amp;limit=10&amp;jt=all&amp;st=\", \"basicPermaLink\": \"http://au.indeed.com\", \"saveJobFailed\": false, \"removeJobFailed\": false, \"requestPending\": false, \"notesEnabled\": true, \"currentPage\" : \"serp\", \"sponsored\" : false,\"reportJobButtonEnabled\": false, \"showMyJobsHired\": false};</script></div></div>\n",
      "<div class=\"tab-container\">\n",
      "<div class=\"more-links-container result-tab\" id=\"tt_display_8\" style=\"display:none;\"><a class=\"close-link closeLink\" href=\"#\" onclick=\"toggleMoreLinks('812254ce6d0994d7'); return false;\" title=\"Close\"></a><div class=\"more_actions\" id=\"more_8\"><ul><li><span class=\"mat\">View all <a href=\"/Glaxosmithkline-jobs\" rel=\"nofollow\">GlaxoSmithKline jobs</a> - <a href=\"/jobs-in-Melbourne-VIC\">Melbourne jobs</a></span></li><li><span class=\"mat\">Learn more about working at <a href=\"/cmp/Glaxosmithkline?fromjk=812254ce6d0994d7&amp;from=serp-more&amp;campaignid=serp-more&amp;jcid=4e42ec53f4b93e02\">Glaxosmithkline</a></span></li></ul></div></div><div class=\"dya-container result-tab\"></div>\n",
      "<div class=\"tellafriend-container result-tab email_job_content\"></div>\n",
      "<div class=\"sign-in-container result-tab\"></div>\n",
      "<div class=\"notes-container result-tab\"></div>\n",
      "</div>\n",
      "</td>\n",
      "</tr>\n",
      "</table>\n",
      "</div>\n",
      "\n",
      "\n",
      "*****************************************************\n",
      "\n",
      "\n",
      "<div class=\"lastRow row result\" data-jk=\"ca649839049927c4\" data-tn-component=\"organicJob\" id=\"p_ca649839049927c4\" itemscope=\"\" itemtype=\"http://schema.org/JobPosting\">\n",
      "<h2 class=\"jobtitle\" id=\"jl_ca649839049927c4\">\n",
      "<a class=\"turnstileLink\" data-tn-element=\"jobTitle\" href=\"/rc/clk?jk=ca649839049927c4&amp;fccid=44e7c30753d07f3b\" itemprop=\"title\" onclick=\"setRefineByCookie(['radius']); return rclk(this,jobmap[9],true,0);\" onmousedown=\"return rclk(this,jobmap[9],0);\" rel=\"nofollow\" target=\"_blank\" title=\"RTO Administration Officer\">RTO Administration Officer</a>\n",
      "</h2>\n",
      "<span class=\"company\" itemprop=\"hiringOrganization\" itemtype=\"http://schema.org/Organization\">\n",
      "<span itemprop=\"name\">\n",
      "<a href=\"/cmp/Downer-EDI?from=SERP&amp;campaignid=serp-linkcompanyname&amp;fromjk=ca649839049927c4&amp;jcid=44e7c30753d07f3b\" target=\"_blank\">\n",
      "    Downer EDI</a></span>\n",
      "</span>\n",
      "\n",
      " - <a class=\"turnstileLink slNoUnderline \" data-tn-element=\"reviewStars\" data-tn-variant=\"cmplinktst2\" href=\"/cmp/Downer-EDI/reviews?jcid=44e7c30753d07f3b\" onmousedown=\"this.href = appendParamsOnce(this.href, '?campaignid=cmplinktst2&amp;from=SERP&amp;jt=RTO+Administration+Officer&amp;fromjk=ca649839049927c4');\" target=\"_blank\" title=\"Downer EDI reviews\">\n",
      "<span class=\"ratings\"><span class=\"rating\" style=\"width:42.9px;\"><!-- --></span></span><span class=\"slNoUnderline\">47 reviews</span></a>\n",
      " - <span itemprop=\"jobLocation\" itemscope=\"\" itemtype=\"http://schema.org/Place\"><span class=\"location\" itemprop=\"address\" itemscope=\"\" itemtype=\"http://schema.org/Postaladdress\"><span itemprop=\"addressLocality\">Laverton WA</span></span></span>\n",
      "<table border=\"0\" cellpadding=\"0\" cellspacing=\"0\">\n",
      "<tr>\n",
      "<td class=\"snip\">\n",
      "<div>\n",
      "<span class=\"summary\" itemprop=\"description\">\n",
      "Strong computer and <b>data</b> <b>analysis</b> skills that extend to report collation and presentation. High degree of efficiency and effectiveness with managing large...</span>\n",
      "</div>\n",
      "<div class=\"result-link-bar-container\">\n",
      "<div class=\"result-link-bar\"><span class=\"date\">11 days ago</span> <span class=\"tt_set\" id=\"tt_set_9\"> - <span class=\"savelink2\" id=\"savelink2_ca649839049927c4\"><a class=\"sl resultLink save-job-link\" href=\"#\" id=\"sj_ca649839049927c4\" onclick=\"changeJobState('ca649839049927c4', 'save', 'linkbar', false);return false;\" title=\"Save this job to my.indeed\">save job</a></span>  -  <a class=\"sl resultLink tellafriend-link \" href=\"mailto:?subject=I found this job on Indeed&amp;body=http://au.indeed.com\" onclick=\"toggleTellAFriend('ca649839049927c4', 9, false); return false;\">email</a> - <a class=\"sl resultLink more-link \" href=\"#\" id=\"tog_9\" onclick=\"toggleMoreLinks('ca649839049927c4'); return false;\">more...</a></span><div class=\"edit_note_content\" id=\"editsaved2_ca649839049927c4\" style=\"display:none;\"></div><script>window['result_ca649839049927c4'] = {\"showSource\": false, \"source\": \"Downer EDI\", \"loggedIn\": false, \"showMyJobsLinks\": true,\"undoAction\": \"unsave\",\"relativeJobAge\": \"11 days ago\",\"jobKey\": \"ca649839049927c4\", \"myIndeedAvailable\": true, \"tellAFriendEnabled\": true, \"showMoreActionsLink\": true, \"resultNumber\": 9, \"jobStateChangedToSaved\": false, \"searchState\": \"q=(&quot;data scientist&quot; or &quot;customer analytics&quot; or &quot;data analysis&quot;)&amp;sort=&amp;radius=50&amp;fromage=any&amp;limit=10&amp;jt=all&amp;st=\", \"basicPermaLink\": \"http://au.indeed.com\", \"saveJobFailed\": false, \"removeJobFailed\": false, \"requestPending\": false, \"notesEnabled\": true, \"currentPage\" : \"serp\", \"sponsored\" : false,\"reportJobButtonEnabled\": false, \"showMyJobsHired\": false};</script></div></div>\n",
      "<div class=\"tab-container\">\n",
      "<div class=\"more-links-container result-tab\" id=\"tt_display_9\" style=\"display:none;\"><a class=\"close-link closeLink\" href=\"#\" onclick=\"toggleMoreLinks('ca649839049927c4'); return false;\" title=\"Close\"></a><div class=\"more_actions\" id=\"more_9\"><ul><li><span class=\"mat\">View all <a href=\"/Downer-EDI-jobs\" rel=\"nofollow\">Downer EDI jobs</a> - <a href=\"/jobs-in-Laverton-WA\">Laverton jobs</a></span></li><li><span class=\"mat\">Learn more about working at <a href=\"/cmp/Downer-EDI?fromjk=ca649839049927c4&amp;from=serp-more&amp;campaignid=serp-more&amp;jcid=44e7c30753d07f3b\">Downer EDI</a></span></li></ul></div></div><div class=\"dya-container result-tab\"></div>\n",
      "<div class=\"tellafriend-container result-tab email_job_content\"></div>\n",
      "<div class=\"sign-in-container result-tab\"></div>\n",
      "<div class=\"notes-container result-tab\"></div>\n",
      "</div>\n",
      "</td>\n",
      "</tr>\n",
      "</table>\n",
      "</div>\n",
      "\n",
      "\n",
      "*****************************************************\n",
      "\n",
      "\n"
     ]
    }
   ],
   "source": [
    "for elem in targetElements:\n",
    "    print elem\n",
    "    print \"\\n\"\n",
    "    print \"*****************************************************\"\n",
    "    print \"\\n\""
   ]
  },
  {
   "cell_type": "markdown",
   "metadata": {},
   "source": [
    "#### Job Title"
   ]
  },
  {
   "cell_type": "code",
   "execution_count": 15,
   "metadata": {
    "collapsed": false
   },
   "outputs": [
    {
     "data": {
      "text/plain": [
       "['Program and Service Advisor',\n",
       " 'Reliability Engineer - Christmas Creek',\n",
       " 'Data Analyst / Administrator',\n",
       " 'Test Data Analyst',\n",
       " 'Stock Coordinator - Support Centre QLD',\n",
       " 'Scholarly Teaching Fellow',\n",
       " 'Global Purchasing Procurement Analyst',\n",
       " 'Insight Analytics Manager',\n",
       " 'Production Reliabilty Engineer',\n",
       " 'RTO Administration Officer']"
      ]
     },
     "execution_count": 15,
     "metadata": {},
     "output_type": "execute_result"
    }
   ],
   "source": [
    "jobtitle = []\n",
    "for elem in targetElements:\n",
    "    #print elem.find('a', attrs = {'class':'turnstileLink'}).attrs['title']\n",
    "    jobtitle.append(elem.find('a', attrs = {'class':'turnstileLink'}).attrs['title'])\n",
    "\n",
    "jobtitle"
   ]
  },
  {
   "cell_type": "markdown",
   "metadata": {
    "collapsed": true
   },
   "source": [
    "#### Company Name"
   ]
  },
  {
   "cell_type": "code",
   "execution_count": 16,
   "metadata": {
    "collapsed": false
   },
   "outputs": [
    {
     "data": {
      "text/plain": [
       "['Victorian Government',\n",
       " 'Fortescue Metals Group',\n",
       " 'Brookfield',\n",
       " 'UniSuper',\n",
       " 'Lorna Jane',\n",
       " 'Macquarie University',\n",
       " 'PepsiCo',\n",
       " 'PwC',\n",
       " 'GlaxoSmithKline',\n",
       " 'Downer EDI']"
      ]
     },
     "execution_count": 16,
     "metadata": {},
     "output_type": "execute_result"
    }
   ],
   "source": [
    "companyname = []\n",
    "for elem in targetElements:\n",
    "    companyname.append(elem.find('span', attrs = {'itemprop':'name'}).getText().strip().encode('utf-8'))\n",
    "    \n",
    "companyname"
   ]
  },
  {
   "cell_type": "markdown",
   "metadata": {},
   "source": [
    "#### Location"
   ]
  },
  {
   "cell_type": "code",
   "execution_count": 17,
   "metadata": {
    "collapsed": false
   },
   "outputs": [
    {
     "data": {
      "text/plain": [
       "['Geelong VIC',\n",
       " 'Pilbara WA',\n",
       " 'Sydney NSW',\n",
       " 'Melbourne VIC',\n",
       " 'Queensland',\n",
       " 'Macquarie University NSW',\n",
       " 'Chatswood NSW',\n",
       " 'Melbourne VIC',\n",
       " 'Melbourne VIC',\n",
       " 'Laverton WA']"
      ]
     },
     "execution_count": 17,
     "metadata": {},
     "output_type": "execute_result"
    }
   ],
   "source": [
    "location = []\n",
    "for elem in targetElements:\n",
    "    location.append(elem.find('span', attrs = {'itemprop':'addressLocality'}).getText().strip().encode('utf-8'))\n",
    "\n",
    "location"
   ]
  },
  {
   "cell_type": "markdown",
   "metadata": {},
   "source": [
    "#### Summary"
   ]
  },
  {
   "cell_type": "code",
   "execution_count": 18,
   "metadata": {
    "collapsed": false
   },
   "outputs": [
    {
     "data": {
      "text/plain": [
       "['In particular, a highly motivated individual with great data analysis and relationship management skills with health sector experience would suit this role....',\n",
       " 'Analysis and reporting of fleet performance. The role of the reliability engineer is to provide technical support using initiatives and applying reliability...',\n",
       " 'Undertake data analysis, cleansing, validation and updates. Management of data including; Data and system incident management;...',\n",
       " 'Extensive data extract, analysis and reporting experience. As a Test Data Analyst you will perform complex data analysis testing to ensure that changes to new...',\n",
       " 'Analysis of sales data and through reports to supply. Combining a love of LJ Active Wear and data analysis with....',\n",
       " 'Experience in acoustic, articulatory and/or perceptual speech data analysis. Macquarie is the university of pioneering minds....',\n",
       " 'You will be responsible for managing performance metrics, insightful reports, data analytics, and commodity risk compliance, coupled with regular engagement...',\n",
       " 'Insight Analytics Manager. PwC is a world leader in the use of data analytics to help business and government clients make better decisions and improve their...',\n",
       " 'High understanding of business management, leadership, problem solving techniques, data analysis is required. Analyses failure rate data....',\n",
       " 'Strong computer and data analysis skills that extend to report collation and presentation. High degree of efficiency and effectiveness with managing large...']"
      ]
     },
     "execution_count": 18,
     "metadata": {},
     "output_type": "execute_result"
    }
   ],
   "source": [
    "summary = []\n",
    "for elem in targetElements:\n",
    "    summary.append(elem.find('span', attrs = {'class':'summary'}).getText().strip().encode('utf-8'))\n",
    "    \n",
    "summary"
   ]
  },
  {
   "cell_type": "markdown",
   "metadata": {},
   "source": [
    "#### Company Rating"
   ]
  },
  {
   "cell_type": "code",
   "execution_count": 19,
   "metadata": {
    "collapsed": false
   },
   "outputs": [
    {
     "data": {
      "text/plain": [
       "[None, None, None, None, None, None, None, None, None, None]"
      ]
     },
     "execution_count": 19,
     "metadata": {},
     "output_type": "execute_result"
    }
   ],
   "source": [
    "## cant seem to get this to work for some reason\n",
    "company_rating = []\n",
    "for elem in targetElements:\n",
    "    if elem.find('span', attrs = [{'class':'ratingNumber'}]) is None:\n",
    "        company_rating.append(None)\n",
    "    else:\n",
    "        company_rating.append(elem.find('span', attrs = {'class':'ratingNumber'})\n",
    "                                     .getText().strip().encode('utf-8'))\n",
    "    \n",
    "company_rating"
   ]
  },
  {
   "cell_type": "markdown",
   "metadata": {},
   "source": [
    "#### Company rating - Number of Reviews"
   ]
  },
  {
   "cell_type": "code",
   "execution_count": 20,
   "metadata": {
    "collapsed": false
   },
   "outputs": [
    {
     "data": {
      "text/plain": [
       "[None,\n",
       " '23 reviews',\n",
       " '21 reviews',\n",
       " None,\n",
       " '19 reviews',\n",
       " '11 reviews',\n",
       " '4,712 reviews',\n",
       " '2,342 reviews',\n",
       " '1,581 reviews',\n",
       " '47 reviews']"
      ]
     },
     "execution_count": 20,
     "metadata": {},
     "output_type": "execute_result"
    }
   ],
   "source": [
    "company_rating_counts = []\n",
    "for elem in targetElements:\n",
    "    if elem.find('span', attrs = {'class':'slNoUnderline'}) is None:\n",
    "        company_rating_counts.append(None)\n",
    "    else:\n",
    "        company_rating_counts.append(elem.find('span', attrs = {'class':'slNoUnderline'})\n",
    "                                     .getText().strip().encode('utf-8'))\n",
    "\n",
    "company_rating_counts"
   ]
  },
  {
   "cell_type": "markdown",
   "metadata": {},
   "source": [
    "#### Advertised number of days ago"
   ]
  },
  {
   "cell_type": "code",
   "execution_count": 21,
   "metadata": {
    "collapsed": false
   },
   "outputs": [
    {
     "data": {
      "text/plain": [
       "['12 days ago',\n",
       " '3 days ago',\n",
       " '28 days ago',\n",
       " '11 days ago',\n",
       " '3 days ago',\n",
       " '13 days ago',\n",
       " '6 days ago',\n",
       " '30+ days ago',\n",
       " '4 days ago',\n",
       " '11 days ago']"
      ]
     },
     "execution_count": 21,
     "metadata": {},
     "output_type": "execute_result"
    }
   ],
   "source": [
    "advertised_number_of_days_ago = []\n",
    "for elem in targetElements:\n",
    "    if elem.find('span', attrs = {'class':'date'}) is None:\n",
    "        advertised_number_of_days_ago.append(None)\n",
    "    else:\n",
    "        advertised_number_of_days_ago.append(elem.find('span', attrs = {'class':'date'})\n",
    "                                     .getText().strip().encode('utf-8'))\n",
    "\n",
    "advertised_number_of_days_ago"
   ]
  },
  {
   "cell_type": "markdown",
   "metadata": {},
   "source": [
    "#### Salary"
   ]
  },
  {
   "cell_type": "code",
   "execution_count": 22,
   "metadata": {
    "collapsed": false
   },
   "outputs": [
    {
     "data": {
      "text/plain": [
       "[None,\n",
       " None,\n",
       " None,\n",
       " None,\n",
       " None,\n",
       " '$68,324 - $92,000 a year',\n",
       " None,\n",
       " None,\n",
       " None,\n",
       " None]"
      ]
     },
     "execution_count": 22,
     "metadata": {},
     "output_type": "execute_result"
    }
   ],
   "source": [
    "salary = []\n",
    "for elem in targetElements:\n",
    "    if elem.find('nobr') is None:\n",
    "        salary.append(None)\n",
    "    else:\n",
    "        salary.append(elem.find('nobr').getText().strip().encode('utf-8'))\n",
    "\n",
    "salary"
   ]
  },
  {
   "cell_type": "markdown",
   "metadata": {},
   "source": [
    "#### Job Link"
   ]
  },
  {
   "cell_type": "code",
   "execution_count": 23,
   "metadata": {
    "collapsed": false
   },
   "outputs": [
    {
     "data": {
      "text/plain": [
       "['http://www.indeed.com/rc/clk?jk=ca8146b5d7b02d5f&fccid=1818d10a60db56b4',\n",
       " 'http://www.indeed.com/rc/clk?jk=7a9fe7de1beb85f9&fccid=9605a3534a186df0',\n",
       " 'http://www.indeed.com/rc/clk?jk=35211e3965486c66&fccid=b144006bbf2d95a5',\n",
       " 'http://www.indeed.com/rc/clk?jk=90d5230fdc16cb28&fccid=7414fd5891b0ddd2',\n",
       " 'http://www.indeed.com/rc/clk?jk=1c41fd61f33c7f7a&fccid=9f1632b30ffb46f4',\n",
       " 'http://www.indeed.com/rc/clk?jk=e404043290252ddc&fccid=bca6f10d73dbbf6c',\n",
       " 'http://www.indeed.com/rc/clk?jk=845365829ba37eda&fccid=2973259ddc967948',\n",
       " 'http://www.indeed.com/rc/clk?jk=29209de19e74c885&fccid=5e964c4afc56b180',\n",
       " 'http://www.indeed.com/rc/clk?jk=812254ce6d0994d7&fccid=4e42ec53f4b93e02',\n",
       " 'http://www.indeed.com/rc/clk?jk=ca649839049927c4&fccid=44e7c30753d07f3b']"
      ]
     },
     "execution_count": 23,
     "metadata": {},
     "output_type": "execute_result"
    }
   ],
   "source": [
    "joblink = []\n",
    "home_url = 'http://www.indeed.com'\n",
    "\n",
    "for elem in targetElements:\n",
    "        joblink.append(\"%s%s\" % (home_url,elem.find('a').get('href')))\n",
    "\n",
    "joblink"
   ]
  },
  {
   "cell_type": "markdown",
   "metadata": {},
   "source": [
    "## Create a dataframe based on information collected"
   ]
  },
  {
   "cell_type": "code",
   "execution_count": 24,
   "metadata": {
    "collapsed": false
   },
   "outputs": [
    {
     "data": {
      "text/html": [
       "<div>\n",
       "<table border=\"1\" class=\"dataframe\">\n",
       "  <thead>\n",
       "    <tr style=\"text-align: right;\">\n",
       "      <th></th>\n",
       "      <th>query_date</th>\n",
       "      <th>jobtitle</th>\n",
       "      <th>companyname</th>\n",
       "      <th>location</th>\n",
       "      <th>advertised_number_of_days_ago</th>\n",
       "      <th>company_rating</th>\n",
       "      <th>company_rating_counts</th>\n",
       "      <th>salary</th>\n",
       "      <th>summary</th>\n",
       "      <th>joblink</th>\n",
       "      <th>job_query_string</th>\n",
       "    </tr>\n",
       "  </thead>\n",
       "  <tbody>\n",
       "    <tr>\n",
       "      <th>0</th>\n",
       "      <td>2016-06-13</td>\n",
       "      <td>Program and Service Advisor</td>\n",
       "      <td>Victorian Government</td>\n",
       "      <td>Geelong VIC</td>\n",
       "      <td>12 days ago</td>\n",
       "      <td>None</td>\n",
       "      <td>None</td>\n",
       "      <td>None</td>\n",
       "      <td>In particular, a highly motivated individual w...</td>\n",
       "      <td>http://www.indeed.com/rc/clk?jk=ca8146b5d7b02d...</td>\n",
       "      <td>%22data+scientist%22+%22customer+analytics%22+...</td>\n",
       "    </tr>\n",
       "    <tr>\n",
       "      <th>1</th>\n",
       "      <td>2016-06-13</td>\n",
       "      <td>Reliability Engineer - Christmas Creek</td>\n",
       "      <td>Fortescue Metals Group</td>\n",
       "      <td>Pilbara WA</td>\n",
       "      <td>3 days ago</td>\n",
       "      <td>None</td>\n",
       "      <td>23 reviews</td>\n",
       "      <td>None</td>\n",
       "      <td>Analysis and reporting of fleet performance. T...</td>\n",
       "      <td>http://www.indeed.com/rc/clk?jk=7a9fe7de1beb85...</td>\n",
       "      <td>%22data+scientist%22+%22customer+analytics%22+...</td>\n",
       "    </tr>\n",
       "    <tr>\n",
       "      <th>2</th>\n",
       "      <td>2016-06-13</td>\n",
       "      <td>Data Analyst / Administrator</td>\n",
       "      <td>Brookfield</td>\n",
       "      <td>Sydney NSW</td>\n",
       "      <td>28 days ago</td>\n",
       "      <td>None</td>\n",
       "      <td>21 reviews</td>\n",
       "      <td>None</td>\n",
       "      <td>Undertake data analysis, cleansing, validation...</td>\n",
       "      <td>http://www.indeed.com/rc/clk?jk=35211e3965486c...</td>\n",
       "      <td>%22data+scientist%22+%22customer+analytics%22+...</td>\n",
       "    </tr>\n",
       "    <tr>\n",
       "      <th>3</th>\n",
       "      <td>2016-06-13</td>\n",
       "      <td>Test Data Analyst</td>\n",
       "      <td>UniSuper</td>\n",
       "      <td>Melbourne VIC</td>\n",
       "      <td>11 days ago</td>\n",
       "      <td>None</td>\n",
       "      <td>None</td>\n",
       "      <td>None</td>\n",
       "      <td>Extensive data extract, analysis and reporting...</td>\n",
       "      <td>http://www.indeed.com/rc/clk?jk=90d5230fdc16cb...</td>\n",
       "      <td>%22data+scientist%22+%22customer+analytics%22+...</td>\n",
       "    </tr>\n",
       "    <tr>\n",
       "      <th>4</th>\n",
       "      <td>2016-06-13</td>\n",
       "      <td>Stock Coordinator - Support Centre QLD</td>\n",
       "      <td>Lorna Jane</td>\n",
       "      <td>Queensland</td>\n",
       "      <td>3 days ago</td>\n",
       "      <td>None</td>\n",
       "      <td>19 reviews</td>\n",
       "      <td>None</td>\n",
       "      <td>Analysis of sales data and through reports to ...</td>\n",
       "      <td>http://www.indeed.com/rc/clk?jk=1c41fd61f33c7f...</td>\n",
       "      <td>%22data+scientist%22+%22customer+analytics%22+...</td>\n",
       "    </tr>\n",
       "  </tbody>\n",
       "</table>\n",
       "</div>"
      ],
      "text/plain": [
       "  query_date                                jobtitle             companyname  \\\n",
       "0 2016-06-13             Program and Service Advisor    Victorian Government   \n",
       "1 2016-06-13  Reliability Engineer - Christmas Creek  Fortescue Metals Group   \n",
       "2 2016-06-13            Data Analyst / Administrator              Brookfield   \n",
       "3 2016-06-13                       Test Data Analyst                UniSuper   \n",
       "4 2016-06-13  Stock Coordinator - Support Centre QLD              Lorna Jane   \n",
       "\n",
       "        location advertised_number_of_days_ago company_rating  \\\n",
       "0    Geelong VIC                   12 days ago           None   \n",
       "1     Pilbara WA                    3 days ago           None   \n",
       "2     Sydney NSW                   28 days ago           None   \n",
       "3  Melbourne VIC                   11 days ago           None   \n",
       "4     Queensland                    3 days ago           None   \n",
       "\n",
       "  company_rating_counts salary  \\\n",
       "0                  None   None   \n",
       "1            23 reviews   None   \n",
       "2            21 reviews   None   \n",
       "3                  None   None   \n",
       "4            19 reviews   None   \n",
       "\n",
       "                                             summary  \\\n",
       "0  In particular, a highly motivated individual w...   \n",
       "1  Analysis and reporting of fleet performance. T...   \n",
       "2  Undertake data analysis, cleansing, validation...   \n",
       "3  Extensive data extract, analysis and reporting...   \n",
       "4  Analysis of sales data and through reports to ...   \n",
       "\n",
       "                                             joblink  \\\n",
       "0  http://www.indeed.com/rc/clk?jk=ca8146b5d7b02d...   \n",
       "1  http://www.indeed.com/rc/clk?jk=7a9fe7de1beb85...   \n",
       "2  http://www.indeed.com/rc/clk?jk=35211e3965486c...   \n",
       "3  http://www.indeed.com/rc/clk?jk=90d5230fdc16cb...   \n",
       "4  http://www.indeed.com/rc/clk?jk=1c41fd61f33c7f...   \n",
       "\n",
       "                                    job_query_string  \n",
       "0  %22data+scientist%22+%22customer+analytics%22+...  \n",
       "1  %22data+scientist%22+%22customer+analytics%22+...  \n",
       "2  %22data+scientist%22+%22customer+analytics%22+...  \n",
       "3  %22data+scientist%22+%22customer+analytics%22+...  \n",
       "4  %22data+scientist%22+%22customer+analytics%22+...  "
      ]
     },
     "execution_count": 24,
     "metadata": {},
     "output_type": "execute_result"
    }
   ],
   "source": [
    "df_columns=['query_date','jobtitle','companyname','location',\n",
    "             'advertised_number_of_days_ago','company_rating',\n",
    "             'company_rating_counts','salary','summary',\n",
    "             'joblink','job_query_string']\n",
    "\n",
    "df_joblist = pd.DataFrame({'query_date':pd.to_datetime('today'),\n",
    "                                'jobtitle':jobtitle,\n",
    "                                'companyname':companyname,\n",
    "                                'location':location,\n",
    "                                'advertised_number_of_days_ago':advertised_number_of_days_ago,\n",
    "                                'company_rating':company_rating,\n",
    "                                'company_rating_counts':company_rating_counts,\n",
    "                                'salary':salary,\n",
    "                                'summary':summary,\n",
    "                                'joblink':joblink,\n",
    "                                'job_query_string':job_query_string},\n",
    "                         columns = df_columns)\n",
    "\n",
    "df_joblist.head()"
   ]
  },
  {
   "cell_type": "markdown",
   "metadata": {},
   "source": [
    "Need to do:\n",
    "\n",
    "1) Source <br\\>\n",
    "2) Contract or not<br\\>\n",
    "3) Get full text from the job link. If source of job is indeed itself, then i imagine it's easier to source that. otherwise, the harder thing to do is to search for the short description for each row, find in parent website and then get it.<br\\>\n",
    "4) Start analysis of short text and job names already. Cluster jobs together.<br\\>\n",
    "5) Check how Jesse's and Sung's tuts got full text info about the jobs in order to map out the skills."
   ]
  },
  {
   "cell_type": "code",
   "execution_count": null,
   "metadata": {
    "collapsed": true
   },
   "outputs": [],
   "source": []
  }
 ],
 "metadata": {
  "kernelspec": {
   "display_name": "Python2.7_web_scraping",
   "language": "python",
   "name": "web_scraping"
  },
  "language_info": {
   "codemirror_mode": {
    "name": "ipython",
    "version": 2
   },
   "file_extension": ".py",
   "mimetype": "text/x-python",
   "name": "python",
   "nbconvert_exporter": "python",
   "pygments_lexer": "ipython2",
   "version": "2.7.11"
  }
 },
 "nbformat": 4,
 "nbformat_minor": 0
}
