{
 "cells": [
  {
   "cell_type": "markdown",
   "metadata": {},
   "source": [
    "Analysis of the indeed job board postings for search terms 'customer analytics' and 'data scientist' and so on."
   ]
  },
  {
   "cell_type": "markdown",
   "metadata": {},
   "source": [
    "## 1) Admin and Setup"
   ]
  },
  {
   "cell_type": "markdown",
   "metadata": {},
   "source": [
    "I've already created a virtual environment in conda by downloading bs4. Please feel free to use my environment.yaml to create a similar virtual env. I'll update it as I go."
   ]
  },
  {
   "cell_type": "code",
   "execution_count": 1,
   "metadata": {
    "collapsed": false
   },
   "outputs": [],
   "source": [
    "#from bs4 import BeautifulSoup\n",
    "#from urllib2 import urlopen\n",
    "import pandas as pd\n",
    "import re\n",
    "import numpy as np\n",
    "#from time import sleep\n",
    "%matplotlib inline\n",
    "import pylab as plt"
   ]
  },
  {
   "cell_type": "markdown",
   "metadata": {},
   "source": [
    "## 2) What do I want to achieve"
   ]
  },
  {
   "cell_type": "markdown",
   "metadata": {},
   "source": [
    "Explore the indeed job board collected over the past few days and analyse / predict job decay for various organisations / job functions"
   ]
  },
  {
   "cell_type": "markdown",
   "metadata": {},
   "source": [
    "## 3) Source data from the csv file"
   ]
  },
  {
   "cell_type": "code",
   "execution_count": 3,
   "metadata": {
    "collapsed": false
   },
   "outputs": [
    {
     "name": "stdout",
     "output_type": "stream",
     "text": [
      "930  jobs found for search terms: CUSTOMER ANALYTICS , DATA SCIENTIST , DATA ANALYSIS\n",
      "Fetching details for jobs 1 to 10\n",
      "Fetching details for jobs 11 to 20\n",
      "Fetching details for jobs 21 to 30\n",
      "Fetching details for jobs 31 to 40\n",
      "Fetching details for jobs 41 to 50\n",
      "Fetching details for jobs 51 to 60\n",
      "Fetching details for jobs 61 to 70\n",
      "Fetching details for jobs 71 to 80\n",
      "Fetching details for jobs 81 to 90\n",
      "Fetching details for jobs 91 to 100\n",
      "Fetching details for jobs 101 to 110\n",
      "Fetching details for jobs 111 to 120\n",
      "Fetching details for jobs 121 to 130\n",
      "Fetching details for jobs 131 to 140\n",
      "Fetching details for jobs 141 to 150\n",
      "Fetching details for jobs 151 to 160\n",
      "Fetching details for jobs 161 to 170\n",
      "Fetching details for jobs 171 to 180\n",
      "Fetching details for jobs 181 to 190\n",
      "Fetching details for jobs 191 to 200\n",
      "Fetching details for jobs 201 to 210\n",
      "Fetching details for jobs 211 to 220\n",
      "Fetching details for jobs 221 to 230\n",
      "Fetching details for jobs 231 to 240\n",
      "Fetching details for jobs 241 to 250\n",
      "Fetching details for jobs 251 to 260\n",
      "Fetching details for jobs 261 to 270\n",
      "Fetching details for jobs 271 to 280\n",
      "Fetching details for jobs 281 to 290\n",
      "Fetching details for jobs 291 to 300\n",
      "Fetching details for jobs 301 to 310\n",
      "Fetching details for jobs 311 to 320\n",
      "Fetching details for jobs 321 to 330\n",
      "Fetching details for jobs 331 to 340\n",
      "Fetching details for jobs 341 to 350\n",
      "Fetching details for jobs 351 to 360\n",
      "Fetching details for jobs 361 to 370\n",
      "Fetching details for jobs 371 to 380\n",
      "Fetching details for jobs 381 to 390\n",
      "Fetching details for jobs 391 to 400\n",
      "Fetching details for jobs 401 to 410\n",
      "Fetching details for jobs 411 to 420\n",
      "Fetching details for jobs 421 to 430\n",
      "Fetching details for jobs 431 to 440\n",
      "Fetching details for jobs 441 to 450\n",
      "Fetching details for jobs 451 to 460\n",
      "Fetching details for jobs 461 to 470\n",
      "Fetching details for jobs 471 to 480\n",
      "Fetching details for jobs 481 to 490\n",
      "Fetching details for jobs 491 to 500\n",
      "Fetching details for jobs 501 to 510\n",
      "Fetching details for jobs 511 to 520\n",
      "Fetching details for jobs 521 to 530\n",
      "Fetching details for jobs 531 to 540\n",
      "Fetching details for jobs 541 to 550\n",
      "Fetching details for jobs 551 to 560\n",
      "Fetching details for jobs 561 to 570\n",
      "Fetching details for jobs 571 to 580\n",
      "Fetching details for jobs 581 to 590\n",
      "Fetching details for jobs 591 to 600\n",
      "Fetching details for jobs 601 to 610\n",
      "Fetching details for jobs 611 to 620\n",
      "Fetching details for jobs 621 to 630\n",
      "Fetching details for jobs 631 to 640\n",
      "Fetching details for jobs 641 to 650\n",
      "Fetching details for jobs 651 to 660\n",
      "Fetching details for jobs 661 to 670\n",
      "Fetching details for jobs 671 to 680\n",
      "Fetching details for jobs 681 to 690\n",
      "Fetching details for jobs 691 to 700\n",
      "Fetching details for jobs 701 to 710\n",
      "Fetching details for jobs 711 to 720\n",
      "Fetching details for jobs 721 to 730\n",
      "Fetching details for jobs 731 to 740\n",
      "Fetching details for jobs 741 to 750\n",
      "Fetching details for jobs 751 to 760\n",
      "Fetching details for jobs 761 to 770\n",
      "Fetching details for jobs 771 to 780\n",
      "Fetching details for jobs 781 to 790\n",
      "Fetching details for jobs 791 to 800\n",
      "Fetching details for jobs 801 to 810\n",
      "Fetching details for jobs 811 to 815\n"
     ]
    }
   ],
   "source": [
    "#df_joblist = get_data_job_board('data scientist','customer analytics','data analysis')\n",
    "df_joblist = get_data_job_board('customer analytics','data scientist','data analysis')"
   ]
  },
  {
   "cell_type": "markdown",
   "metadata": {},
   "source": [
    "## Analyse and clean job dataset"
   ]
  },
  {
   "cell_type": "code",
   "execution_count": 4,
   "metadata": {
    "collapsed": false
   },
   "outputs": [
    {
     "data": {
      "text/plain": [
       "815"
      ]
     },
     "execution_count": 4,
     "metadata": {},
     "output_type": "execute_result"
    }
   ],
   "source": [
    "len(df_joblist)"
   ]
  },
  {
   "cell_type": "code",
   "execution_count": 5,
   "metadata": {
    "collapsed": false
   },
   "outputs": [
    {
     "data": {
      "text/html": [
       "<div>\n",
       "<table border=\"1\" class=\"dataframe\">\n",
       "  <thead>\n",
       "    <tr style=\"text-align: right;\">\n",
       "      <th></th>\n",
       "      <th>query_date</th>\n",
       "      <th>jobtitle</th>\n",
       "      <th>companyname</th>\n",
       "      <th>location</th>\n",
       "      <th>advertised_number_of_days_ago</th>\n",
       "      <th>company_rating</th>\n",
       "      <th>company_rating_counts</th>\n",
       "      <th>salary</th>\n",
       "      <th>summary</th>\n",
       "      <th>joblink</th>\n",
       "      <th>job_query_string</th>\n",
       "    </tr>\n",
       "  </thead>\n",
       "  <tbody>\n",
       "    <tr>\n",
       "      <th>0</th>\n",
       "      <td>2016-06-19</td>\n",
       "      <td>Head of Data Analytics &amp; Innovation</td>\n",
       "      <td>ChildFund Australia</td>\n",
       "      <td>Sydney NSW</td>\n",
       "      <td>10 days ago</td>\n",
       "      <td>None</td>\n",
       "      <td>None</td>\n",
       "      <td>None</td>\n",
       "      <td>Tell us about a project you have worked on and...</td>\n",
       "      <td>http://www.indeed.com/rc/clk?jk=ecf32b383cbb55...</td>\n",
       "      <td>%22customer+analytics%22+%22data+scientist%22+...</td>\n",
       "    </tr>\n",
       "    <tr>\n",
       "      <th>1</th>\n",
       "      <td>2016-06-19</td>\n",
       "      <td>Senior Data Analyst, Health Information &amp; Repo...</td>\n",
       "      <td>Victorian Government</td>\n",
       "      <td>Melbourne City Centre VIC</td>\n",
       "      <td>5 days ago</td>\n",
       "      <td>None</td>\n",
       "      <td>None</td>\n",
       "      <td>None</td>\n",
       "      <td>The Senior Data Analyst is responsible for des...</td>\n",
       "      <td>http://www.indeed.com/rc/clk?jk=982e1fedce0b64...</td>\n",
       "      <td>%22customer+analytics%22+%22data+scientist%22+...</td>\n",
       "    </tr>\n",
       "    <tr>\n",
       "      <th>2</th>\n",
       "      <td>2016-06-19</td>\n",
       "      <td>Senior Data Analyst</td>\n",
       "      <td>Expedia</td>\n",
       "      <td>Sydney NSW</td>\n",
       "      <td>26 days ago</td>\n",
       "      <td>None</td>\n",
       "      <td>237 reviews</td>\n",
       "      <td>None</td>\n",
       "      <td>Deliver impactful analysis based on robust eco...</td>\n",
       "      <td>http://www.indeed.com/rc/clk?jk=c646df9ca1f9f7...</td>\n",
       "      <td>%22customer+analytics%22+%22data+scientist%22+...</td>\n",
       "    </tr>\n",
       "  </tbody>\n",
       "</table>\n",
       "</div>"
      ],
      "text/plain": [
       "  query_date                                           jobtitle  \\\n",
       "0 2016-06-19                Head of Data Analytics & Innovation   \n",
       "1 2016-06-19  Senior Data Analyst, Health Information & Repo...   \n",
       "2 2016-06-19                                Senior Data Analyst   \n",
       "\n",
       "            companyname                   location  \\\n",
       "0   ChildFund Australia                 Sydney NSW   \n",
       "1  Victorian Government  Melbourne City Centre VIC   \n",
       "2               Expedia                 Sydney NSW   \n",
       "\n",
       "  advertised_number_of_days_ago company_rating company_rating_counts salary  \\\n",
       "0                   10 days ago           None                  None   None   \n",
       "1                    5 days ago           None                  None   None   \n",
       "2                   26 days ago           None           237 reviews   None   \n",
       "\n",
       "                                             summary  \\\n",
       "0  Tell us about a project you have worked on and...   \n",
       "1  The Senior Data Analyst is responsible for des...   \n",
       "2  Deliver impactful analysis based on robust eco...   \n",
       "\n",
       "                                             joblink  \\\n",
       "0  http://www.indeed.com/rc/clk?jk=ecf32b383cbb55...   \n",
       "1  http://www.indeed.com/rc/clk?jk=982e1fedce0b64...   \n",
       "2  http://www.indeed.com/rc/clk?jk=c646df9ca1f9f7...   \n",
       "\n",
       "                                    job_query_string  \n",
       "0  %22customer+analytics%22+%22data+scientist%22+...  \n",
       "1  %22customer+analytics%22+%22data+scientist%22+...  \n",
       "2  %22customer+analytics%22+%22data+scientist%22+...  "
      ]
     },
     "execution_count": 5,
     "metadata": {},
     "output_type": "execute_result"
    }
   ],
   "source": [
    "df_joblist.head(3)"
   ]
  },
  {
   "cell_type": "markdown",
   "metadata": {},
   "source": [
    "#### Check how many rows have salaries"
   ]
  },
  {
   "cell_type": "code",
   "execution_count": 11,
   "metadata": {
    "collapsed": false
   },
   "outputs": [
    {
     "data": {
      "text/plain": [
       "655"
      ]
     },
     "execution_count": 11,
     "metadata": {},
     "output_type": "execute_result"
    }
   ],
   "source": [
    "df_joblist.salary.isnull().sum()"
   ]
  },
  {
   "cell_type": "code",
   "execution_count": 12,
   "metadata": {
    "collapsed": false
   },
   "outputs": [
    {
     "data": {
      "text/plain": [
       "815"
      ]
     },
     "execution_count": 12,
     "metadata": {},
     "output_type": "execute_result"
    }
   ],
   "source": [
    "len(df_joblist)"
   ]
  },
  {
   "cell_type": "code",
   "execution_count": 13,
   "metadata": {
    "collapsed": false
   },
   "outputs": [
    {
     "name": "stdout",
     "output_type": "stream",
     "text": [
      "655\n",
      "815\n"
     ]
    }
   ],
   "source": [
    "print int(df_joblist.salary.isnull().sum())\n",
    "print len(df_joblist)"
   ]
  },
  {
   "cell_type": "markdown",
   "metadata": {},
   "source": [
    "So 80% of jobs don't have salary populated"
   ]
  },
  {
   "cell_type": "code",
   "execution_count": 14,
   "metadata": {
    "collapsed": false
   },
   "outputs": [
    {
     "data": {
      "text/plain": [
       "count                160\n",
       "unique                82\n",
       "top       $65,000 a year\n",
       "freq                   8\n",
       "Name: salary, dtype: object"
      ]
     },
     "execution_count": 14,
     "metadata": {},
     "output_type": "execute_result"
    }
   ],
   "source": [
    "df_joblist.salary.describe()"
   ]
  },
  {
   "cell_type": "code",
   "execution_count": null,
   "metadata": {
    "collapsed": true
   },
   "outputs": [],
   "source": []
  }
 ],
 "metadata": {
  "kernelspec": {
   "display_name": "Python2.7_web_scraping",
   "language": "python",
   "name": "web_scraping"
  },
  "language_info": {
   "codemirror_mode": {
    "name": "ipython",
    "version": 2
   },
   "file_extension": ".py",
   "mimetype": "text/x-python",
   "name": "python",
   "nbconvert_exporter": "python",
   "pygments_lexer": "ipython2",
   "version": "2.7.11"
  }
 },
 "nbformat": 4,
 "nbformat_minor": 0
}
